{
 "cells": [
  {
   "cell_type": "markdown",
   "metadata": {},
   "source": [
    "Danielle Paes Barretto de Arruda Camara\n",
    "\n",
    "**LAST VERSION: 02-06-19 (review)**\n",
    "\n",
    "In this first notebook playlist's information for each category of Spotify is obtained.\n",
    "\n",
    "**Input:**\n",
    "\n",
    "* Spotify API credentials \n",
    "* Inform optionally as function input:\n",
    "\n",
    "        country - An ISO 3166-1 alpha-2 country code (optional).\n",
    "        locale - The desired language, consisting of an ISO 639 language code and an ISO 3166-1 alpha-2 \n",
    "        country code, joined by an underscore (optional).\n",
    "\n",
    "\n",
    "**Output:**\n",
    "\n",
    "* list of categories in .txt (e.g. category_ids_list_country_NL_2019-04-28.txt)\n",
    "* csv files with playlist_name and playlist_id for all categories (e.g. playlists_category_afro_NL_2019-04-28.csv)\n",
    "\n",
    "The following notebook (02-retrieve_playlist_tracks_audio_features_Categories_070319.ipynb) will use the information obtained here to retrieve tracks for each playlist and their audio features."
   ]
  },
  {
   "cell_type": "markdown",
   "metadata": {},
   "source": [
    "# Libraries"
   ]
  },
  {
   "cell_type": "code",
   "execution_count": 1,
   "metadata": {
    "ExecuteTime": {
     "end_time": "2019-06-02T14:45:45.514008Z",
     "start_time": "2019-06-02T14:45:44.921128Z"
    }
   },
   "outputs": [],
   "source": [
    "import pandas as pd\n",
    "import time\n",
    "TodaysDate = time.strftime(\"%Y-%m-%d\")\n",
    "\n",
    "from tqdm import tqdm\n",
    "\n",
    "import pickle"
   ]
  },
  {
   "cell_type": "markdown",
   "metadata": {},
   "source": [
    "# Folders"
   ]
  },
  {
   "cell_type": "code",
   "execution_count": 2,
   "metadata": {
    "ExecuteTime": {
     "end_time": "2019-06-02T14:45:45.524035Z",
     "start_time": "2019-06-02T14:45:45.517950Z"
    }
   },
   "outputs": [],
   "source": [
    "# output_folder = \"./data/playlists/\"\n",
    "\n",
    "output_folder = \"D:/DATA_02062019/NEW_DATA/playlists/\""
   ]
  },
  {
   "cell_type": "markdown",
   "metadata": {},
   "source": [
    "# Access to Spotify API \n",
    "\n",
    "For credentials : https://developer.spotify.com/dashboard/login\n"
   ]
  },
  {
   "cell_type": "code",
   "execution_count": 3,
   "metadata": {
    "ExecuteTime": {
     "end_time": "2019-06-02T14:45:45.844452Z",
     "start_time": "2019-06-02T14:45:45.528215Z"
    }
   },
   "outputs": [],
   "source": [
    "import spotipy \n",
    "from spotipy.oauth2 import SpotifyClientCredentials \n",
    "cid =\"********************************\" \n",
    "secret = \"********************************\" \n",
    "\n",
    "# maybe redirect uri will be required for some of the commands \n",
    "redirect_uri = 'http://127.0.0.1:5001/login/authorized'\n",
    "\n",
    "# the user id of my account\n",
    "username = 'your_spotify_user_name'\n",
    "\n",
    "client_credentials_manager = SpotifyClientCredentials(client_id=cid, client_secret=secret) \n",
    "sp = spotipy.Spotify(client_credentials_manager=client_credentials_manager)"
   ]
  },
  {
   "cell_type": "markdown",
   "metadata": {},
   "source": [
    "# Functions\n",
    "\n",
    "## Step 1: Get list of categories\n",
    "\n",
    "https://spotipy.readthedocs.io/en/latest/#spotipy.client.Spotify.categories\n",
    "\n",
    "https://developer.spotify.com/documentation/web-api/reference/browse/get-list-categories/\n",
    "\n",
    "\n",
    "category_playlists(category_id=None, country=None, limit=20, offset=0)\n",
    "\n",
    "Parameters:\n",
    "\n",
    "* country - An ISO 3166-1 alpha-2 country code.\n",
    "* locale - The desired language, consisting of an ISO 639 language code and an ISO 3166-1 alpha-2 country code, joined by an underscore.\n",
    "* limit - The maximum number of items to return. Default: 20. Minimum: 1. Maximum: 50\n",
    "* offset - The index of the first item to return. Default: 0 (the first object). Use with limit to get the next set of items.\n"
   ]
  },
  {
   "cell_type": "code",
   "execution_count": 4,
   "metadata": {
    "ExecuteTime": {
     "end_time": "2019-06-02T14:45:45.857313Z",
     "start_time": "2019-06-02T14:45:45.848493Z"
    }
   },
   "outputs": [],
   "source": [
    "def get_list_categories(country=None, locale=None, limit=20):\n",
    "    \"\"\" Generate a list of category_id.\n",
    "    \n",
    "    Input: \n",
    "        country - An ISO 3166-1 alpha-2 country code (optional).\n",
    "        locale - The desired language, consisting of an ISO 639 language code and an ISO 3166-1 alpha-2 \n",
    "        country code, joined by an underscore (optional).\n",
    "        limit - The maximum number of items to return. Default: 20. Minimum: 1. Maximum: 50\n",
    "            \n",
    "    Output:\n",
    "        list of category_id\n",
    "        \n",
    "    P.S.: offset - The index of the first item to return. Default: 0 (the first object). Use with limit \n",
    "        to get the next set of items.\n",
    "        \n",
    "    \"\"\"\n",
    "    \n",
    "    category_ids_list = []\n",
    "    max_nr_categories = 2000\n",
    "    for i in range(0,max_nr_categories,50):\n",
    "        categories = sp.categories(country, locale, limit, offset=i)\n",
    "        for category in range(len(categories['categories']['items'])):\n",
    "            category_ids_list.append(categories['categories']['items'][category]['id'])\n",
    "            \n",
    "    #save in a list\n",
    "    \n",
    "    if country == None:\n",
    "        country = 'Non-specified-country'\n",
    "    \n",
    "    filename = \"category_ids_list_country_\"+country+\"_\"+TodaysDate +\".txt\"\n",
    "       \n",
    "    with open(output_folder+filename, \"wb\") as fp:   #Pickling\n",
    "        pickle.dump(category_ids_list, fp)\n",
    "    \n",
    "    return category_ids_list    "
   ]
  },
  {
   "cell_type": "markdown",
   "metadata": {},
   "source": [
    "## Step 2: Get category's Playlists \n",
    "\n",
    "https://spotipy.readthedocs.io/en/latest/#spotipy.client.Spotify.category_playlists\n",
    "\n",
    "https://developer.spotify.com/documentation/web-api/reference/browse/get-categorys-playlists/\n",
    "\n",
    "category_playlists(category_id=None, country=None, limit=20, offset=0)\n",
    " \n",
    " \n",
    "Parameters:\n",
    "\n",
    "* category_id - The Spotify category ID for the category.\n",
    "* country - An ISO 3166-1 alpha-2 country code.\n",
    "* limit - The maximum number of items to return. Default: 20. Minimum: 1. Maximum: 50\n",
    "* offset - The index of the first item to return. Default: 0 (the first object). Use with limit to get the next set of items."
   ]
  },
  {
   "cell_type": "code",
   "execution_count": 5,
   "metadata": {
    "ExecuteTime": {
     "end_time": "2019-06-02T14:45:45.884222Z",
     "start_time": "2019-06-02T14:45:45.861794Z"
    }
   },
   "outputs": [],
   "source": [
    "def get_playlists_per_category(category_id=None, country=None, limit=20):\n",
    "    \n",
    "    \"\"\" Retrieve information (id and name) of playlists belonging to a category_id\n",
    "    \n",
    "    Input: \n",
    "        category_id - The Spotify category ID for the category.\n",
    "        country - An ISO 3166-1 alpha-2 country code (optional).\n",
    "        limit - The maximum number of items to return. Default: 20. Minimum: 1. Maximum: 50\n",
    "        offset - The index of the first item to return. Default: 0 (the first object). \n",
    "        Use with limit to get the next set of items. \n",
    "        \n",
    "    Output:\n",
    "        Dictionary with playlist_ids and playlist_names for category_id\n",
    "        .csv file from a dataframe generated from the dictionary obtained \n",
    "        \n",
    "    P.S.: A dataframe is build from this dictionary and save in disk in a .csv file\n",
    "    \"\"\" \n",
    "    \n",
    "    playlist_id_list = []\n",
    "    playlist_name_list = []\n",
    "    category_list = []\n",
    "    max_nr_playlist = 2000\n",
    "    for i in range(0,max_nr_playlist,50):\n",
    "        playlists_per_category = sp.category_playlists(category_id, country, limit, offset=i)\n",
    "        for playlist in range(len(playlists_per_category['playlists']['items'])):\n",
    "            playlist_id_list.append(playlists_per_category['playlists']['items'][playlist]['id'])\n",
    "            playlist_name_list.append(playlists_per_category['playlists']['items'][playlist]['name'])\n",
    "            category_list.append(category_id)\n",
    "        \n",
    "    dic_playlists_category = {\"category\": category_list,\n",
    "                              \"playlist_id\": playlist_id_list,\n",
    "                               \"playlist_name\": playlist_name_list}\n",
    "    \n",
    "    df_playlists_category = pd.DataFrame(dic_playlists_category)\n",
    "    \n",
    "    \n",
    "    # save dataframe in csv\n",
    "    \n",
    "    if country == None:\n",
    "        country = 'Non-specified-country'\n",
    "    \n",
    "    filename = \"playlists_category_\"+category_id+\"_\"+country+\"_\"+TodaysDate +\".csv\"\n",
    "    df_playlists_category.to_csv(output_folder+filename,index = False)\n",
    "    \n",
    "    \n",
    "    return dic_playlists_category\n"
   ]
  },
  {
   "cell_type": "markdown",
   "metadata": {},
   "source": [
    "## Get playlist information (id and name) for all categories\n",
    "\n",
    "To obtain playlist_id and playlist_name for all categories it is only necessary to use the list of category_id obtained by using the function 'get_list_categories' and then call function 'get_playlists_per_category' for each category_id.\n",
    "\n",
    "However, it is also necessary to use a little trick otherwise you can get the following error: \n",
    "\n",
    "ConnectionError: ('Connection aborted.', ConnectionResetError(10054, 'An existing connection was forcibly closed by the remote host', None, 10054, None))\n",
    "\n",
    "\n",
    "For this a little of delay using 2 for-loops was inserted. "
   ]
  },
  {
   "cell_type": "code",
   "execution_count": 6,
   "metadata": {
    "ExecuteTime": {
     "end_time": "2019-06-02T14:45:45.896631Z",
     "start_time": "2019-06-02T14:45:45.885945Z"
    }
   },
   "outputs": [],
   "source": [
    "def get_all_categories_playlists(country = None, locale = None, limit=20):\n",
    "    \"\"\" Obtain all playlists of all categories for a certain country if specified \n",
    "    \n",
    "    Input: \n",
    "        country - An ISO 3166-1 alpha-2 country code (optional).\n",
    "        locale - The desired language, consisting of an ISO 639 language code and an ISO 3166-1 alpha-2 \n",
    "        country code, joined by an underscore (optional).\n",
    "        limit - The maximum number of items to return. Default: 20. Minimum: 1. Maximum: 50\n",
    "    \n",
    "    \"\"\"\n",
    "    \n",
    "    \n",
    "    # Get list of category\n",
    "    list_category_ids = get_list_categories(country, locale, limit)\n",
    "    \n",
    "    # Generate a dataframe with playlists\n",
    "    df_playlists = pd.DataFrame({'categories':list_category_ids})\n",
    "    \n",
    "    # Apply two for-loops to add a bit delay and avoid 'Connection aborted'\n",
    "    \n",
    "    for i in tqdm(range(0,len(df_playlists),3)):\n",
    "        for j in range(3):\n",
    "            try:\n",
    "                get_playlists_per_category(category_id=df_playlists.iloc[i+j][0],country=country, limit=limit)\n",
    "            except IndexError:\n",
    "                pass\n",
    "        \n",
    "    if country == None:\n",
    "        country = 'Non-specified-country'\n",
    "        \n",
    "    print(\"Playlists of {} categories for {} retrieved!\".format(df_playlists.shape[0], country))\n",
    "    \n",
    "    "
   ]
  },
  {
   "cell_type": "markdown",
   "metadata": {},
   "source": [
    "# Get all categories' playlists for NL"
   ]
  },
  {
   "cell_type": "code",
   "execution_count": 7,
   "metadata": {
    "ExecuteTime": {
     "end_time": "2019-06-02T14:48:30.728724Z",
     "start_time": "2019-06-02T14:45:45.898139Z"
    }
   },
   "outputs": [
    {
     "name": "stderr",
     "output_type": "stream",
     "text": [
      "100%|██████████████████████████████████████████████████████████████████████████████████| 13/13 [02:35<00:00, 11.94s/it]\n"
     ]
    },
    {
     "name": "stdout",
     "output_type": "stream",
     "text": [
      "Playlists of 37 categories for NL retrieved!\n"
     ]
    }
   ],
   "source": [
    "get_all_categories_playlists(country=\"NL\",locale=None,limit=50)"
   ]
  },
  {
   "cell_type": "markdown",
   "metadata": {},
   "source": [
    "# Checking the data obtained"
   ]
  },
  {
   "cell_type": "code",
   "execution_count": 8,
   "metadata": {
    "ExecuteTime": {
     "end_time": "2019-06-02T14:48:30.764176Z",
     "start_time": "2019-06-02T14:48:30.734081Z"
    }
   },
   "outputs": [
    {
     "data": {
      "text/plain": [
       "37"
      ]
     },
     "execution_count": 8,
     "metadata": {},
     "output_type": "execute_result"
    }
   ],
   "source": [
    "# opening list to check\n",
    "\n",
    "with open(output_folder+ \"category_ids_list_country_NL_2019-06-02.txt\", \"rb\") as fp:   # Unpickling\n",
    "    list_categories_NL = pickle.load(fp)\n",
    "\n",
    "\n",
    "len(list_categories_NL)"
   ]
  },
  {
   "cell_type": "code",
   "execution_count": 9,
   "metadata": {
    "ExecuteTime": {
     "end_time": "2019-06-02T14:48:30.772416Z",
     "start_time": "2019-06-02T14:48:30.766180Z"
    }
   },
   "outputs": [
    {
     "data": {
      "text/plain": [
       "['toplists',\n",
       " 'mood',\n",
       " 'pop',\n",
       " 'hiphop',\n",
       " 'dutch',\n",
       " 'chill',\n",
       " 'edm_dance',\n",
       " 'indie_alt',\n",
       " 'focus',\n",
       " 'workout',\n",
       " 'party',\n",
       " 'soul',\n",
       " 'sleep',\n",
       " 'rock',\n",
       " 'dinner',\n",
       " 'rnb',\n",
       " 'afro',\n",
       " 'latin',\n",
       " 'jazz',\n",
       " 'roots',\n",
       " 'country',\n",
       " 'blues',\n",
       " 'decades',\n",
       " 'summer',\n",
       " 'arab',\n",
       " 'romance',\n",
       " 'travel',\n",
       " 'sessions',\n",
       " 'metal',\n",
       " 'classical',\n",
       " 'reggae',\n",
       " 'kpop',\n",
       " 'desi',\n",
       " 'punk',\n",
       " 'funk',\n",
       " 'gaming',\n",
       " 'kids']"
      ]
     },
     "execution_count": 9,
     "metadata": {},
     "output_type": "execute_result"
    }
   ],
   "source": [
    "list_categories_NL"
   ]
  },
  {
   "cell_type": "code",
   "execution_count": 10,
   "metadata": {
    "ExecuteTime": {
     "end_time": "2019-06-02T14:48:30.795992Z",
     "start_time": "2019-06-02T14:48:30.777080Z"
    }
   },
   "outputs": [
    {
     "data": {
      "text/html": [
       "<div>\n",
       "<style scoped>\n",
       "    .dataframe tbody tr th:only-of-type {\n",
       "        vertical-align: middle;\n",
       "    }\n",
       "\n",
       "    .dataframe tbody tr th {\n",
       "        vertical-align: top;\n",
       "    }\n",
       "\n",
       "    .dataframe thead th {\n",
       "        text-align: right;\n",
       "    }\n",
       "</style>\n",
       "<table border=\"1\" class=\"dataframe\">\n",
       "  <thead>\n",
       "    <tr style=\"text-align: right;\">\n",
       "      <th></th>\n",
       "      <th>category</th>\n",
       "      <th>playlist_id</th>\n",
       "      <th>playlist_name</th>\n",
       "    </tr>\n",
       "  </thead>\n",
       "  <tbody>\n",
       "    <tr>\n",
       "      <th>0</th>\n",
       "      <td>latin</td>\n",
       "      <td>37i9dQZF1DWXHyhanaNMoy</td>\n",
       "      <td>La Vida Loca</td>\n",
       "    </tr>\n",
       "    <tr>\n",
       "      <th>1</th>\n",
       "      <td>latin</td>\n",
       "      <td>37i9dQZF1DX10zKzsJ2jva</td>\n",
       "      <td>¡Viva Latino!</td>\n",
       "    </tr>\n",
       "    <tr>\n",
       "      <th>2</th>\n",
       "      <td>latin</td>\n",
       "      <td>37i9dQZF1DWY7IeIP1cdjF</td>\n",
       "      <td>Baila Reggaeton</td>\n",
       "    </tr>\n",
       "    <tr>\n",
       "      <th>3</th>\n",
       "      <td>latin</td>\n",
       "      <td>37i9dQZF1DX7MTlMMRl0MD</td>\n",
       "      <td>Bachata Lovers</td>\n",
       "    </tr>\n",
       "    <tr>\n",
       "      <th>4</th>\n",
       "      <td>latin</td>\n",
       "      <td>37i9dQZF1DX4qKWGR9z0LI</td>\n",
       "      <td>Salsa Nation</td>\n",
       "    </tr>\n",
       "  </tbody>\n",
       "</table>\n",
       "</div>"
      ],
      "text/plain": [
       "  category             playlist_id    playlist_name\n",
       "0    latin  37i9dQZF1DWXHyhanaNMoy     La Vida Loca\n",
       "1    latin  37i9dQZF1DX10zKzsJ2jva    ¡Viva Latino!\n",
       "2    latin  37i9dQZF1DWY7IeIP1cdjF  Baila Reggaeton\n",
       "3    latin  37i9dQZF1DX7MTlMMRl0MD   Bachata Lovers\n",
       "4    latin  37i9dQZF1DX4qKWGR9z0LI     Salsa Nation"
      ]
     },
     "execution_count": 10,
     "metadata": {},
     "output_type": "execute_result"
    }
   ],
   "source": [
    "# Checking one of the csv for playlists categories\n",
    "\n",
    "df_playlists_category_latin_NL = pd.read_csv(output_folder+\"playlists_category_latin_NL_2019-06-02.csv\")\n",
    "df_playlists_category_latin_NL.head()"
   ]
  },
  {
   "cell_type": "code",
   "execution_count": 11,
   "metadata": {
    "ExecuteTime": {
     "end_time": "2019-06-02T14:48:30.810644Z",
     "start_time": "2019-06-02T14:48:30.800003Z"
    }
   },
   "outputs": [
    {
     "name": "stdout",
     "output_type": "stream",
     "text": [
      "<class 'pandas.core.frame.DataFrame'>\n",
      "RangeIndex: 100 entries, 0 to 99\n",
      "Data columns (total 3 columns):\n",
      "category         100 non-null object\n",
      "playlist_id      100 non-null object\n",
      "playlist_name    100 non-null object\n",
      "dtypes: object(3)\n",
      "memory usage: 2.4+ KB\n"
     ]
    }
   ],
   "source": [
    "df_playlists_category_latin_NL.info(null_counts=True)"
   ]
  },
  {
   "cell_type": "code",
   "execution_count": 12,
   "metadata": {
    "ExecuteTime": {
     "end_time": "2019-06-02T14:48:30.822915Z",
     "start_time": "2019-06-02T14:48:30.812632Z"
    }
   },
   "outputs": [
    {
     "data": {
      "text/plain": [
       "100"
      ]
     },
     "execution_count": 12,
     "metadata": {},
     "output_type": "execute_result"
    }
   ],
   "source": [
    "len(df_playlists_category_latin_NL.playlist_id.unique())"
   ]
  },
  {
   "cell_type": "code",
   "execution_count": 13,
   "metadata": {
    "ExecuteTime": {
     "end_time": "2019-06-02T14:48:30.835006Z",
     "start_time": "2019-06-02T14:48:30.826382Z"
    }
   },
   "outputs": [
    {
     "data": {
      "text/plain": [
       "100"
      ]
     },
     "execution_count": 13,
     "metadata": {},
     "output_type": "execute_result"
    }
   ],
   "source": [
    "len(df_playlists_category_latin_NL.playlist_name.unique())"
   ]
  }
 ],
 "metadata": {
  "hide_input": false,
  "kernelspec": {
   "display_name": "Python 3",
   "language": "python",
   "name": "python3"
  },
  "language_info": {
   "codemirror_mode": {
    "name": "ipython",
    "version": 3
   },
   "file_extension": ".py",
   "mimetype": "text/x-python",
   "name": "python",
   "nbconvert_exporter": "python",
   "pygments_lexer": "ipython3",
   "version": "3.6.5"
  },
  "toc": {
   "base_numbering": 1,
   "nav_menu": {},
   "number_sections": true,
   "sideBar": true,
   "skip_h1_title": false,
   "title_cell": "Table of Contents",
   "title_sidebar": "Contents",
   "toc_cell": false,
   "toc_position": {},
   "toc_section_display": true,
   "toc_window_display": true
  },
  "varInspector": {
   "cols": {
    "lenName": 16,
    "lenType": 16,
    "lenVar": 40
   },
   "kernels_config": {
    "python": {
     "delete_cmd_postfix": "",
     "delete_cmd_prefix": "del ",
     "library": "var_list.py",
     "varRefreshCmd": "print(var_dic_list())"
    },
    "r": {
     "delete_cmd_postfix": ") ",
     "delete_cmd_prefix": "rm(",
     "library": "var_list.r",
     "varRefreshCmd": "cat(var_dic_list()) "
    }
   },
   "types_to_exclude": [
    "module",
    "function",
    "builtin_function_or_method",
    "instance",
    "_Feature"
   ],
   "window_display": false
  }
 },
 "nbformat": 4,
 "nbformat_minor": 2
}
