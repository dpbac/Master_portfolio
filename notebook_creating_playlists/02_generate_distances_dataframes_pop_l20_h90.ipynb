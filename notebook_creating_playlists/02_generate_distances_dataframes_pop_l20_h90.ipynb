{
 "cells": [
  {
   "cell_type": "markdown",
   "metadata": {},
   "source": [
    "Danielle Paes Barretto de Arruda Camara\n",
    "\n",
    "**Version: 30/07/19 (last review)**\n",
    "\n",
    "Define the higher bound after percentaille 0.90 to avoid same songs.\n",
    "\n",
    "\n"
   ]
  },
  {
   "cell_type": "markdown",
   "metadata": {},
   "source": [
    "# Importing libraries"
   ]
  },
  {
   "cell_type": "code",
   "execution_count": 1,
   "metadata": {
    "ExecuteTime": {
     "end_time": "2019-06-25T08:44:06.223150Z",
     "start_time": "2019-06-25T08:44:02.911552Z"
    }
   },
   "outputs": [],
   "source": [
    "import pandas as pd\n",
    "import numpy as np\n",
    "import glob\n",
    "\n",
    "import matplotlib.pyplot as plt\n",
    "import seaborn as sns\n",
    "\n",
    "import time\n",
    "TodaysDate = time.strftime(\"%Y-%m-%d\")\n",
    "\n",
    "import pickle\n",
    "import itertools\n",
    "import random"
   ]
  },
  {
   "cell_type": "markdown",
   "metadata": {},
   "source": [
    "# Functions"
   ]
  },
  {
   "cell_type": "code",
   "execution_count": 2,
   "metadata": {
    "ExecuteTime": {
     "end_time": "2019-06-25T08:44:06.239545Z",
     "start_time": "2019-06-25T08:44:06.236541Z"
    }
   },
   "outputs": [],
   "source": [
    "def frange(start, stop, step):\n",
    "    \"\"\" to use range with decimal numbers\"\"\"\n",
    "\n",
    "    i = start\n",
    "    while i < stop:\n",
    "        yield round(i,2)\n",
    "        i += step"
   ]
  },
  {
   "cell_type": "markdown",
   "metadata": {},
   "source": [
    "# Folders and Files"
   ]
  },
  {
   "cell_type": "code",
   "execution_count": 3,
   "metadata": {
    "ExecuteTime": {
     "end_time": "2019-06-25T08:44:10.426362Z",
     "start_time": "2019-06-25T08:44:10.423414Z"
    }
   },
   "outputs": [],
   "source": [
    "snippets_address_folder = \"./data/snippets_address/\"\n",
    "\n",
    "# to save processed data to be used in the creation of the playlists\n",
    "\n",
    "creating_playlist_folder = \"./data/creating_playlist/\""
   ]
  },
  {
   "cell_type": "code",
   "execution_count": 4,
   "metadata": {
    "ExecuteTime": {
     "end_time": "2019-06-25T08:44:11.111769Z",
     "start_time": "2019-06-25T08:44:11.104818Z"
    }
   },
   "outputs": [
    {
     "data": {
      "text/plain": [
       "'pop'"
      ]
     },
     "execution_count": 4,
     "metadata": {},
     "output_type": "execute_result"
    }
   ],
   "source": [
    "snippets_pop = \"snippets_address_pop_2019-06-13.csv\"\n",
    "\n",
    "tracks_file_clean = \"audio_tracks_cleaned_pop_2019-06-13.csv\"\n",
    "\n",
    "diff_all = \"audio_tracks_diff_ALL_cleaned_pop_2019-06-13.csv\"\n",
    "\n",
    "diff_in_playlists = \"audio_tracks_diff_in_playlists_cleaned_pop_2019-06-13.csv\"\n",
    "\n",
    "category = snippets_pop.split('.')[0].split('_')[-2]\n",
    "category"
   ]
  },
  {
   "cell_type": "markdown",
   "metadata": {},
   "source": [
    "# Acessing tracks with snippets\n",
    "Not all tracks have snippets available so we will need to filter also considering the availability of snippets."
   ]
  },
  {
   "cell_type": "code",
   "execution_count": 5,
   "metadata": {
    "ExecuteTime": {
     "end_time": "2019-06-25T08:44:26.178263Z",
     "start_time": "2019-06-25T08:44:20.513526Z"
    }
   },
   "outputs": [
    {
     "data": {
      "text/html": [
       "<div>\n",
       "<style scoped>\n",
       "    .dataframe tbody tr th:only-of-type {\n",
       "        vertical-align: middle;\n",
       "    }\n",
       "\n",
       "    .dataframe tbody tr th {\n",
       "        vertical-align: top;\n",
       "    }\n",
       "\n",
       "    .dataframe thead th {\n",
       "        text-align: right;\n",
       "    }\n",
       "</style>\n",
       "<table border=\"1\" class=\"dataframe\">\n",
       "  <thead>\n",
       "    <tr style=\"text-align: right;\">\n",
       "      <th></th>\n",
       "      <th>track_id</th>\n",
       "      <th>track_preview_url</th>\n",
       "    </tr>\n",
       "  </thead>\n",
       "  <tbody>\n",
       "    <tr>\n",
       "      <th>0</th>\n",
       "      <td>2hnxrRNzF74mdDzpQZQukQ</td>\n",
       "      <td>https://p.scdn.co/mp3-preview/ecf605ea149db4f7...</td>\n",
       "    </tr>\n",
       "    <tr>\n",
       "      <th>1</th>\n",
       "      <td>2n48BjaFSczfeIG3HaIaPv</td>\n",
       "      <td>https://p.scdn.co/mp3-preview/c6bb499f1f475493...</td>\n",
       "    </tr>\n",
       "    <tr>\n",
       "      <th>2</th>\n",
       "      <td>7DHApOHsIFo7EyfieArYGE</td>\n",
       "      <td>https://p.scdn.co/mp3-preview/44e8764f6028b38a...</td>\n",
       "    </tr>\n",
       "    <tr>\n",
       "      <th>3</th>\n",
       "      <td>3ciQQMSy1lKDqJbwU9l1LT</td>\n",
       "      <td>https://p.scdn.co/mp3-preview/c6a9592968a0d4d0...</td>\n",
       "    </tr>\n",
       "    <tr>\n",
       "      <th>4</th>\n",
       "      <td>2nFAQBrEEHA7nvYgw6lpD0</td>\n",
       "      <td>https://p.scdn.co/mp3-preview/2fd9b59c151003d9...</td>\n",
       "    </tr>\n",
       "  </tbody>\n",
       "</table>\n",
       "</div>"
      ],
      "text/plain": [
       "                 track_id                                  track_preview_url\n",
       "0  2hnxrRNzF74mdDzpQZQukQ  https://p.scdn.co/mp3-preview/ecf605ea149db4f7...\n",
       "1  2n48BjaFSczfeIG3HaIaPv  https://p.scdn.co/mp3-preview/c6bb499f1f475493...\n",
       "2  7DHApOHsIFo7EyfieArYGE  https://p.scdn.co/mp3-preview/44e8764f6028b38a...\n",
       "3  3ciQQMSy1lKDqJbwU9l1LT  https://p.scdn.co/mp3-preview/c6a9592968a0d4d0...\n",
       "4  2nFAQBrEEHA7nvYgw6lpD0  https://p.scdn.co/mp3-preview/2fd9b59c151003d9..."
      ]
     },
     "execution_count": 5,
     "metadata": {},
     "output_type": "execute_result"
    }
   ],
   "source": [
    "df_snippets = pd.read_csv(snippets_address_folder+snippets_pop)\n",
    "df_snippets.head()"
   ]
  },
  {
   "cell_type": "code",
   "execution_count": 6,
   "metadata": {
    "ExecuteTime": {
     "end_time": "2019-06-25T08:44:26.209749Z",
     "start_time": "2019-06-25T08:44:26.203776Z"
    }
   },
   "outputs": [
    {
     "name": "stdout",
     "output_type": "stream",
     "text": [
      "<class 'pandas.core.frame.DataFrame'>\n",
      "RangeIndex: 1061 entries, 0 to 1060\n",
      "Data columns (total 2 columns):\n",
      "track_id             1061 non-null object\n",
      "track_preview_url    1061 non-null object\n",
      "dtypes: object(2)\n",
      "memory usage: 16.7+ KB\n"
     ]
    }
   ],
   "source": [
    "df_snippets.info(null_counts=True)"
   ]
  },
  {
   "cell_type": "code",
   "execution_count": 7,
   "metadata": {
    "ExecuteTime": {
     "end_time": "2019-06-25T08:44:26.250901Z",
     "start_time": "2019-06-25T08:44:26.246929Z"
    }
   },
   "outputs": [],
   "source": [
    "tracks_with_snippets = df_snippets.track_id.tolist()"
   ]
  },
  {
   "cell_type": "markdown",
   "metadata": {},
   "source": [
    "## Creating new df_diff with only track_id that has snippets"
   ]
  },
  {
   "cell_type": "code",
   "execution_count": 8,
   "metadata": {
    "ExecuteTime": {
     "end_time": "2019-06-25T08:44:57.837626Z",
     "start_time": "2019-06-25T08:44:29.882718Z"
    }
   },
   "outputs": [],
   "source": [
    "df_tracks_diff = pd.read_csv(creating_playlist_folder+diff_all)"
   ]
  },
  {
   "cell_type": "code",
   "execution_count": 9,
   "metadata": {
    "ExecuteTime": {
     "end_time": "2019-06-25T08:50:19.938566Z",
     "start_time": "2019-06-25T08:44:57.921442Z"
    }
   },
   "outputs": [],
   "source": [
    "current_track_list = [df_tracks_diff['current_track-next_track'][idx].split('_')[0] for idx in range(df_tracks_diff.shape[0])]\n",
    "\n",
    "next_track_list = [df_tracks_diff['current_track-next_track'][idx].split('_')[1] for idx in range(df_tracks_diff.shape[0])]"
   ]
  },
  {
   "cell_type": "code",
   "execution_count": 10,
   "metadata": {
    "ExecuteTime": {
     "end_time": "2019-06-25T08:50:25.134737Z",
     "start_time": "2019-06-25T08:50:24.644118Z"
    }
   },
   "outputs": [],
   "source": [
    "df_tracks_diff['current_track'] = current_track_list\n",
    "df_tracks_diff['next_track'] = next_track_list"
   ]
  },
  {
   "cell_type": "code",
   "execution_count": 11,
   "metadata": {
    "ExecuteTime": {
     "end_time": "2019-06-25T08:50:29.714231Z",
     "start_time": "2019-06-25T08:50:29.692904Z"
    }
   },
   "outputs": [
    {
     "data": {
      "text/html": [
       "<div>\n",
       "<style scoped>\n",
       "    .dataframe tbody tr th:only-of-type {\n",
       "        vertical-align: middle;\n",
       "    }\n",
       "\n",
       "    .dataframe tbody tr th {\n",
       "        vertical-align: top;\n",
       "    }\n",
       "\n",
       "    .dataframe thead th {\n",
       "        text-align: right;\n",
       "    }\n",
       "</style>\n",
       "<table border=\"1\" class=\"dataframe\">\n",
       "  <thead>\n",
       "    <tr style=\"text-align: right;\">\n",
       "      <th></th>\n",
       "      <th>current_track-next_track</th>\n",
       "      <th>diff_acousticness</th>\n",
       "      <th>diff_danceability</th>\n",
       "      <th>diff_energy</th>\n",
       "      <th>diff_valence</th>\n",
       "      <th>diff_tempo</th>\n",
       "      <th>diff_instrumentalness</th>\n",
       "      <th>diff_key</th>\n",
       "      <th>diff_mode</th>\n",
       "      <th>diff_liveness</th>\n",
       "      <th>diff_loudness</th>\n",
       "      <th>diff_speechiness</th>\n",
       "      <th>is_good_sequence</th>\n",
       "      <th>current_track</th>\n",
       "      <th>next_track</th>\n",
       "    </tr>\n",
       "  </thead>\n",
       "  <tbody>\n",
       "    <tr>\n",
       "      <th>0</th>\n",
       "      <td>2hloaUoRonYssMuqLCBLTX_5wo3Opxvcc5SsszgmwV9Lh</td>\n",
       "      <td>0.18350</td>\n",
       "      <td>0.057</td>\n",
       "      <td>0.048</td>\n",
       "      <td>0.088</td>\n",
       "      <td>47.011</td>\n",
       "      <td>0.000157</td>\n",
       "      <td>2.0</td>\n",
       "      <td>0.0</td>\n",
       "      <td>0.047</td>\n",
       "      <td>1.020</td>\n",
       "      <td>0.2096</td>\n",
       "      <td>1</td>\n",
       "      <td>2hloaUoRonYssMuqLCBLTX</td>\n",
       "      <td>5wo3Opxvcc5SsszgmwV9Lh</td>\n",
       "    </tr>\n",
       "    <tr>\n",
       "      <th>1</th>\n",
       "      <td>5wo3Opxvcc5SsszgmwV9Lh_1uXbwHHfgsXcUKfSZw5ZJ0</td>\n",
       "      <td>0.26004</td>\n",
       "      <td>0.032</td>\n",
       "      <td>0.186</td>\n",
       "      <td>0.205</td>\n",
       "      <td>22.121</td>\n",
       "      <td>0.000047</td>\n",
       "      <td>0.0</td>\n",
       "      <td>1.0</td>\n",
       "      <td>0.203</td>\n",
       "      <td>1.971</td>\n",
       "      <td>0.1440</td>\n",
       "      <td>1</td>\n",
       "      <td>5wo3Opxvcc5SsszgmwV9Lh</td>\n",
       "      <td>1uXbwHHfgsXcUKfSZw5ZJ0</td>\n",
       "    </tr>\n",
       "    <tr>\n",
       "      <th>2</th>\n",
       "      <td>1uXbwHHfgsXcUKfSZw5ZJ0_7sKDftgGirHWTVFMtJoDoh</td>\n",
       "      <td>0.05624</td>\n",
       "      <td>0.096</td>\n",
       "      <td>0.103</td>\n",
       "      <td>0.209</td>\n",
       "      <td>29.110</td>\n",
       "      <td>0.000047</td>\n",
       "      <td>5.0</td>\n",
       "      <td>0.0</td>\n",
       "      <td>0.261</td>\n",
       "      <td>1.191</td>\n",
       "      <td>0.0330</td>\n",
       "      <td>1</td>\n",
       "      <td>1uXbwHHfgsXcUKfSZw5ZJ0</td>\n",
       "      <td>7sKDftgGirHWTVFMtJoDoh</td>\n",
       "    </tr>\n",
       "    <tr>\n",
       "      <th>3</th>\n",
       "      <td>7sKDftgGirHWTVFMtJoDoh_3e9HZxeyfWwjeyPAMmWSSQ</td>\n",
       "      <td>0.16780</td>\n",
       "      <td>0.112</td>\n",
       "      <td>0.143</td>\n",
       "      <td>0.139</td>\n",
       "      <td>8.990</td>\n",
       "      <td>0.000000</td>\n",
       "      <td>4.0</td>\n",
       "      <td>0.0</td>\n",
       "      <td>0.010</td>\n",
       "      <td>0.206</td>\n",
       "      <td>0.0442</td>\n",
       "      <td>1</td>\n",
       "      <td>7sKDftgGirHWTVFMtJoDoh</td>\n",
       "      <td>3e9HZxeyfWwjeyPAMmWSSQ</td>\n",
       "    </tr>\n",
       "    <tr>\n",
       "      <th>4</th>\n",
       "      <td>3e9HZxeyfWwjeyPAMmWSSQ_44n97yHySt0Z9rqPaXgjCK</td>\n",
       "      <td>0.68400</td>\n",
       "      <td>0.204</td>\n",
       "      <td>0.403</td>\n",
       "      <td>0.061</td>\n",
       "      <td>32.863</td>\n",
       "      <td>0.000000</td>\n",
       "      <td>4.0</td>\n",
       "      <td>1.0</td>\n",
       "      <td>0.016</td>\n",
       "      <td>3.742</td>\n",
       "      <td>0.0291</td>\n",
       "      <td>1</td>\n",
       "      <td>3e9HZxeyfWwjeyPAMmWSSQ</td>\n",
       "      <td>44n97yHySt0Z9rqPaXgjCK</td>\n",
       "    </tr>\n",
       "  </tbody>\n",
       "</table>\n",
       "</div>"
      ],
      "text/plain": [
       "                        current_track-next_track  diff_acousticness  \\\n",
       "0  2hloaUoRonYssMuqLCBLTX_5wo3Opxvcc5SsszgmwV9Lh            0.18350   \n",
       "1  5wo3Opxvcc5SsszgmwV9Lh_1uXbwHHfgsXcUKfSZw5ZJ0            0.26004   \n",
       "2  1uXbwHHfgsXcUKfSZw5ZJ0_7sKDftgGirHWTVFMtJoDoh            0.05624   \n",
       "3  7sKDftgGirHWTVFMtJoDoh_3e9HZxeyfWwjeyPAMmWSSQ            0.16780   \n",
       "4  3e9HZxeyfWwjeyPAMmWSSQ_44n97yHySt0Z9rqPaXgjCK            0.68400   \n",
       "\n",
       "   diff_danceability  diff_energy  diff_valence  diff_tempo  \\\n",
       "0              0.057        0.048         0.088      47.011   \n",
       "1              0.032        0.186         0.205      22.121   \n",
       "2              0.096        0.103         0.209      29.110   \n",
       "3              0.112        0.143         0.139       8.990   \n",
       "4              0.204        0.403         0.061      32.863   \n",
       "\n",
       "   diff_instrumentalness  diff_key  diff_mode  diff_liveness  diff_loudness  \\\n",
       "0               0.000157       2.0        0.0          0.047          1.020   \n",
       "1               0.000047       0.0        1.0          0.203          1.971   \n",
       "2               0.000047       5.0        0.0          0.261          1.191   \n",
       "3               0.000000       4.0        0.0          0.010          0.206   \n",
       "4               0.000000       4.0        1.0          0.016          3.742   \n",
       "\n",
       "   diff_speechiness  is_good_sequence           current_track  \\\n",
       "0            0.2096                 1  2hloaUoRonYssMuqLCBLTX   \n",
       "1            0.1440                 1  5wo3Opxvcc5SsszgmwV9Lh   \n",
       "2            0.0330                 1  1uXbwHHfgsXcUKfSZw5ZJ0   \n",
       "3            0.0442                 1  7sKDftgGirHWTVFMtJoDoh   \n",
       "4            0.0291                 1  3e9HZxeyfWwjeyPAMmWSSQ   \n",
       "\n",
       "               next_track  \n",
       "0  5wo3Opxvcc5SsszgmwV9Lh  \n",
       "1  1uXbwHHfgsXcUKfSZw5ZJ0  \n",
       "2  7sKDftgGirHWTVFMtJoDoh  \n",
       "3  3e9HZxeyfWwjeyPAMmWSSQ  \n",
       "4  44n97yHySt0Z9rqPaXgjCK  "
      ]
     },
     "execution_count": 11,
     "metadata": {},
     "output_type": "execute_result"
    }
   ],
   "source": [
    "df_tracks_diff.head()"
   ]
  },
  {
   "cell_type": "code",
   "execution_count": 12,
   "metadata": {
    "ExecuteTime": {
     "end_time": "2019-06-25T08:50:36.239113Z",
     "start_time": "2019-06-25T08:50:34.257097Z"
    }
   },
   "outputs": [
    {
     "data": {
      "text/html": [
       "<div>\n",
       "<style scoped>\n",
       "    .dataframe tbody tr th:only-of-type {\n",
       "        vertical-align: middle;\n",
       "    }\n",
       "\n",
       "    .dataframe tbody tr th {\n",
       "        vertical-align: top;\n",
       "    }\n",
       "\n",
       "    .dataframe thead th {\n",
       "        text-align: right;\n",
       "    }\n",
       "</style>\n",
       "<table border=\"1\" class=\"dataframe\">\n",
       "  <thead>\n",
       "    <tr style=\"text-align: right;\">\n",
       "      <th></th>\n",
       "      <th>current_track-next_track</th>\n",
       "      <th>diff_acousticness</th>\n",
       "      <th>diff_danceability</th>\n",
       "      <th>diff_energy</th>\n",
       "      <th>diff_valence</th>\n",
       "      <th>diff_tempo</th>\n",
       "      <th>diff_instrumentalness</th>\n",
       "      <th>diff_key</th>\n",
       "      <th>diff_mode</th>\n",
       "      <th>diff_liveness</th>\n",
       "      <th>diff_loudness</th>\n",
       "      <th>diff_speechiness</th>\n",
       "      <th>is_good_sequence</th>\n",
       "      <th>current_track</th>\n",
       "      <th>next_track</th>\n",
       "    </tr>\n",
       "  </thead>\n",
       "  <tbody>\n",
       "    <tr>\n",
       "      <th>62</th>\n",
       "      <td>2nFAQBrEEHA7nvYgw6lpD0_7DHApOHsIFo7EyfieArYGE</td>\n",
       "      <td>0.3701</td>\n",
       "      <td>0.244</td>\n",
       "      <td>0.066</td>\n",
       "      <td>0.135</td>\n",
       "      <td>90.104</td>\n",
       "      <td>0.000000</td>\n",
       "      <td>10.0</td>\n",
       "      <td>1.0</td>\n",
       "      <td>0.0760</td>\n",
       "      <td>0.306</td>\n",
       "      <td>0.0985</td>\n",
       "      <td>1</td>\n",
       "      <td>2nFAQBrEEHA7nvYgw6lpD0</td>\n",
       "      <td>7DHApOHsIFo7EyfieArYGE</td>\n",
       "    </tr>\n",
       "    <tr>\n",
       "      <th>63</th>\n",
       "      <td>7DHApOHsIFo7EyfieArYGE_6xUy203RnyyOfbqf96Nven</td>\n",
       "      <td>0.1181</td>\n",
       "      <td>0.245</td>\n",
       "      <td>0.336</td>\n",
       "      <td>0.255</td>\n",
       "      <td>4.895</td>\n",
       "      <td>0.000000</td>\n",
       "      <td>6.0</td>\n",
       "      <td>1.0</td>\n",
       "      <td>0.0530</td>\n",
       "      <td>1.890</td>\n",
       "      <td>0.2375</td>\n",
       "      <td>1</td>\n",
       "      <td>7DHApOHsIFo7EyfieArYGE</td>\n",
       "      <td>6xUy203RnyyOfbqf96Nven</td>\n",
       "    </tr>\n",
       "    <tr>\n",
       "      <th>64</th>\n",
       "      <td>6xUy203RnyyOfbqf96Nven_5tAa8Uaqr4VvA3693mbIhU</td>\n",
       "      <td>0.2530</td>\n",
       "      <td>0.258</td>\n",
       "      <td>0.090</td>\n",
       "      <td>0.102</td>\n",
       "      <td>31.963</td>\n",
       "      <td>0.000000</td>\n",
       "      <td>4.0</td>\n",
       "      <td>1.0</td>\n",
       "      <td>0.0291</td>\n",
       "      <td>1.036</td>\n",
       "      <td>0.2242</td>\n",
       "      <td>1</td>\n",
       "      <td>6xUy203RnyyOfbqf96Nven</td>\n",
       "      <td>5tAa8Uaqr4VvA3693mbIhU</td>\n",
       "    </tr>\n",
       "    <tr>\n",
       "      <th>65</th>\n",
       "      <td>5tAa8Uaqr4VvA3693mbIhU_5N4erncE7kuUccm7zEmwzk</td>\n",
       "      <td>0.4126</td>\n",
       "      <td>0.077</td>\n",
       "      <td>0.029</td>\n",
       "      <td>0.080</td>\n",
       "      <td>6.737</td>\n",
       "      <td>0.000003</td>\n",
       "      <td>11.0</td>\n",
       "      <td>0.0</td>\n",
       "      <td>0.2411</td>\n",
       "      <td>1.174</td>\n",
       "      <td>0.0105</td>\n",
       "      <td>1</td>\n",
       "      <td>5tAa8Uaqr4VvA3693mbIhU</td>\n",
       "      <td>5N4erncE7kuUccm7zEmwzk</td>\n",
       "    </tr>\n",
       "    <tr>\n",
       "      <th>66</th>\n",
       "      <td>5N4erncE7kuUccm7zEmwzk_4oQQAaU8J9A3JckIuNYCTv</td>\n",
       "      <td>0.3696</td>\n",
       "      <td>0.009</td>\n",
       "      <td>0.071</td>\n",
       "      <td>0.316</td>\n",
       "      <td>26.704</td>\n",
       "      <td>0.000002</td>\n",
       "      <td>7.0</td>\n",
       "      <td>1.0</td>\n",
       "      <td>0.0990</td>\n",
       "      <td>2.345</td>\n",
       "      <td>0.0198</td>\n",
       "      <td>1</td>\n",
       "      <td>5N4erncE7kuUccm7zEmwzk</td>\n",
       "      <td>4oQQAaU8J9A3JckIuNYCTv</td>\n",
       "    </tr>\n",
       "  </tbody>\n",
       "</table>\n",
       "</div>"
      ],
      "text/plain": [
       "                         current_track-next_track  diff_acousticness  \\\n",
       "62  2nFAQBrEEHA7nvYgw6lpD0_7DHApOHsIFo7EyfieArYGE             0.3701   \n",
       "63  7DHApOHsIFo7EyfieArYGE_6xUy203RnyyOfbqf96Nven             0.1181   \n",
       "64  6xUy203RnyyOfbqf96Nven_5tAa8Uaqr4VvA3693mbIhU             0.2530   \n",
       "65  5tAa8Uaqr4VvA3693mbIhU_5N4erncE7kuUccm7zEmwzk             0.4126   \n",
       "66  5N4erncE7kuUccm7zEmwzk_4oQQAaU8J9A3JckIuNYCTv             0.3696   \n",
       "\n",
       "    diff_danceability  diff_energy  diff_valence  diff_tempo  \\\n",
       "62              0.244        0.066         0.135      90.104   \n",
       "63              0.245        0.336         0.255       4.895   \n",
       "64              0.258        0.090         0.102      31.963   \n",
       "65              0.077        0.029         0.080       6.737   \n",
       "66              0.009        0.071         0.316      26.704   \n",
       "\n",
       "    diff_instrumentalness  diff_key  diff_mode  diff_liveness  diff_loudness  \\\n",
       "62               0.000000      10.0        1.0         0.0760          0.306   \n",
       "63               0.000000       6.0        1.0         0.0530          1.890   \n",
       "64               0.000000       4.0        1.0         0.0291          1.036   \n",
       "65               0.000003      11.0        0.0         0.2411          1.174   \n",
       "66               0.000002       7.0        1.0         0.0990          2.345   \n",
       "\n",
       "    diff_speechiness  is_good_sequence           current_track  \\\n",
       "62            0.0985                 1  2nFAQBrEEHA7nvYgw6lpD0   \n",
       "63            0.2375                 1  7DHApOHsIFo7EyfieArYGE   \n",
       "64            0.2242                 1  6xUy203RnyyOfbqf96Nven   \n",
       "65            0.0105                 1  5tAa8Uaqr4VvA3693mbIhU   \n",
       "66            0.0198                 1  5N4erncE7kuUccm7zEmwzk   \n",
       "\n",
       "                next_track  \n",
       "62  7DHApOHsIFo7EyfieArYGE  \n",
       "63  6xUy203RnyyOfbqf96Nven  \n",
       "64  5tAa8Uaqr4VvA3693mbIhU  \n",
       "65  5N4erncE7kuUccm7zEmwzk  \n",
       "66  4oQQAaU8J9A3JckIuNYCTv  "
      ]
     },
     "execution_count": 12,
     "metadata": {},
     "output_type": "execute_result"
    }
   ],
   "source": [
    "# Keeping only the row with current_track and next_track within tracks_with_snippets\n",
    "\n",
    "df_diff_with_snippets = df_tracks_diff[df_tracks_diff['current_track'].isin(tracks_with_snippets)]\n",
    "df_diff_with_snippets = df_diff_with_snippets[df_diff_with_snippets['next_track'].isin(tracks_with_snippets)]\n",
    "df_diff_with_snippets.head()"
   ]
  },
  {
   "cell_type": "code",
   "execution_count": 13,
   "metadata": {
    "ExecuteTime": {
     "end_time": "2019-06-25T08:50:40.838521Z",
     "start_time": "2019-06-25T08:50:40.821656Z"
    }
   },
   "outputs": [
    {
     "data": {
      "text/plain": [
       "Index(['current_track-next_track', 'diff_acousticness', 'diff_danceability',\n",
       "       'diff_energy', 'diff_valence', 'diff_tempo', 'diff_instrumentalness',\n",
       "       'diff_key', 'diff_mode', 'diff_liveness', 'diff_loudness',\n",
       "       'diff_speechiness', 'is_good_sequence', 'current_track', 'next_track'],\n",
       "      dtype='object')"
      ]
     },
     "execution_count": 13,
     "metadata": {},
     "output_type": "execute_result"
    }
   ],
   "source": [
    "df_diff_with_snippets.columns"
   ]
  },
  {
   "cell_type": "code",
   "execution_count": 14,
   "metadata": {
    "ExecuteTime": {
     "end_time": "2019-06-25T08:50:45.663141Z",
     "start_time": "2019-06-25T08:50:45.567881Z"
    }
   },
   "outputs": [],
   "source": [
    "df_diff_with_snippets = df_diff_with_snippets[['current_track', 'next_track','current_track-next_track', 'diff_acousticness', 'diff_danceability',\n",
    "       'diff_energy', 'diff_valence', 'diff_tempo', 'diff_instrumentalness',\n",
    "       'diff_key', 'diff_mode', 'diff_liveness', 'diff_loudness',\n",
    "       'diff_speechiness', 'is_good_sequence']]"
   ]
  },
  {
   "cell_type": "code",
   "execution_count": 15,
   "metadata": {
    "ExecuteTime": {
     "end_time": "2019-06-25T08:50:50.308726Z",
     "start_time": "2019-06-25T08:50:50.291290Z"
    }
   },
   "outputs": [],
   "source": [
    "# save in .csv can do the 1st time to save time if you use the same information\n",
    "\n",
    "# df_diff_with_snippets.to_csv(creating_playlist_folder+\"df_diff_with_snippets_pop_\"+TodaysDate+\".csv\",index=0)"
   ]
  },
  {
   "cell_type": "code",
   "execution_count": 16,
   "metadata": {
    "ExecuteTime": {
     "end_time": "2019-06-25T08:50:54.930454Z",
     "start_time": "2019-06-25T08:50:54.912523Z"
    }
   },
   "outputs": [],
   "source": [
    "# load from file \n",
    "\n",
    "# df_diff_with_snippets = pd.read_csv(creating_playlist_folder+\"df_diff_with_snippets_pop_\"+TodaysDate+\".csv\")"
   ]
  },
  {
   "cell_type": "code",
   "execution_count": 17,
   "metadata": {
    "ExecuteTime": {
     "end_time": "2019-06-25T08:50:59.566989Z",
     "start_time": "2019-06-25T08:50:59.541691Z"
    }
   },
   "outputs": [
    {
     "data": {
      "text/html": [
       "<div>\n",
       "<style scoped>\n",
       "    .dataframe tbody tr th:only-of-type {\n",
       "        vertical-align: middle;\n",
       "    }\n",
       "\n",
       "    .dataframe tbody tr th {\n",
       "        vertical-align: top;\n",
       "    }\n",
       "\n",
       "    .dataframe thead th {\n",
       "        text-align: right;\n",
       "    }\n",
       "</style>\n",
       "<table border=\"1\" class=\"dataframe\">\n",
       "  <thead>\n",
       "    <tr style=\"text-align: right;\">\n",
       "      <th></th>\n",
       "      <th>current_track</th>\n",
       "      <th>next_track</th>\n",
       "      <th>current_track-next_track</th>\n",
       "      <th>diff_acousticness</th>\n",
       "      <th>diff_danceability</th>\n",
       "      <th>diff_energy</th>\n",
       "      <th>diff_valence</th>\n",
       "      <th>diff_tempo</th>\n",
       "      <th>diff_instrumentalness</th>\n",
       "      <th>diff_key</th>\n",
       "      <th>diff_mode</th>\n",
       "      <th>diff_liveness</th>\n",
       "      <th>diff_loudness</th>\n",
       "      <th>diff_speechiness</th>\n",
       "      <th>is_good_sequence</th>\n",
       "    </tr>\n",
       "  </thead>\n",
       "  <tbody>\n",
       "    <tr>\n",
       "      <th>62</th>\n",
       "      <td>2nFAQBrEEHA7nvYgw6lpD0</td>\n",
       "      <td>7DHApOHsIFo7EyfieArYGE</td>\n",
       "      <td>2nFAQBrEEHA7nvYgw6lpD0_7DHApOHsIFo7EyfieArYGE</td>\n",
       "      <td>0.3701</td>\n",
       "      <td>0.244</td>\n",
       "      <td>0.066</td>\n",
       "      <td>0.135</td>\n",
       "      <td>90.104</td>\n",
       "      <td>0.000000</td>\n",
       "      <td>10.0</td>\n",
       "      <td>1.0</td>\n",
       "      <td>0.0760</td>\n",
       "      <td>0.306</td>\n",
       "      <td>0.0985</td>\n",
       "      <td>1</td>\n",
       "    </tr>\n",
       "    <tr>\n",
       "      <th>63</th>\n",
       "      <td>7DHApOHsIFo7EyfieArYGE</td>\n",
       "      <td>6xUy203RnyyOfbqf96Nven</td>\n",
       "      <td>7DHApOHsIFo7EyfieArYGE_6xUy203RnyyOfbqf96Nven</td>\n",
       "      <td>0.1181</td>\n",
       "      <td>0.245</td>\n",
       "      <td>0.336</td>\n",
       "      <td>0.255</td>\n",
       "      <td>4.895</td>\n",
       "      <td>0.000000</td>\n",
       "      <td>6.0</td>\n",
       "      <td>1.0</td>\n",
       "      <td>0.0530</td>\n",
       "      <td>1.890</td>\n",
       "      <td>0.2375</td>\n",
       "      <td>1</td>\n",
       "    </tr>\n",
       "    <tr>\n",
       "      <th>64</th>\n",
       "      <td>6xUy203RnyyOfbqf96Nven</td>\n",
       "      <td>5tAa8Uaqr4VvA3693mbIhU</td>\n",
       "      <td>6xUy203RnyyOfbqf96Nven_5tAa8Uaqr4VvA3693mbIhU</td>\n",
       "      <td>0.2530</td>\n",
       "      <td>0.258</td>\n",
       "      <td>0.090</td>\n",
       "      <td>0.102</td>\n",
       "      <td>31.963</td>\n",
       "      <td>0.000000</td>\n",
       "      <td>4.0</td>\n",
       "      <td>1.0</td>\n",
       "      <td>0.0291</td>\n",
       "      <td>1.036</td>\n",
       "      <td>0.2242</td>\n",
       "      <td>1</td>\n",
       "    </tr>\n",
       "    <tr>\n",
       "      <th>65</th>\n",
       "      <td>5tAa8Uaqr4VvA3693mbIhU</td>\n",
       "      <td>5N4erncE7kuUccm7zEmwzk</td>\n",
       "      <td>5tAa8Uaqr4VvA3693mbIhU_5N4erncE7kuUccm7zEmwzk</td>\n",
       "      <td>0.4126</td>\n",
       "      <td>0.077</td>\n",
       "      <td>0.029</td>\n",
       "      <td>0.080</td>\n",
       "      <td>6.737</td>\n",
       "      <td>0.000003</td>\n",
       "      <td>11.0</td>\n",
       "      <td>0.0</td>\n",
       "      <td>0.2411</td>\n",
       "      <td>1.174</td>\n",
       "      <td>0.0105</td>\n",
       "      <td>1</td>\n",
       "    </tr>\n",
       "    <tr>\n",
       "      <th>66</th>\n",
       "      <td>5N4erncE7kuUccm7zEmwzk</td>\n",
       "      <td>4oQQAaU8J9A3JckIuNYCTv</td>\n",
       "      <td>5N4erncE7kuUccm7zEmwzk_4oQQAaU8J9A3JckIuNYCTv</td>\n",
       "      <td>0.3696</td>\n",
       "      <td>0.009</td>\n",
       "      <td>0.071</td>\n",
       "      <td>0.316</td>\n",
       "      <td>26.704</td>\n",
       "      <td>0.000002</td>\n",
       "      <td>7.0</td>\n",
       "      <td>1.0</td>\n",
       "      <td>0.0990</td>\n",
       "      <td>2.345</td>\n",
       "      <td>0.0198</td>\n",
       "      <td>1</td>\n",
       "    </tr>\n",
       "  </tbody>\n",
       "</table>\n",
       "</div>"
      ],
      "text/plain": [
       "             current_track              next_track  \\\n",
       "62  2nFAQBrEEHA7nvYgw6lpD0  7DHApOHsIFo7EyfieArYGE   \n",
       "63  7DHApOHsIFo7EyfieArYGE  6xUy203RnyyOfbqf96Nven   \n",
       "64  6xUy203RnyyOfbqf96Nven  5tAa8Uaqr4VvA3693mbIhU   \n",
       "65  5tAa8Uaqr4VvA3693mbIhU  5N4erncE7kuUccm7zEmwzk   \n",
       "66  5N4erncE7kuUccm7zEmwzk  4oQQAaU8J9A3JckIuNYCTv   \n",
       "\n",
       "                         current_track-next_track  diff_acousticness  \\\n",
       "62  2nFAQBrEEHA7nvYgw6lpD0_7DHApOHsIFo7EyfieArYGE             0.3701   \n",
       "63  7DHApOHsIFo7EyfieArYGE_6xUy203RnyyOfbqf96Nven             0.1181   \n",
       "64  6xUy203RnyyOfbqf96Nven_5tAa8Uaqr4VvA3693mbIhU             0.2530   \n",
       "65  5tAa8Uaqr4VvA3693mbIhU_5N4erncE7kuUccm7zEmwzk             0.4126   \n",
       "66  5N4erncE7kuUccm7zEmwzk_4oQQAaU8J9A3JckIuNYCTv             0.3696   \n",
       "\n",
       "    diff_danceability  diff_energy  diff_valence  diff_tempo  \\\n",
       "62              0.244        0.066         0.135      90.104   \n",
       "63              0.245        0.336         0.255       4.895   \n",
       "64              0.258        0.090         0.102      31.963   \n",
       "65              0.077        0.029         0.080       6.737   \n",
       "66              0.009        0.071         0.316      26.704   \n",
       "\n",
       "    diff_instrumentalness  diff_key  diff_mode  diff_liveness  diff_loudness  \\\n",
       "62               0.000000      10.0        1.0         0.0760          0.306   \n",
       "63               0.000000       6.0        1.0         0.0530          1.890   \n",
       "64               0.000000       4.0        1.0         0.0291          1.036   \n",
       "65               0.000003      11.0        0.0         0.2411          1.174   \n",
       "66               0.000002       7.0        1.0         0.0990          2.345   \n",
       "\n",
       "    diff_speechiness  is_good_sequence  \n",
       "62            0.0985                 1  \n",
       "63            0.2375                 1  \n",
       "64            0.2242                 1  \n",
       "65            0.0105                 1  \n",
       "66            0.0198                 1  "
      ]
     },
     "execution_count": 17,
     "metadata": {},
     "output_type": "execute_result"
    }
   ],
   "source": [
    "df_diff_with_snippets.head()"
   ]
  },
  {
   "cell_type": "code",
   "execution_count": 18,
   "metadata": {
    "ExecuteTime": {
     "end_time": "2019-06-25T08:51:16.197015Z",
     "start_time": "2019-06-25T08:51:15.878614Z"
    },
    "scrolled": true
   },
   "outputs": [
    {
     "name": "stdout",
     "output_type": "stream",
     "text": [
      "<class 'pandas.core.frame.DataFrame'>\n",
      "Int64Index: 749090 entries, 62 to 6054028\n",
      "Data columns (total 15 columns):\n",
      "current_track               749090 non-null object\n",
      "next_track                  749090 non-null object\n",
      "current_track-next_track    749090 non-null object\n",
      "diff_acousticness           749090 non-null float64\n",
      "diff_danceability           749090 non-null float64\n",
      "diff_energy                 749090 non-null float64\n",
      "diff_valence                749090 non-null float64\n",
      "diff_tempo                  749090 non-null float64\n",
      "diff_instrumentalness       749090 non-null float64\n",
      "diff_key                    749090 non-null float64\n",
      "diff_mode                   749090 non-null float64\n",
      "diff_liveness               749090 non-null float64\n",
      "diff_loudness               749090 non-null float64\n",
      "diff_speechiness            749090 non-null float64\n",
      "is_good_sequence            749090 non-null int64\n",
      "dtypes: float64(11), int64(1), object(3)\n",
      "memory usage: 91.4+ MB\n"
     ]
    }
   ],
   "source": [
    "df_diff_with_snippets.info(null_counts = True)"
   ]
  },
  {
   "cell_type": "code",
   "execution_count": 19,
   "metadata": {
    "ExecuteTime": {
     "end_time": "2019-06-25T08:51:20.928387Z",
     "start_time": "2019-06-25T08:51:20.840567Z"
    }
   },
   "outputs": [
    {
     "data": {
      "text/plain": [
       "866"
      ]
     },
     "execution_count": 19,
     "metadata": {},
     "output_type": "execute_result"
    }
   ],
   "source": [
    "len(df_diff_with_snippets.current_track.unique())"
   ]
  },
  {
   "cell_type": "markdown",
   "metadata": {},
   "source": [
    "# Create initial distance dataframe with audio features information for category pop\n",
    "\n",
    "Further the Euclidian distance between tracks and also between the midpoint of 2 tracks and the median are calculated after filtering with conditions for each playlist to reduce computational use."
   ]
  },
  {
   "cell_type": "code",
   "execution_count": 20,
   "metadata": {
    "ExecuteTime": {
     "end_time": "2019-06-25T08:52:43.942193Z",
     "start_time": "2019-06-25T08:52:43.879724Z"
    }
   },
   "outputs": [],
   "source": [
    "df_distance = df_diff_with_snippets[['current_track-next_track','current_track', 'next_track']]"
   ]
  },
  {
   "cell_type": "code",
   "execution_count": 21,
   "metadata": {
    "ExecuteTime": {
     "end_time": "2019-06-25T08:52:53.954517Z",
     "start_time": "2019-06-25T08:52:48.609057Z"
    }
   },
   "outputs": [],
   "source": [
    "df_tracks = pd.read_csv(creating_playlist_folder+tracks_file_clean)"
   ]
  },
  {
   "cell_type": "code",
   "execution_count": 22,
   "metadata": {
    "ExecuteTime": {
     "end_time": "2019-06-25T08:52:59.252826Z",
     "start_time": "2019-06-25T08:52:58.703607Z"
    }
   },
   "outputs": [
    {
     "name": "stderr",
     "output_type": "stream",
     "text": [
      "C:\\Users\\s178288\\AppData\\Local\\Continuum\\anaconda3\\lib\\site-packages\\ipykernel_launcher.py:1: SettingWithCopyWarning: \n",
      "A value is trying to be set on a copy of a slice from a DataFrame.\n",
      "Try using .loc[row_indexer,col_indexer] = value instead\n",
      "\n",
      "See the caveats in the documentation: http://pandas.pydata.org/pandas-docs/stable/indexing.html#indexing-view-versus-copy\n",
      "  \"\"\"Entry point for launching an IPython kernel.\n",
      "C:\\Users\\s178288\\AppData\\Local\\Continuum\\anaconda3\\lib\\site-packages\\ipykernel_launcher.py:2: SettingWithCopyWarning: \n",
      "A value is trying to be set on a copy of a slice from a DataFrame.\n",
      "Try using .loc[row_indexer,col_indexer] = value instead\n",
      "\n",
      "See the caveats in the documentation: http://pandas.pydata.org/pandas-docs/stable/indexing.html#indexing-view-versus-copy\n",
      "  \n",
      "C:\\Users\\s178288\\AppData\\Local\\Continuum\\anaconda3\\lib\\site-packages\\ipykernel_launcher.py:3: SettingWithCopyWarning: \n",
      "A value is trying to be set on a copy of a slice from a DataFrame.\n",
      "Try using .loc[row_indexer,col_indexer] = value instead\n",
      "\n",
      "See the caveats in the documentation: http://pandas.pydata.org/pandas-docs/stable/indexing.html#indexing-view-versus-copy\n",
      "  This is separate from the ipykernel package so we can avoid doing imports until\n"
     ]
    }
   ],
   "source": [
    "df_distance['energy_median'] = df_tracks['energy'].describe()['50%']\n",
    "df_distance['valence_median'] = df_tracks['valence'].describe()['50%']\n",
    "df_distance['tempo_median'] = df_tracks['tempo'].describe()['50%']"
   ]
  },
  {
   "cell_type": "code",
   "execution_count": 23,
   "metadata": {
    "ExecuteTime": {
     "end_time": "2019-06-25T08:53:06.493962Z",
     "start_time": "2019-06-25T08:53:06.228540Z"
    }
   },
   "outputs": [],
   "source": [
    "df_distance = df_distance.merge(df_tracks[['track_id', 'energy','valence','tempo']], left_on = 'current_track', right_on = 'track_id', how = 'left')"
   ]
  },
  {
   "cell_type": "code",
   "execution_count": 24,
   "metadata": {
    "ExecuteTime": {
     "end_time": "2019-06-25T08:53:11.551714Z",
     "start_time": "2019-06-25T08:53:11.242097Z"
    }
   },
   "outputs": [],
   "source": [
    "df_distance.drop(columns = ['track_id'],inplace = True)"
   ]
  },
  {
   "cell_type": "code",
   "execution_count": 25,
   "metadata": {
    "ExecuteTime": {
     "end_time": "2019-06-25T08:53:16.580049Z",
     "start_time": "2019-06-25T08:53:16.478370Z"
    }
   },
   "outputs": [],
   "source": [
    "# ct : current_track\n",
    "\n",
    "df_distance.rename(columns = {'energy':'energy_ct', 'valence':'valence_ct',\n",
    "       'tempo':'tempo_ct'},inplace = True)"
   ]
  },
  {
   "cell_type": "code",
   "execution_count": 26,
   "metadata": {
    "ExecuteTime": {
     "end_time": "2019-06-25T08:53:21.588973Z",
     "start_time": "2019-06-25T08:53:21.307172Z"
    }
   },
   "outputs": [],
   "source": [
    "df_distance = df_distance.merge(df_tracks[['track_id', 'energy','valence','tempo']], left_on = 'next_track', right_on = 'track_id', how = 'left')"
   ]
  },
  {
   "cell_type": "code",
   "execution_count": 27,
   "metadata": {
    "ExecuteTime": {
     "end_time": "2019-06-25T08:53:26.582662Z",
     "start_time": "2019-06-25T08:53:26.248324Z"
    }
   },
   "outputs": [],
   "source": [
    "df_distance.drop(columns = ['track_id'],inplace = True)"
   ]
  },
  {
   "cell_type": "code",
   "execution_count": 28,
   "metadata": {
    "ExecuteTime": {
     "end_time": "2019-06-25T08:53:31.360136Z",
     "start_time": "2019-06-25T08:53:31.246550Z"
    }
   },
   "outputs": [],
   "source": [
    "# nt = next_track\n",
    "\n",
    "df_distance.rename(columns = {'energy':'energy_nt', 'valence':'valence_nt',\n",
    "       'tempo':'tempo_nt'},inplace = True)"
   ]
  },
  {
   "cell_type": "code",
   "execution_count": 29,
   "metadata": {
    "ExecuteTime": {
     "end_time": "2019-06-25T08:53:36.273357Z",
     "start_time": "2019-06-25T08:53:36.129640Z"
    }
   },
   "outputs": [],
   "source": [
    "# Calculating coordenates of the middle point of 2 tracks\n",
    "df_distance['energy_mid_pont'] = (df_distance['energy_ct']+df_distance['energy_nt'])/2\n",
    "df_distance['valence_mid_pont'] = (df_distance['valence_ct']+df_distance['valence_nt'])/2\n",
    "df_distance['tempo_mid_pont'] = (df_distance['tempo_ct']+df_distance['tempo_nt'])/2"
   ]
  },
  {
   "cell_type": "code",
   "execution_count": 30,
   "metadata": {
    "ExecuteTime": {
     "end_time": "2019-06-25T08:53:41.832037Z",
     "start_time": "2019-06-25T08:53:41.029433Z"
    }
   },
   "outputs": [],
   "source": [
    "# merge energy, valence, and tempo from df_diff_with_snippets \n",
    "\n",
    "df_distance = df_distance.merge(df_diff_with_snippets[['current_track-next_track', 'diff_energy','diff_valence','diff_tempo']], left_on = 'current_track-next_track', right_on = 'current_track-next_track', how = 'left')\n"
   ]
  },
  {
   "cell_type": "code",
   "execution_count": 31,
   "metadata": {
    "ExecuteTime": {
     "end_time": "2019-06-25T08:54:25.710864Z",
     "start_time": "2019-06-25T08:54:25.707888Z"
    }
   },
   "outputs": [],
   "source": [
    "# save in csv\n",
    "\n",
    "# df_distance.to_csv(creating_playlist_folder+\"distance_pop_\"+TodaysDate+\".csv\",index=0)"
   ]
  },
  {
   "cell_type": "code",
   "execution_count": 34,
   "metadata": {
    "ExecuteTime": {
     "end_time": "2019-06-25T08:56:31.760710Z",
     "start_time": "2019-06-25T08:56:31.758229Z"
    }
   },
   "outputs": [],
   "source": [
    "# checking\n",
    "# df = pd.read_csv(creating_playlist_folder+\"distance_pop_\"+TodaysDate+\".csv\")\n",
    "# df.head()"
   ]
  },
  {
   "cell_type": "code",
   "execution_count": 35,
   "metadata": {
    "ExecuteTime": {
     "end_time": "2019-06-25T08:56:37.601605Z",
     "start_time": "2019-06-25T08:56:37.598162Z"
    }
   },
   "outputs": [],
   "source": [
    "# del df"
   ]
  },
  {
   "cell_type": "markdown",
   "metadata": {},
   "source": [
    "# Calculating Percentailes and Outliers\n",
    "\n",
    "They are calculated on the values of absolute difference of audio features of tracks that occurs in the category. Only for energy, valence, and tempo that are the features of interesse.\n"
   ]
  },
  {
   "cell_type": "code",
   "execution_count": 36,
   "metadata": {
    "ExecuteTime": {
     "end_time": "2019-06-25T08:56:47.435180Z",
     "start_time": "2019-06-25T08:56:47.023769Z"
    }
   },
   "outputs": [],
   "source": [
    "df_diff_in_playlists = pd.read_csv(creating_playlist_folder+diff_in_playlists)"
   ]
  },
  {
   "cell_type": "markdown",
   "metadata": {},
   "source": [
    "## Percentailes"
   ]
  },
  {
   "cell_type": "code",
   "execution_count": 37,
   "metadata": {
    "ExecuteTime": {
     "end_time": "2019-06-25T08:56:52.280037Z",
     "start_time": "2019-06-25T08:56:52.276567Z"
    }
   },
   "outputs": [],
   "source": [
    "percentailes = [idx for idx in frange(0.0,1,0.05)]"
   ]
  },
  {
   "cell_type": "code",
   "execution_count": 38,
   "metadata": {
    "ExecuteTime": {
     "end_time": "2019-06-25T08:56:57.122018Z",
     "start_time": "2019-06-25T08:56:57.097686Z"
    }
   },
   "outputs": [
    {
     "data": {
      "text/html": [
       "<div>\n",
       "<style scoped>\n",
       "    .dataframe tbody tr th:only-of-type {\n",
       "        vertical-align: middle;\n",
       "    }\n",
       "\n",
       "    .dataframe tbody tr th {\n",
       "        vertical-align: top;\n",
       "    }\n",
       "\n",
       "    .dataframe thead th {\n",
       "        text-align: right;\n",
       "    }\n",
       "</style>\n",
       "<table border=\"1\" class=\"dataframe\">\n",
       "  <thead>\n",
       "    <tr style=\"text-align: right;\">\n",
       "      <th></th>\n",
       "      <th>diff_energy</th>\n",
       "      <th>diff_valence</th>\n",
       "      <th>diff_tempo</th>\n",
       "    </tr>\n",
       "  </thead>\n",
       "  <tbody>\n",
       "    <tr>\n",
       "      <th>0.00</th>\n",
       "      <td>0.00000</td>\n",
       "      <td>0.000000</td>\n",
       "      <td>0.00000</td>\n",
       "    </tr>\n",
       "    <tr>\n",
       "      <th>0.05</th>\n",
       "      <td>0.01325</td>\n",
       "      <td>0.019000</td>\n",
       "      <td>1.94700</td>\n",
       "    </tr>\n",
       "    <tr>\n",
       "      <th>0.10</th>\n",
       "      <td>0.02500</td>\n",
       "      <td>0.041000</td>\n",
       "      <td>3.99950</td>\n",
       "    </tr>\n",
       "    <tr>\n",
       "      <th>0.15</th>\n",
       "      <td>0.03800</td>\n",
       "      <td>0.059000</td>\n",
       "      <td>6.00125</td>\n",
       "    </tr>\n",
       "    <tr>\n",
       "      <th>0.20</th>\n",
       "      <td>0.05100</td>\n",
       "      <td>0.079000</td>\n",
       "      <td>8.44700</td>\n",
       "    </tr>\n",
       "    <tr>\n",
       "      <th>0.25</th>\n",
       "      <td>0.06500</td>\n",
       "      <td>0.096000</td>\n",
       "      <td>10.89000</td>\n",
       "    </tr>\n",
       "    <tr>\n",
       "      <th>0.30</th>\n",
       "      <td>0.07900</td>\n",
       "      <td>0.117000</td>\n",
       "      <td>13.42400</td>\n",
       "    </tr>\n",
       "    <tr>\n",
       "      <th>0.35</th>\n",
       "      <td>0.09400</td>\n",
       "      <td>0.140000</td>\n",
       "      <td>15.92250</td>\n",
       "    </tr>\n",
       "    <tr>\n",
       "      <th>0.40</th>\n",
       "      <td>0.11100</td>\n",
       "      <td>0.161000</td>\n",
       "      <td>18.43000</td>\n",
       "    </tr>\n",
       "    <tr>\n",
       "      <th>0.45</th>\n",
       "      <td>0.12600</td>\n",
       "      <td>0.184000</td>\n",
       "      <td>21.86450</td>\n",
       "    </tr>\n",
       "    <tr>\n",
       "      <th>0.50</th>\n",
       "      <td>0.14300</td>\n",
       "      <td>0.207000</td>\n",
       "      <td>24.57900</td>\n",
       "    </tr>\n",
       "    <tr>\n",
       "      <th>0.55</th>\n",
       "      <td>0.16100</td>\n",
       "      <td>0.229000</td>\n",
       "      <td>27.93575</td>\n",
       "    </tr>\n",
       "    <tr>\n",
       "      <th>0.60</th>\n",
       "      <td>0.18100</td>\n",
       "      <td>0.256000</td>\n",
       "      <td>31.75800</td>\n",
       "    </tr>\n",
       "    <tr>\n",
       "      <th>0.65</th>\n",
       "      <td>0.20000</td>\n",
       "      <td>0.281000</td>\n",
       "      <td>35.11225</td>\n",
       "    </tr>\n",
       "    <tr>\n",
       "      <th>0.70</th>\n",
       "      <td>0.22250</td>\n",
       "      <td>0.312500</td>\n",
       "      <td>39.98700</td>\n",
       "    </tr>\n",
       "    <tr>\n",
       "      <th>0.75</th>\n",
       "      <td>0.25100</td>\n",
       "      <td>0.349000</td>\n",
       "      <td>44.95950</td>\n",
       "    </tr>\n",
       "    <tr>\n",
       "      <th>0.80</th>\n",
       "      <td>0.28300</td>\n",
       "      <td>0.387000</td>\n",
       "      <td>51.45900</td>\n",
       "    </tr>\n",
       "    <tr>\n",
       "      <th>0.85</th>\n",
       "      <td>0.31925</td>\n",
       "      <td>0.435000</td>\n",
       "      <td>58.75650</td>\n",
       "    </tr>\n",
       "    <tr>\n",
       "      <th>0.90</th>\n",
       "      <td>0.36700</td>\n",
       "      <td>0.493000</td>\n",
       "      <td>67.74350</td>\n",
       "    </tr>\n",
       "    <tr>\n",
       "      <th>0.95</th>\n",
       "      <td>0.44375</td>\n",
       "      <td>0.580825</td>\n",
       "      <td>79.22925</td>\n",
       "    </tr>\n",
       "  </tbody>\n",
       "</table>\n",
       "</div>"
      ],
      "text/plain": [
       "      diff_energy  diff_valence  diff_tempo\n",
       "0.00      0.00000      0.000000     0.00000\n",
       "0.05      0.01325      0.019000     1.94700\n",
       "0.10      0.02500      0.041000     3.99950\n",
       "0.15      0.03800      0.059000     6.00125\n",
       "0.20      0.05100      0.079000     8.44700\n",
       "0.25      0.06500      0.096000    10.89000\n",
       "0.30      0.07900      0.117000    13.42400\n",
       "0.35      0.09400      0.140000    15.92250\n",
       "0.40      0.11100      0.161000    18.43000\n",
       "0.45      0.12600      0.184000    21.86450\n",
       "0.50      0.14300      0.207000    24.57900\n",
       "0.55      0.16100      0.229000    27.93575\n",
       "0.60      0.18100      0.256000    31.75800\n",
       "0.65      0.20000      0.281000    35.11225\n",
       "0.70      0.22250      0.312500    39.98700\n",
       "0.75      0.25100      0.349000    44.95950\n",
       "0.80      0.28300      0.387000    51.45900\n",
       "0.85      0.31925      0.435000    58.75650\n",
       "0.90      0.36700      0.493000    67.74350\n",
       "0.95      0.44375      0.580825    79.22925"
      ]
     },
     "execution_count": 38,
     "metadata": {},
     "output_type": "execute_result"
    }
   ],
   "source": [
    "df_percentailes = df_diff_in_playlists[['diff_energy','diff_valence','diff_tempo']].quantile(percentailes, axis = 0)\n",
    "df_percentailes"
   ]
  },
  {
   "cell_type": "markdown",
   "metadata": {},
   "source": [
    "## Outliers"
   ]
  },
  {
   "cell_type": "code",
   "execution_count": 39,
   "metadata": {
    "ExecuteTime": {
     "end_time": "2019-06-25T08:57:06.081452Z",
     "start_time": "2019-06-25T08:57:06.066572Z"
    }
   },
   "outputs": [
    {
     "name": "stdout",
     "output_type": "stream",
     "text": [
      "Energy: outliers above 0.5299999999999998\n",
      "Valence: outliers above 0.7284999999999999\n",
      "Tempo: outliers above 96.06375000000003\n"
     ]
    }
   ],
   "source": [
    "from scipy.stats import iqr\n",
    "\n",
    "iqr_energy = iqr(df_diff_in_playlists['diff_energy'], axis=0)\n",
    "\n",
    "out_energy_tracks_diff_in_playlists = df_diff_in_playlists['diff_energy'].describe()['75%']+1.5*iqr_energy\n",
    "print(\"Energy: outliers above\", out_energy_tracks_diff_in_playlists)\n",
    "\n",
    "iqr_valence = iqr(df_diff_in_playlists['diff_valence'], axis=0)\n",
    "\n",
    "out_valence_tracks_diff_in_playlists = df_diff_in_playlists['diff_valence'].describe()['75%']+1.5*iqr_valence\n",
    "print(\"Valence: outliers above\", out_valence_tracks_diff_in_playlists)\n",
    "\n",
    "iqr_tempo = iqr(df_diff_in_playlists['diff_tempo'], axis=0)\n",
    "out_tempo_tracks_diff_in_playlists = df_diff_in_playlists['diff_tempo'].describe()['75%']+1.5*iqr_tempo\n",
    "print(\"Tempo: outliers above\", out_tempo_tracks_diff_in_playlists)"
   ]
  },
  {
   "cell_type": "markdown",
   "metadata": {},
   "source": [
    "# Generating csv with distances for Playlists"
   ]
  },
  {
   "cell_type": "markdown",
   "metadata": {},
   "source": [
    "## Distances to be used by playlist 4 - 'low' energy/valence & 'low' tempo with low percentaille onder 20%"
   ]
  },
  {
   "cell_type": "markdown",
   "metadata": {},
   "source": [
    "Previous analysis made us choose for low percentaile 20% and for high above 90%."
   ]
  },
  {
   "cell_type": "markdown",
   "metadata": {},
   "source": [
    "### Filtering (le, lv, lt)\n",
    "\n",
    "From the 2-track sequences that have snippets sequences with low absolute difference in energy, valence, and tempo are chosen."
   ]
  },
  {
   "cell_type": "code",
   "execution_count": 40,
   "metadata": {
    "ExecuteTime": {
     "end_time": "2019-06-25T08:58:38.046148Z",
     "start_time": "2019-06-25T08:58:38.041216Z"
    }
   },
   "outputs": [
    {
     "name": "stdout",
     "output_type": "stream",
     "text": [
      "0.05 0.08 8.45\n"
     ]
    }
   ],
   "source": [
    "le = round(df_percentailes['diff_energy'][0.20],2)\n",
    "lv = round(df_percentailes['diff_valence'][0.20],2)\n",
    "lt = round(df_percentailes['diff_tempo'][0.20],2)\n",
    "print(le,lv,lt)"
   ]
  },
  {
   "cell_type": "code",
   "execution_count": 41,
   "metadata": {
    "ExecuteTime": {
     "end_time": "2019-06-25T08:58:46.098763Z",
     "start_time": "2019-06-25T08:58:46.066495Z"
    }
   },
   "outputs": [
    {
     "data": {
      "text/html": [
       "<div>\n",
       "<style scoped>\n",
       "    .dataframe tbody tr th:only-of-type {\n",
       "        vertical-align: middle;\n",
       "    }\n",
       "\n",
       "    .dataframe tbody tr th {\n",
       "        vertical-align: top;\n",
       "    }\n",
       "\n",
       "    .dataframe thead th {\n",
       "        text-align: right;\n",
       "    }\n",
       "</style>\n",
       "<table border=\"1\" class=\"dataframe\">\n",
       "  <thead>\n",
       "    <tr style=\"text-align: right;\">\n",
       "      <th></th>\n",
       "      <th>current_track-next_track</th>\n",
       "      <th>diff_energy</th>\n",
       "      <th>diff_valence</th>\n",
       "      <th>diff_tempo</th>\n",
       "    </tr>\n",
       "  </thead>\n",
       "  <tbody>\n",
       "    <tr>\n",
       "      <th>0</th>\n",
       "      <td>2nFAQBrEEHA7nvYgw6lpD0_5vlTxb7BP5DWzpw8RgnzxR</td>\n",
       "      <td>0.0</td>\n",
       "      <td>0.0</td>\n",
       "      <td>0.0</td>\n",
       "    </tr>\n",
       "    <tr>\n",
       "      <th>1</th>\n",
       "      <td>78nplE9X2ZGvQh3TKgvldE_7FlHNJT4TC120CDvFOHzei</td>\n",
       "      <td>0.0</td>\n",
       "      <td>0.0</td>\n",
       "      <td>0.0</td>\n",
       "    </tr>\n",
       "    <tr>\n",
       "      <th>2</th>\n",
       "      <td>6xtcFXSo8H9BZN637BMVKS_5Fla3zyOCcIRqrDoKLU0DP</td>\n",
       "      <td>0.0</td>\n",
       "      <td>0.0</td>\n",
       "      <td>0.0</td>\n",
       "    </tr>\n",
       "    <tr>\n",
       "      <th>3</th>\n",
       "      <td>5vlTxb7BP5DWzpw8RgnzxR_2nFAQBrEEHA7nvYgw6lpD0</td>\n",
       "      <td>0.0</td>\n",
       "      <td>0.0</td>\n",
       "      <td>0.0</td>\n",
       "    </tr>\n",
       "    <tr>\n",
       "      <th>4</th>\n",
       "      <td>39IsH7B5byx8NRlEKlZVg9_1NDxZ7cFAo481dtYWdrUnR</td>\n",
       "      <td>0.0</td>\n",
       "      <td>0.0</td>\n",
       "      <td>0.0</td>\n",
       "    </tr>\n",
       "  </tbody>\n",
       "</table>\n",
       "</div>"
      ],
      "text/plain": [
       "                        current_track-next_track  diff_energy  diff_valence  \\\n",
       "0  2nFAQBrEEHA7nvYgw6lpD0_5vlTxb7BP5DWzpw8RgnzxR          0.0           0.0   \n",
       "1  78nplE9X2ZGvQh3TKgvldE_7FlHNJT4TC120CDvFOHzei          0.0           0.0   \n",
       "2  6xtcFXSo8H9BZN637BMVKS_5Fla3zyOCcIRqrDoKLU0DP          0.0           0.0   \n",
       "3  5vlTxb7BP5DWzpw8RgnzxR_2nFAQBrEEHA7nvYgw6lpD0          0.0           0.0   \n",
       "4  39IsH7B5byx8NRlEKlZVg9_1NDxZ7cFAo481dtYWdrUnR          0.0           0.0   \n",
       "\n",
       "   diff_tempo  \n",
       "0         0.0  \n",
       "1         0.0  \n",
       "2         0.0  \n",
       "3         0.0  \n",
       "4         0.0  "
      ]
     },
     "execution_count": 41,
     "metadata": {},
     "output_type": "execute_result"
    }
   ],
   "source": [
    "df_diff_low_low = df_diff_with_snippets[(df_diff_with_snippets['diff_energy'] <= le) & (df_diff_with_snippets['diff_valence'] <= lv) \n",
    "                                        & (df_diff_with_snippets['diff_tempo'] <= lt)][['current_track-next_track','diff_energy','diff_valence','diff_tempo']].sort_values(by=['diff_tempo','diff_valence','diff_energy'])\n",
    "\n",
    "df_diff_low_low.reset_index(drop=True,inplace=True)\n",
    "df_diff_low_low.head()"
   ]
  },
  {
   "cell_type": "code",
   "execution_count": 42,
   "metadata": {
    "ExecuteTime": {
     "end_time": "2019-06-25T08:58:50.964994Z",
     "start_time": "2019-06-25T08:58:50.960032Z"
    }
   },
   "outputs": [
    {
     "data": {
      "text/plain": [
       "(4530, 4)"
      ]
     },
     "execution_count": 42,
     "metadata": {},
     "output_type": "execute_result"
    }
   ],
   "source": [
    "df_diff_low_low.shape"
   ]
  },
  {
   "cell_type": "code",
   "execution_count": 43,
   "metadata": {
    "ExecuteTime": {
     "end_time": "2019-06-25T08:58:55.842658Z",
     "start_time": "2019-06-25T08:58:55.835714Z"
    }
   },
   "outputs": [
    {
     "data": {
      "text/plain": [
       "diff_energy     0.050\n",
       "diff_valence    0.080\n",
       "diff_tempo      8.427\n",
       "dtype: float64"
      ]
     },
     "execution_count": 43,
     "metadata": {},
     "output_type": "execute_result"
    }
   ],
   "source": [
    "df_diff_low_low[['diff_energy','diff_valence','diff_tempo']].max()"
   ]
  },
  {
   "cell_type": "code",
   "execution_count": 44,
   "metadata": {
    "ExecuteTime": {
     "end_time": "2019-06-25T08:59:00.710936Z",
     "start_time": "2019-06-25T08:59:00.704951Z"
    }
   },
   "outputs": [],
   "source": [
    "list_low_low_current_next_track = df_diff_low_low[\"current_track-next_track\"].tolist()"
   ]
  },
  {
   "cell_type": "code",
   "execution_count": 45,
   "metadata": {
    "ExecuteTime": {
     "end_time": "2019-06-25T08:59:05.780513Z",
     "start_time": "2019-06-25T08:59:05.571700Z"
    }
   },
   "outputs": [],
   "source": [
    "# df_distance only with pairs considering the low low restriction\n",
    "df_distance_low_low = df_distance[df_distance[\"current_track-next_track\"].isin(list_low_low_current_next_track)]"
   ]
  },
  {
   "cell_type": "code",
   "execution_count": 46,
   "metadata": {
    "ExecuteTime": {
     "end_time": "2019-06-25T08:59:10.624948Z",
     "start_time": "2019-06-25T08:59:10.619491Z"
    }
   },
   "outputs": [
    {
     "data": {
      "text/plain": [
       "(4530, 18)"
      ]
     },
     "execution_count": 46,
     "metadata": {},
     "output_type": "execute_result"
    }
   ],
   "source": [
    "df_distance_low_low.shape"
   ]
  },
  {
   "cell_type": "code",
   "execution_count": 47,
   "metadata": {
    "ExecuteTime": {
     "end_time": "2019-06-25T08:59:15.609751Z",
     "start_time": "2019-06-25T08:59:15.605808Z"
    }
   },
   "outputs": [],
   "source": [
    "df_distance_low_low.reset_index(drop=True, inplace=True)"
   ]
  },
  {
   "cell_type": "code",
   "execution_count": 48,
   "metadata": {
    "ExecuteTime": {
     "end_time": "2019-06-25T08:59:20.532082Z",
     "start_time": "2019-06-25T08:59:20.507749Z"
    }
   },
   "outputs": [
    {
     "data": {
      "text/html": [
       "<div>\n",
       "<style scoped>\n",
       "    .dataframe tbody tr th:only-of-type {\n",
       "        vertical-align: middle;\n",
       "    }\n",
       "\n",
       "    .dataframe tbody tr th {\n",
       "        vertical-align: top;\n",
       "    }\n",
       "\n",
       "    .dataframe thead th {\n",
       "        text-align: right;\n",
       "    }\n",
       "</style>\n",
       "<table border=\"1\" class=\"dataframe\">\n",
       "  <thead>\n",
       "    <tr style=\"text-align: right;\">\n",
       "      <th></th>\n",
       "      <th>current_track-next_track</th>\n",
       "      <th>current_track</th>\n",
       "      <th>next_track</th>\n",
       "      <th>energy_median</th>\n",
       "      <th>valence_median</th>\n",
       "      <th>tempo_median</th>\n",
       "      <th>energy_ct</th>\n",
       "      <th>valence_ct</th>\n",
       "      <th>tempo_ct</th>\n",
       "      <th>energy_nt</th>\n",
       "      <th>valence_nt</th>\n",
       "      <th>tempo_nt</th>\n",
       "      <th>energy_mid_pont</th>\n",
       "      <th>valence_mid_pont</th>\n",
       "      <th>tempo_mid_pont</th>\n",
       "      <th>diff_energy</th>\n",
       "      <th>diff_valence</th>\n",
       "      <th>diff_tempo</th>\n",
       "    </tr>\n",
       "  </thead>\n",
       "  <tbody>\n",
       "    <tr>\n",
       "      <th>0</th>\n",
       "      <td>5tAa8Uaqr4VvA3693mbIhU_5N4erncE7kuUccm7zEmwzk</td>\n",
       "      <td>5tAa8Uaqr4VvA3693mbIhU</td>\n",
       "      <td>5N4erncE7kuUccm7zEmwzk</td>\n",
       "      <td>0.642</td>\n",
       "      <td>0.487</td>\n",
       "      <td>113.815</td>\n",
       "      <td>0.699</td>\n",
       "      <td>0.585</td>\n",
       "      <td>124.896</td>\n",
       "      <td>0.670</td>\n",
       "      <td>0.505</td>\n",
       "      <td>118.159</td>\n",
       "      <td>0.6845</td>\n",
       "      <td>0.5450</td>\n",
       "      <td>121.5275</td>\n",
       "      <td>0.029</td>\n",
       "      <td>0.080</td>\n",
       "      <td>6.737</td>\n",
       "    </tr>\n",
       "    <tr>\n",
       "      <th>1</th>\n",
       "      <td>7AkLPOwjju8taQCJCaIUts_1c3ugaImroUqbpKZX9SxvR</td>\n",
       "      <td>7AkLPOwjju8taQCJCaIUts</td>\n",
       "      <td>1c3ugaImroUqbpKZX9SxvR</td>\n",
       "      <td>0.642</td>\n",
       "      <td>0.487</td>\n",
       "      <td>113.815</td>\n",
       "      <td>0.840</td>\n",
       "      <td>0.539</td>\n",
       "      <td>123.068</td>\n",
       "      <td>0.844</td>\n",
       "      <td>0.584</td>\n",
       "      <td>124.014</td>\n",
       "      <td>0.8420</td>\n",
       "      <td>0.5615</td>\n",
       "      <td>123.5410</td>\n",
       "      <td>0.004</td>\n",
       "      <td>0.045</td>\n",
       "      <td>0.946</td>\n",
       "    </tr>\n",
       "    <tr>\n",
       "      <th>2</th>\n",
       "      <td>40c73a0DOalvl8MAKQGo3P_5mN3xSyvCmFy1jkdA98IfS</td>\n",
       "      <td>40c73a0DOalvl8MAKQGo3P</td>\n",
       "      <td>5mN3xSyvCmFy1jkdA98IfS</td>\n",
       "      <td>0.642</td>\n",
       "      <td>0.487</td>\n",
       "      <td>113.815</td>\n",
       "      <td>0.788</td>\n",
       "      <td>0.961</td>\n",
       "      <td>102.079</td>\n",
       "      <td>0.806</td>\n",
       "      <td>0.892</td>\n",
       "      <td>98.008</td>\n",
       "      <td>0.7970</td>\n",
       "      <td>0.9265</td>\n",
       "      <td>100.0435</td>\n",
       "      <td>0.018</td>\n",
       "      <td>0.069</td>\n",
       "      <td>4.071</td>\n",
       "    </tr>\n",
       "    <tr>\n",
       "      <th>3</th>\n",
       "      <td>3xXltlaLeerkxFFwOKQigE_02bVUI20o1fsVPBy73xcQv</td>\n",
       "      <td>3xXltlaLeerkxFFwOKQigE</td>\n",
       "      <td>02bVUI20o1fsVPBy73xcQv</td>\n",
       "      <td>0.642</td>\n",
       "      <td>0.487</td>\n",
       "      <td>113.815</td>\n",
       "      <td>0.948</td>\n",
       "      <td>0.904</td>\n",
       "      <td>125.032</td>\n",
       "      <td>0.934</td>\n",
       "      <td>0.966</td>\n",
       "      <td>126.028</td>\n",
       "      <td>0.9410</td>\n",
       "      <td>0.9350</td>\n",
       "      <td>125.5300</td>\n",
       "      <td>0.014</td>\n",
       "      <td>0.062</td>\n",
       "      <td>0.996</td>\n",
       "    </tr>\n",
       "    <tr>\n",
       "      <th>4</th>\n",
       "      <td>26SdeD5OY1YzFsDQCNnCIp_5lCdO6rLpi5LIqFWSojJzu</td>\n",
       "      <td>26SdeD5OY1YzFsDQCNnCIp</td>\n",
       "      <td>5lCdO6rLpi5LIqFWSojJzu</td>\n",
       "      <td>0.642</td>\n",
       "      <td>0.487</td>\n",
       "      <td>113.815</td>\n",
       "      <td>0.735</td>\n",
       "      <td>0.369</td>\n",
       "      <td>134.973</td>\n",
       "      <td>0.705</td>\n",
       "      <td>0.446</td>\n",
       "      <td>140.927</td>\n",
       "      <td>0.7200</td>\n",
       "      <td>0.4075</td>\n",
       "      <td>137.9500</td>\n",
       "      <td>0.030</td>\n",
       "      <td>0.077</td>\n",
       "      <td>5.954</td>\n",
       "    </tr>\n",
       "  </tbody>\n",
       "</table>\n",
       "</div>"
      ],
      "text/plain": [
       "                        current_track-next_track           current_track  \\\n",
       "0  5tAa8Uaqr4VvA3693mbIhU_5N4erncE7kuUccm7zEmwzk  5tAa8Uaqr4VvA3693mbIhU   \n",
       "1  7AkLPOwjju8taQCJCaIUts_1c3ugaImroUqbpKZX9SxvR  7AkLPOwjju8taQCJCaIUts   \n",
       "2  40c73a0DOalvl8MAKQGo3P_5mN3xSyvCmFy1jkdA98IfS  40c73a0DOalvl8MAKQGo3P   \n",
       "3  3xXltlaLeerkxFFwOKQigE_02bVUI20o1fsVPBy73xcQv  3xXltlaLeerkxFFwOKQigE   \n",
       "4  26SdeD5OY1YzFsDQCNnCIp_5lCdO6rLpi5LIqFWSojJzu  26SdeD5OY1YzFsDQCNnCIp   \n",
       "\n",
       "               next_track  energy_median  valence_median  tempo_median  \\\n",
       "0  5N4erncE7kuUccm7zEmwzk          0.642           0.487       113.815   \n",
       "1  1c3ugaImroUqbpKZX9SxvR          0.642           0.487       113.815   \n",
       "2  5mN3xSyvCmFy1jkdA98IfS          0.642           0.487       113.815   \n",
       "3  02bVUI20o1fsVPBy73xcQv          0.642           0.487       113.815   \n",
       "4  5lCdO6rLpi5LIqFWSojJzu          0.642           0.487       113.815   \n",
       "\n",
       "   energy_ct  valence_ct  tempo_ct  energy_nt  valence_nt  tempo_nt  \\\n",
       "0      0.699       0.585   124.896      0.670       0.505   118.159   \n",
       "1      0.840       0.539   123.068      0.844       0.584   124.014   \n",
       "2      0.788       0.961   102.079      0.806       0.892    98.008   \n",
       "3      0.948       0.904   125.032      0.934       0.966   126.028   \n",
       "4      0.735       0.369   134.973      0.705       0.446   140.927   \n",
       "\n",
       "   energy_mid_pont  valence_mid_pont  tempo_mid_pont  diff_energy  \\\n",
       "0           0.6845            0.5450        121.5275        0.029   \n",
       "1           0.8420            0.5615        123.5410        0.004   \n",
       "2           0.7970            0.9265        100.0435        0.018   \n",
       "3           0.9410            0.9350        125.5300        0.014   \n",
       "4           0.7200            0.4075        137.9500        0.030   \n",
       "\n",
       "   diff_valence  diff_tempo  \n",
       "0         0.080       6.737  \n",
       "1         0.045       0.946  \n",
       "2         0.069       4.071  \n",
       "3         0.062       0.996  \n",
       "4         0.077       5.954  "
      ]
     },
     "execution_count": 48,
     "metadata": {},
     "output_type": "execute_result"
    }
   ],
   "source": [
    "df_distance_low_low.head()"
   ]
  },
  {
   "cell_type": "code",
   "execution_count": 49,
   "metadata": {
    "ExecuteTime": {
     "end_time": "2019-06-25T08:59:25.757416Z",
     "start_time": "2019-06-25T08:59:25.408232Z"
    }
   },
   "outputs": [
    {
     "name": "stderr",
     "output_type": "stream",
     "text": [
      "C:\\Users\\s178288\\AppData\\Local\\Continuum\\anaconda3\\lib\\site-packages\\ipykernel_launcher.py:2: SettingWithCopyWarning: \n",
      "A value is trying to be set on a copy of a slice from a DataFrame.\n",
      "Try using .loc[row_indexer,col_indexer] = value instead\n",
      "\n",
      "See the caveats in the documentation: http://pandas.pydata.org/pandas-docs/stable/indexing.html#indexing-view-versus-copy\n",
      "  \n",
      "C:\\Users\\s178288\\AppData\\Local\\Continuum\\anaconda3\\lib\\site-packages\\ipykernel_launcher.py:3: SettingWithCopyWarning: \n",
      "A value is trying to be set on a copy of a slice from a DataFrame.\n",
      "Try using .loc[row_indexer,col_indexer] = value instead\n",
      "\n",
      "See the caveats in the documentation: http://pandas.pydata.org/pandas-docs/stable/indexing.html#indexing-view-versus-copy\n",
      "  This is separate from the ipykernel package so we can avoid doing imports until\n"
     ]
    }
   ],
   "source": [
    "# calculate distances\n",
    "df_distance_low_low['euclidian_dist_midpoint_median'] = 0.00\n",
    "df_distance_low_low['euclidian_dist_track'] = 0.00"
   ]
  },
  {
   "cell_type": "code",
   "execution_count": 50,
   "metadata": {
    "ExecuteTime": {
     "end_time": "2019-06-25T08:59:30.701570Z",
     "start_time": "2019-06-25T08:59:30.675753Z"
    }
   },
   "outputs": [
    {
     "data": {
      "text/html": [
       "<div>\n",
       "<style scoped>\n",
       "    .dataframe tbody tr th:only-of-type {\n",
       "        vertical-align: middle;\n",
       "    }\n",
       "\n",
       "    .dataframe tbody tr th {\n",
       "        vertical-align: top;\n",
       "    }\n",
       "\n",
       "    .dataframe thead th {\n",
       "        text-align: right;\n",
       "    }\n",
       "</style>\n",
       "<table border=\"1\" class=\"dataframe\">\n",
       "  <thead>\n",
       "    <tr style=\"text-align: right;\">\n",
       "      <th></th>\n",
       "      <th>current_track-next_track</th>\n",
       "      <th>current_track</th>\n",
       "      <th>next_track</th>\n",
       "      <th>energy_median</th>\n",
       "      <th>valence_median</th>\n",
       "      <th>tempo_median</th>\n",
       "      <th>energy_ct</th>\n",
       "      <th>valence_ct</th>\n",
       "      <th>tempo_ct</th>\n",
       "      <th>energy_nt</th>\n",
       "      <th>valence_nt</th>\n",
       "      <th>tempo_nt</th>\n",
       "      <th>energy_mid_pont</th>\n",
       "      <th>valence_mid_pont</th>\n",
       "      <th>tempo_mid_pont</th>\n",
       "      <th>diff_energy</th>\n",
       "      <th>diff_valence</th>\n",
       "      <th>diff_tempo</th>\n",
       "      <th>euclidian_dist_midpoint_median</th>\n",
       "      <th>euclidian_dist_track</th>\n",
       "    </tr>\n",
       "  </thead>\n",
       "  <tbody>\n",
       "    <tr>\n",
       "      <th>0</th>\n",
       "      <td>5tAa8Uaqr4VvA3693mbIhU_5N4erncE7kuUccm7zEmwzk</td>\n",
       "      <td>5tAa8Uaqr4VvA3693mbIhU</td>\n",
       "      <td>5N4erncE7kuUccm7zEmwzk</td>\n",
       "      <td>0.642</td>\n",
       "      <td>0.487</td>\n",
       "      <td>113.815</td>\n",
       "      <td>0.699</td>\n",
       "      <td>0.585</td>\n",
       "      <td>124.896</td>\n",
       "      <td>0.670</td>\n",
       "      <td>0.505</td>\n",
       "      <td>118.159</td>\n",
       "      <td>0.6845</td>\n",
       "      <td>0.5450</td>\n",
       "      <td>121.5275</td>\n",
       "      <td>0.029</td>\n",
       "      <td>0.080</td>\n",
       "      <td>6.737</td>\n",
       "      <td>0.0</td>\n",
       "      <td>0.0</td>\n",
       "    </tr>\n",
       "    <tr>\n",
       "      <th>1</th>\n",
       "      <td>7AkLPOwjju8taQCJCaIUts_1c3ugaImroUqbpKZX9SxvR</td>\n",
       "      <td>7AkLPOwjju8taQCJCaIUts</td>\n",
       "      <td>1c3ugaImroUqbpKZX9SxvR</td>\n",
       "      <td>0.642</td>\n",
       "      <td>0.487</td>\n",
       "      <td>113.815</td>\n",
       "      <td>0.840</td>\n",
       "      <td>0.539</td>\n",
       "      <td>123.068</td>\n",
       "      <td>0.844</td>\n",
       "      <td>0.584</td>\n",
       "      <td>124.014</td>\n",
       "      <td>0.8420</td>\n",
       "      <td>0.5615</td>\n",
       "      <td>123.5410</td>\n",
       "      <td>0.004</td>\n",
       "      <td>0.045</td>\n",
       "      <td>0.946</td>\n",
       "      <td>0.0</td>\n",
       "      <td>0.0</td>\n",
       "    </tr>\n",
       "    <tr>\n",
       "      <th>2</th>\n",
       "      <td>40c73a0DOalvl8MAKQGo3P_5mN3xSyvCmFy1jkdA98IfS</td>\n",
       "      <td>40c73a0DOalvl8MAKQGo3P</td>\n",
       "      <td>5mN3xSyvCmFy1jkdA98IfS</td>\n",
       "      <td>0.642</td>\n",
       "      <td>0.487</td>\n",
       "      <td>113.815</td>\n",
       "      <td>0.788</td>\n",
       "      <td>0.961</td>\n",
       "      <td>102.079</td>\n",
       "      <td>0.806</td>\n",
       "      <td>0.892</td>\n",
       "      <td>98.008</td>\n",
       "      <td>0.7970</td>\n",
       "      <td>0.9265</td>\n",
       "      <td>100.0435</td>\n",
       "      <td>0.018</td>\n",
       "      <td>0.069</td>\n",
       "      <td>4.071</td>\n",
       "      <td>0.0</td>\n",
       "      <td>0.0</td>\n",
       "    </tr>\n",
       "    <tr>\n",
       "      <th>3</th>\n",
       "      <td>3xXltlaLeerkxFFwOKQigE_02bVUI20o1fsVPBy73xcQv</td>\n",
       "      <td>3xXltlaLeerkxFFwOKQigE</td>\n",
       "      <td>02bVUI20o1fsVPBy73xcQv</td>\n",
       "      <td>0.642</td>\n",
       "      <td>0.487</td>\n",
       "      <td>113.815</td>\n",
       "      <td>0.948</td>\n",
       "      <td>0.904</td>\n",
       "      <td>125.032</td>\n",
       "      <td>0.934</td>\n",
       "      <td>0.966</td>\n",
       "      <td>126.028</td>\n",
       "      <td>0.9410</td>\n",
       "      <td>0.9350</td>\n",
       "      <td>125.5300</td>\n",
       "      <td>0.014</td>\n",
       "      <td>0.062</td>\n",
       "      <td>0.996</td>\n",
       "      <td>0.0</td>\n",
       "      <td>0.0</td>\n",
       "    </tr>\n",
       "    <tr>\n",
       "      <th>4</th>\n",
       "      <td>26SdeD5OY1YzFsDQCNnCIp_5lCdO6rLpi5LIqFWSojJzu</td>\n",
       "      <td>26SdeD5OY1YzFsDQCNnCIp</td>\n",
       "      <td>5lCdO6rLpi5LIqFWSojJzu</td>\n",
       "      <td>0.642</td>\n",
       "      <td>0.487</td>\n",
       "      <td>113.815</td>\n",
       "      <td>0.735</td>\n",
       "      <td>0.369</td>\n",
       "      <td>134.973</td>\n",
       "      <td>0.705</td>\n",
       "      <td>0.446</td>\n",
       "      <td>140.927</td>\n",
       "      <td>0.7200</td>\n",
       "      <td>0.4075</td>\n",
       "      <td>137.9500</td>\n",
       "      <td>0.030</td>\n",
       "      <td>0.077</td>\n",
       "      <td>5.954</td>\n",
       "      <td>0.0</td>\n",
       "      <td>0.0</td>\n",
       "    </tr>\n",
       "  </tbody>\n",
       "</table>\n",
       "</div>"
      ],
      "text/plain": [
       "                        current_track-next_track           current_track  \\\n",
       "0  5tAa8Uaqr4VvA3693mbIhU_5N4erncE7kuUccm7zEmwzk  5tAa8Uaqr4VvA3693mbIhU   \n",
       "1  7AkLPOwjju8taQCJCaIUts_1c3ugaImroUqbpKZX9SxvR  7AkLPOwjju8taQCJCaIUts   \n",
       "2  40c73a0DOalvl8MAKQGo3P_5mN3xSyvCmFy1jkdA98IfS  40c73a0DOalvl8MAKQGo3P   \n",
       "3  3xXltlaLeerkxFFwOKQigE_02bVUI20o1fsVPBy73xcQv  3xXltlaLeerkxFFwOKQigE   \n",
       "4  26SdeD5OY1YzFsDQCNnCIp_5lCdO6rLpi5LIqFWSojJzu  26SdeD5OY1YzFsDQCNnCIp   \n",
       "\n",
       "               next_track  energy_median  valence_median  tempo_median  \\\n",
       "0  5N4erncE7kuUccm7zEmwzk          0.642           0.487       113.815   \n",
       "1  1c3ugaImroUqbpKZX9SxvR          0.642           0.487       113.815   \n",
       "2  5mN3xSyvCmFy1jkdA98IfS          0.642           0.487       113.815   \n",
       "3  02bVUI20o1fsVPBy73xcQv          0.642           0.487       113.815   \n",
       "4  5lCdO6rLpi5LIqFWSojJzu          0.642           0.487       113.815   \n",
       "\n",
       "   energy_ct  valence_ct  tempo_ct  energy_nt  valence_nt  tempo_nt  \\\n",
       "0      0.699       0.585   124.896      0.670       0.505   118.159   \n",
       "1      0.840       0.539   123.068      0.844       0.584   124.014   \n",
       "2      0.788       0.961   102.079      0.806       0.892    98.008   \n",
       "3      0.948       0.904   125.032      0.934       0.966   126.028   \n",
       "4      0.735       0.369   134.973      0.705       0.446   140.927   \n",
       "\n",
       "   energy_mid_pont  valence_mid_pont  tempo_mid_pont  diff_energy  \\\n",
       "0           0.6845            0.5450        121.5275        0.029   \n",
       "1           0.8420            0.5615        123.5410        0.004   \n",
       "2           0.7970            0.9265        100.0435        0.018   \n",
       "3           0.9410            0.9350        125.5300        0.014   \n",
       "4           0.7200            0.4075        137.9500        0.030   \n",
       "\n",
       "   diff_valence  diff_tempo  euclidian_dist_midpoint_median  \\\n",
       "0         0.080       6.737                             0.0   \n",
       "1         0.045       0.946                             0.0   \n",
       "2         0.069       4.071                             0.0   \n",
       "3         0.062       0.996                             0.0   \n",
       "4         0.077       5.954                             0.0   \n",
       "\n",
       "   euclidian_dist_track  \n",
       "0                   0.0  \n",
       "1                   0.0  \n",
       "2                   0.0  \n",
       "3                   0.0  \n",
       "4                   0.0  "
      ]
     },
     "execution_count": 50,
     "metadata": {},
     "output_type": "execute_result"
    }
   ],
   "source": [
    "df_distance_low_low.head()"
   ]
  },
  {
   "cell_type": "code",
   "execution_count": 51,
   "metadata": {
    "ExecuteTime": {
     "end_time": "2019-06-25T09:47:40.834576Z",
     "start_time": "2019-06-25T08:59:35.665512Z"
    },
    "scrolled": true
   },
   "outputs": [
    {
     "name": "stderr",
     "output_type": "stream",
     "text": [
      "  0%|                                                                                         | 0/4530 [00:00<?, ?it/s]C:\\Users\\s178288\\AppData\\Local\\Continuum\\anaconda3\\lib\\site-packages\\ipykernel_launcher.py:7: SettingWithCopyWarning: \n",
      "A value is trying to be set on a copy of a slice from a DataFrame\n",
      "\n",
      "See the caveats in the documentation: http://pandas.pydata.org/pandas-docs/stable/indexing.html#indexing-view-versus-copy\n",
      "  import sys\n",
      "C:\\Users\\s178288\\AppData\\Local\\Continuum\\anaconda3\\lib\\site-packages\\IPython\\core\\interactiveshell.py:2963: SettingWithCopyWarning: \n",
      "A value is trying to be set on a copy of a slice from a DataFrame\n",
      "\n",
      "See the caveats in the documentation: http://pandas.pydata.org/pandas-docs/stable/indexing.html#indexing-view-versus-copy\n",
      "  exec(code_obj, self.user_global_ns, self.user_ns)\n",
      "C:\\Users\\s178288\\AppData\\Local\\Continuum\\anaconda3\\lib\\site-packages\\ipykernel_launcher.py:10: SettingWithCopyWarning: \n",
      "A value is trying to be set on a copy of a slice from a DataFrame\n",
      "\n",
      "See the caveats in the documentation: http://pandas.pydata.org/pandas-docs/stable/indexing.html#indexing-view-versus-copy\n",
      "  # Remove the CWD from sys.path while we load stuff.\n",
      "100%|██████████████████████████████████████████████████████████████████████████████| 4530/4530 [48:05<00:00,  1.57it/s]\n"
     ]
    }
   ],
   "source": [
    "# Insert column with Euclidian distance between midpoint of 2 tracks and the median\n",
    "from tqdm import tqdm\n",
    "\n",
    "for idx in tqdm(range(len(df_distance_low_low))):\n",
    "    a = np.array(df_distance_low_low[['energy_mid_pont', 'valence_mid_pont', 'tempo_mid_pont']].iloc[idx])\n",
    "    b = np.array(df_distance_low_low[['energy_median', 'valence_median', 'tempo_median']].iloc[idx])\n",
    "    df_distance_low_low['euclidian_dist_midpoint_median'][idx] = np.linalg.norm(a-b)\n",
    "    c = np.array(df_distance_low_low[['energy_ct', 'valence_ct', 'tempo_ct']].iloc[idx])\n",
    "    d = np.array(df_distance_low_low[['energy_nt', 'valence_nt', 'tempo_nt']].iloc[idx])\n",
    "    df_distance_low_low['euclidian_dist_track'][idx] = np.linalg.norm(c-d)"
   ]
  },
  {
   "cell_type": "code",
   "execution_count": 52,
   "metadata": {
    "ExecuteTime": {
     "end_time": "2019-06-25T09:47:45.766305Z",
     "start_time": "2019-06-25T09:47:45.741008Z"
    }
   },
   "outputs": [
    {
     "data": {
      "text/html": [
       "<div>\n",
       "<style scoped>\n",
       "    .dataframe tbody tr th:only-of-type {\n",
       "        vertical-align: middle;\n",
       "    }\n",
       "\n",
       "    .dataframe tbody tr th {\n",
       "        vertical-align: top;\n",
       "    }\n",
       "\n",
       "    .dataframe thead th {\n",
       "        text-align: right;\n",
       "    }\n",
       "</style>\n",
       "<table border=\"1\" class=\"dataframe\">\n",
       "  <thead>\n",
       "    <tr style=\"text-align: right;\">\n",
       "      <th></th>\n",
       "      <th>current_track-next_track</th>\n",
       "      <th>current_track</th>\n",
       "      <th>next_track</th>\n",
       "      <th>energy_median</th>\n",
       "      <th>valence_median</th>\n",
       "      <th>tempo_median</th>\n",
       "      <th>energy_ct</th>\n",
       "      <th>valence_ct</th>\n",
       "      <th>tempo_ct</th>\n",
       "      <th>energy_nt</th>\n",
       "      <th>valence_nt</th>\n",
       "      <th>tempo_nt</th>\n",
       "      <th>energy_mid_pont</th>\n",
       "      <th>valence_mid_pont</th>\n",
       "      <th>tempo_mid_pont</th>\n",
       "      <th>diff_energy</th>\n",
       "      <th>diff_valence</th>\n",
       "      <th>diff_tempo</th>\n",
       "      <th>euclidian_dist_midpoint_median</th>\n",
       "      <th>euclidian_dist_track</th>\n",
       "    </tr>\n",
       "  </thead>\n",
       "  <tbody>\n",
       "    <tr>\n",
       "      <th>0</th>\n",
       "      <td>5tAa8Uaqr4VvA3693mbIhU_5N4erncE7kuUccm7zEmwzk</td>\n",
       "      <td>5tAa8Uaqr4VvA3693mbIhU</td>\n",
       "      <td>5N4erncE7kuUccm7zEmwzk</td>\n",
       "      <td>0.642</td>\n",
       "      <td>0.487</td>\n",
       "      <td>113.815</td>\n",
       "      <td>0.699</td>\n",
       "      <td>0.585</td>\n",
       "      <td>124.896</td>\n",
       "      <td>0.670</td>\n",
       "      <td>0.505</td>\n",
       "      <td>118.159</td>\n",
       "      <td>0.6845</td>\n",
       "      <td>0.5450</td>\n",
       "      <td>121.5275</td>\n",
       "      <td>0.029</td>\n",
       "      <td>0.080</td>\n",
       "      <td>6.737</td>\n",
       "      <td>7.712835</td>\n",
       "      <td>6.737537</td>\n",
       "    </tr>\n",
       "    <tr>\n",
       "      <th>1</th>\n",
       "      <td>7AkLPOwjju8taQCJCaIUts_1c3ugaImroUqbpKZX9SxvR</td>\n",
       "      <td>7AkLPOwjju8taQCJCaIUts</td>\n",
       "      <td>1c3ugaImroUqbpKZX9SxvR</td>\n",
       "      <td>0.642</td>\n",
       "      <td>0.487</td>\n",
       "      <td>113.815</td>\n",
       "      <td>0.840</td>\n",
       "      <td>0.539</td>\n",
       "      <td>123.068</td>\n",
       "      <td>0.844</td>\n",
       "      <td>0.584</td>\n",
       "      <td>124.014</td>\n",
       "      <td>0.8420</td>\n",
       "      <td>0.5615</td>\n",
       "      <td>123.5410</td>\n",
       "      <td>0.004</td>\n",
       "      <td>0.045</td>\n",
       "      <td>0.946</td>\n",
       "      <td>9.728341</td>\n",
       "      <td>0.947078</td>\n",
       "    </tr>\n",
       "    <tr>\n",
       "      <th>2</th>\n",
       "      <td>40c73a0DOalvl8MAKQGo3P_5mN3xSyvCmFy1jkdA98IfS</td>\n",
       "      <td>40c73a0DOalvl8MAKQGo3P</td>\n",
       "      <td>5mN3xSyvCmFy1jkdA98IfS</td>\n",
       "      <td>0.642</td>\n",
       "      <td>0.487</td>\n",
       "      <td>113.815</td>\n",
       "      <td>0.788</td>\n",
       "      <td>0.961</td>\n",
       "      <td>102.079</td>\n",
       "      <td>0.806</td>\n",
       "      <td>0.892</td>\n",
       "      <td>98.008</td>\n",
       "      <td>0.7970</td>\n",
       "      <td>0.9265</td>\n",
       "      <td>100.0435</td>\n",
       "      <td>0.018</td>\n",
       "      <td>0.069</td>\n",
       "      <td>4.071</td>\n",
       "      <td>13.779383</td>\n",
       "      <td>4.071624</td>\n",
       "    </tr>\n",
       "    <tr>\n",
       "      <th>3</th>\n",
       "      <td>3xXltlaLeerkxFFwOKQigE_02bVUI20o1fsVPBy73xcQv</td>\n",
       "      <td>3xXltlaLeerkxFFwOKQigE</td>\n",
       "      <td>02bVUI20o1fsVPBy73xcQv</td>\n",
       "      <td>0.642</td>\n",
       "      <td>0.487</td>\n",
       "      <td>113.815</td>\n",
       "      <td>0.948</td>\n",
       "      <td>0.904</td>\n",
       "      <td>125.032</td>\n",
       "      <td>0.934</td>\n",
       "      <td>0.966</td>\n",
       "      <td>126.028</td>\n",
       "      <td>0.9410</td>\n",
       "      <td>0.9350</td>\n",
       "      <td>125.5300</td>\n",
       "      <td>0.014</td>\n",
       "      <td>0.062</td>\n",
       "      <td>0.996</td>\n",
       "      <td>11.727375</td>\n",
       "      <td>0.998026</td>\n",
       "    </tr>\n",
       "    <tr>\n",
       "      <th>4</th>\n",
       "      <td>26SdeD5OY1YzFsDQCNnCIp_5lCdO6rLpi5LIqFWSojJzu</td>\n",
       "      <td>26SdeD5OY1YzFsDQCNnCIp</td>\n",
       "      <td>5lCdO6rLpi5LIqFWSojJzu</td>\n",
       "      <td>0.642</td>\n",
       "      <td>0.487</td>\n",
       "      <td>113.815</td>\n",
       "      <td>0.735</td>\n",
       "      <td>0.369</td>\n",
       "      <td>134.973</td>\n",
       "      <td>0.705</td>\n",
       "      <td>0.446</td>\n",
       "      <td>140.927</td>\n",
       "      <td>0.7200</td>\n",
       "      <td>0.4075</td>\n",
       "      <td>137.9500</td>\n",
       "      <td>0.030</td>\n",
       "      <td>0.077</td>\n",
       "      <td>5.954</td>\n",
       "      <td>24.135257</td>\n",
       "      <td>5.954573</td>\n",
       "    </tr>\n",
       "  </tbody>\n",
       "</table>\n",
       "</div>"
      ],
      "text/plain": [
       "                        current_track-next_track           current_track  \\\n",
       "0  5tAa8Uaqr4VvA3693mbIhU_5N4erncE7kuUccm7zEmwzk  5tAa8Uaqr4VvA3693mbIhU   \n",
       "1  7AkLPOwjju8taQCJCaIUts_1c3ugaImroUqbpKZX9SxvR  7AkLPOwjju8taQCJCaIUts   \n",
       "2  40c73a0DOalvl8MAKQGo3P_5mN3xSyvCmFy1jkdA98IfS  40c73a0DOalvl8MAKQGo3P   \n",
       "3  3xXltlaLeerkxFFwOKQigE_02bVUI20o1fsVPBy73xcQv  3xXltlaLeerkxFFwOKQigE   \n",
       "4  26SdeD5OY1YzFsDQCNnCIp_5lCdO6rLpi5LIqFWSojJzu  26SdeD5OY1YzFsDQCNnCIp   \n",
       "\n",
       "               next_track  energy_median  valence_median  tempo_median  \\\n",
       "0  5N4erncE7kuUccm7zEmwzk          0.642           0.487       113.815   \n",
       "1  1c3ugaImroUqbpKZX9SxvR          0.642           0.487       113.815   \n",
       "2  5mN3xSyvCmFy1jkdA98IfS          0.642           0.487       113.815   \n",
       "3  02bVUI20o1fsVPBy73xcQv          0.642           0.487       113.815   \n",
       "4  5lCdO6rLpi5LIqFWSojJzu          0.642           0.487       113.815   \n",
       "\n",
       "   energy_ct  valence_ct  tempo_ct  energy_nt  valence_nt  tempo_nt  \\\n",
       "0      0.699       0.585   124.896      0.670       0.505   118.159   \n",
       "1      0.840       0.539   123.068      0.844       0.584   124.014   \n",
       "2      0.788       0.961   102.079      0.806       0.892    98.008   \n",
       "3      0.948       0.904   125.032      0.934       0.966   126.028   \n",
       "4      0.735       0.369   134.973      0.705       0.446   140.927   \n",
       "\n",
       "   energy_mid_pont  valence_mid_pont  tempo_mid_pont  diff_energy  \\\n",
       "0           0.6845            0.5450        121.5275        0.029   \n",
       "1           0.8420            0.5615        123.5410        0.004   \n",
       "2           0.7970            0.9265        100.0435        0.018   \n",
       "3           0.9410            0.9350        125.5300        0.014   \n",
       "4           0.7200            0.4075        137.9500        0.030   \n",
       "\n",
       "   diff_valence  diff_tempo  euclidian_dist_midpoint_median  \\\n",
       "0         0.080       6.737                        7.712835   \n",
       "1         0.045       0.946                        9.728341   \n",
       "2         0.069       4.071                       13.779383   \n",
       "3         0.062       0.996                       11.727375   \n",
       "4         0.077       5.954                       24.135257   \n",
       "\n",
       "   euclidian_dist_track  \n",
       "0              6.737537  \n",
       "1              0.947078  \n",
       "2              4.071624  \n",
       "3              0.998026  \n",
       "4              5.954573  "
      ]
     },
     "execution_count": 52,
     "metadata": {},
     "output_type": "execute_result"
    }
   ],
   "source": [
    "df_distance_low_low.head()"
   ]
  },
  {
   "cell_type": "code",
   "execution_count": 53,
   "metadata": {
    "ExecuteTime": {
     "end_time": "2019-06-25T09:55:30.938622Z",
     "start_time": "2019-06-25T09:55:30.928214Z"
    }
   },
   "outputs": [
    {
     "name": "stdout",
     "output_type": "stream",
     "text": [
      "<class 'pandas.core.frame.DataFrame'>\n",
      "RangeIndex: 4530 entries, 0 to 4529\n",
      "Data columns (total 20 columns):\n",
      "current_track-next_track          4530 non-null object\n",
      "current_track                     4530 non-null object\n",
      "next_track                        4530 non-null object\n",
      "energy_median                     4530 non-null float64\n",
      "valence_median                    4530 non-null float64\n",
      "tempo_median                      4530 non-null float64\n",
      "energy_ct                         4530 non-null float64\n",
      "valence_ct                        4530 non-null float64\n",
      "tempo_ct                          4530 non-null float64\n",
      "energy_nt                         4530 non-null float64\n",
      "valence_nt                        4530 non-null float64\n",
      "tempo_nt                          4530 non-null float64\n",
      "energy_mid_pont                   4530 non-null float64\n",
      "valence_mid_pont                  4530 non-null float64\n",
      "tempo_mid_pont                    4530 non-null float64\n",
      "diff_energy                       4530 non-null float64\n",
      "diff_valence                      4530 non-null float64\n",
      "diff_tempo                        4530 non-null float64\n",
      "euclidian_dist_midpoint_median    4530 non-null float64\n",
      "euclidian_dist_track              4530 non-null float64\n",
      "dtypes: float64(17), object(3)\n",
      "memory usage: 707.9+ KB\n"
     ]
    }
   ],
   "source": [
    "df_distance_low_low.info(null_counts=True)"
   ]
  },
  {
   "cell_type": "code",
   "execution_count": 54,
   "metadata": {
    "ExecuteTime": {
     "end_time": "2019-06-25T09:55:42.121510Z",
     "start_time": "2019-06-25T09:55:36.373721Z"
    }
   },
   "outputs": [],
   "source": [
    "# save in csv\n",
    "\n",
    "df_distance_low_low.to_csv(creating_playlist_folder+\"distance_low_low_pop_l20_l90_\"+TodaysDate+\".csv\",index=0)"
   ]
  },
  {
   "cell_type": "markdown",
   "metadata": {},
   "source": [
    "## Distances to be used by playlist 5 - 'low' energy/valence & 'low' tempo with high percentaille above 90%"
   ]
  },
  {
   "cell_type": "markdown",
   "metadata": {},
   "source": [
    "Previous analysis made us choose for low percentaile 20% and for high between 20% and 50%"
   ]
  },
  {
   "cell_type": "markdown",
   "metadata": {},
   "source": [
    "### Filtering (le, lv, ht) and outliers\n",
    "\n",
    "From the 2-track sequences that have snippets sequences with low absolute difference in energy, valence, and high absolute difference for tempo are chosen."
   ]
  },
  {
   "cell_type": "code",
   "execution_count": 55,
   "metadata": {
    "ExecuteTime": {
     "end_time": "2019-06-25T09:55:54.323989Z",
     "start_time": "2019-06-25T09:55:54.318037Z"
    }
   },
   "outputs": [
    {
     "name": "stdout",
     "output_type": "stream",
     "text": [
      "0.05 0.08\n"
     ]
    }
   ],
   "source": [
    "le = round(df_percentailes['diff_energy'][0.20],2)\n",
    "lv = round(df_percentailes['diff_valence'][0.20],2)\n",
    "print(le,lv)"
   ]
  },
  {
   "cell_type": "code",
   "execution_count": 56,
   "metadata": {
    "ExecuteTime": {
     "end_time": "2019-06-25T09:55:59.229900Z",
     "start_time": "2019-06-25T09:55:59.223948Z"
    }
   },
   "outputs": [
    {
     "name": "stdout",
     "output_type": "stream",
     "text": [
      "67.74\n"
     ]
    }
   ],
   "source": [
    "ht = round(df_percentailes['diff_tempo'][0.90],2)\n",
    "print(ht)"
   ]
  },
  {
   "cell_type": "code",
   "execution_count": 57,
   "metadata": {
    "ExecuteTime": {
     "end_time": "2019-06-25T09:56:13.998125Z",
     "start_time": "2019-06-25T09:56:13.962413Z"
    }
   },
   "outputs": [
    {
     "data": {
      "text/html": [
       "<div>\n",
       "<style scoped>\n",
       "    .dataframe tbody tr th:only-of-type {\n",
       "        vertical-align: middle;\n",
       "    }\n",
       "\n",
       "    .dataframe tbody tr th {\n",
       "        vertical-align: top;\n",
       "    }\n",
       "\n",
       "    .dataframe thead th {\n",
       "        text-align: right;\n",
       "    }\n",
       "</style>\n",
       "<table border=\"1\" class=\"dataframe\">\n",
       "  <thead>\n",
       "    <tr style=\"text-align: right;\">\n",
       "      <th></th>\n",
       "      <th>current_track-next_track</th>\n",
       "      <th>diff_energy</th>\n",
       "      <th>diff_valence</th>\n",
       "      <th>diff_tempo</th>\n",
       "    </tr>\n",
       "  </thead>\n",
       "  <tbody>\n",
       "    <tr>\n",
       "      <th>0</th>\n",
       "      <td>6guTWjJ5Eohg3N4JI2y1q4_4vmgP10TH0YYqJkzr8yLW0</td>\n",
       "      <td>0.019</td>\n",
       "      <td>0.056</td>\n",
       "      <td>67.768</td>\n",
       "    </tr>\n",
       "    <tr>\n",
       "      <th>1</th>\n",
       "      <td>4vmgP10TH0YYqJkzr8yLW0_6guTWjJ5Eohg3N4JI2y1q4</td>\n",
       "      <td>0.019</td>\n",
       "      <td>0.056</td>\n",
       "      <td>67.768</td>\n",
       "    </tr>\n",
       "    <tr>\n",
       "      <th>2</th>\n",
       "      <td>2O8gSQ9z52tZSLJnuzjkcG_21i3JjSTPryzlVKNBiWjxE</td>\n",
       "      <td>0.035</td>\n",
       "      <td>0.068</td>\n",
       "      <td>67.776</td>\n",
       "    </tr>\n",
       "    <tr>\n",
       "      <th>3</th>\n",
       "      <td>21i3JjSTPryzlVKNBiWjxE_2O8gSQ9z52tZSLJnuzjkcG</td>\n",
       "      <td>0.035</td>\n",
       "      <td>0.068</td>\n",
       "      <td>67.776</td>\n",
       "    </tr>\n",
       "    <tr>\n",
       "      <th>4</th>\n",
       "      <td>2RlgNHKcydI9sayD2Df2xp_4NH0G33zApUnRNsSK0CwuN</td>\n",
       "      <td>0.006</td>\n",
       "      <td>0.012</td>\n",
       "      <td>67.779</td>\n",
       "    </tr>\n",
       "  </tbody>\n",
       "</table>\n",
       "</div>"
      ],
      "text/plain": [
       "                        current_track-next_track  diff_energy  diff_valence  \\\n",
       "0  6guTWjJ5Eohg3N4JI2y1q4_4vmgP10TH0YYqJkzr8yLW0        0.019         0.056   \n",
       "1  4vmgP10TH0YYqJkzr8yLW0_6guTWjJ5Eohg3N4JI2y1q4        0.019         0.056   \n",
       "2  2O8gSQ9z52tZSLJnuzjkcG_21i3JjSTPryzlVKNBiWjxE        0.035         0.068   \n",
       "3  21i3JjSTPryzlVKNBiWjxE_2O8gSQ9z52tZSLJnuzjkcG        0.035         0.068   \n",
       "4  2RlgNHKcydI9sayD2Df2xp_4NH0G33zApUnRNsSK0CwuN        0.006         0.012   \n",
       "\n",
       "   diff_tempo  \n",
       "0      67.768  \n",
       "1      67.768  \n",
       "2      67.776  \n",
       "3      67.776  \n",
       "4      67.779  "
      ]
     },
     "execution_count": 57,
     "metadata": {},
     "output_type": "execute_result"
    }
   ],
   "source": [
    "df_diff_low_high = df_diff_with_snippets[(df_diff_with_snippets['diff_energy'] <= le) & (df_diff_with_snippets['diff_valence'] <= lv) \n",
    "                                        & (df_diff_with_snippets['diff_tempo'] >= ht) & (df_diff_with_snippets['diff_tempo'] < out_tempo_tracks_diff_in_playlists) ][['current_track-next_track','diff_energy','diff_valence','diff_tempo']].sort_values(by=['diff_tempo','diff_valence','diff_energy'])\n",
    "\n",
    "df_diff_low_high.reset_index(drop=True,inplace=True)\n",
    "df_diff_low_high.head()"
   ]
  },
  {
   "cell_type": "code",
   "execution_count": 58,
   "metadata": {
    "ExecuteTime": {
     "end_time": "2019-06-25T09:56:18.948701Z",
     "start_time": "2019-06-25T09:56:18.943245Z"
    }
   },
   "outputs": [
    {
     "data": {
      "text/plain": [
       "(1452, 4)"
      ]
     },
     "execution_count": 58,
     "metadata": {},
     "output_type": "execute_result"
    }
   ],
   "source": [
    "df_diff_low_high.shape"
   ]
  },
  {
   "cell_type": "code",
   "execution_count": 59,
   "metadata": {
    "ExecuteTime": {
     "end_time": "2019-06-25T09:56:24.031876Z",
     "start_time": "2019-06-25T09:56:24.023961Z"
    }
   },
   "outputs": [
    {
     "data": {
      "text/plain": [
       "diff_energy      0.000\n",
       "diff_valence     0.000\n",
       "diff_tempo      67.768\n",
       "dtype: float64"
      ]
     },
     "execution_count": 59,
     "metadata": {},
     "output_type": "execute_result"
    }
   ],
   "source": [
    "df_diff_low_high[['diff_energy','diff_valence','diff_tempo']].min()"
   ]
  },
  {
   "cell_type": "code",
   "execution_count": 60,
   "metadata": {
    "ExecuteTime": {
     "end_time": "2019-06-25T09:56:30.423901Z",
     "start_time": "2019-06-25T09:56:30.416956Z"
    }
   },
   "outputs": [
    {
     "data": {
      "text/plain": [
       "diff_energy      0.05\n",
       "diff_valence     0.08\n",
       "diff_tempo      96.03\n",
       "dtype: float64"
      ]
     },
     "execution_count": 60,
     "metadata": {},
     "output_type": "execute_result"
    }
   ],
   "source": [
    "df_diff_low_high[['diff_energy','diff_valence','diff_tempo']].max()"
   ]
  },
  {
   "cell_type": "code",
   "execution_count": 61,
   "metadata": {
    "ExecuteTime": {
     "end_time": "2019-06-25T09:56:35.348186Z",
     "start_time": "2019-06-25T09:56:35.344218Z"
    }
   },
   "outputs": [],
   "source": [
    "list_low_high_current_next_track = df_diff_low_high[\"current_track-next_track\"].tolist()"
   ]
  },
  {
   "cell_type": "code",
   "execution_count": 62,
   "metadata": {
    "ExecuteTime": {
     "end_time": "2019-06-25T09:56:40.377629Z",
     "start_time": "2019-06-25T09:56:40.272971Z"
    }
   },
   "outputs": [],
   "source": [
    "# df_distance only with pairs considering the low low restriction\n",
    "df_distance_low_high = df_distance[df_distance[\"current_track-next_track\"].isin(list_low_high_current_next_track)]"
   ]
  },
  {
   "cell_type": "code",
   "execution_count": 63,
   "metadata": {
    "ExecuteTime": {
     "end_time": "2019-06-25T09:56:45.395166Z",
     "start_time": "2019-06-25T09:56:45.389709Z"
    }
   },
   "outputs": [
    {
     "data": {
      "text/plain": [
       "(1452, 18)"
      ]
     },
     "execution_count": 63,
     "metadata": {},
     "output_type": "execute_result"
    }
   ],
   "source": [
    "df_distance_low_high.shape"
   ]
  },
  {
   "cell_type": "code",
   "execution_count": 64,
   "metadata": {
    "ExecuteTime": {
     "end_time": "2019-06-25T09:56:50.398318Z",
     "start_time": "2019-06-25T09:56:50.394848Z"
    }
   },
   "outputs": [],
   "source": [
    "df_distance_low_high.reset_index(drop=True, inplace=True)"
   ]
  },
  {
   "cell_type": "code",
   "execution_count": 65,
   "metadata": {
    "ExecuteTime": {
     "end_time": "2019-06-25T09:56:55.440161Z",
     "start_time": "2019-06-25T09:56:55.415854Z"
    }
   },
   "outputs": [
    {
     "data": {
      "text/html": [
       "<div>\n",
       "<style scoped>\n",
       "    .dataframe tbody tr th:only-of-type {\n",
       "        vertical-align: middle;\n",
       "    }\n",
       "\n",
       "    .dataframe tbody tr th {\n",
       "        vertical-align: top;\n",
       "    }\n",
       "\n",
       "    .dataframe thead th {\n",
       "        text-align: right;\n",
       "    }\n",
       "</style>\n",
       "<table border=\"1\" class=\"dataframe\">\n",
       "  <thead>\n",
       "    <tr style=\"text-align: right;\">\n",
       "      <th></th>\n",
       "      <th>current_track-next_track</th>\n",
       "      <th>current_track</th>\n",
       "      <th>next_track</th>\n",
       "      <th>energy_median</th>\n",
       "      <th>valence_median</th>\n",
       "      <th>tempo_median</th>\n",
       "      <th>energy_ct</th>\n",
       "      <th>valence_ct</th>\n",
       "      <th>tempo_ct</th>\n",
       "      <th>energy_nt</th>\n",
       "      <th>valence_nt</th>\n",
       "      <th>tempo_nt</th>\n",
       "      <th>energy_mid_pont</th>\n",
       "      <th>valence_mid_pont</th>\n",
       "      <th>tempo_mid_pont</th>\n",
       "      <th>diff_energy</th>\n",
       "      <th>diff_valence</th>\n",
       "      <th>diff_tempo</th>\n",
       "    </tr>\n",
       "  </thead>\n",
       "  <tbody>\n",
       "    <tr>\n",
       "      <th>0</th>\n",
       "      <td>7sKDftgGirHWTVFMtJoDoh_5600nq7TiBraBX2jobyJ3l</td>\n",
       "      <td>7sKDftgGirHWTVFMtJoDoh</td>\n",
       "      <td>5600nq7TiBraBX2jobyJ3l</td>\n",
       "      <td>0.642</td>\n",
       "      <td>0.487</td>\n",
       "      <td>113.815</td>\n",
       "      <td>0.796</td>\n",
       "      <td>0.551</td>\n",
       "      <td>97.976</td>\n",
       "      <td>0.821</td>\n",
       "      <td>0.509</td>\n",
       "      <td>188.098</td>\n",
       "      <td>0.8085</td>\n",
       "      <td>0.5300</td>\n",
       "      <td>143.0370</td>\n",
       "      <td>0.025</td>\n",
       "      <td>0.042</td>\n",
       "      <td>90.122</td>\n",
       "    </tr>\n",
       "    <tr>\n",
       "      <th>1</th>\n",
       "      <td>2CTN6UuO2dNEVZXR0DJVk2_1uru26I2JKd2mQZt0MDCUe</td>\n",
       "      <td>2CTN6UuO2dNEVZXR0DJVk2</td>\n",
       "      <td>1uru26I2JKd2mQZt0MDCUe</td>\n",
       "      <td>0.642</td>\n",
       "      <td>0.487</td>\n",
       "      <td>113.815</td>\n",
       "      <td>0.528</td>\n",
       "      <td>0.376</td>\n",
       "      <td>82.014</td>\n",
       "      <td>0.531</td>\n",
       "      <td>0.321</td>\n",
       "      <td>164.848</td>\n",
       "      <td>0.5295</td>\n",
       "      <td>0.3485</td>\n",
       "      <td>123.4310</td>\n",
       "      <td>0.003</td>\n",
       "      <td>0.055</td>\n",
       "      <td>82.834</td>\n",
       "    </tr>\n",
       "    <tr>\n",
       "      <th>2</th>\n",
       "      <td>2CTN6UuO2dNEVZXR0DJVk2_7pdF27mSDuPWhppnHAmWHa</td>\n",
       "      <td>2CTN6UuO2dNEVZXR0DJVk2</td>\n",
       "      <td>7pdF27mSDuPWhppnHAmWHa</td>\n",
       "      <td>0.642</td>\n",
       "      <td>0.487</td>\n",
       "      <td>113.815</td>\n",
       "      <td>0.528</td>\n",
       "      <td>0.376</td>\n",
       "      <td>82.014</td>\n",
       "      <td>0.525</td>\n",
       "      <td>0.369</td>\n",
       "      <td>160.147</td>\n",
       "      <td>0.5265</td>\n",
       "      <td>0.3725</td>\n",
       "      <td>121.0805</td>\n",
       "      <td>0.003</td>\n",
       "      <td>0.007</td>\n",
       "      <td>78.133</td>\n",
       "    </tr>\n",
       "    <tr>\n",
       "      <th>3</th>\n",
       "      <td>2CTN6UuO2dNEVZXR0DJVk2_1roCmBlcpV7LzsmB7pmCyt</td>\n",
       "      <td>2CTN6UuO2dNEVZXR0DJVk2</td>\n",
       "      <td>1roCmBlcpV7LzsmB7pmCyt</td>\n",
       "      <td>0.642</td>\n",
       "      <td>0.487</td>\n",
       "      <td>113.815</td>\n",
       "      <td>0.528</td>\n",
       "      <td>0.376</td>\n",
       "      <td>82.014</td>\n",
       "      <td>0.569</td>\n",
       "      <td>0.440</td>\n",
       "      <td>150.267</td>\n",
       "      <td>0.5485</td>\n",
       "      <td>0.4080</td>\n",
       "      <td>116.1405</td>\n",
       "      <td>0.041</td>\n",
       "      <td>0.064</td>\n",
       "      <td>68.253</td>\n",
       "    </tr>\n",
       "    <tr>\n",
       "      <th>4</th>\n",
       "      <td>2CTN6UuO2dNEVZXR0DJVk2_708L4ld9wD2pjoqKwaxkXa</td>\n",
       "      <td>2CTN6UuO2dNEVZXR0DJVk2</td>\n",
       "      <td>708L4ld9wD2pjoqKwaxkXa</td>\n",
       "      <td>0.642</td>\n",
       "      <td>0.487</td>\n",
       "      <td>113.815</td>\n",
       "      <td>0.528</td>\n",
       "      <td>0.376</td>\n",
       "      <td>82.014</td>\n",
       "      <td>0.550</td>\n",
       "      <td>0.319</td>\n",
       "      <td>159.971</td>\n",
       "      <td>0.5390</td>\n",
       "      <td>0.3475</td>\n",
       "      <td>120.9925</td>\n",
       "      <td>0.022</td>\n",
       "      <td>0.057</td>\n",
       "      <td>77.957</td>\n",
       "    </tr>\n",
       "  </tbody>\n",
       "</table>\n",
       "</div>"
      ],
      "text/plain": [
       "                        current_track-next_track           current_track  \\\n",
       "0  7sKDftgGirHWTVFMtJoDoh_5600nq7TiBraBX2jobyJ3l  7sKDftgGirHWTVFMtJoDoh   \n",
       "1  2CTN6UuO2dNEVZXR0DJVk2_1uru26I2JKd2mQZt0MDCUe  2CTN6UuO2dNEVZXR0DJVk2   \n",
       "2  2CTN6UuO2dNEVZXR0DJVk2_7pdF27mSDuPWhppnHAmWHa  2CTN6UuO2dNEVZXR0DJVk2   \n",
       "3  2CTN6UuO2dNEVZXR0DJVk2_1roCmBlcpV7LzsmB7pmCyt  2CTN6UuO2dNEVZXR0DJVk2   \n",
       "4  2CTN6UuO2dNEVZXR0DJVk2_708L4ld9wD2pjoqKwaxkXa  2CTN6UuO2dNEVZXR0DJVk2   \n",
       "\n",
       "               next_track  energy_median  valence_median  tempo_median  \\\n",
       "0  5600nq7TiBraBX2jobyJ3l          0.642           0.487       113.815   \n",
       "1  1uru26I2JKd2mQZt0MDCUe          0.642           0.487       113.815   \n",
       "2  7pdF27mSDuPWhppnHAmWHa          0.642           0.487       113.815   \n",
       "3  1roCmBlcpV7LzsmB7pmCyt          0.642           0.487       113.815   \n",
       "4  708L4ld9wD2pjoqKwaxkXa          0.642           0.487       113.815   \n",
       "\n",
       "   energy_ct  valence_ct  tempo_ct  energy_nt  valence_nt  tempo_nt  \\\n",
       "0      0.796       0.551    97.976      0.821       0.509   188.098   \n",
       "1      0.528       0.376    82.014      0.531       0.321   164.848   \n",
       "2      0.528       0.376    82.014      0.525       0.369   160.147   \n",
       "3      0.528       0.376    82.014      0.569       0.440   150.267   \n",
       "4      0.528       0.376    82.014      0.550       0.319   159.971   \n",
       "\n",
       "   energy_mid_pont  valence_mid_pont  tempo_mid_pont  diff_energy  \\\n",
       "0           0.8085            0.5300        143.0370        0.025   \n",
       "1           0.5295            0.3485        123.4310        0.003   \n",
       "2           0.5265            0.3725        121.0805        0.003   \n",
       "3           0.5485            0.4080        116.1405        0.041   \n",
       "4           0.5390            0.3475        120.9925        0.022   \n",
       "\n",
       "   diff_valence  diff_tempo  \n",
       "0         0.042      90.122  \n",
       "1         0.055      82.834  \n",
       "2         0.007      78.133  \n",
       "3         0.064      68.253  \n",
       "4         0.057      77.957  "
      ]
     },
     "execution_count": 65,
     "metadata": {},
     "output_type": "execute_result"
    }
   ],
   "source": [
    "df_distance_low_high.head()"
   ]
  },
  {
   "cell_type": "code",
   "execution_count": 66,
   "metadata": {
    "ExecuteTime": {
     "end_time": "2019-06-25T09:57:00.796465Z",
     "start_time": "2019-06-25T09:57:00.461681Z"
    }
   },
   "outputs": [
    {
     "name": "stderr",
     "output_type": "stream",
     "text": [
      "C:\\Users\\s178288\\AppData\\Local\\Continuum\\anaconda3\\lib\\site-packages\\ipykernel_launcher.py:2: SettingWithCopyWarning: \n",
      "A value is trying to be set on a copy of a slice from a DataFrame.\n",
      "Try using .loc[row_indexer,col_indexer] = value instead\n",
      "\n",
      "See the caveats in the documentation: http://pandas.pydata.org/pandas-docs/stable/indexing.html#indexing-view-versus-copy\n",
      "  \n",
      "C:\\Users\\s178288\\AppData\\Local\\Continuum\\anaconda3\\lib\\site-packages\\ipykernel_launcher.py:3: SettingWithCopyWarning: \n",
      "A value is trying to be set on a copy of a slice from a DataFrame.\n",
      "Try using .loc[row_indexer,col_indexer] = value instead\n",
      "\n",
      "See the caveats in the documentation: http://pandas.pydata.org/pandas-docs/stable/indexing.html#indexing-view-versus-copy\n",
      "  This is separate from the ipykernel package so we can avoid doing imports until\n"
     ]
    }
   ],
   "source": [
    "# calculate distances\n",
    "df_distance_low_high['euclidian_dist_midpoint_median'] = 0.00\n",
    "df_distance_low_high['euclidian_dist_track'] = 0.00"
   ]
  },
  {
   "cell_type": "code",
   "execution_count": 67,
   "metadata": {
    "ExecuteTime": {
     "end_time": "2019-06-25T09:57:05.825907Z",
     "start_time": "2019-06-25T09:57:05.801106Z"
    }
   },
   "outputs": [
    {
     "data": {
      "text/html": [
       "<div>\n",
       "<style scoped>\n",
       "    .dataframe tbody tr th:only-of-type {\n",
       "        vertical-align: middle;\n",
       "    }\n",
       "\n",
       "    .dataframe tbody tr th {\n",
       "        vertical-align: top;\n",
       "    }\n",
       "\n",
       "    .dataframe thead th {\n",
       "        text-align: right;\n",
       "    }\n",
       "</style>\n",
       "<table border=\"1\" class=\"dataframe\">\n",
       "  <thead>\n",
       "    <tr style=\"text-align: right;\">\n",
       "      <th></th>\n",
       "      <th>current_track-next_track</th>\n",
       "      <th>current_track</th>\n",
       "      <th>next_track</th>\n",
       "      <th>energy_median</th>\n",
       "      <th>valence_median</th>\n",
       "      <th>tempo_median</th>\n",
       "      <th>energy_ct</th>\n",
       "      <th>valence_ct</th>\n",
       "      <th>tempo_ct</th>\n",
       "      <th>energy_nt</th>\n",
       "      <th>valence_nt</th>\n",
       "      <th>tempo_nt</th>\n",
       "      <th>energy_mid_pont</th>\n",
       "      <th>valence_mid_pont</th>\n",
       "      <th>tempo_mid_pont</th>\n",
       "      <th>diff_energy</th>\n",
       "      <th>diff_valence</th>\n",
       "      <th>diff_tempo</th>\n",
       "      <th>euclidian_dist_midpoint_median</th>\n",
       "      <th>euclidian_dist_track</th>\n",
       "    </tr>\n",
       "  </thead>\n",
       "  <tbody>\n",
       "    <tr>\n",
       "      <th>0</th>\n",
       "      <td>7sKDftgGirHWTVFMtJoDoh_5600nq7TiBraBX2jobyJ3l</td>\n",
       "      <td>7sKDftgGirHWTVFMtJoDoh</td>\n",
       "      <td>5600nq7TiBraBX2jobyJ3l</td>\n",
       "      <td>0.642</td>\n",
       "      <td>0.487</td>\n",
       "      <td>113.815</td>\n",
       "      <td>0.796</td>\n",
       "      <td>0.551</td>\n",
       "      <td>97.976</td>\n",
       "      <td>0.821</td>\n",
       "      <td>0.509</td>\n",
       "      <td>188.098</td>\n",
       "      <td>0.8085</td>\n",
       "      <td>0.5300</td>\n",
       "      <td>143.0370</td>\n",
       "      <td>0.025</td>\n",
       "      <td>0.042</td>\n",
       "      <td>90.122</td>\n",
       "      <td>0.0</td>\n",
       "      <td>0.0</td>\n",
       "    </tr>\n",
       "    <tr>\n",
       "      <th>1</th>\n",
       "      <td>2CTN6UuO2dNEVZXR0DJVk2_1uru26I2JKd2mQZt0MDCUe</td>\n",
       "      <td>2CTN6UuO2dNEVZXR0DJVk2</td>\n",
       "      <td>1uru26I2JKd2mQZt0MDCUe</td>\n",
       "      <td>0.642</td>\n",
       "      <td>0.487</td>\n",
       "      <td>113.815</td>\n",
       "      <td>0.528</td>\n",
       "      <td>0.376</td>\n",
       "      <td>82.014</td>\n",
       "      <td>0.531</td>\n",
       "      <td>0.321</td>\n",
       "      <td>164.848</td>\n",
       "      <td>0.5295</td>\n",
       "      <td>0.3485</td>\n",
       "      <td>123.4310</td>\n",
       "      <td>0.003</td>\n",
       "      <td>0.055</td>\n",
       "      <td>82.834</td>\n",
       "      <td>0.0</td>\n",
       "      <td>0.0</td>\n",
       "    </tr>\n",
       "    <tr>\n",
       "      <th>2</th>\n",
       "      <td>2CTN6UuO2dNEVZXR0DJVk2_7pdF27mSDuPWhppnHAmWHa</td>\n",
       "      <td>2CTN6UuO2dNEVZXR0DJVk2</td>\n",
       "      <td>7pdF27mSDuPWhppnHAmWHa</td>\n",
       "      <td>0.642</td>\n",
       "      <td>0.487</td>\n",
       "      <td>113.815</td>\n",
       "      <td>0.528</td>\n",
       "      <td>0.376</td>\n",
       "      <td>82.014</td>\n",
       "      <td>0.525</td>\n",
       "      <td>0.369</td>\n",
       "      <td>160.147</td>\n",
       "      <td>0.5265</td>\n",
       "      <td>0.3725</td>\n",
       "      <td>121.0805</td>\n",
       "      <td>0.003</td>\n",
       "      <td>0.007</td>\n",
       "      <td>78.133</td>\n",
       "      <td>0.0</td>\n",
       "      <td>0.0</td>\n",
       "    </tr>\n",
       "    <tr>\n",
       "      <th>3</th>\n",
       "      <td>2CTN6UuO2dNEVZXR0DJVk2_1roCmBlcpV7LzsmB7pmCyt</td>\n",
       "      <td>2CTN6UuO2dNEVZXR0DJVk2</td>\n",
       "      <td>1roCmBlcpV7LzsmB7pmCyt</td>\n",
       "      <td>0.642</td>\n",
       "      <td>0.487</td>\n",
       "      <td>113.815</td>\n",
       "      <td>0.528</td>\n",
       "      <td>0.376</td>\n",
       "      <td>82.014</td>\n",
       "      <td>0.569</td>\n",
       "      <td>0.440</td>\n",
       "      <td>150.267</td>\n",
       "      <td>0.5485</td>\n",
       "      <td>0.4080</td>\n",
       "      <td>116.1405</td>\n",
       "      <td>0.041</td>\n",
       "      <td>0.064</td>\n",
       "      <td>68.253</td>\n",
       "      <td>0.0</td>\n",
       "      <td>0.0</td>\n",
       "    </tr>\n",
       "    <tr>\n",
       "      <th>4</th>\n",
       "      <td>2CTN6UuO2dNEVZXR0DJVk2_708L4ld9wD2pjoqKwaxkXa</td>\n",
       "      <td>2CTN6UuO2dNEVZXR0DJVk2</td>\n",
       "      <td>708L4ld9wD2pjoqKwaxkXa</td>\n",
       "      <td>0.642</td>\n",
       "      <td>0.487</td>\n",
       "      <td>113.815</td>\n",
       "      <td>0.528</td>\n",
       "      <td>0.376</td>\n",
       "      <td>82.014</td>\n",
       "      <td>0.550</td>\n",
       "      <td>0.319</td>\n",
       "      <td>159.971</td>\n",
       "      <td>0.5390</td>\n",
       "      <td>0.3475</td>\n",
       "      <td>120.9925</td>\n",
       "      <td>0.022</td>\n",
       "      <td>0.057</td>\n",
       "      <td>77.957</td>\n",
       "      <td>0.0</td>\n",
       "      <td>0.0</td>\n",
       "    </tr>\n",
       "  </tbody>\n",
       "</table>\n",
       "</div>"
      ],
      "text/plain": [
       "                        current_track-next_track           current_track  \\\n",
       "0  7sKDftgGirHWTVFMtJoDoh_5600nq7TiBraBX2jobyJ3l  7sKDftgGirHWTVFMtJoDoh   \n",
       "1  2CTN6UuO2dNEVZXR0DJVk2_1uru26I2JKd2mQZt0MDCUe  2CTN6UuO2dNEVZXR0DJVk2   \n",
       "2  2CTN6UuO2dNEVZXR0DJVk2_7pdF27mSDuPWhppnHAmWHa  2CTN6UuO2dNEVZXR0DJVk2   \n",
       "3  2CTN6UuO2dNEVZXR0DJVk2_1roCmBlcpV7LzsmB7pmCyt  2CTN6UuO2dNEVZXR0DJVk2   \n",
       "4  2CTN6UuO2dNEVZXR0DJVk2_708L4ld9wD2pjoqKwaxkXa  2CTN6UuO2dNEVZXR0DJVk2   \n",
       "\n",
       "               next_track  energy_median  valence_median  tempo_median  \\\n",
       "0  5600nq7TiBraBX2jobyJ3l          0.642           0.487       113.815   \n",
       "1  1uru26I2JKd2mQZt0MDCUe          0.642           0.487       113.815   \n",
       "2  7pdF27mSDuPWhppnHAmWHa          0.642           0.487       113.815   \n",
       "3  1roCmBlcpV7LzsmB7pmCyt          0.642           0.487       113.815   \n",
       "4  708L4ld9wD2pjoqKwaxkXa          0.642           0.487       113.815   \n",
       "\n",
       "   energy_ct  valence_ct  tempo_ct  energy_nt  valence_nt  tempo_nt  \\\n",
       "0      0.796       0.551    97.976      0.821       0.509   188.098   \n",
       "1      0.528       0.376    82.014      0.531       0.321   164.848   \n",
       "2      0.528       0.376    82.014      0.525       0.369   160.147   \n",
       "3      0.528       0.376    82.014      0.569       0.440   150.267   \n",
       "4      0.528       0.376    82.014      0.550       0.319   159.971   \n",
       "\n",
       "   energy_mid_pont  valence_mid_pont  tempo_mid_pont  diff_energy  \\\n",
       "0           0.8085            0.5300        143.0370        0.025   \n",
       "1           0.5295            0.3485        123.4310        0.003   \n",
       "2           0.5265            0.3725        121.0805        0.003   \n",
       "3           0.5485            0.4080        116.1405        0.041   \n",
       "4           0.5390            0.3475        120.9925        0.022   \n",
       "\n",
       "   diff_valence  diff_tempo  euclidian_dist_midpoint_median  \\\n",
       "0         0.042      90.122                             0.0   \n",
       "1         0.055      82.834                             0.0   \n",
       "2         0.007      78.133                             0.0   \n",
       "3         0.064      68.253                             0.0   \n",
       "4         0.057      77.957                             0.0   \n",
       "\n",
       "   euclidian_dist_track  \n",
       "0                   0.0  \n",
       "1                   0.0  \n",
       "2                   0.0  \n",
       "3                   0.0  \n",
       "4                   0.0  "
      ]
     },
     "execution_count": 67,
     "metadata": {},
     "output_type": "execute_result"
    }
   ],
   "source": [
    "df_distance_low_high.head()"
   ]
  },
  {
   "cell_type": "code",
   "execution_count": 68,
   "metadata": {
    "ExecuteTime": {
     "end_time": "2019-06-25T10:12:09.738919Z",
     "start_time": "2019-06-25T09:57:10.886476Z"
    }
   },
   "outputs": [
    {
     "name": "stderr",
     "output_type": "stream",
     "text": [
      "  0%|                                                                                         | 0/1452 [00:00<?, ?it/s]C:\\Users\\s178288\\AppData\\Local\\Continuum\\anaconda3\\lib\\site-packages\\ipykernel_launcher.py:7: SettingWithCopyWarning: \n",
      "A value is trying to be set on a copy of a slice from a DataFrame\n",
      "\n",
      "See the caveats in the documentation: http://pandas.pydata.org/pandas-docs/stable/indexing.html#indexing-view-versus-copy\n",
      "  import sys\n",
      "C:\\Users\\s178288\\AppData\\Local\\Continuum\\anaconda3\\lib\\site-packages\\IPython\\core\\interactiveshell.py:2963: SettingWithCopyWarning: \n",
      "A value is trying to be set on a copy of a slice from a DataFrame\n",
      "\n",
      "See the caveats in the documentation: http://pandas.pydata.org/pandas-docs/stable/indexing.html#indexing-view-versus-copy\n",
      "  exec(code_obj, self.user_global_ns, self.user_ns)\n",
      "C:\\Users\\s178288\\AppData\\Local\\Continuum\\anaconda3\\lib\\site-packages\\ipykernel_launcher.py:10: SettingWithCopyWarning: \n",
      "A value is trying to be set on a copy of a slice from a DataFrame\n",
      "\n",
      "See the caveats in the documentation: http://pandas.pydata.org/pandas-docs/stable/indexing.html#indexing-view-versus-copy\n",
      "  # Remove the CWD from sys.path while we load stuff.\n",
      "100%|██████████████████████████████████████████████████████████████████████████████| 1452/1452 [14:58<00:00,  1.62it/s]\n"
     ]
    }
   ],
   "source": [
    "# Insert column with Euclidian distance between midpoint of 2 tracks and the median\n",
    "from tqdm import tqdm\n",
    "\n",
    "for idx in tqdm(range(len(df_distance_low_high))):\n",
    "    a = np.array(df_distance_low_high[['energy_mid_pont', 'valence_mid_pont', 'tempo_mid_pont']].iloc[idx])\n",
    "    b = np.array(df_distance_low_high[['energy_median', 'valence_median', 'tempo_median']].iloc[idx])\n",
    "    df_distance_low_high['euclidian_dist_midpoint_median'][idx] = np.linalg.norm(a-b)\n",
    "    c = np.array(df_distance_low_high[['energy_ct', 'valence_ct', 'tempo_ct']].iloc[idx])\n",
    "    d = np.array(df_distance_low_high[['energy_nt', 'valence_nt', 'tempo_nt']].iloc[idx])\n",
    "    df_distance_low_high['euclidian_dist_track'][idx] = np.linalg.norm(c-d)"
   ]
  },
  {
   "cell_type": "code",
   "execution_count": 69,
   "metadata": {
    "ExecuteTime": {
     "end_time": "2019-06-25T10:12:14.740209Z",
     "start_time": "2019-06-25T10:12:14.716895Z"
    }
   },
   "outputs": [
    {
     "data": {
      "text/html": [
       "<div>\n",
       "<style scoped>\n",
       "    .dataframe tbody tr th:only-of-type {\n",
       "        vertical-align: middle;\n",
       "    }\n",
       "\n",
       "    .dataframe tbody tr th {\n",
       "        vertical-align: top;\n",
       "    }\n",
       "\n",
       "    .dataframe thead th {\n",
       "        text-align: right;\n",
       "    }\n",
       "</style>\n",
       "<table border=\"1\" class=\"dataframe\">\n",
       "  <thead>\n",
       "    <tr style=\"text-align: right;\">\n",
       "      <th></th>\n",
       "      <th>current_track-next_track</th>\n",
       "      <th>current_track</th>\n",
       "      <th>next_track</th>\n",
       "      <th>energy_median</th>\n",
       "      <th>valence_median</th>\n",
       "      <th>tempo_median</th>\n",
       "      <th>energy_ct</th>\n",
       "      <th>valence_ct</th>\n",
       "      <th>tempo_ct</th>\n",
       "      <th>energy_nt</th>\n",
       "      <th>valence_nt</th>\n",
       "      <th>tempo_nt</th>\n",
       "      <th>energy_mid_pont</th>\n",
       "      <th>valence_mid_pont</th>\n",
       "      <th>tempo_mid_pont</th>\n",
       "      <th>diff_energy</th>\n",
       "      <th>diff_valence</th>\n",
       "      <th>diff_tempo</th>\n",
       "      <th>euclidian_dist_midpoint_median</th>\n",
       "      <th>euclidian_dist_track</th>\n",
       "    </tr>\n",
       "  </thead>\n",
       "  <tbody>\n",
       "    <tr>\n",
       "      <th>0</th>\n",
       "      <td>7sKDftgGirHWTVFMtJoDoh_5600nq7TiBraBX2jobyJ3l</td>\n",
       "      <td>7sKDftgGirHWTVFMtJoDoh</td>\n",
       "      <td>5600nq7TiBraBX2jobyJ3l</td>\n",
       "      <td>0.642</td>\n",
       "      <td>0.487</td>\n",
       "      <td>113.815</td>\n",
       "      <td>0.796</td>\n",
       "      <td>0.551</td>\n",
       "      <td>97.976</td>\n",
       "      <td>0.821</td>\n",
       "      <td>0.509</td>\n",
       "      <td>188.098</td>\n",
       "      <td>0.8085</td>\n",
       "      <td>0.5300</td>\n",
       "      <td>143.0370</td>\n",
       "      <td>0.025</td>\n",
       "      <td>0.042</td>\n",
       "      <td>90.122</td>\n",
       "      <td>29.222506</td>\n",
       "      <td>90.122013</td>\n",
       "    </tr>\n",
       "    <tr>\n",
       "      <th>1</th>\n",
       "      <td>2CTN6UuO2dNEVZXR0DJVk2_1uru26I2JKd2mQZt0MDCUe</td>\n",
       "      <td>2CTN6UuO2dNEVZXR0DJVk2</td>\n",
       "      <td>1uru26I2JKd2mQZt0MDCUe</td>\n",
       "      <td>0.642</td>\n",
       "      <td>0.487</td>\n",
       "      <td>113.815</td>\n",
       "      <td>0.528</td>\n",
       "      <td>0.376</td>\n",
       "      <td>82.014</td>\n",
       "      <td>0.531</td>\n",
       "      <td>0.321</td>\n",
       "      <td>164.848</td>\n",
       "      <td>0.5295</td>\n",
       "      <td>0.3485</td>\n",
       "      <td>123.4310</td>\n",
       "      <td>0.003</td>\n",
       "      <td>0.055</td>\n",
       "      <td>82.834</td>\n",
       "      <td>9.617655</td>\n",
       "      <td>82.834018</td>\n",
       "    </tr>\n",
       "    <tr>\n",
       "      <th>2</th>\n",
       "      <td>2CTN6UuO2dNEVZXR0DJVk2_7pdF27mSDuPWhppnHAmWHa</td>\n",
       "      <td>2CTN6UuO2dNEVZXR0DJVk2</td>\n",
       "      <td>7pdF27mSDuPWhppnHAmWHa</td>\n",
       "      <td>0.642</td>\n",
       "      <td>0.487</td>\n",
       "      <td>113.815</td>\n",
       "      <td>0.528</td>\n",
       "      <td>0.376</td>\n",
       "      <td>82.014</td>\n",
       "      <td>0.525</td>\n",
       "      <td>0.369</td>\n",
       "      <td>160.147</td>\n",
       "      <td>0.5265</td>\n",
       "      <td>0.3725</td>\n",
       "      <td>121.0805</td>\n",
       "      <td>0.003</td>\n",
       "      <td>0.007</td>\n",
       "      <td>78.133</td>\n",
       "      <td>7.267320</td>\n",
       "      <td>78.133000</td>\n",
       "    </tr>\n",
       "    <tr>\n",
       "      <th>3</th>\n",
       "      <td>2CTN6UuO2dNEVZXR0DJVk2_1roCmBlcpV7LzsmB7pmCyt</td>\n",
       "      <td>2CTN6UuO2dNEVZXR0DJVk2</td>\n",
       "      <td>1roCmBlcpV7LzsmB7pmCyt</td>\n",
       "      <td>0.642</td>\n",
       "      <td>0.487</td>\n",
       "      <td>113.815</td>\n",
       "      <td>0.528</td>\n",
       "      <td>0.376</td>\n",
       "      <td>82.014</td>\n",
       "      <td>0.569</td>\n",
       "      <td>0.440</td>\n",
       "      <td>150.267</td>\n",
       "      <td>0.5485</td>\n",
       "      <td>0.4080</td>\n",
       "      <td>116.1405</td>\n",
       "      <td>0.041</td>\n",
       "      <td>0.064</td>\n",
       "      <td>68.253</td>\n",
       "      <td>2.328719</td>\n",
       "      <td>68.253042</td>\n",
       "    </tr>\n",
       "    <tr>\n",
       "      <th>4</th>\n",
       "      <td>2CTN6UuO2dNEVZXR0DJVk2_708L4ld9wD2pjoqKwaxkXa</td>\n",
       "      <td>2CTN6UuO2dNEVZXR0DJVk2</td>\n",
       "      <td>708L4ld9wD2pjoqKwaxkXa</td>\n",
       "      <td>0.642</td>\n",
       "      <td>0.487</td>\n",
       "      <td>113.815</td>\n",
       "      <td>0.528</td>\n",
       "      <td>0.376</td>\n",
       "      <td>82.014</td>\n",
       "      <td>0.550</td>\n",
       "      <td>0.319</td>\n",
       "      <td>159.971</td>\n",
       "      <td>0.5390</td>\n",
       "      <td>0.3475</td>\n",
       "      <td>120.9925</td>\n",
       "      <td>0.022</td>\n",
       "      <td>0.057</td>\n",
       "      <td>77.957</td>\n",
       "      <td>7.179594</td>\n",
       "      <td>77.957024</td>\n",
       "    </tr>\n",
       "  </tbody>\n",
       "</table>\n",
       "</div>"
      ],
      "text/plain": [
       "                        current_track-next_track           current_track  \\\n",
       "0  7sKDftgGirHWTVFMtJoDoh_5600nq7TiBraBX2jobyJ3l  7sKDftgGirHWTVFMtJoDoh   \n",
       "1  2CTN6UuO2dNEVZXR0DJVk2_1uru26I2JKd2mQZt0MDCUe  2CTN6UuO2dNEVZXR0DJVk2   \n",
       "2  2CTN6UuO2dNEVZXR0DJVk2_7pdF27mSDuPWhppnHAmWHa  2CTN6UuO2dNEVZXR0DJVk2   \n",
       "3  2CTN6UuO2dNEVZXR0DJVk2_1roCmBlcpV7LzsmB7pmCyt  2CTN6UuO2dNEVZXR0DJVk2   \n",
       "4  2CTN6UuO2dNEVZXR0DJVk2_708L4ld9wD2pjoqKwaxkXa  2CTN6UuO2dNEVZXR0DJVk2   \n",
       "\n",
       "               next_track  energy_median  valence_median  tempo_median  \\\n",
       "0  5600nq7TiBraBX2jobyJ3l          0.642           0.487       113.815   \n",
       "1  1uru26I2JKd2mQZt0MDCUe          0.642           0.487       113.815   \n",
       "2  7pdF27mSDuPWhppnHAmWHa          0.642           0.487       113.815   \n",
       "3  1roCmBlcpV7LzsmB7pmCyt          0.642           0.487       113.815   \n",
       "4  708L4ld9wD2pjoqKwaxkXa          0.642           0.487       113.815   \n",
       "\n",
       "   energy_ct  valence_ct  tempo_ct  energy_nt  valence_nt  tempo_nt  \\\n",
       "0      0.796       0.551    97.976      0.821       0.509   188.098   \n",
       "1      0.528       0.376    82.014      0.531       0.321   164.848   \n",
       "2      0.528       0.376    82.014      0.525       0.369   160.147   \n",
       "3      0.528       0.376    82.014      0.569       0.440   150.267   \n",
       "4      0.528       0.376    82.014      0.550       0.319   159.971   \n",
       "\n",
       "   energy_mid_pont  valence_mid_pont  tempo_mid_pont  diff_energy  \\\n",
       "0           0.8085            0.5300        143.0370        0.025   \n",
       "1           0.5295            0.3485        123.4310        0.003   \n",
       "2           0.5265            0.3725        121.0805        0.003   \n",
       "3           0.5485            0.4080        116.1405        0.041   \n",
       "4           0.5390            0.3475        120.9925        0.022   \n",
       "\n",
       "   diff_valence  diff_tempo  euclidian_dist_midpoint_median  \\\n",
       "0         0.042      90.122                       29.222506   \n",
       "1         0.055      82.834                        9.617655   \n",
       "2         0.007      78.133                        7.267320   \n",
       "3         0.064      68.253                        2.328719   \n",
       "4         0.057      77.957                        7.179594   \n",
       "\n",
       "   euclidian_dist_track  \n",
       "0             90.122013  \n",
       "1             82.834018  \n",
       "2             78.133000  \n",
       "3             68.253042  \n",
       "4             77.957024  "
      ]
     },
     "execution_count": 69,
     "metadata": {},
     "output_type": "execute_result"
    }
   ],
   "source": [
    "df_distance_low_high.head()"
   ]
  },
  {
   "cell_type": "code",
   "execution_count": 70,
   "metadata": {
    "ExecuteTime": {
     "end_time": "2019-06-25T11:13:22.105049Z",
     "start_time": "2019-06-25T11:13:22.096120Z"
    }
   },
   "outputs": [
    {
     "name": "stdout",
     "output_type": "stream",
     "text": [
      "<class 'pandas.core.frame.DataFrame'>\n",
      "RangeIndex: 1452 entries, 0 to 1451\n",
      "Data columns (total 20 columns):\n",
      "current_track-next_track          1452 non-null object\n",
      "current_track                     1452 non-null object\n",
      "next_track                        1452 non-null object\n",
      "energy_median                     1452 non-null float64\n",
      "valence_median                    1452 non-null float64\n",
      "tempo_median                      1452 non-null float64\n",
      "energy_ct                         1452 non-null float64\n",
      "valence_ct                        1452 non-null float64\n",
      "tempo_ct                          1452 non-null float64\n",
      "energy_nt                         1452 non-null float64\n",
      "valence_nt                        1452 non-null float64\n",
      "tempo_nt                          1452 non-null float64\n",
      "energy_mid_pont                   1452 non-null float64\n",
      "valence_mid_pont                  1452 non-null float64\n",
      "tempo_mid_pont                    1452 non-null float64\n",
      "diff_energy                       1452 non-null float64\n",
      "diff_valence                      1452 non-null float64\n",
      "diff_tempo                        1452 non-null float64\n",
      "euclidian_dist_midpoint_median    1452 non-null float64\n",
      "euclidian_dist_track              1452 non-null float64\n",
      "dtypes: float64(17), object(3)\n",
      "memory usage: 227.0+ KB\n"
     ]
    }
   ],
   "source": [
    "df_distance_low_high.info(null_counts=True)"
   ]
  },
  {
   "cell_type": "code",
   "execution_count": 71,
   "metadata": {
    "ExecuteTime": {
     "end_time": "2019-06-25T11:13:32.783668Z",
     "start_time": "2019-06-25T11:13:27.177147Z"
    }
   },
   "outputs": [],
   "source": [
    "# save in csv\n",
    "\n",
    "df_distance_low_high.to_csv(creating_playlist_folder+\"distance_low_high_pop_l20_h90_\"+TodaysDate+\".csv\",index=0)"
   ]
  },
  {
   "cell_type": "markdown",
   "metadata": {},
   "source": [
    "## Building playlist 3 - 'high' energy/valence & 'low' tempo"
   ]
  },
  {
   "cell_type": "markdown",
   "metadata": {},
   "source": [
    "### Filtering (he, hv, lt) and outliers\n",
    "\n",
    "From the 2-track sequences that have snippets sequences with high absolute difference in energy, valence, and low absolute difference for tempo are chosen."
   ]
  },
  {
   "cell_type": "code",
   "execution_count": 72,
   "metadata": {
    "ExecuteTime": {
     "end_time": "2019-06-25T11:13:37.816758Z",
     "start_time": "2019-06-25T11:13:37.811511Z"
    }
   },
   "outputs": [
    {
     "name": "stdout",
     "output_type": "stream",
     "text": [
      "8.45\n"
     ]
    }
   ],
   "source": [
    "lt = round(df_percentailes['diff_tempo'][0.20],2)\n",
    "print(lt)"
   ]
  },
  {
   "cell_type": "code",
   "execution_count": 73,
   "metadata": {
    "ExecuteTime": {
     "end_time": "2019-06-25T11:14:05.041389Z",
     "start_time": "2019-06-25T11:14:05.035959Z"
    }
   },
   "outputs": [
    {
     "name": "stdout",
     "output_type": "stream",
     "text": [
      "0.37 0.49\n"
     ]
    }
   ],
   "source": [
    "he = round(df_percentailes['diff_energy'][0.90],2)\n",
    "hv = round(df_percentailes['diff_valence'][0.90],2)\n",
    "print(he,hv)"
   ]
  },
  {
   "cell_type": "code",
   "execution_count": 75,
   "metadata": {
    "ExecuteTime": {
     "end_time": "2019-06-25T11:14:40.677394Z",
     "start_time": "2019-06-25T11:14:40.638698Z"
    }
   },
   "outputs": [
    {
     "data": {
      "text/html": [
       "<div>\n",
       "<style scoped>\n",
       "    .dataframe tbody tr th:only-of-type {\n",
       "        vertical-align: middle;\n",
       "    }\n",
       "\n",
       "    .dataframe tbody tr th {\n",
       "        vertical-align: top;\n",
       "    }\n",
       "\n",
       "    .dataframe thead th {\n",
       "        text-align: right;\n",
       "    }\n",
       "</style>\n",
       "<table border=\"1\" class=\"dataframe\">\n",
       "  <thead>\n",
       "    <tr style=\"text-align: right;\">\n",
       "      <th></th>\n",
       "      <th>current_track-next_track</th>\n",
       "      <th>diff_energy</th>\n",
       "      <th>diff_valence</th>\n",
       "      <th>diff_tempo</th>\n",
       "    </tr>\n",
       "  </thead>\n",
       "  <tbody>\n",
       "    <tr>\n",
       "      <th>0</th>\n",
       "      <td>1gVkQo9V1l9eBRd2BE5BCX_4y1LsJpmMti1PfRQV9AWWe</td>\n",
       "      <td>0.425</td>\n",
       "      <td>0.535</td>\n",
       "      <td>0.000</td>\n",
       "    </tr>\n",
       "    <tr>\n",
       "      <th>1</th>\n",
       "      <td>4y1LsJpmMti1PfRQV9AWWe_1gVkQo9V1l9eBRd2BE5BCX</td>\n",
       "      <td>0.425</td>\n",
       "      <td>0.535</td>\n",
       "      <td>0.000</td>\n",
       "    </tr>\n",
       "    <tr>\n",
       "      <th>2</th>\n",
       "      <td>4y1LsJpmMti1PfRQV9AWWe_5fNrm4tC6DyhfbkzQIDiDd</td>\n",
       "      <td>0.425</td>\n",
       "      <td>0.535</td>\n",
       "      <td>0.000</td>\n",
       "    </tr>\n",
       "    <tr>\n",
       "      <th>3</th>\n",
       "      <td>5fNrm4tC6DyhfbkzQIDiDd_4y1LsJpmMti1PfRQV9AWWe</td>\n",
       "      <td>0.425</td>\n",
       "      <td>0.535</td>\n",
       "      <td>0.000</td>\n",
       "    </tr>\n",
       "    <tr>\n",
       "      <th>4</th>\n",
       "      <td>1bhUWB0zJMIKr9yVPrkEuI_6aPi3SH0DVAibe7SNNLv2N</td>\n",
       "      <td>0.438</td>\n",
       "      <td>0.575</td>\n",
       "      <td>0.001</td>\n",
       "    </tr>\n",
       "  </tbody>\n",
       "</table>\n",
       "</div>"
      ],
      "text/plain": [
       "                        current_track-next_track  diff_energy  diff_valence  \\\n",
       "0  1gVkQo9V1l9eBRd2BE5BCX_4y1LsJpmMti1PfRQV9AWWe        0.425         0.535   \n",
       "1  4y1LsJpmMti1PfRQV9AWWe_1gVkQo9V1l9eBRd2BE5BCX        0.425         0.535   \n",
       "2  4y1LsJpmMti1PfRQV9AWWe_5fNrm4tC6DyhfbkzQIDiDd        0.425         0.535   \n",
       "3  5fNrm4tC6DyhfbkzQIDiDd_4y1LsJpmMti1PfRQV9AWWe        0.425         0.535   \n",
       "4  1bhUWB0zJMIKr9yVPrkEuI_6aPi3SH0DVAibe7SNNLv2N        0.438         0.575   \n",
       "\n",
       "   diff_tempo  \n",
       "0       0.000  \n",
       "1       0.000  \n",
       "2       0.000  \n",
       "3       0.000  \n",
       "4       0.001  "
      ]
     },
     "execution_count": 75,
     "metadata": {},
     "output_type": "execute_result"
    }
   ],
   "source": [
    "df_diff_high_low = df_diff_with_snippets[(df_diff_with_snippets['diff_energy'] >= he) & (df_diff_with_snippets['diff_energy'] < out_energy_tracks_diff_in_playlists)\n",
    "                                         & (df_diff_with_snippets['diff_valence'] >= hv) & (df_diff_with_snippets['diff_valence'] < out_valence_tracks_diff_in_playlists) \n",
    "                                        & (df_diff_with_snippets['diff_tempo'] <= lt)][['current_track-next_track','diff_energy','diff_valence','diff_tempo']].sort_values(by=['diff_tempo','diff_valence','diff_energy'])\n",
    "\n",
    "df_diff_high_low.reset_index(drop=True,inplace=True)\n",
    "df_diff_high_low.head()"
   ]
  },
  {
   "cell_type": "code",
   "execution_count": 76,
   "metadata": {
    "ExecuteTime": {
     "end_time": "2019-06-25T11:14:45.662159Z",
     "start_time": "2019-06-25T11:14:45.656207Z"
    }
   },
   "outputs": [
    {
     "data": {
      "text/plain": [
       "(3460, 4)"
      ]
     },
     "execution_count": 76,
     "metadata": {},
     "output_type": "execute_result"
    }
   ],
   "source": [
    "df_diff_high_low.shape"
   ]
  },
  {
   "cell_type": "code",
   "execution_count": 77,
   "metadata": {
    "ExecuteTime": {
     "end_time": "2019-06-25T11:14:50.728303Z",
     "start_time": "2019-06-25T11:14:50.720369Z"
    }
   },
   "outputs": [
    {
     "data": {
      "text/plain": [
       "diff_energy     0.37\n",
       "diff_valence    0.49\n",
       "diff_tempo      0.00\n",
       "dtype: float64"
      ]
     },
     "execution_count": 77,
     "metadata": {},
     "output_type": "execute_result"
    }
   ],
   "source": [
    "df_diff_high_low[['diff_energy','diff_valence','diff_tempo']].min()"
   ]
  },
  {
   "cell_type": "code",
   "execution_count": 78,
   "metadata": {
    "ExecuteTime": {
     "end_time": "2019-06-25T11:14:55.746369Z",
     "start_time": "2019-06-25T11:14:55.738898Z"
    }
   },
   "outputs": [
    {
     "data": {
      "text/plain": [
       "diff_energy     0.529\n",
       "diff_valence    0.728\n",
       "diff_tempo      8.439\n",
       "dtype: float64"
      ]
     },
     "execution_count": 78,
     "metadata": {},
     "output_type": "execute_result"
    }
   ],
   "source": [
    "df_diff_high_low[['diff_energy','diff_valence','diff_tempo']].max()"
   ]
  },
  {
   "cell_type": "code",
   "execution_count": 79,
   "metadata": {
    "ExecuteTime": {
     "end_time": "2019-06-25T11:15:23.812605Z",
     "start_time": "2019-06-25T11:15:23.808638Z"
    }
   },
   "outputs": [],
   "source": [
    "list_high_low_current_next_track = df_diff_high_low[\"current_track-next_track\"].tolist()"
   ]
  },
  {
   "cell_type": "code",
   "execution_count": 80,
   "metadata": {
    "ExecuteTime": {
     "end_time": "2019-06-25T11:15:32.357398Z",
     "start_time": "2019-06-25T11:15:32.279963Z"
    }
   },
   "outputs": [],
   "source": [
    "# df_distance only with pairs considering the low low restriction\n",
    "df_distance_high_low = df_distance[df_distance[\"current_track-next_track\"].isin(list_high_low_current_next_track)]"
   ]
  },
  {
   "cell_type": "code",
   "execution_count": 81,
   "metadata": {
    "ExecuteTime": {
     "end_time": "2019-06-25T11:15:37.425951Z",
     "start_time": "2019-06-25T11:15:37.421020Z"
    }
   },
   "outputs": [
    {
     "data": {
      "text/plain": [
       "(3460, 18)"
      ]
     },
     "execution_count": 81,
     "metadata": {},
     "output_type": "execute_result"
    }
   ],
   "source": [
    "df_distance_high_low.shape"
   ]
  },
  {
   "cell_type": "code",
   "execution_count": 82,
   "metadata": {
    "ExecuteTime": {
     "end_time": "2019-06-25T11:15:42.439551Z",
     "start_time": "2019-06-25T11:15:42.435553Z"
    }
   },
   "outputs": [],
   "source": [
    "df_distance_high_low.reset_index(drop=True, inplace=True)"
   ]
  },
  {
   "cell_type": "code",
   "execution_count": 83,
   "metadata": {
    "ExecuteTime": {
     "end_time": "2019-06-25T11:15:47.553280Z",
     "start_time": "2019-06-25T11:15:47.528978Z"
    }
   },
   "outputs": [
    {
     "data": {
      "text/html": [
       "<div>\n",
       "<style scoped>\n",
       "    .dataframe tbody tr th:only-of-type {\n",
       "        vertical-align: middle;\n",
       "    }\n",
       "\n",
       "    .dataframe tbody tr th {\n",
       "        vertical-align: top;\n",
       "    }\n",
       "\n",
       "    .dataframe thead th {\n",
       "        text-align: right;\n",
       "    }\n",
       "</style>\n",
       "<table border=\"1\" class=\"dataframe\">\n",
       "  <thead>\n",
       "    <tr style=\"text-align: right;\">\n",
       "      <th></th>\n",
       "      <th>current_track-next_track</th>\n",
       "      <th>current_track</th>\n",
       "      <th>next_track</th>\n",
       "      <th>energy_median</th>\n",
       "      <th>valence_median</th>\n",
       "      <th>tempo_median</th>\n",
       "      <th>energy_ct</th>\n",
       "      <th>valence_ct</th>\n",
       "      <th>tempo_ct</th>\n",
       "      <th>energy_nt</th>\n",
       "      <th>valence_nt</th>\n",
       "      <th>tempo_nt</th>\n",
       "      <th>energy_mid_pont</th>\n",
       "      <th>valence_mid_pont</th>\n",
       "      <th>tempo_mid_pont</th>\n",
       "      <th>diff_energy</th>\n",
       "      <th>diff_valence</th>\n",
       "      <th>diff_tempo</th>\n",
       "    </tr>\n",
       "  </thead>\n",
       "  <tbody>\n",
       "    <tr>\n",
       "      <th>0</th>\n",
       "      <td>5QJavZ2sUpPrhyMWItEBJC_1pVz7AJO2UZd5ouOhoIlhS</td>\n",
       "      <td>5QJavZ2sUpPrhyMWItEBJC</td>\n",
       "      <td>1pVz7AJO2UZd5ouOhoIlhS</td>\n",
       "      <td>0.642</td>\n",
       "      <td>0.487</td>\n",
       "      <td>113.815</td>\n",
       "      <td>0.220</td>\n",
       "      <td>0.323</td>\n",
       "      <td>70.165</td>\n",
       "      <td>0.614</td>\n",
       "      <td>0.8360</td>\n",
       "      <td>76.017</td>\n",
       "      <td>0.4170</td>\n",
       "      <td>0.57950</td>\n",
       "      <td>73.0910</td>\n",
       "      <td>0.394</td>\n",
       "      <td>0.5130</td>\n",
       "      <td>5.852</td>\n",
       "    </tr>\n",
       "    <tr>\n",
       "      <th>1</th>\n",
       "      <td>544Vnwfg8YSUP6An38yUsT_6RPb92J2rlqC1DK7BWIgpF</td>\n",
       "      <td>544Vnwfg8YSUP6An38yUsT</td>\n",
       "      <td>6RPb92J2rlqC1DK7BWIgpF</td>\n",
       "      <td>0.642</td>\n",
       "      <td>0.487</td>\n",
       "      <td>113.815</td>\n",
       "      <td>0.793</td>\n",
       "      <td>0.847</td>\n",
       "      <td>128.046</td>\n",
       "      <td>0.311</td>\n",
       "      <td>0.2070</td>\n",
       "      <td>132.199</td>\n",
       "      <td>0.5520</td>\n",
       "      <td>0.52700</td>\n",
       "      <td>130.1225</td>\n",
       "      <td>0.482</td>\n",
       "      <td>0.6400</td>\n",
       "      <td>4.153</td>\n",
       "    </tr>\n",
       "    <tr>\n",
       "      <th>2</th>\n",
       "      <td>3GZFKiGVYv3SBQ6PLf3JgF_1tU5J8aMqCQe7WtqTkFLQL</td>\n",
       "      <td>3GZFKiGVYv3SBQ6PLf3JgF</td>\n",
       "      <td>1tU5J8aMqCQe7WtqTkFLQL</td>\n",
       "      <td>0.642</td>\n",
       "      <td>0.487</td>\n",
       "      <td>113.815</td>\n",
       "      <td>0.256</td>\n",
       "      <td>0.266</td>\n",
       "      <td>95.288</td>\n",
       "      <td>0.629</td>\n",
       "      <td>0.8440</td>\n",
       "      <td>96.198</td>\n",
       "      <td>0.4425</td>\n",
       "      <td>0.55500</td>\n",
       "      <td>95.7430</td>\n",
       "      <td>0.373</td>\n",
       "      <td>0.5780</td>\n",
       "      <td>0.910</td>\n",
       "    </tr>\n",
       "    <tr>\n",
       "      <th>3</th>\n",
       "      <td>2ekn2ttSfGqwhhate0LSR0_3NWCPJllg1v12ElS4eQMKV</td>\n",
       "      <td>2ekn2ttSfGqwhhate0LSR0</td>\n",
       "      <td>3NWCPJllg1v12ElS4eQMKV</td>\n",
       "      <td>0.642</td>\n",
       "      <td>0.487</td>\n",
       "      <td>113.815</td>\n",
       "      <td>0.700</td>\n",
       "      <td>0.608</td>\n",
       "      <td>116.073</td>\n",
       "      <td>0.201</td>\n",
       "      <td>0.0763</td>\n",
       "      <td>109.328</td>\n",
       "      <td>0.4505</td>\n",
       "      <td>0.34215</td>\n",
       "      <td>112.7005</td>\n",
       "      <td>0.499</td>\n",
       "      <td>0.5317</td>\n",
       "      <td>6.745</td>\n",
       "    </tr>\n",
       "    <tr>\n",
       "      <th>4</th>\n",
       "      <td>2ekn2ttSfGqwhhate0LSR0_1tT55K6VEyO6XFDxK4lDQe</td>\n",
       "      <td>2ekn2ttSfGqwhhate0LSR0</td>\n",
       "      <td>1tT55K6VEyO6XFDxK4lDQe</td>\n",
       "      <td>0.642</td>\n",
       "      <td>0.487</td>\n",
       "      <td>113.815</td>\n",
       "      <td>0.700</td>\n",
       "      <td>0.608</td>\n",
       "      <td>116.073</td>\n",
       "      <td>0.181</td>\n",
       "      <td>0.0747</td>\n",
       "      <td>111.956</td>\n",
       "      <td>0.4405</td>\n",
       "      <td>0.34135</td>\n",
       "      <td>114.0145</td>\n",
       "      <td>0.519</td>\n",
       "      <td>0.5333</td>\n",
       "      <td>4.117</td>\n",
       "    </tr>\n",
       "  </tbody>\n",
       "</table>\n",
       "</div>"
      ],
      "text/plain": [
       "                        current_track-next_track           current_track  \\\n",
       "0  5QJavZ2sUpPrhyMWItEBJC_1pVz7AJO2UZd5ouOhoIlhS  5QJavZ2sUpPrhyMWItEBJC   \n",
       "1  544Vnwfg8YSUP6An38yUsT_6RPb92J2rlqC1DK7BWIgpF  544Vnwfg8YSUP6An38yUsT   \n",
       "2  3GZFKiGVYv3SBQ6PLf3JgF_1tU5J8aMqCQe7WtqTkFLQL  3GZFKiGVYv3SBQ6PLf3JgF   \n",
       "3  2ekn2ttSfGqwhhate0LSR0_3NWCPJllg1v12ElS4eQMKV  2ekn2ttSfGqwhhate0LSR0   \n",
       "4  2ekn2ttSfGqwhhate0LSR0_1tT55K6VEyO6XFDxK4lDQe  2ekn2ttSfGqwhhate0LSR0   \n",
       "\n",
       "               next_track  energy_median  valence_median  tempo_median  \\\n",
       "0  1pVz7AJO2UZd5ouOhoIlhS          0.642           0.487       113.815   \n",
       "1  6RPb92J2rlqC1DK7BWIgpF          0.642           0.487       113.815   \n",
       "2  1tU5J8aMqCQe7WtqTkFLQL          0.642           0.487       113.815   \n",
       "3  3NWCPJllg1v12ElS4eQMKV          0.642           0.487       113.815   \n",
       "4  1tT55K6VEyO6XFDxK4lDQe          0.642           0.487       113.815   \n",
       "\n",
       "   energy_ct  valence_ct  tempo_ct  energy_nt  valence_nt  tempo_nt  \\\n",
       "0      0.220       0.323    70.165      0.614      0.8360    76.017   \n",
       "1      0.793       0.847   128.046      0.311      0.2070   132.199   \n",
       "2      0.256       0.266    95.288      0.629      0.8440    96.198   \n",
       "3      0.700       0.608   116.073      0.201      0.0763   109.328   \n",
       "4      0.700       0.608   116.073      0.181      0.0747   111.956   \n",
       "\n",
       "   energy_mid_pont  valence_mid_pont  tempo_mid_pont  diff_energy  \\\n",
       "0           0.4170           0.57950         73.0910        0.394   \n",
       "1           0.5520           0.52700        130.1225        0.482   \n",
       "2           0.4425           0.55500         95.7430        0.373   \n",
       "3           0.4505           0.34215        112.7005        0.499   \n",
       "4           0.4405           0.34135        114.0145        0.519   \n",
       "\n",
       "   diff_valence  diff_tempo  \n",
       "0        0.5130       5.852  \n",
       "1        0.6400       4.153  \n",
       "2        0.5780       0.910  \n",
       "3        0.5317       6.745  \n",
       "4        0.5333       4.117  "
      ]
     },
     "execution_count": 83,
     "metadata": {},
     "output_type": "execute_result"
    }
   ],
   "source": [
    "df_distance_high_low.head()"
   ]
  },
  {
   "cell_type": "code",
   "execution_count": 84,
   "metadata": {
    "ExecuteTime": {
     "end_time": "2019-06-25T11:15:52.957726Z",
     "start_time": "2019-06-25T11:15:52.629842Z"
    }
   },
   "outputs": [
    {
     "name": "stderr",
     "output_type": "stream",
     "text": [
      "C:\\Users\\s178288\\AppData\\Local\\Continuum\\anaconda3\\lib\\site-packages\\ipykernel_launcher.py:2: SettingWithCopyWarning: \n",
      "A value is trying to be set on a copy of a slice from a DataFrame.\n",
      "Try using .loc[row_indexer,col_indexer] = value instead\n",
      "\n",
      "See the caveats in the documentation: http://pandas.pydata.org/pandas-docs/stable/indexing.html#indexing-view-versus-copy\n",
      "  \n",
      "C:\\Users\\s178288\\AppData\\Local\\Continuum\\anaconda3\\lib\\site-packages\\ipykernel_launcher.py:3: SettingWithCopyWarning: \n",
      "A value is trying to be set on a copy of a slice from a DataFrame.\n",
      "Try using .loc[row_indexer,col_indexer] = value instead\n",
      "\n",
      "See the caveats in the documentation: http://pandas.pydata.org/pandas-docs/stable/indexing.html#indexing-view-versus-copy\n",
      "  This is separate from the ipykernel package so we can avoid doing imports until\n"
     ]
    }
   ],
   "source": [
    "# calculate distances\n",
    "df_distance_high_low['euclidian_dist_midpoint_median'] = 0.00\n",
    "df_distance_high_low['euclidian_dist_track'] = 0.00"
   ]
  },
  {
   "cell_type": "code",
   "execution_count": 85,
   "metadata": {
    "ExecuteTime": {
     "end_time": "2019-06-25T11:15:58.000531Z",
     "start_time": "2019-06-25T11:15:57.973747Z"
    }
   },
   "outputs": [
    {
     "data": {
      "text/html": [
       "<div>\n",
       "<style scoped>\n",
       "    .dataframe tbody tr th:only-of-type {\n",
       "        vertical-align: middle;\n",
       "    }\n",
       "\n",
       "    .dataframe tbody tr th {\n",
       "        vertical-align: top;\n",
       "    }\n",
       "\n",
       "    .dataframe thead th {\n",
       "        text-align: right;\n",
       "    }\n",
       "</style>\n",
       "<table border=\"1\" class=\"dataframe\">\n",
       "  <thead>\n",
       "    <tr style=\"text-align: right;\">\n",
       "      <th></th>\n",
       "      <th>current_track-next_track</th>\n",
       "      <th>current_track</th>\n",
       "      <th>next_track</th>\n",
       "      <th>energy_median</th>\n",
       "      <th>valence_median</th>\n",
       "      <th>tempo_median</th>\n",
       "      <th>energy_ct</th>\n",
       "      <th>valence_ct</th>\n",
       "      <th>tempo_ct</th>\n",
       "      <th>energy_nt</th>\n",
       "      <th>valence_nt</th>\n",
       "      <th>tempo_nt</th>\n",
       "      <th>energy_mid_pont</th>\n",
       "      <th>valence_mid_pont</th>\n",
       "      <th>tempo_mid_pont</th>\n",
       "      <th>diff_energy</th>\n",
       "      <th>diff_valence</th>\n",
       "      <th>diff_tempo</th>\n",
       "      <th>euclidian_dist_midpoint_median</th>\n",
       "      <th>euclidian_dist_track</th>\n",
       "    </tr>\n",
       "  </thead>\n",
       "  <tbody>\n",
       "    <tr>\n",
       "      <th>0</th>\n",
       "      <td>5QJavZ2sUpPrhyMWItEBJC_1pVz7AJO2UZd5ouOhoIlhS</td>\n",
       "      <td>5QJavZ2sUpPrhyMWItEBJC</td>\n",
       "      <td>1pVz7AJO2UZd5ouOhoIlhS</td>\n",
       "      <td>0.642</td>\n",
       "      <td>0.487</td>\n",
       "      <td>113.815</td>\n",
       "      <td>0.220</td>\n",
       "      <td>0.323</td>\n",
       "      <td>70.165</td>\n",
       "      <td>0.614</td>\n",
       "      <td>0.8360</td>\n",
       "      <td>76.017</td>\n",
       "      <td>0.4170</td>\n",
       "      <td>0.57950</td>\n",
       "      <td>73.0910</td>\n",
       "      <td>0.394</td>\n",
       "      <td>0.5130</td>\n",
       "      <td>5.852</td>\n",
       "      <td>0.0</td>\n",
       "      <td>0.0</td>\n",
       "    </tr>\n",
       "    <tr>\n",
       "      <th>1</th>\n",
       "      <td>544Vnwfg8YSUP6An38yUsT_6RPb92J2rlqC1DK7BWIgpF</td>\n",
       "      <td>544Vnwfg8YSUP6An38yUsT</td>\n",
       "      <td>6RPb92J2rlqC1DK7BWIgpF</td>\n",
       "      <td>0.642</td>\n",
       "      <td>0.487</td>\n",
       "      <td>113.815</td>\n",
       "      <td>0.793</td>\n",
       "      <td>0.847</td>\n",
       "      <td>128.046</td>\n",
       "      <td>0.311</td>\n",
       "      <td>0.2070</td>\n",
       "      <td>132.199</td>\n",
       "      <td>0.5520</td>\n",
       "      <td>0.52700</td>\n",
       "      <td>130.1225</td>\n",
       "      <td>0.482</td>\n",
       "      <td>0.6400</td>\n",
       "      <td>4.153</td>\n",
       "      <td>0.0</td>\n",
       "      <td>0.0</td>\n",
       "    </tr>\n",
       "    <tr>\n",
       "      <th>2</th>\n",
       "      <td>3GZFKiGVYv3SBQ6PLf3JgF_1tU5J8aMqCQe7WtqTkFLQL</td>\n",
       "      <td>3GZFKiGVYv3SBQ6PLf3JgF</td>\n",
       "      <td>1tU5J8aMqCQe7WtqTkFLQL</td>\n",
       "      <td>0.642</td>\n",
       "      <td>0.487</td>\n",
       "      <td>113.815</td>\n",
       "      <td>0.256</td>\n",
       "      <td>0.266</td>\n",
       "      <td>95.288</td>\n",
       "      <td>0.629</td>\n",
       "      <td>0.8440</td>\n",
       "      <td>96.198</td>\n",
       "      <td>0.4425</td>\n",
       "      <td>0.55500</td>\n",
       "      <td>95.7430</td>\n",
       "      <td>0.373</td>\n",
       "      <td>0.5780</td>\n",
       "      <td>0.910</td>\n",
       "      <td>0.0</td>\n",
       "      <td>0.0</td>\n",
       "    </tr>\n",
       "    <tr>\n",
       "      <th>3</th>\n",
       "      <td>2ekn2ttSfGqwhhate0LSR0_3NWCPJllg1v12ElS4eQMKV</td>\n",
       "      <td>2ekn2ttSfGqwhhate0LSR0</td>\n",
       "      <td>3NWCPJllg1v12ElS4eQMKV</td>\n",
       "      <td>0.642</td>\n",
       "      <td>0.487</td>\n",
       "      <td>113.815</td>\n",
       "      <td>0.700</td>\n",
       "      <td>0.608</td>\n",
       "      <td>116.073</td>\n",
       "      <td>0.201</td>\n",
       "      <td>0.0763</td>\n",
       "      <td>109.328</td>\n",
       "      <td>0.4505</td>\n",
       "      <td>0.34215</td>\n",
       "      <td>112.7005</td>\n",
       "      <td>0.499</td>\n",
       "      <td>0.5317</td>\n",
       "      <td>6.745</td>\n",
       "      <td>0.0</td>\n",
       "      <td>0.0</td>\n",
       "    </tr>\n",
       "    <tr>\n",
       "      <th>4</th>\n",
       "      <td>2ekn2ttSfGqwhhate0LSR0_1tT55K6VEyO6XFDxK4lDQe</td>\n",
       "      <td>2ekn2ttSfGqwhhate0LSR0</td>\n",
       "      <td>1tT55K6VEyO6XFDxK4lDQe</td>\n",
       "      <td>0.642</td>\n",
       "      <td>0.487</td>\n",
       "      <td>113.815</td>\n",
       "      <td>0.700</td>\n",
       "      <td>0.608</td>\n",
       "      <td>116.073</td>\n",
       "      <td>0.181</td>\n",
       "      <td>0.0747</td>\n",
       "      <td>111.956</td>\n",
       "      <td>0.4405</td>\n",
       "      <td>0.34135</td>\n",
       "      <td>114.0145</td>\n",
       "      <td>0.519</td>\n",
       "      <td>0.5333</td>\n",
       "      <td>4.117</td>\n",
       "      <td>0.0</td>\n",
       "      <td>0.0</td>\n",
       "    </tr>\n",
       "  </tbody>\n",
       "</table>\n",
       "</div>"
      ],
      "text/plain": [
       "                        current_track-next_track           current_track  \\\n",
       "0  5QJavZ2sUpPrhyMWItEBJC_1pVz7AJO2UZd5ouOhoIlhS  5QJavZ2sUpPrhyMWItEBJC   \n",
       "1  544Vnwfg8YSUP6An38yUsT_6RPb92J2rlqC1DK7BWIgpF  544Vnwfg8YSUP6An38yUsT   \n",
       "2  3GZFKiGVYv3SBQ6PLf3JgF_1tU5J8aMqCQe7WtqTkFLQL  3GZFKiGVYv3SBQ6PLf3JgF   \n",
       "3  2ekn2ttSfGqwhhate0LSR0_3NWCPJllg1v12ElS4eQMKV  2ekn2ttSfGqwhhate0LSR0   \n",
       "4  2ekn2ttSfGqwhhate0LSR0_1tT55K6VEyO6XFDxK4lDQe  2ekn2ttSfGqwhhate0LSR0   \n",
       "\n",
       "               next_track  energy_median  valence_median  tempo_median  \\\n",
       "0  1pVz7AJO2UZd5ouOhoIlhS          0.642           0.487       113.815   \n",
       "1  6RPb92J2rlqC1DK7BWIgpF          0.642           0.487       113.815   \n",
       "2  1tU5J8aMqCQe7WtqTkFLQL          0.642           0.487       113.815   \n",
       "3  3NWCPJllg1v12ElS4eQMKV          0.642           0.487       113.815   \n",
       "4  1tT55K6VEyO6XFDxK4lDQe          0.642           0.487       113.815   \n",
       "\n",
       "   energy_ct  valence_ct  tempo_ct  energy_nt  valence_nt  tempo_nt  \\\n",
       "0      0.220       0.323    70.165      0.614      0.8360    76.017   \n",
       "1      0.793       0.847   128.046      0.311      0.2070   132.199   \n",
       "2      0.256       0.266    95.288      0.629      0.8440    96.198   \n",
       "3      0.700       0.608   116.073      0.201      0.0763   109.328   \n",
       "4      0.700       0.608   116.073      0.181      0.0747   111.956   \n",
       "\n",
       "   energy_mid_pont  valence_mid_pont  tempo_mid_pont  diff_energy  \\\n",
       "0           0.4170           0.57950         73.0910        0.394   \n",
       "1           0.5520           0.52700        130.1225        0.482   \n",
       "2           0.4425           0.55500         95.7430        0.373   \n",
       "3           0.4505           0.34215        112.7005        0.499   \n",
       "4           0.4405           0.34135        114.0145        0.519   \n",
       "\n",
       "   diff_valence  diff_tempo  euclidian_dist_midpoint_median  \\\n",
       "0        0.5130       5.852                             0.0   \n",
       "1        0.6400       4.153                             0.0   \n",
       "2        0.5780       0.910                             0.0   \n",
       "3        0.5317       6.745                             0.0   \n",
       "4        0.5333       4.117                             0.0   \n",
       "\n",
       "   euclidian_dist_track  \n",
       "0                   0.0  \n",
       "1                   0.0  \n",
       "2                   0.0  \n",
       "3                   0.0  \n",
       "4                   0.0  "
      ]
     },
     "execution_count": 85,
     "metadata": {},
     "output_type": "execute_result"
    }
   ],
   "source": [
    "df_distance_high_low.head()"
   ]
  },
  {
   "cell_type": "code",
   "execution_count": 86,
   "metadata": {
    "ExecuteTime": {
     "end_time": "2019-06-25T11:53:07.187471Z",
     "start_time": "2019-06-25T11:16:03.065187Z"
    }
   },
   "outputs": [
    {
     "name": "stderr",
     "output_type": "stream",
     "text": [
      "  0%|                                                                                         | 0/3460 [00:00<?, ?it/s]C:\\Users\\s178288\\AppData\\Local\\Continuum\\anaconda3\\lib\\site-packages\\ipykernel_launcher.py:7: SettingWithCopyWarning: \n",
      "A value is trying to be set on a copy of a slice from a DataFrame\n",
      "\n",
      "See the caveats in the documentation: http://pandas.pydata.org/pandas-docs/stable/indexing.html#indexing-view-versus-copy\n",
      "  import sys\n",
      "C:\\Users\\s178288\\AppData\\Local\\Continuum\\anaconda3\\lib\\site-packages\\IPython\\core\\interactiveshell.py:2963: SettingWithCopyWarning: \n",
      "A value is trying to be set on a copy of a slice from a DataFrame\n",
      "\n",
      "See the caveats in the documentation: http://pandas.pydata.org/pandas-docs/stable/indexing.html#indexing-view-versus-copy\n",
      "  exec(code_obj, self.user_global_ns, self.user_ns)\n",
      "C:\\Users\\s178288\\AppData\\Local\\Continuum\\anaconda3\\lib\\site-packages\\ipykernel_launcher.py:10: SettingWithCopyWarning: \n",
      "A value is trying to be set on a copy of a slice from a DataFrame\n",
      "\n",
      "See the caveats in the documentation: http://pandas.pydata.org/pandas-docs/stable/indexing.html#indexing-view-versus-copy\n",
      "  # Remove the CWD from sys.path while we load stuff.\n",
      "100%|██████████████████████████████████████████████████████████████████████████████| 3460/3460 [37:04<00:00,  1.56it/s]\n"
     ]
    }
   ],
   "source": [
    "# Insert column with Euclidian distance between midpoint of 2 tracks and the median\n",
    "from tqdm import tqdm\n",
    "\n",
    "for idx in tqdm(range(len(df_distance_high_low))):\n",
    "    a = np.array(df_distance_high_low[['energy_mid_pont', 'valence_mid_pont', 'tempo_mid_pont']].iloc[idx])\n",
    "    b = np.array(df_distance_high_low[['energy_median', 'valence_median', 'tempo_median']].iloc[idx])\n",
    "    df_distance_high_low['euclidian_dist_midpoint_median'][idx] = np.linalg.norm(a-b)\n",
    "    c = np.array(df_distance_high_low[['energy_ct', 'valence_ct', 'tempo_ct']].iloc[idx])\n",
    "    d = np.array(df_distance_high_low[['energy_nt', 'valence_nt', 'tempo_nt']].iloc[idx])\n",
    "    df_distance_high_low['euclidian_dist_track'][idx] = np.linalg.norm(c-d)"
   ]
  },
  {
   "cell_type": "code",
   "execution_count": 87,
   "metadata": {
    "ExecuteTime": {
     "end_time": "2019-06-25T12:10:54.705626Z",
     "start_time": "2019-06-25T12:10:54.679862Z"
    }
   },
   "outputs": [
    {
     "data": {
      "text/html": [
       "<div>\n",
       "<style scoped>\n",
       "    .dataframe tbody tr th:only-of-type {\n",
       "        vertical-align: middle;\n",
       "    }\n",
       "\n",
       "    .dataframe tbody tr th {\n",
       "        vertical-align: top;\n",
       "    }\n",
       "\n",
       "    .dataframe thead th {\n",
       "        text-align: right;\n",
       "    }\n",
       "</style>\n",
       "<table border=\"1\" class=\"dataframe\">\n",
       "  <thead>\n",
       "    <tr style=\"text-align: right;\">\n",
       "      <th></th>\n",
       "      <th>current_track-next_track</th>\n",
       "      <th>current_track</th>\n",
       "      <th>next_track</th>\n",
       "      <th>energy_median</th>\n",
       "      <th>valence_median</th>\n",
       "      <th>tempo_median</th>\n",
       "      <th>energy_ct</th>\n",
       "      <th>valence_ct</th>\n",
       "      <th>tempo_ct</th>\n",
       "      <th>energy_nt</th>\n",
       "      <th>valence_nt</th>\n",
       "      <th>tempo_nt</th>\n",
       "      <th>energy_mid_pont</th>\n",
       "      <th>valence_mid_pont</th>\n",
       "      <th>tempo_mid_pont</th>\n",
       "      <th>diff_energy</th>\n",
       "      <th>diff_valence</th>\n",
       "      <th>diff_tempo</th>\n",
       "      <th>euclidian_dist_midpoint_median</th>\n",
       "      <th>euclidian_dist_track</th>\n",
       "    </tr>\n",
       "  </thead>\n",
       "  <tbody>\n",
       "    <tr>\n",
       "      <th>0</th>\n",
       "      <td>5QJavZ2sUpPrhyMWItEBJC_1pVz7AJO2UZd5ouOhoIlhS</td>\n",
       "      <td>5QJavZ2sUpPrhyMWItEBJC</td>\n",
       "      <td>1pVz7AJO2UZd5ouOhoIlhS</td>\n",
       "      <td>0.642</td>\n",
       "      <td>0.487</td>\n",
       "      <td>113.815</td>\n",
       "      <td>0.220</td>\n",
       "      <td>0.323</td>\n",
       "      <td>70.165</td>\n",
       "      <td>0.614</td>\n",
       "      <td>0.8360</td>\n",
       "      <td>76.017</td>\n",
       "      <td>0.4170</td>\n",
       "      <td>0.57950</td>\n",
       "      <td>73.0910</td>\n",
       "      <td>0.394</td>\n",
       "      <td>0.5130</td>\n",
       "      <td>5.852</td>\n",
       "      <td>40.724727</td>\n",
       "      <td>5.887640</td>\n",
       "    </tr>\n",
       "    <tr>\n",
       "      <th>1</th>\n",
       "      <td>544Vnwfg8YSUP6An38yUsT_6RPb92J2rlqC1DK7BWIgpF</td>\n",
       "      <td>544Vnwfg8YSUP6An38yUsT</td>\n",
       "      <td>6RPb92J2rlqC1DK7BWIgpF</td>\n",
       "      <td>0.642</td>\n",
       "      <td>0.487</td>\n",
       "      <td>113.815</td>\n",
       "      <td>0.793</td>\n",
       "      <td>0.847</td>\n",
       "      <td>128.046</td>\n",
       "      <td>0.311</td>\n",
       "      <td>0.2070</td>\n",
       "      <td>132.199</td>\n",
       "      <td>0.5520</td>\n",
       "      <td>0.52700</td>\n",
       "      <td>130.1225</td>\n",
       "      <td>0.482</td>\n",
       "      <td>0.6400</td>\n",
       "      <td>4.153</td>\n",
       "      <td>16.307797</td>\n",
       "      <td>4.229578</td>\n",
       "    </tr>\n",
       "    <tr>\n",
       "      <th>2</th>\n",
       "      <td>3GZFKiGVYv3SBQ6PLf3JgF_1tU5J8aMqCQe7WtqTkFLQL</td>\n",
       "      <td>3GZFKiGVYv3SBQ6PLf3JgF</td>\n",
       "      <td>1tU5J8aMqCQe7WtqTkFLQL</td>\n",
       "      <td>0.642</td>\n",
       "      <td>0.487</td>\n",
       "      <td>113.815</td>\n",
       "      <td>0.256</td>\n",
       "      <td>0.266</td>\n",
       "      <td>95.288</td>\n",
       "      <td>0.629</td>\n",
       "      <td>0.8440</td>\n",
       "      <td>96.198</td>\n",
       "      <td>0.4425</td>\n",
       "      <td>0.55500</td>\n",
       "      <td>95.7430</td>\n",
       "      <td>0.373</td>\n",
       "      <td>0.5780</td>\n",
       "      <td>0.910</td>\n",
       "      <td>18.073229</td>\n",
       "      <td>1.140751</td>\n",
       "    </tr>\n",
       "    <tr>\n",
       "      <th>3</th>\n",
       "      <td>2ekn2ttSfGqwhhate0LSR0_3NWCPJllg1v12ElS4eQMKV</td>\n",
       "      <td>2ekn2ttSfGqwhhate0LSR0</td>\n",
       "      <td>3NWCPJllg1v12ElS4eQMKV</td>\n",
       "      <td>0.642</td>\n",
       "      <td>0.487</td>\n",
       "      <td>113.815</td>\n",
       "      <td>0.700</td>\n",
       "      <td>0.608</td>\n",
       "      <td>116.073</td>\n",
       "      <td>0.201</td>\n",
       "      <td>0.0763</td>\n",
       "      <td>109.328</td>\n",
       "      <td>0.4505</td>\n",
       "      <td>0.34215</td>\n",
       "      <td>112.7005</td>\n",
       "      <td>0.499</td>\n",
       "      <td>0.5317</td>\n",
       "      <td>6.745</td>\n",
       "      <td>1.140072</td>\n",
       "      <td>6.784300</td>\n",
       "    </tr>\n",
       "    <tr>\n",
       "      <th>4</th>\n",
       "      <td>2ekn2ttSfGqwhhate0LSR0_1tT55K6VEyO6XFDxK4lDQe</td>\n",
       "      <td>2ekn2ttSfGqwhhate0LSR0</td>\n",
       "      <td>1tT55K6VEyO6XFDxK4lDQe</td>\n",
       "      <td>0.642</td>\n",
       "      <td>0.487</td>\n",
       "      <td>113.815</td>\n",
       "      <td>0.700</td>\n",
       "      <td>0.608</td>\n",
       "      <td>116.073</td>\n",
       "      <td>0.181</td>\n",
       "      <td>0.0747</td>\n",
       "      <td>111.956</td>\n",
       "      <td>0.4405</td>\n",
       "      <td>0.34135</td>\n",
       "      <td>114.0145</td>\n",
       "      <td>0.519</td>\n",
       "      <td>0.5333</td>\n",
       "      <td>4.117</td>\n",
       "      <td>0.318773</td>\n",
       "      <td>4.183714</td>\n",
       "    </tr>\n",
       "  </tbody>\n",
       "</table>\n",
       "</div>"
      ],
      "text/plain": [
       "                        current_track-next_track           current_track  \\\n",
       "0  5QJavZ2sUpPrhyMWItEBJC_1pVz7AJO2UZd5ouOhoIlhS  5QJavZ2sUpPrhyMWItEBJC   \n",
       "1  544Vnwfg8YSUP6An38yUsT_6RPb92J2rlqC1DK7BWIgpF  544Vnwfg8YSUP6An38yUsT   \n",
       "2  3GZFKiGVYv3SBQ6PLf3JgF_1tU5J8aMqCQe7WtqTkFLQL  3GZFKiGVYv3SBQ6PLf3JgF   \n",
       "3  2ekn2ttSfGqwhhate0LSR0_3NWCPJllg1v12ElS4eQMKV  2ekn2ttSfGqwhhate0LSR0   \n",
       "4  2ekn2ttSfGqwhhate0LSR0_1tT55K6VEyO6XFDxK4lDQe  2ekn2ttSfGqwhhate0LSR0   \n",
       "\n",
       "               next_track  energy_median  valence_median  tempo_median  \\\n",
       "0  1pVz7AJO2UZd5ouOhoIlhS          0.642           0.487       113.815   \n",
       "1  6RPb92J2rlqC1DK7BWIgpF          0.642           0.487       113.815   \n",
       "2  1tU5J8aMqCQe7WtqTkFLQL          0.642           0.487       113.815   \n",
       "3  3NWCPJllg1v12ElS4eQMKV          0.642           0.487       113.815   \n",
       "4  1tT55K6VEyO6XFDxK4lDQe          0.642           0.487       113.815   \n",
       "\n",
       "   energy_ct  valence_ct  tempo_ct  energy_nt  valence_nt  tempo_nt  \\\n",
       "0      0.220       0.323    70.165      0.614      0.8360    76.017   \n",
       "1      0.793       0.847   128.046      0.311      0.2070   132.199   \n",
       "2      0.256       0.266    95.288      0.629      0.8440    96.198   \n",
       "3      0.700       0.608   116.073      0.201      0.0763   109.328   \n",
       "4      0.700       0.608   116.073      0.181      0.0747   111.956   \n",
       "\n",
       "   energy_mid_pont  valence_mid_pont  tempo_mid_pont  diff_energy  \\\n",
       "0           0.4170           0.57950         73.0910        0.394   \n",
       "1           0.5520           0.52700        130.1225        0.482   \n",
       "2           0.4425           0.55500         95.7430        0.373   \n",
       "3           0.4505           0.34215        112.7005        0.499   \n",
       "4           0.4405           0.34135        114.0145        0.519   \n",
       "\n",
       "   diff_valence  diff_tempo  euclidian_dist_midpoint_median  \\\n",
       "0        0.5130       5.852                       40.724727   \n",
       "1        0.6400       4.153                       16.307797   \n",
       "2        0.5780       0.910                       18.073229   \n",
       "3        0.5317       6.745                        1.140072   \n",
       "4        0.5333       4.117                        0.318773   \n",
       "\n",
       "   euclidian_dist_track  \n",
       "0              5.887640  \n",
       "1              4.229578  \n",
       "2              1.140751  \n",
       "3              6.784300  \n",
       "4              4.183714  "
      ]
     },
     "execution_count": 87,
     "metadata": {},
     "output_type": "execute_result"
    }
   ],
   "source": [
    "df_distance_high_low.head()"
   ]
  },
  {
   "cell_type": "code",
   "execution_count": 88,
   "metadata": {
    "ExecuteTime": {
     "end_time": "2019-06-25T12:10:59.870996Z",
     "start_time": "2019-06-25T12:10:59.859065Z"
    }
   },
   "outputs": [
    {
     "name": "stdout",
     "output_type": "stream",
     "text": [
      "<class 'pandas.core.frame.DataFrame'>\n",
      "RangeIndex: 3460 entries, 0 to 3459\n",
      "Data columns (total 20 columns):\n",
      "current_track-next_track          3460 non-null object\n",
      "current_track                     3460 non-null object\n",
      "next_track                        3460 non-null object\n",
      "energy_median                     3460 non-null float64\n",
      "valence_median                    3460 non-null float64\n",
      "tempo_median                      3460 non-null float64\n",
      "energy_ct                         3460 non-null float64\n",
      "valence_ct                        3460 non-null float64\n",
      "tempo_ct                          3460 non-null float64\n",
      "energy_nt                         3460 non-null float64\n",
      "valence_nt                        3460 non-null float64\n",
      "tempo_nt                          3460 non-null float64\n",
      "energy_mid_pont                   3460 non-null float64\n",
      "valence_mid_pont                  3460 non-null float64\n",
      "tempo_mid_pont                    3460 non-null float64\n",
      "diff_energy                       3460 non-null float64\n",
      "diff_valence                      3460 non-null float64\n",
      "diff_tempo                        3460 non-null float64\n",
      "euclidian_dist_midpoint_median    3460 non-null float64\n",
      "euclidian_dist_track              3460 non-null float64\n",
      "dtypes: float64(17), object(3)\n",
      "memory usage: 540.7+ KB\n"
     ]
    }
   ],
   "source": [
    "df_distance_high_low.info(null_counts=True)"
   ]
  },
  {
   "cell_type": "code",
   "execution_count": 89,
   "metadata": {
    "ExecuteTime": {
     "end_time": "2019-06-25T12:11:05.483267Z",
     "start_time": "2019-06-25T12:11:04.936121Z"
    }
   },
   "outputs": [],
   "source": [
    "# save in csv\n",
    "\n",
    "df_distance_high_low.to_csv(creating_playlist_folder+\"distance_high_low_pop_l20_h90_\"+TodaysDate+\".csv\",index=0)"
   ]
  }
 ],
 "metadata": {
  "hide_input": false,
  "kernelspec": {
   "display_name": "Python 3",
   "language": "python",
   "name": "python3"
  },
  "language_info": {
   "codemirror_mode": {
    "name": "ipython",
    "version": 3
   },
   "file_extension": ".py",
   "mimetype": "text/x-python",
   "name": "python",
   "nbconvert_exporter": "python",
   "pygments_lexer": "ipython3",
   "version": "3.6.5"
  },
  "toc": {
   "base_numbering": 1,
   "nav_menu": {},
   "number_sections": true,
   "sideBar": true,
   "skip_h1_title": false,
   "title_cell": "Table of Contents",
   "title_sidebar": "Contents",
   "toc_cell": false,
   "toc_position": {
    "height": "calc(100% - 180px)",
    "left": "10px",
    "top": "150px",
    "width": "307px"
   },
   "toc_section_display": true,
   "toc_window_display": true
  },
  "varInspector": {
   "cols": {
    "lenName": 16,
    "lenType": 16,
    "lenVar": 40
   },
   "kernels_config": {
    "python": {
     "delete_cmd_postfix": "",
     "delete_cmd_prefix": "del ",
     "library": "var_list.py",
     "varRefreshCmd": "print(var_dic_list())"
    },
    "r": {
     "delete_cmd_postfix": ") ",
     "delete_cmd_prefix": "rm(",
     "library": "var_list.r",
     "varRefreshCmd": "cat(var_dic_list()) "
    }
   },
   "types_to_exclude": [
    "module",
    "function",
    "builtin_function_or_method",
    "instance",
    "_Feature"
   ],
   "window_display": false
  }
 },
 "nbformat": 4,
 "nbformat_minor": 2
}
