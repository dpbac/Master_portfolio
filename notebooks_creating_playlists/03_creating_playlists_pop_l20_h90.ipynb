{
 "cells": [
  {
   "cell_type": "markdown",
   "metadata": {},
   "source": [
    "Danielle Paes Barretto de Arruda Camara\n",
    "\n",
    "**Version: 30/07/19 (last review)**\n",
    "\n",
    "In this notebook playlists based on category pop are created (l20 and h90)"
   ]
  },
  {
   "cell_type": "markdown",
   "metadata": {},
   "source": [
    "**inputs:**\n",
    "\n",
    "\"snippets_pop = \"snippets_address_pop_2019-06-13.csv\"\n",
    "\n",
    "\"distance_low_low_pop_l20_l90_2019-06-25.csv\"\n",
    "\n",
    "\"distance_low_high_pop_l20_l90_2019-06-25.csv\"\n",
    "\n",
    "\"distance_high_low_pop_l20_l90_2019-06-25.csv\"\n",
    "\n",
    "\n",
    "**Outputs:**\n",
    "\n",
    "\"df_snippets_ll_pop_l20_h90_zero_float_\"+TodaysDate+\".csv\"\n",
    "\n",
    "\"df_snippets_lh_pop_l20_h90_zero_float_\"+TodaysDate+\".csv\"\n",
    "\n",
    "\"df_snippets_hl_pop_l20_h90_zero_float_\"+TodaysDate+\".csv\""
   ]
  },
  {
   "cell_type": "markdown",
   "metadata": {},
   "source": [
    "# Importing libraries"
   ]
  },
  {
   "cell_type": "code",
   "execution_count": 1,
   "metadata": {
    "ExecuteTime": {
     "end_time": "2019-06-25T12:32:57.602678Z",
     "start_time": "2019-06-25T12:32:56.453006Z"
    }
   },
   "outputs": [],
   "source": [
    "import pandas as pd\n",
    "\n",
    "import matplotlib.pyplot as plt\n",
    "import seaborn as sns\n",
    "\n",
    "import time\n",
    "TodaysDate = time.strftime(\"%Y-%m-%d\")"
   ]
  },
  {
   "cell_type": "markdown",
   "metadata": {},
   "source": [
    "# Folders and Files"
   ]
  },
  {
   "cell_type": "code",
   "execution_count": 2,
   "metadata": {
    "ExecuteTime": {
     "end_time": "2019-06-25T12:32:57.607593Z",
     "start_time": "2019-06-25T12:32:57.604120Z"
    }
   },
   "outputs": [],
   "source": [
    "snippets_address_folder = \"./data/snippets_address/\"\n",
    "\n",
    "# to save processed data to be used in the creation of the playlists\n",
    "\n",
    "creating_playlist_folder = \"./data/creating_playlist/\""
   ]
  },
  {
   "cell_type": "code",
   "execution_count": 3,
   "metadata": {
    "ExecuteTime": {
     "end_time": "2019-06-25T12:32:57.630903Z",
     "start_time": "2019-06-25T12:32:57.609577Z"
    }
   },
   "outputs": [],
   "source": [
    "snippets_pop = \"snippets_address_pop_2019-06-13.csv\"\n",
    "\n",
    "distances_low_low = \"distance_low_low_pop_l20_l90_2019-06-25.csv\"\n",
    "\n",
    "distances_low_high = \"distance_low_high_pop_l20_h90_2019-06-25.csv\"\n",
    "\n",
    "distances_high_low = \"distance_high_low_pop_l20_h90_2019-06-25.csv\"\n"
   ]
  },
  {
   "cell_type": "markdown",
   "metadata": {},
   "source": [
    "# Load snippets addresses"
   ]
  },
  {
   "cell_type": "code",
   "execution_count": 4,
   "metadata": {
    "ExecuteTime": {
     "end_time": "2019-06-25T12:32:57.669096Z",
     "start_time": "2019-06-25T12:32:57.633384Z"
    }
   },
   "outputs": [
    {
     "data": {
      "text/html": [
       "<div>\n",
       "<style scoped>\n",
       "    .dataframe tbody tr th:only-of-type {\n",
       "        vertical-align: middle;\n",
       "    }\n",
       "\n",
       "    .dataframe tbody tr th {\n",
       "        vertical-align: top;\n",
       "    }\n",
       "\n",
       "    .dataframe thead th {\n",
       "        text-align: right;\n",
       "    }\n",
       "</style>\n",
       "<table border=\"1\" class=\"dataframe\">\n",
       "  <thead>\n",
       "    <tr style=\"text-align: right;\">\n",
       "      <th></th>\n",
       "      <th>track_id</th>\n",
       "      <th>track_preview_url</th>\n",
       "    </tr>\n",
       "  </thead>\n",
       "  <tbody>\n",
       "    <tr>\n",
       "      <th>0</th>\n",
       "      <td>2hnxrRNzF74mdDzpQZQukQ</td>\n",
       "      <td>https://p.scdn.co/mp3-preview/ecf605ea149db4f7...</td>\n",
       "    </tr>\n",
       "    <tr>\n",
       "      <th>1</th>\n",
       "      <td>2n48BjaFSczfeIG3HaIaPv</td>\n",
       "      <td>https://p.scdn.co/mp3-preview/c6bb499f1f475493...</td>\n",
       "    </tr>\n",
       "    <tr>\n",
       "      <th>2</th>\n",
       "      <td>7DHApOHsIFo7EyfieArYGE</td>\n",
       "      <td>https://p.scdn.co/mp3-preview/44e8764f6028b38a...</td>\n",
       "    </tr>\n",
       "    <tr>\n",
       "      <th>3</th>\n",
       "      <td>3ciQQMSy1lKDqJbwU9l1LT</td>\n",
       "      <td>https://p.scdn.co/mp3-preview/c6a9592968a0d4d0...</td>\n",
       "    </tr>\n",
       "    <tr>\n",
       "      <th>4</th>\n",
       "      <td>2nFAQBrEEHA7nvYgw6lpD0</td>\n",
       "      <td>https://p.scdn.co/mp3-preview/2fd9b59c151003d9...</td>\n",
       "    </tr>\n",
       "  </tbody>\n",
       "</table>\n",
       "</div>"
      ],
      "text/plain": [
       "                 track_id                                  track_preview_url\n",
       "0  2hnxrRNzF74mdDzpQZQukQ  https://p.scdn.co/mp3-preview/ecf605ea149db4f7...\n",
       "1  2n48BjaFSczfeIG3HaIaPv  https://p.scdn.co/mp3-preview/c6bb499f1f475493...\n",
       "2  7DHApOHsIFo7EyfieArYGE  https://p.scdn.co/mp3-preview/44e8764f6028b38a...\n",
       "3  3ciQQMSy1lKDqJbwU9l1LT  https://p.scdn.co/mp3-preview/c6a9592968a0d4d0...\n",
       "4  2nFAQBrEEHA7nvYgw6lpD0  https://p.scdn.co/mp3-preview/2fd9b59c151003d9..."
      ]
     },
     "execution_count": 4,
     "metadata": {},
     "output_type": "execute_result"
    }
   ],
   "source": [
    "df_snippets = pd.read_csv(snippets_address_folder+snippets_pop)\n",
    "df_snippets.head()"
   ]
  },
  {
   "cell_type": "markdown",
   "metadata": {},
   "source": [
    "# Building playlists"
   ]
  },
  {
   "cell_type": "markdown",
   "metadata": {},
   "source": [
    "## Building playlist low_low_extreme - 'low' energy/valence & 'low' tempo\n",
    "\n",
    "The same as playlist low_low_extreme"
   ]
  },
  {
   "cell_type": "code",
   "execution_count": 5,
   "metadata": {
    "ExecuteTime": {
     "end_time": "2019-06-25T12:32:57.706295Z",
     "start_time": "2019-06-25T12:32:57.671078Z"
    },
    "scrolled": true
   },
   "outputs": [],
   "source": [
    "# load low low distance file\n",
    "\n",
    "df_distance_low_low =  pd.read_csv(creating_playlist_folder + distances_low_low)"
   ]
  },
  {
   "cell_type": "code",
   "execution_count": 6,
   "metadata": {
    "ExecuteTime": {
     "end_time": "2019-06-25T12:32:57.718695Z",
     "start_time": "2019-06-25T12:32:57.708280Z"
    }
   },
   "outputs": [],
   "source": [
    "# organize in ascending order of euclidian distance\n",
    "\n",
    "df_distance_low_low.sort_values(by=['euclidian_dist_midpoint_median','euclidian_dist_track'], ascending = True, inplace = True)"
   ]
  },
  {
   "cell_type": "code",
   "execution_count": 7,
   "metadata": {
    "ExecuteTime": {
     "end_time": "2019-06-25T12:32:57.752424Z",
     "start_time": "2019-06-25T12:32:57.721175Z"
    }
   },
   "outputs": [
    {
     "name": "stdout",
     "output_type": "stream",
     "text": [
      "0.05\n",
      "0.08\n",
      "8.43\n"
     ]
    }
   ],
   "source": [
    "print(round(abs(df_distance_low_low.energy_ct-df_distance_low_low.energy_nt).max(),2))\n",
    "print(round(abs(df_distance_low_low.valence_ct-df_distance_low_low.valence_nt).max(),2))\n",
    "print(round(abs(df_distance_low_low.tempo_ct-df_distance_low_low.tempo_nt).max(),2))"
   ]
  },
  {
   "cell_type": "code",
   "execution_count": 8,
   "metadata": {
    "ExecuteTime": {
     "end_time": "2019-06-25T12:32:57.779209Z",
     "start_time": "2019-06-25T12:32:57.754409Z"
    }
   },
   "outputs": [
    {
     "data": {
      "text/html": [
       "<div>\n",
       "<style scoped>\n",
       "    .dataframe tbody tr th:only-of-type {\n",
       "        vertical-align: middle;\n",
       "    }\n",
       "\n",
       "    .dataframe tbody tr th {\n",
       "        vertical-align: top;\n",
       "    }\n",
       "\n",
       "    .dataframe thead th {\n",
       "        text-align: right;\n",
       "    }\n",
       "</style>\n",
       "<table border=\"1\" class=\"dataframe\">\n",
       "  <thead>\n",
       "    <tr style=\"text-align: right;\">\n",
       "      <th></th>\n",
       "      <th>current_track-next_track</th>\n",
       "      <th>current_track</th>\n",
       "      <th>next_track</th>\n",
       "      <th>energy_median</th>\n",
       "      <th>valence_median</th>\n",
       "      <th>tempo_median</th>\n",
       "      <th>energy_ct</th>\n",
       "      <th>valence_ct</th>\n",
       "      <th>tempo_ct</th>\n",
       "      <th>energy_nt</th>\n",
       "      <th>valence_nt</th>\n",
       "      <th>tempo_nt</th>\n",
       "      <th>energy_mid_pont</th>\n",
       "      <th>valence_mid_pont</th>\n",
       "      <th>tempo_mid_pont</th>\n",
       "      <th>diff_energy</th>\n",
       "      <th>diff_valence</th>\n",
       "      <th>diff_tempo</th>\n",
       "      <th>euclidian_dist_midpoint_median</th>\n",
       "      <th>euclidian_dist_track</th>\n",
       "    </tr>\n",
       "  </thead>\n",
       "  <tbody>\n",
       "    <tr>\n",
       "      <th>249</th>\n",
       "      <td>14sOS5L36385FJ3OL8hew4_4vmgP10TH0YYqJkzr8yLW0</td>\n",
       "      <td>14sOS5L36385FJ3OL8hew4</td>\n",
       "      <td>4vmgP10TH0YYqJkzr8yLW0</td>\n",
       "      <td>0.642</td>\n",
       "      <td>0.487</td>\n",
       "      <td>113.815</td>\n",
       "      <td>0.575</td>\n",
       "      <td>0.492</td>\n",
       "      <td>117.999</td>\n",
       "      <td>0.586</td>\n",
       "      <td>0.509</td>\n",
       "      <td>109.593</td>\n",
       "      <td>0.5805</td>\n",
       "      <td>0.5005</td>\n",
       "      <td>113.796</td>\n",
       "      <td>0.011</td>\n",
       "      <td>0.017</td>\n",
       "      <td>8.406</td>\n",
       "      <td>0.065769</td>\n",
       "      <td>8.406024</td>\n",
       "    </tr>\n",
       "    <tr>\n",
       "      <th>4125</th>\n",
       "      <td>4vmgP10TH0YYqJkzr8yLW0_14sOS5L36385FJ3OL8hew4</td>\n",
       "      <td>4vmgP10TH0YYqJkzr8yLW0</td>\n",
       "      <td>14sOS5L36385FJ3OL8hew4</td>\n",
       "      <td>0.642</td>\n",
       "      <td>0.487</td>\n",
       "      <td>113.815</td>\n",
       "      <td>0.586</td>\n",
       "      <td>0.509</td>\n",
       "      <td>109.593</td>\n",
       "      <td>0.575</td>\n",
       "      <td>0.492</td>\n",
       "      <td>117.999</td>\n",
       "      <td>0.5805</td>\n",
       "      <td>0.5005</td>\n",
       "      <td>113.796</td>\n",
       "      <td>0.011</td>\n",
       "      <td>0.017</td>\n",
       "      <td>8.406</td>\n",
       "      <td>0.065769</td>\n",
       "      <td>8.406024</td>\n",
       "    </tr>\n",
       "    <tr>\n",
       "      <th>155</th>\n",
       "      <td>2Fap2zMMINCLylSCSGQLEa_14sOS5L36385FJ3OL8hew4</td>\n",
       "      <td>2Fap2zMMINCLylSCSGQLEa</td>\n",
       "      <td>14sOS5L36385FJ3OL8hew4</td>\n",
       "      <td>0.642</td>\n",
       "      <td>0.487</td>\n",
       "      <td>113.815</td>\n",
       "      <td>0.598</td>\n",
       "      <td>0.468</td>\n",
       "      <td>109.999</td>\n",
       "      <td>0.575</td>\n",
       "      <td>0.492</td>\n",
       "      <td>117.999</td>\n",
       "      <td>0.5865</td>\n",
       "      <td>0.4800</td>\n",
       "      <td>113.999</td>\n",
       "      <td>0.023</td>\n",
       "      <td>0.024</td>\n",
       "      <td>8.000</td>\n",
       "      <td>0.192315</td>\n",
       "      <td>8.000069</td>\n",
       "    </tr>\n",
       "    <tr>\n",
       "      <th>245</th>\n",
       "      <td>14sOS5L36385FJ3OL8hew4_2Fap2zMMINCLylSCSGQLEa</td>\n",
       "      <td>14sOS5L36385FJ3OL8hew4</td>\n",
       "      <td>2Fap2zMMINCLylSCSGQLEa</td>\n",
       "      <td>0.642</td>\n",
       "      <td>0.487</td>\n",
       "      <td>113.815</td>\n",
       "      <td>0.575</td>\n",
       "      <td>0.492</td>\n",
       "      <td>117.999</td>\n",
       "      <td>0.598</td>\n",
       "      <td>0.468</td>\n",
       "      <td>109.999</td>\n",
       "      <td>0.5865</td>\n",
       "      <td>0.4800</td>\n",
       "      <td>113.999</td>\n",
       "      <td>0.023</td>\n",
       "      <td>0.024</td>\n",
       "      <td>8.000</td>\n",
       "      <td>0.192315</td>\n",
       "      <td>8.000069</td>\n",
       "    </tr>\n",
       "    <tr>\n",
       "      <th>290</th>\n",
       "      <td>0kHyKhJMukHEPfeh8s7rdM_21bAZmgzIw13tN0rHtMeRq</td>\n",
       "      <td>0kHyKhJMukHEPfeh8s7rdM</td>\n",
       "      <td>21bAZmgzIw13tN0rHtMeRq</td>\n",
       "      <td>0.642</td>\n",
       "      <td>0.487</td>\n",
       "      <td>113.815</td>\n",
       "      <td>0.688</td>\n",
       "      <td>0.451</td>\n",
       "      <td>114.011</td>\n",
       "      <td>0.655</td>\n",
       "      <td>0.393</td>\n",
       "      <td>114.001</td>\n",
       "      <td>0.6715</td>\n",
       "      <td>0.4220</td>\n",
       "      <td>114.006</td>\n",
       "      <td>0.033</td>\n",
       "      <td>0.058</td>\n",
       "      <td>0.010</td>\n",
       "      <td>0.203903</td>\n",
       "      <td>0.067476</td>\n",
       "    </tr>\n",
       "  </tbody>\n",
       "</table>\n",
       "</div>"
      ],
      "text/plain": [
       "                           current_track-next_track           current_track  \\\n",
       "249   14sOS5L36385FJ3OL8hew4_4vmgP10TH0YYqJkzr8yLW0  14sOS5L36385FJ3OL8hew4   \n",
       "4125  4vmgP10TH0YYqJkzr8yLW0_14sOS5L36385FJ3OL8hew4  4vmgP10TH0YYqJkzr8yLW0   \n",
       "155   2Fap2zMMINCLylSCSGQLEa_14sOS5L36385FJ3OL8hew4  2Fap2zMMINCLylSCSGQLEa   \n",
       "245   14sOS5L36385FJ3OL8hew4_2Fap2zMMINCLylSCSGQLEa  14sOS5L36385FJ3OL8hew4   \n",
       "290   0kHyKhJMukHEPfeh8s7rdM_21bAZmgzIw13tN0rHtMeRq  0kHyKhJMukHEPfeh8s7rdM   \n",
       "\n",
       "                  next_track  energy_median  valence_median  tempo_median  \\\n",
       "249   4vmgP10TH0YYqJkzr8yLW0          0.642           0.487       113.815   \n",
       "4125  14sOS5L36385FJ3OL8hew4          0.642           0.487       113.815   \n",
       "155   14sOS5L36385FJ3OL8hew4          0.642           0.487       113.815   \n",
       "245   2Fap2zMMINCLylSCSGQLEa          0.642           0.487       113.815   \n",
       "290   21bAZmgzIw13tN0rHtMeRq          0.642           0.487       113.815   \n",
       "\n",
       "      energy_ct  valence_ct  tempo_ct  energy_nt  valence_nt  tempo_nt  \\\n",
       "249       0.575       0.492   117.999      0.586       0.509   109.593   \n",
       "4125      0.586       0.509   109.593      0.575       0.492   117.999   \n",
       "155       0.598       0.468   109.999      0.575       0.492   117.999   \n",
       "245       0.575       0.492   117.999      0.598       0.468   109.999   \n",
       "290       0.688       0.451   114.011      0.655       0.393   114.001   \n",
       "\n",
       "      energy_mid_pont  valence_mid_pont  tempo_mid_pont  diff_energy  \\\n",
       "249            0.5805            0.5005         113.796        0.011   \n",
       "4125           0.5805            0.5005         113.796        0.011   \n",
       "155            0.5865            0.4800         113.999        0.023   \n",
       "245            0.5865            0.4800         113.999        0.023   \n",
       "290            0.6715            0.4220         114.006        0.033   \n",
       "\n",
       "      diff_valence  diff_tempo  euclidian_dist_midpoint_median  \\\n",
       "249          0.017       8.406                        0.065769   \n",
       "4125         0.017       8.406                        0.065769   \n",
       "155          0.024       8.000                        0.192315   \n",
       "245          0.024       8.000                        0.192315   \n",
       "290          0.058       0.010                        0.203903   \n",
       "\n",
       "      euclidian_dist_track  \n",
       "249               8.406024  \n",
       "4125              8.406024  \n",
       "155               8.000069  \n",
       "245               8.000069  \n",
       "290               0.067476  "
      ]
     },
     "execution_count": 8,
     "metadata": {},
     "output_type": "execute_result"
    }
   ],
   "source": [
    "df_distance_low_low.head()"
   ]
  },
  {
   "cell_type": "code",
   "execution_count": 9,
   "metadata": {
    "ExecuteTime": {
     "end_time": "2019-06-25T12:32:57.791139Z",
     "start_time": "2019-06-25T12:32:57.782682Z"
    }
   },
   "outputs": [],
   "source": [
    "# Choose the 1st 2-track_sequence \n",
    "\n",
    "list_low_low = [\"4vmgP10TH0YYqJkzr8yLW0\",\"14sOS5L36385FJ3OL8hew4\",\"2Fap2zMMINCLylSCSGQLEa\",\"1ymEwygMMg5JwVAnh3C7yY\",\n",
    "               \"60Q0ZSKKBea7otGijFgrQI\",\"7tsHqxfepei1AdLjy93XIv\",\"1eN1K7YPRButXU7Mq0V58N\",\"6uaIMhUZXMuT2Zz0vxrFiR\",\n",
    "               \"56ev0yPeYbMzfrGCfS2KCr\",\"7Aw2zBxuyMrrPuxugAcZwr\"]"
   ]
  },
  {
   "cell_type": "code",
   "execution_count": 10,
   "metadata": {
    "ExecuteTime": {
     "end_time": "2019-06-25T12:32:57.830323Z",
     "start_time": "2019-06-25T12:32:57.793097Z"
    }
   },
   "outputs": [
    {
     "data": {
      "text/html": [
       "<div>\n",
       "<style scoped>\n",
       "    .dataframe tbody tr th:only-of-type {\n",
       "        vertical-align: middle;\n",
       "    }\n",
       "\n",
       "    .dataframe tbody tr th {\n",
       "        vertical-align: top;\n",
       "    }\n",
       "\n",
       "    .dataframe thead th {\n",
       "        text-align: right;\n",
       "    }\n",
       "</style>\n",
       "<table border=\"1\" class=\"dataframe\">\n",
       "  <thead>\n",
       "    <tr style=\"text-align: right;\">\n",
       "      <th></th>\n",
       "      <th>current_track-next_track</th>\n",
       "      <th>current_track</th>\n",
       "      <th>next_track</th>\n",
       "      <th>energy_median</th>\n",
       "      <th>valence_median</th>\n",
       "      <th>tempo_median</th>\n",
       "      <th>energy_ct</th>\n",
       "      <th>valence_ct</th>\n",
       "      <th>tempo_ct</th>\n",
       "      <th>energy_nt</th>\n",
       "      <th>valence_nt</th>\n",
       "      <th>tempo_nt</th>\n",
       "      <th>energy_mid_pont</th>\n",
       "      <th>valence_mid_pont</th>\n",
       "      <th>tempo_mid_pont</th>\n",
       "      <th>diff_energy</th>\n",
       "      <th>diff_valence</th>\n",
       "      <th>diff_tempo</th>\n",
       "      <th>euclidian_dist_midpoint_median</th>\n",
       "      <th>euclidian_dist_track</th>\n",
       "    </tr>\n",
       "  </thead>\n",
       "  <tbody>\n",
       "    <tr>\n",
       "      <th>2003</th>\n",
       "      <td>56ev0yPeYbMzfrGCfS2KCr_7Aw2zBxuyMrrPuxugAcZwr</td>\n",
       "      <td>56ev0yPeYbMzfrGCfS2KCr</td>\n",
       "      <td>7Aw2zBxuyMrrPuxugAcZwr</td>\n",
       "      <td>0.642</td>\n",
       "      <td>0.487</td>\n",
       "      <td>113.815</td>\n",
       "      <td>0.511</td>\n",
       "      <td>0.287</td>\n",
       "      <td>100.135</td>\n",
       "      <td>0.476</td>\n",
       "      <td>0.335</td>\n",
       "      <td>108.071</td>\n",
       "      <td>0.4935</td>\n",
       "      <td>0.3110</td>\n",
       "      <td>104.1030</td>\n",
       "      <td>0.035</td>\n",
       "      <td>0.048</td>\n",
       "      <td>7.936</td>\n",
       "      <td>9.714730</td>\n",
       "      <td>7.936222</td>\n",
       "    </tr>\n",
       "    <tr>\n",
       "      <th>2002</th>\n",
       "      <td>56ev0yPeYbMzfrGCfS2KCr_6uaIMhUZXMuT2Zz0vxrFiR</td>\n",
       "      <td>56ev0yPeYbMzfrGCfS2KCr</td>\n",
       "      <td>6uaIMhUZXMuT2Zz0vxrFiR</td>\n",
       "      <td>0.642</td>\n",
       "      <td>0.487</td>\n",
       "      <td>113.815</td>\n",
       "      <td>0.511</td>\n",
       "      <td>0.287</td>\n",
       "      <td>100.135</td>\n",
       "      <td>0.558</td>\n",
       "      <td>0.283</td>\n",
       "      <td>104.991</td>\n",
       "      <td>0.5345</td>\n",
       "      <td>0.2850</td>\n",
       "      <td>102.5630</td>\n",
       "      <td>0.047</td>\n",
       "      <td>0.004</td>\n",
       "      <td>4.856</td>\n",
       "      <td>11.254326</td>\n",
       "      <td>4.856229</td>\n",
       "    </tr>\n",
       "    <tr>\n",
       "      <th>2001</th>\n",
       "      <td>56ev0yPeYbMzfrGCfS2KCr_5i9A1n1s82jh53IGLldPG6</td>\n",
       "      <td>56ev0yPeYbMzfrGCfS2KCr</td>\n",
       "      <td>5i9A1n1s82jh53IGLldPG6</td>\n",
       "      <td>0.642</td>\n",
       "      <td>0.487</td>\n",
       "      <td>113.815</td>\n",
       "      <td>0.511</td>\n",
       "      <td>0.287</td>\n",
       "      <td>100.135</td>\n",
       "      <td>0.503</td>\n",
       "      <td>0.339</td>\n",
       "      <td>104.882</td>\n",
       "      <td>0.5070</td>\n",
       "      <td>0.3130</td>\n",
       "      <td>102.5085</td>\n",
       "      <td>0.008</td>\n",
       "      <td>0.052</td>\n",
       "      <td>4.747</td>\n",
       "      <td>11.308645</td>\n",
       "      <td>4.747292</td>\n",
       "    </tr>\n",
       "    <tr>\n",
       "      <th>1999</th>\n",
       "      <td>56ev0yPeYbMzfrGCfS2KCr_5CZmC1I3ZbyH2ToPwTciAy</td>\n",
       "      <td>56ev0yPeYbMzfrGCfS2KCr</td>\n",
       "      <td>5CZmC1I3ZbyH2ToPwTciAy</td>\n",
       "      <td>0.642</td>\n",
       "      <td>0.487</td>\n",
       "      <td>113.815</td>\n",
       "      <td>0.511</td>\n",
       "      <td>0.287</td>\n",
       "      <td>100.135</td>\n",
       "      <td>0.542</td>\n",
       "      <td>0.217</td>\n",
       "      <td>96.933</td>\n",
       "      <td>0.5265</td>\n",
       "      <td>0.2520</td>\n",
       "      <td>98.5340</td>\n",
       "      <td>0.031</td>\n",
       "      <td>0.070</td>\n",
       "      <td>3.202</td>\n",
       "      <td>15.283243</td>\n",
       "      <td>3.202915</td>\n",
       "    </tr>\n",
       "    <tr>\n",
       "      <th>2004</th>\n",
       "      <td>56ev0yPeYbMzfrGCfS2KCr_5iRnQIh9VxMRp26OFFWH6z</td>\n",
       "      <td>56ev0yPeYbMzfrGCfS2KCr</td>\n",
       "      <td>5iRnQIh9VxMRp26OFFWH6z</td>\n",
       "      <td>0.642</td>\n",
       "      <td>0.487</td>\n",
       "      <td>113.815</td>\n",
       "      <td>0.511</td>\n",
       "      <td>0.287</td>\n",
       "      <td>100.135</td>\n",
       "      <td>0.514</td>\n",
       "      <td>0.283</td>\n",
       "      <td>95.027</td>\n",
       "      <td>0.5125</td>\n",
       "      <td>0.2850</td>\n",
       "      <td>97.5810</td>\n",
       "      <td>0.003</td>\n",
       "      <td>0.004</td>\n",
       "      <td>5.108</td>\n",
       "      <td>16.235773</td>\n",
       "      <td>5.108002</td>\n",
       "    </tr>\n",
       "    <tr>\n",
       "      <th>2000</th>\n",
       "      <td>56ev0yPeYbMzfrGCfS2KCr_0rwf08N6Fm5K57S7e7FJty</td>\n",
       "      <td>56ev0yPeYbMzfrGCfS2KCr</td>\n",
       "      <td>0rwf08N6Fm5K57S7e7FJty</td>\n",
       "      <td>0.642</td>\n",
       "      <td>0.487</td>\n",
       "      <td>113.815</td>\n",
       "      <td>0.511</td>\n",
       "      <td>0.287</td>\n",
       "      <td>100.135</td>\n",
       "      <td>0.550</td>\n",
       "      <td>0.338</td>\n",
       "      <td>94.996</td>\n",
       "      <td>0.5305</td>\n",
       "      <td>0.3125</td>\n",
       "      <td>97.5655</td>\n",
       "      <td>0.039</td>\n",
       "      <td>0.051</td>\n",
       "      <td>5.139</td>\n",
       "      <td>16.250819</td>\n",
       "      <td>5.139401</td>\n",
       "    </tr>\n",
       "    <tr>\n",
       "      <th>1998</th>\n",
       "      <td>56ev0yPeYbMzfrGCfS2KCr_3s3LHm3AI7jazWk0Rdg6Q3</td>\n",
       "      <td>56ev0yPeYbMzfrGCfS2KCr</td>\n",
       "      <td>3s3LHm3AI7jazWk0Rdg6Q3</td>\n",
       "      <td>0.642</td>\n",
       "      <td>0.487</td>\n",
       "      <td>113.815</td>\n",
       "      <td>0.511</td>\n",
       "      <td>0.287</td>\n",
       "      <td>100.135</td>\n",
       "      <td>0.479</td>\n",
       "      <td>0.217</td>\n",
       "      <td>94.843</td>\n",
       "      <td>0.4950</td>\n",
       "      <td>0.2520</td>\n",
       "      <td>97.4890</td>\n",
       "      <td>0.032</td>\n",
       "      <td>0.070</td>\n",
       "      <td>5.292</td>\n",
       "      <td>16.328353</td>\n",
       "      <td>5.292560</td>\n",
       "    </tr>\n",
       "  </tbody>\n",
       "</table>\n",
       "</div>"
      ],
      "text/plain": [
       "                           current_track-next_track           current_track  \\\n",
       "2003  56ev0yPeYbMzfrGCfS2KCr_7Aw2zBxuyMrrPuxugAcZwr  56ev0yPeYbMzfrGCfS2KCr   \n",
       "2002  56ev0yPeYbMzfrGCfS2KCr_6uaIMhUZXMuT2Zz0vxrFiR  56ev0yPeYbMzfrGCfS2KCr   \n",
       "2001  56ev0yPeYbMzfrGCfS2KCr_5i9A1n1s82jh53IGLldPG6  56ev0yPeYbMzfrGCfS2KCr   \n",
       "1999  56ev0yPeYbMzfrGCfS2KCr_5CZmC1I3ZbyH2ToPwTciAy  56ev0yPeYbMzfrGCfS2KCr   \n",
       "2004  56ev0yPeYbMzfrGCfS2KCr_5iRnQIh9VxMRp26OFFWH6z  56ev0yPeYbMzfrGCfS2KCr   \n",
       "2000  56ev0yPeYbMzfrGCfS2KCr_0rwf08N6Fm5K57S7e7FJty  56ev0yPeYbMzfrGCfS2KCr   \n",
       "1998  56ev0yPeYbMzfrGCfS2KCr_3s3LHm3AI7jazWk0Rdg6Q3  56ev0yPeYbMzfrGCfS2KCr   \n",
       "\n",
       "                  next_track  energy_median  valence_median  tempo_median  \\\n",
       "2003  7Aw2zBxuyMrrPuxugAcZwr          0.642           0.487       113.815   \n",
       "2002  6uaIMhUZXMuT2Zz0vxrFiR          0.642           0.487       113.815   \n",
       "2001  5i9A1n1s82jh53IGLldPG6          0.642           0.487       113.815   \n",
       "1999  5CZmC1I3ZbyH2ToPwTciAy          0.642           0.487       113.815   \n",
       "2004  5iRnQIh9VxMRp26OFFWH6z          0.642           0.487       113.815   \n",
       "2000  0rwf08N6Fm5K57S7e7FJty          0.642           0.487       113.815   \n",
       "1998  3s3LHm3AI7jazWk0Rdg6Q3          0.642           0.487       113.815   \n",
       "\n",
       "      energy_ct  valence_ct  tempo_ct  energy_nt  valence_nt  tempo_nt  \\\n",
       "2003      0.511       0.287   100.135      0.476       0.335   108.071   \n",
       "2002      0.511       0.287   100.135      0.558       0.283   104.991   \n",
       "2001      0.511       0.287   100.135      0.503       0.339   104.882   \n",
       "1999      0.511       0.287   100.135      0.542       0.217    96.933   \n",
       "2004      0.511       0.287   100.135      0.514       0.283    95.027   \n",
       "2000      0.511       0.287   100.135      0.550       0.338    94.996   \n",
       "1998      0.511       0.287   100.135      0.479       0.217    94.843   \n",
       "\n",
       "      energy_mid_pont  valence_mid_pont  tempo_mid_pont  diff_energy  \\\n",
       "2003           0.4935            0.3110        104.1030        0.035   \n",
       "2002           0.5345            0.2850        102.5630        0.047   \n",
       "2001           0.5070            0.3130        102.5085        0.008   \n",
       "1999           0.5265            0.2520         98.5340        0.031   \n",
       "2004           0.5125            0.2850         97.5810        0.003   \n",
       "2000           0.5305            0.3125         97.5655        0.039   \n",
       "1998           0.4950            0.2520         97.4890        0.032   \n",
       "\n",
       "      diff_valence  diff_tempo  euclidian_dist_midpoint_median  \\\n",
       "2003         0.048       7.936                        9.714730   \n",
       "2002         0.004       4.856                       11.254326   \n",
       "2001         0.052       4.747                       11.308645   \n",
       "1999         0.070       3.202                       15.283243   \n",
       "2004         0.004       5.108                       16.235773   \n",
       "2000         0.051       5.139                       16.250819   \n",
       "1998         0.070       5.292                       16.328353   \n",
       "\n",
       "      euclidian_dist_track  \n",
       "2003              7.936222  \n",
       "2002              4.856229  \n",
       "2001              4.747292  \n",
       "1999              3.202915  \n",
       "2004              5.108002  \n",
       "2000              5.139401  \n",
       "1998              5.292560  "
      ]
     },
     "execution_count": 10,
     "metadata": {},
     "output_type": "execute_result"
    }
   ],
   "source": [
    "# use the 2nd track to locate new candidates\n",
    "\n",
    "df_distance_low_low[df_distance_low_low['current_track-next_track'].str.contains(\"56ev0yPeYbMzfrGCfS2KCr_\")].sort_values(by=['euclidian_dist_midpoint_median','euclidian_dist_track'])"
   ]
  },
  {
   "cell_type": "markdown",
   "metadata": {},
   "source": [
    "Choose the 1st one, if it is not in the list yet, insert in the list of tracks and search for the next one when the list is complete..."
   ]
  },
  {
   "cell_type": "code",
   "execution_count": 11,
   "metadata": {
    "ExecuteTime": {
     "end_time": "2019-06-25T12:32:57.891304Z",
     "start_time": "2019-06-25T12:32:57.833291Z"
    },
    "scrolled": true
   },
   "outputs": [
    {
     "data": {
      "text/html": [
       "<div>\n",
       "<style scoped>\n",
       "    .dataframe tbody tr th:only-of-type {\n",
       "        vertical-align: middle;\n",
       "    }\n",
       "\n",
       "    .dataframe tbody tr th {\n",
       "        vertical-align: top;\n",
       "    }\n",
       "\n",
       "    .dataframe thead th {\n",
       "        text-align: right;\n",
       "    }\n",
       "</style>\n",
       "<table border=\"1\" class=\"dataframe\">\n",
       "  <thead>\n",
       "    <tr style=\"text-align: right;\">\n",
       "      <th></th>\n",
       "      <th>track_id</th>\n",
       "      <th>track_preview_url</th>\n",
       "    </tr>\n",
       "  </thead>\n",
       "  <tbody>\n",
       "    <tr>\n",
       "      <th>0</th>\n",
       "      <td>4vmgP10TH0YYqJkzr8yLW0</td>\n",
       "      <td>https://p.scdn.co/mp3-preview/942ee17ac0cb9871...</td>\n",
       "    </tr>\n",
       "    <tr>\n",
       "      <th>1</th>\n",
       "      <td>14sOS5L36385FJ3OL8hew4</td>\n",
       "      <td>https://p.scdn.co/mp3-preview/a2c9677593d52774...</td>\n",
       "    </tr>\n",
       "    <tr>\n",
       "      <th>2</th>\n",
       "      <td>2Fap2zMMINCLylSCSGQLEa</td>\n",
       "      <td>https://p.scdn.co/mp3-preview/44c473a4f8b8274a...</td>\n",
       "    </tr>\n",
       "    <tr>\n",
       "      <th>3</th>\n",
       "      <td>1ymEwygMMg5JwVAnh3C7yY</td>\n",
       "      <td>https://p.scdn.co/mp3-preview/24074255bfe1055e...</td>\n",
       "    </tr>\n",
       "    <tr>\n",
       "      <th>4</th>\n",
       "      <td>60Q0ZSKKBea7otGijFgrQI</td>\n",
       "      <td>https://p.scdn.co/mp3-preview/c0382da9d6f1ea57...</td>\n",
       "    </tr>\n",
       "    <tr>\n",
       "      <th>5</th>\n",
       "      <td>7tsHqxfepei1AdLjy93XIv</td>\n",
       "      <td>https://p.scdn.co/mp3-preview/150880560ac7c21c...</td>\n",
       "    </tr>\n",
       "    <tr>\n",
       "      <th>6</th>\n",
       "      <td>1eN1K7YPRButXU7Mq0V58N</td>\n",
       "      <td>https://p.scdn.co/mp3-preview/0338b316d387ccfb...</td>\n",
       "    </tr>\n",
       "    <tr>\n",
       "      <th>7</th>\n",
       "      <td>6uaIMhUZXMuT2Zz0vxrFiR</td>\n",
       "      <td>https://p.scdn.co/mp3-preview/928adf2ede516cf2...</td>\n",
       "    </tr>\n",
       "    <tr>\n",
       "      <th>8</th>\n",
       "      <td>56ev0yPeYbMzfrGCfS2KCr</td>\n",
       "      <td>https://p.scdn.co/mp3-preview/675a84e349312944...</td>\n",
       "    </tr>\n",
       "    <tr>\n",
       "      <th>9</th>\n",
       "      <td>7Aw2zBxuyMrrPuxugAcZwr</td>\n",
       "      <td>https://p.scdn.co/mp3-preview/a55785a57212caf5...</td>\n",
       "    </tr>\n",
       "  </tbody>\n",
       "</table>\n",
       "</div>"
      ],
      "text/plain": [
       "                 track_id                                  track_preview_url\n",
       "0  4vmgP10TH0YYqJkzr8yLW0  https://p.scdn.co/mp3-preview/942ee17ac0cb9871...\n",
       "1  14sOS5L36385FJ3OL8hew4  https://p.scdn.co/mp3-preview/a2c9677593d52774...\n",
       "2  2Fap2zMMINCLylSCSGQLEa  https://p.scdn.co/mp3-preview/44c473a4f8b8274a...\n",
       "3  1ymEwygMMg5JwVAnh3C7yY  https://p.scdn.co/mp3-preview/24074255bfe1055e...\n",
       "4  60Q0ZSKKBea7otGijFgrQI  https://p.scdn.co/mp3-preview/c0382da9d6f1ea57...\n",
       "5  7tsHqxfepei1AdLjy93XIv  https://p.scdn.co/mp3-preview/150880560ac7c21c...\n",
       "6  1eN1K7YPRButXU7Mq0V58N  https://p.scdn.co/mp3-preview/0338b316d387ccfb...\n",
       "7  6uaIMhUZXMuT2Zz0vxrFiR  https://p.scdn.co/mp3-preview/928adf2ede516cf2...\n",
       "8  56ev0yPeYbMzfrGCfS2KCr  https://p.scdn.co/mp3-preview/675a84e349312944...\n",
       "9  7Aw2zBxuyMrrPuxugAcZwr  https://p.scdn.co/mp3-preview/a55785a57212caf5..."
      ]
     },
     "execution_count": 11,
     "metadata": {},
     "output_type": "execute_result"
    }
   ],
   "source": [
    "# Create dataframe with track_id and snippets\n",
    "\n",
    "df_snippets_playlist = df_snippets[df_snippets['track_id'].isin(list_low_low)].drop_duplicates(subset = ['track_id'],keep=\"first\")\n",
    "df_snippets_playlist.drop_duplicates(subset = ['track_preview_url'],keep=\"first\",inplace = True)\n",
    "df_snippets_playlist.reset_index(drop=True,inplace=True)\n",
    "\n",
    "# to be sure the information is in the good order\n",
    "df_snippets_playlist.set_index('track_id',inplace=True)\n",
    "\n",
    "df_snippets_playlist=df_snippets_playlist.reindex(index = list_low_low)\n",
    "\n",
    "df_snippets_playlist.dropna(inplace=True)\n",
    "\n",
    "df_snippets_playlist.reset_index(inplace=True)\n",
    "df_snippets_playlist"
   ]
  },
  {
   "cell_type": "code",
   "execution_count": 12,
   "metadata": {
    "ExecuteTime": {
     "end_time": "2019-06-25T12:32:57.904230Z",
     "start_time": "2019-06-25T12:32:57.893289Z"
    }
   },
   "outputs": [],
   "source": [
    "# saving dataframe with tracks and snippets addresses \n",
    "\n",
    "df_snippets_playlist.to_csv(creating_playlist_folder+\"df_snippets_ll_pop_l20_h90_\"+TodaysDate+\".csv\",index=0)"
   ]
  },
  {
   "cell_type": "code",
   "execution_count": 13,
   "metadata": {
    "ExecuteTime": {
     "end_time": "2019-06-25T12:32:57.909685Z",
     "start_time": "2019-06-25T12:32:57.906183Z"
    }
   },
   "outputs": [],
   "source": [
    "# Print snippets url that will be used to download snippets\n",
    "\n",
    "snippets_urls = df_snippets_playlist.track_preview_url.tolist()"
   ]
  },
  {
   "cell_type": "code",
   "execution_count": 14,
   "metadata": {
    "ExecuteTime": {
     "end_time": "2019-06-25T12:32:57.920567Z",
     "start_time": "2019-06-25T12:32:57.911640Z"
    }
   },
   "outputs": [
    {
     "name": "stdout",
     "output_type": "stream",
     "text": [
      "https://p.scdn.co/mp3-preview/942ee17ac0cb98717bc5fad713311aa751f4ce1f?cid=63a77ff40e794a12ae216a18befde98c\n",
      "https://p.scdn.co/mp3-preview/a2c9677593d52774f89c7d2dd2e810ba4faac01c?cid=63a77ff40e794a12ae216a18befde98c\n",
      "https://p.scdn.co/mp3-preview/44c473a4f8b8274a3ec585885783805065119a4c?cid=63a77ff40e794a12ae216a18befde98c\n",
      "https://p.scdn.co/mp3-preview/24074255bfe1055ecb0b189c8603885f7ea02a55?cid=63a77ff40e794a12ae216a18befde98c\n",
      "https://p.scdn.co/mp3-preview/c0382da9d6f1ea57048f5d53b62349d55d64ffe5?cid=63a77ff40e794a12ae216a18befde98c\n",
      "https://p.scdn.co/mp3-preview/150880560ac7c21c0f5eec51d4afc0c6c3173e31?cid=63a77ff40e794a12ae216a18befde98c\n",
      "https://p.scdn.co/mp3-preview/0338b316d387ccfb2416d9338d5848c34f5d438a?cid=63a77ff40e794a12ae216a18befde98c\n",
      "https://p.scdn.co/mp3-preview/928adf2ede516cf2293059644a0cb45592ffa442?cid=63a77ff40e794a12ae216a18befde98c\n",
      "https://p.scdn.co/mp3-preview/675a84e3493129443233ca6533518fed9c6b48a9?cid=63a77ff40e794a12ae216a18befde98c\n",
      "https://p.scdn.co/mp3-preview/a55785a57212caf5b4769ff1b81040d6ec2956c7?cid=63a77ff40e794a12ae216a18befde98c\n"
     ]
    }
   ],
   "source": [
    "for snip in snippets_urls:\n",
    "    print(snip)"
   ]
  },
  {
   "cell_type": "markdown",
   "metadata": {},
   "source": [
    "## Building playlist low_high_extreme - 'low' energy/valence & 'high' tempo"
   ]
  },
  {
   "cell_type": "code",
   "execution_count": 15,
   "metadata": {
    "ExecuteTime": {
     "end_time": "2019-06-25T12:32:57.947848Z",
     "start_time": "2019-06-25T12:32:57.923545Z"
    }
   },
   "outputs": [],
   "source": [
    "# load low high distance file\n",
    "\n",
    "df_distance_low_high = pd.read_csv(creating_playlist_folder+ distances_low_high)"
   ]
  },
  {
   "cell_type": "code",
   "execution_count": 16,
   "metadata": {
    "ExecuteTime": {
     "end_time": "2019-06-25T12:32:57.958763Z",
     "start_time": "2019-06-25T12:32:57.949831Z"
    }
   },
   "outputs": [],
   "source": [
    "# organize in ascending order of euclidian distance\n",
    "\n",
    "df_distance_low_high.sort_values(by=['euclidian_dist_midpoint_median','euclidian_dist_track'], ascending = True, inplace = True)"
   ]
  },
  {
   "cell_type": "code",
   "execution_count": 17,
   "metadata": {
    "ExecuteTime": {
     "end_time": "2019-06-25T12:32:57.972152Z",
     "start_time": "2019-06-25T12:32:57.962231Z"
    }
   },
   "outputs": [
    {
     "name": "stdout",
     "output_type": "stream",
     "text": [
      "0.05\n",
      "0.08\n",
      "67.77\n",
      "96.03\n"
     ]
    }
   ],
   "source": [
    "\n",
    "print(round(abs(df_distance_low_high.energy_ct-df_distance_low_high.energy_nt).max(),2))\n",
    "print(round(abs(df_distance_low_high.valence_ct-df_distance_low_high.valence_nt).max(),2))\n",
    "print(round(abs(df_distance_low_high.tempo_ct-df_distance_low_high.tempo_nt).min(),2))\n",
    "print(round(abs(df_distance_low_high.tempo_ct-df_distance_low_high.tempo_nt).max(),2))"
   ]
  },
  {
   "cell_type": "code",
   "execution_count": 18,
   "metadata": {
    "ExecuteTime": {
     "end_time": "2019-06-25T12:32:58.003417Z",
     "start_time": "2019-06-25T12:32:57.973640Z"
    }
   },
   "outputs": [
    {
     "data": {
      "text/html": [
       "<div>\n",
       "<style scoped>\n",
       "    .dataframe tbody tr th:only-of-type {\n",
       "        vertical-align: middle;\n",
       "    }\n",
       "\n",
       "    .dataframe tbody tr th {\n",
       "        vertical-align: top;\n",
       "    }\n",
       "\n",
       "    .dataframe thead th {\n",
       "        text-align: right;\n",
       "    }\n",
       "</style>\n",
       "<table border=\"1\" class=\"dataframe\">\n",
       "  <thead>\n",
       "    <tr style=\"text-align: right;\">\n",
       "      <th></th>\n",
       "      <th>current_track-next_track</th>\n",
       "      <th>current_track</th>\n",
       "      <th>next_track</th>\n",
       "      <th>energy_median</th>\n",
       "      <th>valence_median</th>\n",
       "      <th>tempo_median</th>\n",
       "      <th>energy_ct</th>\n",
       "      <th>valence_ct</th>\n",
       "      <th>tempo_ct</th>\n",
       "      <th>energy_nt</th>\n",
       "      <th>valence_nt</th>\n",
       "      <th>tempo_nt</th>\n",
       "      <th>energy_mid_pont</th>\n",
       "      <th>valence_mid_pont</th>\n",
       "      <th>tempo_mid_pont</th>\n",
       "      <th>diff_energy</th>\n",
       "      <th>diff_valence</th>\n",
       "      <th>diff_tempo</th>\n",
       "      <th>euclidian_dist_midpoint_median</th>\n",
       "      <th>euclidian_dist_track</th>\n",
       "    </tr>\n",
       "  </thead>\n",
       "  <tbody>\n",
       "    <tr>\n",
       "      <th>543</th>\n",
       "      <td>4SX4NUI58M3KhbalXxjwFC_2YyvWje3cEYyqgYhNUIaBJ</td>\n",
       "      <td>4SX4NUI58M3KhbalXxjwFC</td>\n",
       "      <td>2YyvWje3cEYyqgYhNUIaBJ</td>\n",
       "      <td>0.642</td>\n",
       "      <td>0.487</td>\n",
       "      <td>113.815</td>\n",
       "      <td>0.637</td>\n",
       "      <td>0.438</td>\n",
       "      <td>77.670</td>\n",
       "      <td>0.679</td>\n",
       "      <td>0.475</td>\n",
       "      <td>149.972</td>\n",
       "      <td>0.6580</td>\n",
       "      <td>0.4565</td>\n",
       "      <td>113.8210</td>\n",
       "      <td>0.042</td>\n",
       "      <td>0.037</td>\n",
       "      <td>72.302</td>\n",
       "      <td>0.034961</td>\n",
       "      <td>72.302022</td>\n",
       "    </tr>\n",
       "    <tr>\n",
       "      <th>1147</th>\n",
       "      <td>2YyvWje3cEYyqgYhNUIaBJ_4SX4NUI58M3KhbalXxjwFC</td>\n",
       "      <td>2YyvWje3cEYyqgYhNUIaBJ</td>\n",
       "      <td>4SX4NUI58M3KhbalXxjwFC</td>\n",
       "      <td>0.642</td>\n",
       "      <td>0.487</td>\n",
       "      <td>113.815</td>\n",
       "      <td>0.679</td>\n",
       "      <td>0.475</td>\n",
       "      <td>149.972</td>\n",
       "      <td>0.637</td>\n",
       "      <td>0.438</td>\n",
       "      <td>77.670</td>\n",
       "      <td>0.6580</td>\n",
       "      <td>0.4565</td>\n",
       "      <td>113.8210</td>\n",
       "      <td>0.042</td>\n",
       "      <td>0.037</td>\n",
       "      <td>72.302</td>\n",
       "      <td>0.034961</td>\n",
       "      <td>72.302022</td>\n",
       "    </tr>\n",
       "    <tr>\n",
       "      <th>1094</th>\n",
       "      <td>708L4ld9wD2pjoqKwaxkXa_5R96PHcqOGjgj23D98F6mf</td>\n",
       "      <td>708L4ld9wD2pjoqKwaxkXa</td>\n",
       "      <td>5R96PHcqOGjgj23D98F6mf</td>\n",
       "      <td>0.642</td>\n",
       "      <td>0.487</td>\n",
       "      <td>113.815</td>\n",
       "      <td>0.550</td>\n",
       "      <td>0.319</td>\n",
       "      <td>159.971</td>\n",
       "      <td>0.565</td>\n",
       "      <td>0.302</td>\n",
       "      <td>67.992</td>\n",
       "      <td>0.5575</td>\n",
       "      <td>0.3105</td>\n",
       "      <td>113.9815</td>\n",
       "      <td>0.015</td>\n",
       "      <td>0.017</td>\n",
       "      <td>91.979</td>\n",
       "      <td>0.256933</td>\n",
       "      <td>91.979003</td>\n",
       "    </tr>\n",
       "    <tr>\n",
       "      <th>1393</th>\n",
       "      <td>5R96PHcqOGjgj23D98F6mf_708L4ld9wD2pjoqKwaxkXa</td>\n",
       "      <td>5R96PHcqOGjgj23D98F6mf</td>\n",
       "      <td>708L4ld9wD2pjoqKwaxkXa</td>\n",
       "      <td>0.642</td>\n",
       "      <td>0.487</td>\n",
       "      <td>113.815</td>\n",
       "      <td>0.565</td>\n",
       "      <td>0.302</td>\n",
       "      <td>67.992</td>\n",
       "      <td>0.550</td>\n",
       "      <td>0.319</td>\n",
       "      <td>159.971</td>\n",
       "      <td>0.5575</td>\n",
       "      <td>0.3105</td>\n",
       "      <td>113.9815</td>\n",
       "      <td>0.015</td>\n",
       "      <td>0.017</td>\n",
       "      <td>91.979</td>\n",
       "      <td>0.256933</td>\n",
       "      <td>91.979003</td>\n",
       "    </tr>\n",
       "    <tr>\n",
       "      <th>473</th>\n",
       "      <td>7pdF27mSDuPWhppnHAmWHa_5R96PHcqOGjgj23D98F6mf</td>\n",
       "      <td>7pdF27mSDuPWhppnHAmWHa</td>\n",
       "      <td>5R96PHcqOGjgj23D98F6mf</td>\n",
       "      <td>0.642</td>\n",
       "      <td>0.487</td>\n",
       "      <td>113.815</td>\n",
       "      <td>0.525</td>\n",
       "      <td>0.369</td>\n",
       "      <td>160.147</td>\n",
       "      <td>0.565</td>\n",
       "      <td>0.302</td>\n",
       "      <td>67.992</td>\n",
       "      <td>0.5450</td>\n",
       "      <td>0.3355</td>\n",
       "      <td>114.0695</td>\n",
       "      <td>0.040</td>\n",
       "      <td>0.067</td>\n",
       "      <td>92.155</td>\n",
       "      <td>0.311659</td>\n",
       "      <td>92.155033</td>\n",
       "    </tr>\n",
       "  </tbody>\n",
       "</table>\n",
       "</div>"
      ],
      "text/plain": [
       "                           current_track-next_track           current_track  \\\n",
       "543   4SX4NUI58M3KhbalXxjwFC_2YyvWje3cEYyqgYhNUIaBJ  4SX4NUI58M3KhbalXxjwFC   \n",
       "1147  2YyvWje3cEYyqgYhNUIaBJ_4SX4NUI58M3KhbalXxjwFC  2YyvWje3cEYyqgYhNUIaBJ   \n",
       "1094  708L4ld9wD2pjoqKwaxkXa_5R96PHcqOGjgj23D98F6mf  708L4ld9wD2pjoqKwaxkXa   \n",
       "1393  5R96PHcqOGjgj23D98F6mf_708L4ld9wD2pjoqKwaxkXa  5R96PHcqOGjgj23D98F6mf   \n",
       "473   7pdF27mSDuPWhppnHAmWHa_5R96PHcqOGjgj23D98F6mf  7pdF27mSDuPWhppnHAmWHa   \n",
       "\n",
       "                  next_track  energy_median  valence_median  tempo_median  \\\n",
       "543   2YyvWje3cEYyqgYhNUIaBJ          0.642           0.487       113.815   \n",
       "1147  4SX4NUI58M3KhbalXxjwFC          0.642           0.487       113.815   \n",
       "1094  5R96PHcqOGjgj23D98F6mf          0.642           0.487       113.815   \n",
       "1393  708L4ld9wD2pjoqKwaxkXa          0.642           0.487       113.815   \n",
       "473   5R96PHcqOGjgj23D98F6mf          0.642           0.487       113.815   \n",
       "\n",
       "      energy_ct  valence_ct  tempo_ct  energy_nt  valence_nt  tempo_nt  \\\n",
       "543       0.637       0.438    77.670      0.679       0.475   149.972   \n",
       "1147      0.679       0.475   149.972      0.637       0.438    77.670   \n",
       "1094      0.550       0.319   159.971      0.565       0.302    67.992   \n",
       "1393      0.565       0.302    67.992      0.550       0.319   159.971   \n",
       "473       0.525       0.369   160.147      0.565       0.302    67.992   \n",
       "\n",
       "      energy_mid_pont  valence_mid_pont  tempo_mid_pont  diff_energy  \\\n",
       "543            0.6580            0.4565        113.8210        0.042   \n",
       "1147           0.6580            0.4565        113.8210        0.042   \n",
       "1094           0.5575            0.3105        113.9815        0.015   \n",
       "1393           0.5575            0.3105        113.9815        0.015   \n",
       "473            0.5450            0.3355        114.0695        0.040   \n",
       "\n",
       "      diff_valence  diff_tempo  euclidian_dist_midpoint_median  \\\n",
       "543          0.037      72.302                        0.034961   \n",
       "1147         0.037      72.302                        0.034961   \n",
       "1094         0.017      91.979                        0.256933   \n",
       "1393         0.017      91.979                        0.256933   \n",
       "473          0.067      92.155                        0.311659   \n",
       "\n",
       "      euclidian_dist_track  \n",
       "543              72.302022  \n",
       "1147             72.302022  \n",
       "1094             91.979003  \n",
       "1393             91.979003  \n",
       "473              92.155033  "
      ]
     },
     "execution_count": 18,
     "metadata": {},
     "output_type": "execute_result"
    }
   ],
   "source": [
    "df_distance_low_high.head()"
   ]
  },
  {
   "cell_type": "code",
   "execution_count": 19,
   "metadata": {
    "ExecuteTime": {
     "end_time": "2019-06-25T12:32:58.016325Z",
     "start_time": "2019-06-25T12:32:58.005881Z"
    }
   },
   "outputs": [],
   "source": [
    "# Choose the 1st 2-track_sequence \n",
    "\n",
    "list_low_high = [\"191HHrs8Bwa8VZ4IJ2iG67\",\"3qLBz3j26AHO2jBYUQWLA6\",\"0Jw6f9OfWddSnuBQ5hJHHl\",\"4qCgKKXa3CF6CzEDLW6vTt\",\n",
    "                 \"6RUKPb4LETWmmr3iAEQktW\", \"0RU0In1Bg1jlUxb9Euk8Ra\",\"6kPJZM97LwdG9QIsT7khp6\",\"6X6SdJzxyw7GzxwP2fr9WV\",\n",
    "                \"4BiiOzZCrXEzHRLYcYFiD5\",\"6ml4HmG8o9zcqUiR3HW0Jb\"]"
   ]
  },
  {
   "cell_type": "markdown",
   "metadata": {},
   "source": [
    "Replaced 5th track because it was the same of the 1st track of playlist 4."
   ]
  },
  {
   "cell_type": "code",
   "execution_count": 20,
   "metadata": {
    "ExecuteTime": {
     "end_time": "2019-06-25T12:32:58.038120Z",
     "start_time": "2019-06-25T12:32:58.018278Z"
    }
   },
   "outputs": [
    {
     "data": {
      "text/html": [
       "<div>\n",
       "<style scoped>\n",
       "    .dataframe tbody tr th:only-of-type {\n",
       "        vertical-align: middle;\n",
       "    }\n",
       "\n",
       "    .dataframe tbody tr th {\n",
       "        vertical-align: top;\n",
       "    }\n",
       "\n",
       "    .dataframe thead th {\n",
       "        text-align: right;\n",
       "    }\n",
       "</style>\n",
       "<table border=\"1\" class=\"dataframe\">\n",
       "  <thead>\n",
       "    <tr style=\"text-align: right;\">\n",
       "      <th></th>\n",
       "      <th>current_track-next_track</th>\n",
       "      <th>current_track</th>\n",
       "      <th>next_track</th>\n",
       "      <th>energy_median</th>\n",
       "      <th>valence_median</th>\n",
       "      <th>tempo_median</th>\n",
       "      <th>energy_ct</th>\n",
       "      <th>valence_ct</th>\n",
       "      <th>tempo_ct</th>\n",
       "      <th>energy_nt</th>\n",
       "      <th>valence_nt</th>\n",
       "      <th>tempo_nt</th>\n",
       "      <th>energy_mid_pont</th>\n",
       "      <th>valence_mid_pont</th>\n",
       "      <th>tempo_mid_pont</th>\n",
       "      <th>diff_energy</th>\n",
       "      <th>diff_valence</th>\n",
       "      <th>diff_tempo</th>\n",
       "      <th>euclidian_dist_midpoint_median</th>\n",
       "      <th>euclidian_dist_track</th>\n",
       "    </tr>\n",
       "  </thead>\n",
       "  <tbody>\n",
       "  </tbody>\n",
       "</table>\n",
       "</div>"
      ],
      "text/plain": [
       "Empty DataFrame\n",
       "Columns: [current_track-next_track, current_track, next_track, energy_median, valence_median, tempo_median, energy_ct, valence_ct, tempo_ct, energy_nt, valence_nt, tempo_nt, energy_mid_pont, valence_mid_pont, tempo_mid_pont, diff_energy, diff_valence, diff_tempo, euclidian_dist_midpoint_median, euclidian_dist_track]\n",
       "Index: []"
      ]
     },
     "execution_count": 20,
     "metadata": {},
     "output_type": "execute_result"
    }
   ],
   "source": [
    "# use the 2nd track to locate new candidates\n",
    "\n",
    "df_distance_low_high[df_distance_low_high['current_track-next_track'].str.contains(\"6ml4HmG8o9zcqUiR3HW0Jb_\")].sort_values(by=['euclidian_dist_midpoint_median','euclidian_dist_track'])"
   ]
  },
  {
   "cell_type": "markdown",
   "metadata": {},
   "source": [
    "Choose the 1st one, if it is not in the list yet, insert in the list of tracks and search for the next one when the list is complete..."
   ]
  },
  {
   "cell_type": "code",
   "execution_count": 21,
   "metadata": {
    "ExecuteTime": {
     "end_time": "2019-06-25T12:32:58.089705Z",
     "start_time": "2019-06-25T12:32:58.040103Z"
    }
   },
   "outputs": [
    {
     "data": {
      "text/html": [
       "<div>\n",
       "<style scoped>\n",
       "    .dataframe tbody tr th:only-of-type {\n",
       "        vertical-align: middle;\n",
       "    }\n",
       "\n",
       "    .dataframe tbody tr th {\n",
       "        vertical-align: top;\n",
       "    }\n",
       "\n",
       "    .dataframe thead th {\n",
       "        text-align: right;\n",
       "    }\n",
       "</style>\n",
       "<table border=\"1\" class=\"dataframe\">\n",
       "  <thead>\n",
       "    <tr style=\"text-align: right;\">\n",
       "      <th></th>\n",
       "      <th>track_id</th>\n",
       "      <th>track_preview_url</th>\n",
       "    </tr>\n",
       "  </thead>\n",
       "  <tbody>\n",
       "    <tr>\n",
       "      <th>0</th>\n",
       "      <td>191HHrs8Bwa8VZ4IJ2iG67</td>\n",
       "      <td>https://p.scdn.co/mp3-preview/2548dd0bff88581e...</td>\n",
       "    </tr>\n",
       "    <tr>\n",
       "      <th>1</th>\n",
       "      <td>3qLBz3j26AHO2jBYUQWLA6</td>\n",
       "      <td>https://p.scdn.co/mp3-preview/3825dc0c01c42552...</td>\n",
       "    </tr>\n",
       "    <tr>\n",
       "      <th>2</th>\n",
       "      <td>0Jw6f9OfWddSnuBQ5hJHHl</td>\n",
       "      <td>https://p.scdn.co/mp3-preview/df73c329bf61bb57...</td>\n",
       "    </tr>\n",
       "    <tr>\n",
       "      <th>3</th>\n",
       "      <td>4qCgKKXa3CF6CzEDLW6vTt</td>\n",
       "      <td>https://p.scdn.co/mp3-preview/8b0c23629290fd8e...</td>\n",
       "    </tr>\n",
       "    <tr>\n",
       "      <th>4</th>\n",
       "      <td>6RUKPb4LETWmmr3iAEQktW</td>\n",
       "      <td>https://p.scdn.co/mp3-preview/cb1ae1f9e2f874dd...</td>\n",
       "    </tr>\n",
       "    <tr>\n",
       "      <th>5</th>\n",
       "      <td>0RU0In1Bg1jlUxb9Euk8Ra</td>\n",
       "      <td>https://p.scdn.co/mp3-preview/0518751dee18cfef...</td>\n",
       "    </tr>\n",
       "    <tr>\n",
       "      <th>6</th>\n",
       "      <td>6kPJZM97LwdG9QIsT7khp6</td>\n",
       "      <td>https://p.scdn.co/mp3-preview/ccfd1b80223079c1...</td>\n",
       "    </tr>\n",
       "    <tr>\n",
       "      <th>7</th>\n",
       "      <td>6X6SdJzxyw7GzxwP2fr9WV</td>\n",
       "      <td>https://p.scdn.co/mp3-preview/1ea310aa1002c5f8...</td>\n",
       "    </tr>\n",
       "    <tr>\n",
       "      <th>8</th>\n",
       "      <td>4BiiOzZCrXEzHRLYcYFiD5</td>\n",
       "      <td>https://p.scdn.co/mp3-preview/746135186e339c27...</td>\n",
       "    </tr>\n",
       "    <tr>\n",
       "      <th>9</th>\n",
       "      <td>6ml4HmG8o9zcqUiR3HW0Jb</td>\n",
       "      <td>https://p.scdn.co/mp3-preview/1ad0acd05049db42...</td>\n",
       "    </tr>\n",
       "  </tbody>\n",
       "</table>\n",
       "</div>"
      ],
      "text/plain": [
       "                 track_id                                  track_preview_url\n",
       "0  191HHrs8Bwa8VZ4IJ2iG67  https://p.scdn.co/mp3-preview/2548dd0bff88581e...\n",
       "1  3qLBz3j26AHO2jBYUQWLA6  https://p.scdn.co/mp3-preview/3825dc0c01c42552...\n",
       "2  0Jw6f9OfWddSnuBQ5hJHHl  https://p.scdn.co/mp3-preview/df73c329bf61bb57...\n",
       "3  4qCgKKXa3CF6CzEDLW6vTt  https://p.scdn.co/mp3-preview/8b0c23629290fd8e...\n",
       "4  6RUKPb4LETWmmr3iAEQktW  https://p.scdn.co/mp3-preview/cb1ae1f9e2f874dd...\n",
       "5  0RU0In1Bg1jlUxb9Euk8Ra  https://p.scdn.co/mp3-preview/0518751dee18cfef...\n",
       "6  6kPJZM97LwdG9QIsT7khp6  https://p.scdn.co/mp3-preview/ccfd1b80223079c1...\n",
       "7  6X6SdJzxyw7GzxwP2fr9WV  https://p.scdn.co/mp3-preview/1ea310aa1002c5f8...\n",
       "8  4BiiOzZCrXEzHRLYcYFiD5  https://p.scdn.co/mp3-preview/746135186e339c27...\n",
       "9  6ml4HmG8o9zcqUiR3HW0Jb  https://p.scdn.co/mp3-preview/1ad0acd05049db42..."
      ]
     },
     "execution_count": 21,
     "metadata": {},
     "output_type": "execute_result"
    }
   ],
   "source": [
    "# Create dataframe with track_id and snippets\n",
    "\n",
    "df_snippets_playlist = df_snippets[df_snippets['track_id'].isin(list_low_high)].drop_duplicates(subset = ['track_id'],keep=\"first\")\n",
    "df_snippets_playlist.drop_duplicates(subset = ['track_preview_url'],keep=\"first\",inplace = True)\n",
    "df_snippets_playlist.reset_index(drop=True,inplace=True)\n",
    "\n",
    "# to be sure the information is in the good order\n",
    "df_snippets_playlist.set_index('track_id',inplace=True)\n",
    "\n",
    "df_snippets_playlist=df_snippets_playlist.reindex(index = list_low_high)\n",
    "\n",
    "df_snippets_playlist.dropna(inplace=True)\n",
    "\n",
    "df_snippets_playlist.reset_index(inplace=True)\n",
    "df_snippets_playlist"
   ]
  },
  {
   "cell_type": "code",
   "execution_count": 22,
   "metadata": {
    "ExecuteTime": {
     "end_time": "2019-06-25T12:32:58.104582Z",
     "start_time": "2019-06-25T12:32:58.092681Z"
    }
   },
   "outputs": [],
   "source": [
    "df_snippets_playlist.to_csv(creating_playlist_folder+\"df_snippets_lh_pop_l20_h90_\"+TodaysDate+\".csv\",index=0)"
   ]
  },
  {
   "cell_type": "code",
   "execution_count": 23,
   "metadata": {
    "ExecuteTime": {
     "end_time": "2019-06-25T12:32:58.112529Z",
     "start_time": "2019-06-25T12:32:58.108070Z"
    }
   },
   "outputs": [],
   "source": [
    "# Print snippets url that will be used to download snippets\n",
    "\n",
    "snippets_urls = df_snippets_playlist.track_preview_url.tolist()"
   ]
  },
  {
   "cell_type": "code",
   "execution_count": 24,
   "metadata": {
    "ExecuteTime": {
     "end_time": "2019-06-25T12:32:58.125913Z",
     "start_time": "2019-06-25T12:32:58.115500Z"
    }
   },
   "outputs": [
    {
     "name": "stdout",
     "output_type": "stream",
     "text": [
      "https://p.scdn.co/mp3-preview/2548dd0bff88581e44a349f682c49dcfad920b6e?cid=63a77ff40e794a12ae216a18befde98c\n",
      "https://p.scdn.co/mp3-preview/3825dc0c01c42552ec9c4fd55fe50107f1ada581?cid=63a77ff40e794a12ae216a18befde98c\n",
      "https://p.scdn.co/mp3-preview/df73c329bf61bb576e288cc4d74efba076a0ccbc?cid=63a77ff40e794a12ae216a18befde98c\n",
      "https://p.scdn.co/mp3-preview/8b0c23629290fd8edf9bb81301547b2be4861c8c?cid=63a77ff40e794a12ae216a18befde98c\n",
      "https://p.scdn.co/mp3-preview/cb1ae1f9e2f874dd2d19e4c29edb552777eb1e7a?cid=63a77ff40e794a12ae216a18befde98c\n",
      "https://p.scdn.co/mp3-preview/0518751dee18cfef4c1c2713412606864081b4ed?cid=63a77ff40e794a12ae216a18befde98c\n",
      "https://p.scdn.co/mp3-preview/ccfd1b80223079c120eeec6e83c7771eb74ca27d?cid=63a77ff40e794a12ae216a18befde98c\n",
      "https://p.scdn.co/mp3-preview/1ea310aa1002c5f8d483a60110f8d2f97d0c8a88?cid=63a77ff40e794a12ae216a18befde98c\n",
      "https://p.scdn.co/mp3-preview/746135186e339c276d9f00f310286ce210782347?cid=63a77ff40e794a12ae216a18befde98c\n",
      "https://p.scdn.co/mp3-preview/1ad0acd05049db429b66194e340c6d56dba83f0d?cid=63a77ff40e794a12ae216a18befde98c\n"
     ]
    }
   ],
   "source": [
    "for snip in snippets_urls:\n",
    "    print(snip)"
   ]
  },
  {
   "cell_type": "markdown",
   "metadata": {},
   "source": [
    "## Building playlist high_low_extreme - 'high' energy/valence & 'low' tempo"
   ]
  },
  {
   "cell_type": "code",
   "execution_count": 25,
   "metadata": {
    "ExecuteTime": {
     "end_time": "2019-06-25T12:32:58.165096Z",
     "start_time": "2019-06-25T12:32:58.128392Z"
    }
   },
   "outputs": [],
   "source": [
    "# load high low distance file\n",
    "\n",
    "df_distance_high_low = pd.read_csv(creating_playlist_folder + distances_high_low)"
   ]
  },
  {
   "cell_type": "code",
   "execution_count": 26,
   "metadata": {
    "ExecuteTime": {
     "end_time": "2019-06-25T12:32:58.175015Z",
     "start_time": "2019-06-25T12:32:58.167575Z"
    }
   },
   "outputs": [],
   "source": [
    "# organize in ascending order of euclidian distance\n",
    "\n",
    "df_distance_high_low.sort_values(by=['euclidian_dist_midpoint_median','euclidian_dist_track'], ascending = True, inplace = True)"
   ]
  },
  {
   "cell_type": "code",
   "execution_count": 27,
   "metadata": {
    "ExecuteTime": {
     "end_time": "2019-06-25T12:32:58.185927Z",
     "start_time": "2019-06-25T12:32:58.177000Z"
    }
   },
   "outputs": [
    {
     "name": "stdout",
     "output_type": "stream",
     "text": [
      "0.37\n",
      "0.53\n",
      "0.49\n",
      "0.73\n",
      "8.44\n"
     ]
    }
   ],
   "source": [
    "print(round(abs(df_distance_high_low.energy_ct-df_distance_high_low.energy_nt).min(),2))\n",
    "print(round(abs(df_distance_high_low.energy_ct-df_distance_high_low.energy_nt).max(),2))\n",
    "print(round(abs(df_distance_high_low.valence_ct-df_distance_high_low.valence_nt).min(),2))\n",
    "print(round(abs(df_distance_high_low.valence_ct-df_distance_high_low.valence_nt).max(),2))\n",
    "print(round(abs(df_distance_high_low.tempo_ct-df_distance_high_low.tempo_nt).max(),2))"
   ]
  },
  {
   "cell_type": "code",
   "execution_count": 28,
   "metadata": {
    "ExecuteTime": {
     "end_time": "2019-06-25T12:32:58.232055Z",
     "start_time": "2019-06-25T12:32:58.188905Z"
    },
    "scrolled": true
   },
   "outputs": [
    {
     "data": {
      "text/html": [
       "<div>\n",
       "<style scoped>\n",
       "    .dataframe tbody tr th:only-of-type {\n",
       "        vertical-align: middle;\n",
       "    }\n",
       "\n",
       "    .dataframe tbody tr th {\n",
       "        vertical-align: top;\n",
       "    }\n",
       "\n",
       "    .dataframe thead th {\n",
       "        text-align: right;\n",
       "    }\n",
       "</style>\n",
       "<table border=\"1\" class=\"dataframe\">\n",
       "  <thead>\n",
       "    <tr style=\"text-align: right;\">\n",
       "      <th></th>\n",
       "      <th>current_track-next_track</th>\n",
       "      <th>current_track</th>\n",
       "      <th>next_track</th>\n",
       "      <th>energy_median</th>\n",
       "      <th>valence_median</th>\n",
       "      <th>tempo_median</th>\n",
       "      <th>energy_ct</th>\n",
       "      <th>valence_ct</th>\n",
       "      <th>tempo_ct</th>\n",
       "      <th>energy_nt</th>\n",
       "      <th>valence_nt</th>\n",
       "      <th>tempo_nt</th>\n",
       "      <th>energy_mid_pont</th>\n",
       "      <th>valence_mid_pont</th>\n",
       "      <th>tempo_mid_pont</th>\n",
       "      <th>diff_energy</th>\n",
       "      <th>diff_valence</th>\n",
       "      <th>diff_tempo</th>\n",
       "      <th>euclidian_dist_midpoint_median</th>\n",
       "      <th>euclidian_dist_track</th>\n",
       "    </tr>\n",
       "  </thead>\n",
       "  <tbody>\n",
       "    <tr>\n",
       "      <th>604</th>\n",
       "      <td>0KURlSvVShmFDbw1oum9QS_3y4uSQwxHckyRcvafEilkN</td>\n",
       "      <td>0KURlSvVShmFDbw1oum9QS</td>\n",
       "      <td>3y4uSQwxHckyRcvafEilkN</td>\n",
       "      <td>0.642</td>\n",
       "      <td>0.487</td>\n",
       "      <td>113.815</td>\n",
       "      <td>0.868</td>\n",
       "      <td>0.704</td>\n",
       "      <td>117.953</td>\n",
       "      <td>0.356</td>\n",
       "      <td>0.196</td>\n",
       "      <td>109.763</td>\n",
       "      <td>0.6120</td>\n",
       "      <td>0.4500</td>\n",
       "      <td>113.8580</td>\n",
       "      <td>0.512</td>\n",
       "      <td>0.508</td>\n",
       "      <td>8.190</td>\n",
       "      <td>0.064172</td>\n",
       "      <td>8.221697</td>\n",
       "    </tr>\n",
       "    <tr>\n",
       "      <th>2319</th>\n",
       "      <td>3y4uSQwxHckyRcvafEilkN_0KURlSvVShmFDbw1oum9QS</td>\n",
       "      <td>3y4uSQwxHckyRcvafEilkN</td>\n",
       "      <td>0KURlSvVShmFDbw1oum9QS</td>\n",
       "      <td>0.642</td>\n",
       "      <td>0.487</td>\n",
       "      <td>113.815</td>\n",
       "      <td>0.356</td>\n",
       "      <td>0.196</td>\n",
       "      <td>109.763</td>\n",
       "      <td>0.868</td>\n",
       "      <td>0.704</td>\n",
       "      <td>117.953</td>\n",
       "      <td>0.6120</td>\n",
       "      <td>0.4500</td>\n",
       "      <td>113.8580</td>\n",
       "      <td>0.512</td>\n",
       "      <td>0.508</td>\n",
       "      <td>8.190</td>\n",
       "      <td>0.064172</td>\n",
       "      <td>8.221697</td>\n",
       "    </tr>\n",
       "    <tr>\n",
       "      <th>715</th>\n",
       "      <td>79QsAQKkk3hlOC6yV1uKdg_2tsuHoDRjMTPkibpOkRuq4</td>\n",
       "      <td>79QsAQKkk3hlOC6yV1uKdg</td>\n",
       "      <td>2tsuHoDRjMTPkibpOkRuq4</td>\n",
       "      <td>0.642</td>\n",
       "      <td>0.487</td>\n",
       "      <td>113.815</td>\n",
       "      <td>0.390</td>\n",
       "      <td>0.322</td>\n",
       "      <td>117.784</td>\n",
       "      <td>0.807</td>\n",
       "      <td>0.884</td>\n",
       "      <td>109.945</td>\n",
       "      <td>0.5985</td>\n",
       "      <td>0.6030</td>\n",
       "      <td>113.8645</td>\n",
       "      <td>0.417</td>\n",
       "      <td>0.562</td>\n",
       "      <td>7.839</td>\n",
       "      <td>0.133411</td>\n",
       "      <td>7.870175</td>\n",
       "    </tr>\n",
       "    <tr>\n",
       "      <th>1070</th>\n",
       "      <td>2tsuHoDRjMTPkibpOkRuq4_79QsAQKkk3hlOC6yV1uKdg</td>\n",
       "      <td>2tsuHoDRjMTPkibpOkRuq4</td>\n",
       "      <td>79QsAQKkk3hlOC6yV1uKdg</td>\n",
       "      <td>0.642</td>\n",
       "      <td>0.487</td>\n",
       "      <td>113.815</td>\n",
       "      <td>0.807</td>\n",
       "      <td>0.884</td>\n",
       "      <td>109.945</td>\n",
       "      <td>0.390</td>\n",
       "      <td>0.322</td>\n",
       "      <td>117.784</td>\n",
       "      <td>0.5985</td>\n",
       "      <td>0.6030</td>\n",
       "      <td>113.8645</td>\n",
       "      <td>0.417</td>\n",
       "      <td>0.562</td>\n",
       "      <td>7.839</td>\n",
       "      <td>0.133411</td>\n",
       "      <td>7.870175</td>\n",
       "    </tr>\n",
       "    <tr>\n",
       "      <th>718</th>\n",
       "      <td>79QsAQKkk3hlOC6yV1uKdg_1eyCaj5QySgIm5kLPbZNVO</td>\n",
       "      <td>79QsAQKkk3hlOC6yV1uKdg</td>\n",
       "      <td>1eyCaj5QySgIm5kLPbZNVO</td>\n",
       "      <td>0.642</td>\n",
       "      <td>0.487</td>\n",
       "      <td>113.815</td>\n",
       "      <td>0.390</td>\n",
       "      <td>0.322</td>\n",
       "      <td>117.784</td>\n",
       "      <td>0.826</td>\n",
       "      <td>0.857</td>\n",
       "      <td>110.039</td>\n",
       "      <td>0.6080</td>\n",
       "      <td>0.5895</td>\n",
       "      <td>113.9115</td>\n",
       "      <td>0.436</td>\n",
       "      <td>0.535</td>\n",
       "      <td>7.745</td>\n",
       "      <td>0.144826</td>\n",
       "      <td>7.775689</td>\n",
       "    </tr>\n",
       "  </tbody>\n",
       "</table>\n",
       "</div>"
      ],
      "text/plain": [
       "                           current_track-next_track           current_track  \\\n",
       "604   0KURlSvVShmFDbw1oum9QS_3y4uSQwxHckyRcvafEilkN  0KURlSvVShmFDbw1oum9QS   \n",
       "2319  3y4uSQwxHckyRcvafEilkN_0KURlSvVShmFDbw1oum9QS  3y4uSQwxHckyRcvafEilkN   \n",
       "715   79QsAQKkk3hlOC6yV1uKdg_2tsuHoDRjMTPkibpOkRuq4  79QsAQKkk3hlOC6yV1uKdg   \n",
       "1070  2tsuHoDRjMTPkibpOkRuq4_79QsAQKkk3hlOC6yV1uKdg  2tsuHoDRjMTPkibpOkRuq4   \n",
       "718   79QsAQKkk3hlOC6yV1uKdg_1eyCaj5QySgIm5kLPbZNVO  79QsAQKkk3hlOC6yV1uKdg   \n",
       "\n",
       "                  next_track  energy_median  valence_median  tempo_median  \\\n",
       "604   3y4uSQwxHckyRcvafEilkN          0.642           0.487       113.815   \n",
       "2319  0KURlSvVShmFDbw1oum9QS          0.642           0.487       113.815   \n",
       "715   2tsuHoDRjMTPkibpOkRuq4          0.642           0.487       113.815   \n",
       "1070  79QsAQKkk3hlOC6yV1uKdg          0.642           0.487       113.815   \n",
       "718   1eyCaj5QySgIm5kLPbZNVO          0.642           0.487       113.815   \n",
       "\n",
       "      energy_ct  valence_ct  tempo_ct  energy_nt  valence_nt  tempo_nt  \\\n",
       "604       0.868       0.704   117.953      0.356       0.196   109.763   \n",
       "2319      0.356       0.196   109.763      0.868       0.704   117.953   \n",
       "715       0.390       0.322   117.784      0.807       0.884   109.945   \n",
       "1070      0.807       0.884   109.945      0.390       0.322   117.784   \n",
       "718       0.390       0.322   117.784      0.826       0.857   110.039   \n",
       "\n",
       "      energy_mid_pont  valence_mid_pont  tempo_mid_pont  diff_energy  \\\n",
       "604            0.6120            0.4500        113.8580        0.512   \n",
       "2319           0.6120            0.4500        113.8580        0.512   \n",
       "715            0.5985            0.6030        113.8645        0.417   \n",
       "1070           0.5985            0.6030        113.8645        0.417   \n",
       "718            0.6080            0.5895        113.9115        0.436   \n",
       "\n",
       "      diff_valence  diff_tempo  euclidian_dist_midpoint_median  \\\n",
       "604          0.508       8.190                        0.064172   \n",
       "2319         0.508       8.190                        0.064172   \n",
       "715          0.562       7.839                        0.133411   \n",
       "1070         0.562       7.839                        0.133411   \n",
       "718          0.535       7.745                        0.144826   \n",
       "\n",
       "      euclidian_dist_track  \n",
       "604               8.221697  \n",
       "2319              8.221697  \n",
       "715               7.870175  \n",
       "1070              7.870175  \n",
       "718               7.775689  "
      ]
     },
     "execution_count": 28,
     "metadata": {},
     "output_type": "execute_result"
    }
   ],
   "source": [
    "df_distance_high_low.head()"
   ]
  },
  {
   "cell_type": "markdown",
   "metadata": {},
   "source": [
    "The 1st track is the same as the 1st song of playlist 4 so the 2nd track (next_track of 1st row) is used to start this playlist.\n",
    "\n",
    "Repetition within the list but also in comparison with the other lists is avoided to don't have any positive or negative influence on the participants."
   ]
  },
  {
   "cell_type": "code",
   "execution_count": 29,
   "metadata": {
    "ExecuteTime": {
     "end_time": "2019-06-25T12:32:58.243987Z",
     "start_time": "2019-06-25T12:32:58.235033Z"
    }
   },
   "outputs": [],
   "source": [
    "list_high_low = [\"2dLxWmivrCHjJbYAkVNFyH\",\"31MkGwj0SWgZaTvEt5Hgxv\",\"21bAZmgzIw13tN0rHtMeRq\",\"27rdGxbavYJeBphck5MZAF\",\n",
    "                \"0kHyKhJMukHEPfeh8s7rdM\",\"4AmHBxaNASqpKUp7j69Ucl\",\"7fCNUWi6uflDTQ08srxMZk\",\"06c2L1gFGjdtqIDZ9lleH5\",\n",
    "                \"0JumfyG7GUshFjxouEXwhw\",\"1UUj1iScVn6wOXiBSyBhLn\"]"
   ]
  },
  {
   "cell_type": "code",
   "execution_count": 30,
   "metadata": {
    "ExecuteTime": {
     "end_time": "2019-06-25T12:32:58.266307Z",
     "start_time": "2019-06-25T12:32:58.245945Z"
    }
   },
   "outputs": [
    {
     "data": {
      "text/html": [
       "<div>\n",
       "<style scoped>\n",
       "    .dataframe tbody tr th:only-of-type {\n",
       "        vertical-align: middle;\n",
       "    }\n",
       "\n",
       "    .dataframe tbody tr th {\n",
       "        vertical-align: top;\n",
       "    }\n",
       "\n",
       "    .dataframe thead th {\n",
       "        text-align: right;\n",
       "    }\n",
       "</style>\n",
       "<table border=\"1\" class=\"dataframe\">\n",
       "  <thead>\n",
       "    <tr style=\"text-align: right;\">\n",
       "      <th></th>\n",
       "      <th>current_track-next_track</th>\n",
       "      <th>current_track</th>\n",
       "      <th>next_track</th>\n",
       "      <th>energy_median</th>\n",
       "      <th>valence_median</th>\n",
       "      <th>tempo_median</th>\n",
       "      <th>energy_ct</th>\n",
       "      <th>valence_ct</th>\n",
       "      <th>tempo_ct</th>\n",
       "      <th>energy_nt</th>\n",
       "      <th>valence_nt</th>\n",
       "      <th>tempo_nt</th>\n",
       "      <th>energy_mid_pont</th>\n",
       "      <th>valence_mid_pont</th>\n",
       "      <th>tempo_mid_pont</th>\n",
       "      <th>diff_energy</th>\n",
       "      <th>diff_valence</th>\n",
       "      <th>diff_tempo</th>\n",
       "      <th>euclidian_dist_midpoint_median</th>\n",
       "      <th>euclidian_dist_track</th>\n",
       "    </tr>\n",
       "  </thead>\n",
       "  <tbody>\n",
       "  </tbody>\n",
       "</table>\n",
       "</div>"
      ],
      "text/plain": [
       "Empty DataFrame\n",
       "Columns: [current_track-next_track, current_track, next_track, energy_median, valence_median, tempo_median, energy_ct, valence_ct, tempo_ct, energy_nt, valence_nt, tempo_nt, energy_mid_pont, valence_mid_pont, tempo_mid_pont, diff_energy, diff_valence, diff_tempo, euclidian_dist_midpoint_median, euclidian_dist_track]\n",
       "Index: []"
      ]
     },
     "execution_count": 30,
     "metadata": {},
     "output_type": "execute_result"
    }
   ],
   "source": [
    "# use the 2nd track to locate new candidates\n",
    "\n",
    "df_distance_high_low[df_distance_high_low['current_track-next_track'].str.contains(\"0JumfyG7GUshFjxouEXwhw_\")].sort_values(by=['euclidian_dist_midpoint_median','euclidian_dist_track'])"
   ]
  },
  {
   "cell_type": "markdown",
   "metadata": {},
   "source": [
    "Choose the 1st one, if it is not in the list yet, insert in the list of tracks and search for the next one when the list is complete..."
   ]
  },
  {
   "cell_type": "code",
   "execution_count": 31,
   "metadata": {
    "ExecuteTime": {
     "end_time": "2019-06-25T12:32:58.288627Z",
     "start_time": "2019-06-25T12:32:58.268283Z"
    }
   },
   "outputs": [
    {
     "data": {
      "text/html": [
       "<div>\n",
       "<style scoped>\n",
       "    .dataframe tbody tr th:only-of-type {\n",
       "        vertical-align: middle;\n",
       "    }\n",
       "\n",
       "    .dataframe tbody tr th {\n",
       "        vertical-align: top;\n",
       "    }\n",
       "\n",
       "    .dataframe thead th {\n",
       "        text-align: right;\n",
       "    }\n",
       "</style>\n",
       "<table border=\"1\" class=\"dataframe\">\n",
       "  <thead>\n",
       "    <tr style=\"text-align: right;\">\n",
       "      <th></th>\n",
       "      <th>track_id</th>\n",
       "      <th>track_preview_url</th>\n",
       "    </tr>\n",
       "  </thead>\n",
       "  <tbody>\n",
       "    <tr>\n",
       "      <th>0</th>\n",
       "      <td>2dLxWmivrCHjJbYAkVNFyH</td>\n",
       "      <td>https://p.scdn.co/mp3-preview/ab42790596362d88...</td>\n",
       "    </tr>\n",
       "    <tr>\n",
       "      <th>1</th>\n",
       "      <td>31MkGwj0SWgZaTvEt5Hgxv</td>\n",
       "      <td>https://p.scdn.co/mp3-preview/444931f5decdb6bb...</td>\n",
       "    </tr>\n",
       "    <tr>\n",
       "      <th>2</th>\n",
       "      <td>21bAZmgzIw13tN0rHtMeRq</td>\n",
       "      <td>https://p.scdn.co/mp3-preview/9780cdc817d17961...</td>\n",
       "    </tr>\n",
       "    <tr>\n",
       "      <th>3</th>\n",
       "      <td>27rdGxbavYJeBphck5MZAF</td>\n",
       "      <td>https://p.scdn.co/mp3-preview/d77c0f82619faf3f...</td>\n",
       "    </tr>\n",
       "    <tr>\n",
       "      <th>4</th>\n",
       "      <td>0kHyKhJMukHEPfeh8s7rdM</td>\n",
       "      <td>https://p.scdn.co/mp3-preview/0d49383d9825628f...</td>\n",
       "    </tr>\n",
       "    <tr>\n",
       "      <th>5</th>\n",
       "      <td>4AmHBxaNASqpKUp7j69Ucl</td>\n",
       "      <td>https://p.scdn.co/mp3-preview/3ec86e508a9e9691...</td>\n",
       "    </tr>\n",
       "    <tr>\n",
       "      <th>6</th>\n",
       "      <td>7fCNUWi6uflDTQ08srxMZk</td>\n",
       "      <td>https://p.scdn.co/mp3-preview/4a441e93de25fe27...</td>\n",
       "    </tr>\n",
       "    <tr>\n",
       "      <th>7</th>\n",
       "      <td>06c2L1gFGjdtqIDZ9lleH5</td>\n",
       "      <td>https://p.scdn.co/mp3-preview/34189e6c6a574ce5...</td>\n",
       "    </tr>\n",
       "    <tr>\n",
       "      <th>8</th>\n",
       "      <td>0JumfyG7GUshFjxouEXwhw</td>\n",
       "      <td>https://p.scdn.co/mp3-preview/8eec723f49918e82...</td>\n",
       "    </tr>\n",
       "    <tr>\n",
       "      <th>9</th>\n",
       "      <td>1UUj1iScVn6wOXiBSyBhLn</td>\n",
       "      <td>https://p.scdn.co/mp3-preview/5311a3f4cb4dd150...</td>\n",
       "    </tr>\n",
       "  </tbody>\n",
       "</table>\n",
       "</div>"
      ],
      "text/plain": [
       "                 track_id                                  track_preview_url\n",
       "0  2dLxWmivrCHjJbYAkVNFyH  https://p.scdn.co/mp3-preview/ab42790596362d88...\n",
       "1  31MkGwj0SWgZaTvEt5Hgxv  https://p.scdn.co/mp3-preview/444931f5decdb6bb...\n",
       "2  21bAZmgzIw13tN0rHtMeRq  https://p.scdn.co/mp3-preview/9780cdc817d17961...\n",
       "3  27rdGxbavYJeBphck5MZAF  https://p.scdn.co/mp3-preview/d77c0f82619faf3f...\n",
       "4  0kHyKhJMukHEPfeh8s7rdM  https://p.scdn.co/mp3-preview/0d49383d9825628f...\n",
       "5  4AmHBxaNASqpKUp7j69Ucl  https://p.scdn.co/mp3-preview/3ec86e508a9e9691...\n",
       "6  7fCNUWi6uflDTQ08srxMZk  https://p.scdn.co/mp3-preview/4a441e93de25fe27...\n",
       "7  06c2L1gFGjdtqIDZ9lleH5  https://p.scdn.co/mp3-preview/34189e6c6a574ce5...\n",
       "8  0JumfyG7GUshFjxouEXwhw  https://p.scdn.co/mp3-preview/8eec723f49918e82...\n",
       "9  1UUj1iScVn6wOXiBSyBhLn  https://p.scdn.co/mp3-preview/5311a3f4cb4dd150..."
      ]
     },
     "execution_count": 31,
     "metadata": {},
     "output_type": "execute_result"
    }
   ],
   "source": [
    "# Create dataframe with track_id and snippets\n",
    "\n",
    "df_snippets_playlist = df_snippets[df_snippets['track_id'].isin(list_high_low)].drop_duplicates(subset = ['track_id'],keep=\"first\")\n",
    "df_snippets_playlist.drop_duplicates(subset = ['track_preview_url'],keep=\"first\",inplace = True)\n",
    "df_snippets_playlist.reset_index(drop=True,inplace=True)\n",
    "\n",
    "# to be sure the information is in the good order\n",
    "df_snippets_playlist.set_index('track_id',inplace=True)\n",
    "\n",
    "df_snippets_playlist=df_snippets_playlist.reindex(index = list_high_low)\n",
    "\n",
    "df_snippets_playlist.dropna(inplace=True)\n",
    "\n",
    "df_snippets_playlist.reset_index(inplace=True)\n",
    "df_snippets_playlist"
   ]
  },
  {
   "cell_type": "code",
   "execution_count": 32,
   "metadata": {
    "ExecuteTime": {
     "end_time": "2019-06-25T12:32:58.305465Z",
     "start_time": "2019-06-25T12:32:58.290582Z"
    }
   },
   "outputs": [],
   "source": [
    "df_snippets_playlist.to_csv(creating_playlist_folder+\"df_snippets_hl_pop_l20_h90_\"+TodaysDate+\".csv\",index=0)"
   ]
  },
  {
   "cell_type": "code",
   "execution_count": 33,
   "metadata": {
    "ExecuteTime": {
     "end_time": "2019-06-25T12:32:58.311442Z",
     "start_time": "2019-06-25T12:32:58.307449Z"
    }
   },
   "outputs": [],
   "source": [
    "# Print snippets url that will be used to download snippets\n",
    "\n",
    "snippets_urls = df_snippets_playlist.track_preview_url.tolist()"
   ]
  },
  {
   "cell_type": "code",
   "execution_count": 34,
   "metadata": {
    "ExecuteTime": {
     "end_time": "2019-06-25T12:32:58.324310Z",
     "start_time": "2019-06-25T12:32:58.314398Z"
    }
   },
   "outputs": [
    {
     "name": "stdout",
     "output_type": "stream",
     "text": [
      "https://p.scdn.co/mp3-preview/ab42790596362d8832fcb0fcfda6004921c11acf?cid=63a77ff40e794a12ae216a18befde98c\n",
      "https://p.scdn.co/mp3-preview/444931f5decdb6bbaeade77d1bcbb82f5258c1cf?cid=63a77ff40e794a12ae216a18befde98c\n",
      "https://p.scdn.co/mp3-preview/9780cdc817d1796158b6aa9b323841cfc93907c4?cid=63a77ff40e794a12ae216a18befde98c\n",
      "https://p.scdn.co/mp3-preview/d77c0f82619faf3fa4d6a34a35938820b3389ae9?cid=63a77ff40e794a12ae216a18befde98c\n",
      "https://p.scdn.co/mp3-preview/0d49383d9825628ff03ea46e0d5b15d0e8d8e1cb?cid=63a77ff40e794a12ae216a18befde98c\n",
      "https://p.scdn.co/mp3-preview/3ec86e508a9e96918172e392986e02fb9d5f620e?cid=63a77ff40e794a12ae216a18befde98c\n",
      "https://p.scdn.co/mp3-preview/4a441e93de25fe270fef23be6abc2ef25467e2f1?cid=63a77ff40e794a12ae216a18befde98c\n",
      "https://p.scdn.co/mp3-preview/34189e6c6a574ce51aa7cbb3cda95c0e95542f49?cid=63a77ff40e794a12ae216a18befde98c\n",
      "https://p.scdn.co/mp3-preview/8eec723f49918e82d80ec70c70d841b678931e47?cid=63a77ff40e794a12ae216a18befde98c\n",
      "https://p.scdn.co/mp3-preview/5311a3f4cb4dd1505a84a55cb66b113dfcf4cd63?cid=63a77ff40e794a12ae216a18befde98c\n"
     ]
    }
   ],
   "source": [
    "for snip in snippets_urls:\n",
    "    print(snip)"
   ]
  }
 ],
 "metadata": {
  "hide_input": false,
  "kernelspec": {
   "display_name": "Python 3",
   "language": "python",
   "name": "python3"
  },
  "language_info": {
   "codemirror_mode": {
    "name": "ipython",
    "version": 3
   },
   "file_extension": ".py",
   "mimetype": "text/x-python",
   "name": "python",
   "nbconvert_exporter": "python",
   "pygments_lexer": "ipython3",
   "version": "3.6.5"
  },
  "toc": {
   "base_numbering": 1,
   "nav_menu": {},
   "number_sections": true,
   "sideBar": true,
   "skip_h1_title": false,
   "title_cell": "Table of Contents",
   "title_sidebar": "Contents",
   "toc_cell": false,
   "toc_position": {
    "height": "calc(100% - 180px)",
    "left": "10px",
    "top": "150px",
    "width": "307px"
   },
   "toc_section_display": true,
   "toc_window_display": true
  },
  "varInspector": {
   "cols": {
    "lenName": 16,
    "lenType": 16,
    "lenVar": 40
   },
   "kernels_config": {
    "python": {
     "delete_cmd_postfix": "",
     "delete_cmd_prefix": "del ",
     "library": "var_list.py",
     "varRefreshCmd": "print(var_dic_list())"
    },
    "r": {
     "delete_cmd_postfix": ") ",
     "delete_cmd_prefix": "rm(",
     "library": "var_list.r",
     "varRefreshCmd": "cat(var_dic_list()) "
    }
   },
   "types_to_exclude": [
    "module",
    "function",
    "builtin_function_or_method",
    "instance",
    "_Feature"
   ],
   "window_display": false
  }
 },
 "nbformat": 4,
 "nbformat_minor": 2
}
