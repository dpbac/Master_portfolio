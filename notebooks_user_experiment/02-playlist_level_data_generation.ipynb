{
 "cells": [
  {
   "cell_type": "markdown",
   "metadata": {},
   "source": [
    "Danielle Paes Barretto\n",
    "\n",
    "**version: 30/07/19 (last review)**\n",
    "\n",
    "\n",
    "This notebook processes .csv files related to 'Playlist level' save data after processed. \n",
    "\n",
    "Input:\n",
    "\n",
    "* participants_playlists.csv\n",
    "\n",
    "\n",
    "Output:\n",
    "\n",
    "* participants_playlists_processed_2019-07-04.csv\n",
    "\n",
    "\n",
    "P.S.: Processed files mean removing participants not used in the analysis and renaming playlist in a more meaningful way.\n"
   ]
  },
  {
   "cell_type": "markdown",
   "metadata": {},
   "source": [
    "# Libraries"
   ]
  },
  {
   "cell_type": "code",
   "execution_count": 1,
   "metadata": {
    "ExecuteTime": {
     "end_time": "2019-07-04T16:38:37.764005Z",
     "start_time": "2019-07-04T16:38:37.271550Z"
    }
   },
   "outputs": [],
   "source": [
    "import pandas as pd\n",
    "import time\n",
    "TodaysDate = time.strftime(\"%Y-%m-%d\")"
   ]
  },
  {
   "cell_type": "markdown",
   "metadata": {},
   "source": [
    "# Folder"
   ]
  },
  {
   "cell_type": "code",
   "execution_count": 2,
   "metadata": {
    "ExecuteTime": {
     "end_time": "2019-07-04T16:38:37.767959Z",
     "start_time": "2019-07-04T16:38:37.764005Z"
    }
   },
   "outputs": [],
   "source": [
    "folder_data_generated = \"./data/DATA_USER_EXPERIMENT/data_generated/\"\n",
    "folder_data_processed = \"./data/DATA_USER_EXPERIMENT/data_processed/\""
   ]
  },
  {
   "cell_type": "markdown",
   "metadata": {},
   "source": [
    "# Loading data"
   ]
  },
  {
   "cell_type": "code",
   "execution_count": 3,
   "metadata": {
    "ExecuteTime": {
     "end_time": "2019-07-04T16:38:37.816066Z",
     "start_time": "2019-07-04T16:38:37.767959Z"
    }
   },
   "outputs": [
    {
     "data": {
      "text/html": [
       "<div>\n",
       "<style scoped>\n",
       "    .dataframe tbody tr th:only-of-type {\n",
       "        vertical-align: middle;\n",
       "    }\n",
       "\n",
       "    .dataframe tbody tr th {\n",
       "        vertical-align: top;\n",
       "    }\n",
       "\n",
       "    .dataframe thead th {\n",
       "        text-align: right;\n",
       "    }\n",
       "</style>\n",
       "<table border=\"1\" class=\"dataframe\">\n",
       "  <thead>\n",
       "    <tr style=\"text-align: right;\">\n",
       "      <th></th>\n",
       "      <th>participant_id</th>\n",
       "      <th>playlist</th>\n",
       "      <th>avg_flow_score</th>\n",
       "      <th>is_track_known</th>\n",
       "      <th>is_participant_favorite</th>\n",
       "    </tr>\n",
       "  </thead>\n",
       "  <tbody>\n",
       "    <tr>\n",
       "      <th>0</th>\n",
       "      <td>1</td>\n",
       "      <td>2</td>\n",
       "      <td>0.42</td>\n",
       "      <td>0</td>\n",
       "      <td>0</td>\n",
       "    </tr>\n",
       "    <tr>\n",
       "      <th>1</th>\n",
       "      <td>1</td>\n",
       "      <td>1</td>\n",
       "      <td>0.39</td>\n",
       "      <td>1</td>\n",
       "      <td>1</td>\n",
       "    </tr>\n",
       "    <tr>\n",
       "      <th>2</th>\n",
       "      <td>1</td>\n",
       "      <td>3</td>\n",
       "      <td>0.30</td>\n",
       "      <td>1</td>\n",
       "      <td>0</td>\n",
       "    </tr>\n",
       "    <tr>\n",
       "      <th>3</th>\n",
       "      <td>2</td>\n",
       "      <td>2</td>\n",
       "      <td>0.50</td>\n",
       "      <td>0</td>\n",
       "      <td>0</td>\n",
       "    </tr>\n",
       "    <tr>\n",
       "      <th>4</th>\n",
       "      <td>2</td>\n",
       "      <td>3</td>\n",
       "      <td>0.22</td>\n",
       "      <td>1</td>\n",
       "      <td>1</td>\n",
       "    </tr>\n",
       "  </tbody>\n",
       "</table>\n",
       "</div>"
      ],
      "text/plain": [
       "  participant_id playlist  avg_flow_score is_track_known  \\\n",
       "0              1        2            0.42              0   \n",
       "1              1        1            0.39              1   \n",
       "2              1        3            0.30              1   \n",
       "3              2        2            0.50              0   \n",
       "4              2        3            0.22              1   \n",
       "\n",
       "  is_participant_favorite  \n",
       "0                       0  \n",
       "1                       1  \n",
       "2                       0  \n",
       "3                       0  \n",
       "4                       1  "
      ]
     },
     "execution_count": 3,
     "metadata": {},
     "output_type": "execute_result"
    }
   ],
   "source": [
    "df_playlists = pd.read_csv(folder_data_generated+\"participants_playlists.csv\",error_bad_lines=False, dtype={'participant_id':'category', \n",
    "                                                                                      'is_track_known':'category',\n",
    "                                                                                      'is_participant_favorite':'category'})\n",
    "df_playlists.head()"
   ]
  },
  {
   "cell_type": "code",
   "execution_count": 4,
   "metadata": {
    "ExecuteTime": {
     "end_time": "2019-07-04T16:38:37.827959Z",
     "start_time": "2019-07-04T16:38:37.816066Z"
    }
   },
   "outputs": [
    {
     "name": "stdout",
     "output_type": "stream",
     "text": [
      "<class 'pandas.core.frame.DataFrame'>\n",
      "RangeIndex: 132 entries, 0 to 131\n",
      "Data columns (total 5 columns):\n",
      "participant_id             132 non-null category\n",
      "playlist                   132 non-null object\n",
      "avg_flow_score             132 non-null float64\n",
      "is_track_known             132 non-null category\n",
      "is_participant_favorite    132 non-null category\n",
      "dtypes: category(3), float64(1), object(1)\n",
      "memory usage: 4.2+ KB\n"
     ]
    }
   ],
   "source": [
    "df_playlists.info()"
   ]
  },
  {
   "cell_type": "code",
   "execution_count": 5,
   "metadata": {
    "ExecuteTime": {
     "end_time": "2019-07-04T16:38:37.839960Z",
     "start_time": "2019-07-04T16:38:37.827959Z"
    }
   },
   "outputs": [],
   "source": [
    "# remove rows with playlists 1,2 and 3 - category 'mood'\n",
    "df_playlists = df_playlists[~df_playlists['playlist'].isin(['1','2','3'])]"
   ]
  },
  {
   "cell_type": "code",
   "execution_count": 6,
   "metadata": {
    "ExecuteTime": {
     "end_time": "2019-07-04T16:38:37.863959Z",
     "start_time": "2019-07-04T16:38:37.839960Z"
    }
   },
   "outputs": [
    {
     "data": {
      "text/html": [
       "<div>\n",
       "<style scoped>\n",
       "    .dataframe tbody tr th:only-of-type {\n",
       "        vertical-align: middle;\n",
       "    }\n",
       "\n",
       "    .dataframe tbody tr th {\n",
       "        vertical-align: top;\n",
       "    }\n",
       "\n",
       "    .dataframe thead th {\n",
       "        text-align: right;\n",
       "    }\n",
       "</style>\n",
       "<table border=\"1\" class=\"dataframe\">\n",
       "  <thead>\n",
       "    <tr style=\"text-align: right;\">\n",
       "      <th></th>\n",
       "      <th>participant_id</th>\n",
       "      <th>playlist</th>\n",
       "      <th>avg_flow_score</th>\n",
       "      <th>is_track_known</th>\n",
       "      <th>is_participant_favorite</th>\n",
       "    </tr>\n",
       "  </thead>\n",
       "  <tbody>\n",
       "    <tr>\n",
       "      <th>6</th>\n",
       "      <td>3</td>\n",
       "      <td>4B</td>\n",
       "      <td>0.46</td>\n",
       "      <td>1</td>\n",
       "      <td>0</td>\n",
       "    </tr>\n",
       "    <tr>\n",
       "      <th>7</th>\n",
       "      <td>3</td>\n",
       "      <td>5B</td>\n",
       "      <td>0.49</td>\n",
       "      <td>1</td>\n",
       "      <td>1</td>\n",
       "    </tr>\n",
       "    <tr>\n",
       "      <th>8</th>\n",
       "      <td>3</td>\n",
       "      <td>6B</td>\n",
       "      <td>0.58</td>\n",
       "      <td>1</td>\n",
       "      <td>0</td>\n",
       "    </tr>\n",
       "    <tr>\n",
       "      <th>9</th>\n",
       "      <td>4</td>\n",
       "      <td>4B</td>\n",
       "      <td>0.60</td>\n",
       "      <td>0</td>\n",
       "      <td>0</td>\n",
       "    </tr>\n",
       "    <tr>\n",
       "      <th>10</th>\n",
       "      <td>4</td>\n",
       "      <td>6B</td>\n",
       "      <td>0.47</td>\n",
       "      <td>1</td>\n",
       "      <td>0</td>\n",
       "    </tr>\n",
       "  </tbody>\n",
       "</table>\n",
       "</div>"
      ],
      "text/plain": [
       "   participant_id playlist  avg_flow_score is_track_known  \\\n",
       "6               3       4B            0.46              1   \n",
       "7               3       5B            0.49              1   \n",
       "8               3       6B            0.58              1   \n",
       "9               4       4B            0.60              0   \n",
       "10              4       6B            0.47              1   \n",
       "\n",
       "   is_participant_favorite  \n",
       "6                        0  \n",
       "7                        1  \n",
       "8                        0  \n",
       "9                        0  \n",
       "10                       0  "
      ]
     },
     "execution_count": 6,
     "metadata": {},
     "output_type": "execute_result"
    }
   ],
   "source": [
    "df_playlists.head()"
   ]
  },
  {
   "cell_type": "code",
   "execution_count": 7,
   "metadata": {
    "ExecuteTime": {
     "end_time": "2019-07-04T16:38:37.899958Z",
     "start_time": "2019-07-04T16:38:37.863959Z"
    }
   },
   "outputs": [],
   "source": [
    "# renaming playlist in a more meaningful way\n",
    "\n",
    "df_playlists['playlist'].replace({'4B': 'low_mood_low_tempo_not_extr','5B': 'low_mood_high_tempo_not_extr',\n",
    "                                  '6B': 'high_mood_low_tempo_not_extr'},inplace=True)\n",
    "df_playlists['playlist'].replace({'4': 'low_mood_low_tempo_extr','5': 'low_mood_high_tempo_extr',\n",
    "                                  '6': 'high_mood_low_tempo_extr'},inplace=True)"
   ]
  },
  {
   "cell_type": "code",
   "execution_count": 8,
   "metadata": {
    "ExecuteTime": {
     "end_time": "2019-07-04T16:38:37.919960Z",
     "start_time": "2019-07-04T16:38:37.899958Z"
    }
   },
   "outputs": [
    {
     "data": {
      "text/html": [
       "<div>\n",
       "<style scoped>\n",
       "    .dataframe tbody tr th:only-of-type {\n",
       "        vertical-align: middle;\n",
       "    }\n",
       "\n",
       "    .dataframe tbody tr th {\n",
       "        vertical-align: top;\n",
       "    }\n",
       "\n",
       "    .dataframe thead th {\n",
       "        text-align: right;\n",
       "    }\n",
       "</style>\n",
       "<table border=\"1\" class=\"dataframe\">\n",
       "  <thead>\n",
       "    <tr style=\"text-align: right;\">\n",
       "      <th></th>\n",
       "      <th>participant_id</th>\n",
       "      <th>playlist</th>\n",
       "      <th>avg_flow_score</th>\n",
       "      <th>is_track_known</th>\n",
       "      <th>is_participant_favorite</th>\n",
       "    </tr>\n",
       "  </thead>\n",
       "  <tbody>\n",
       "    <tr>\n",
       "      <th>6</th>\n",
       "      <td>3</td>\n",
       "      <td>low_mood_low_tempo_not_extr</td>\n",
       "      <td>0.46</td>\n",
       "      <td>1</td>\n",
       "      <td>0</td>\n",
       "    </tr>\n",
       "    <tr>\n",
       "      <th>7</th>\n",
       "      <td>3</td>\n",
       "      <td>low_mood_high_tempo_not_extr</td>\n",
       "      <td>0.49</td>\n",
       "      <td>1</td>\n",
       "      <td>1</td>\n",
       "    </tr>\n",
       "    <tr>\n",
       "      <th>8</th>\n",
       "      <td>3</td>\n",
       "      <td>high_mood_low_tempo_not_extr</td>\n",
       "      <td>0.58</td>\n",
       "      <td>1</td>\n",
       "      <td>0</td>\n",
       "    </tr>\n",
       "    <tr>\n",
       "      <th>9</th>\n",
       "      <td>4</td>\n",
       "      <td>low_mood_low_tempo_not_extr</td>\n",
       "      <td>0.60</td>\n",
       "      <td>0</td>\n",
       "      <td>0</td>\n",
       "    </tr>\n",
       "    <tr>\n",
       "      <th>10</th>\n",
       "      <td>4</td>\n",
       "      <td>high_mood_low_tempo_not_extr</td>\n",
       "      <td>0.47</td>\n",
       "      <td>1</td>\n",
       "      <td>0</td>\n",
       "    </tr>\n",
       "  </tbody>\n",
       "</table>\n",
       "</div>"
      ],
      "text/plain": [
       "   participant_id                      playlist  avg_flow_score  \\\n",
       "6               3   low_mood_low_tempo_not_extr            0.46   \n",
       "7               3  low_mood_high_tempo_not_extr            0.49   \n",
       "8               3  high_mood_low_tempo_not_extr            0.58   \n",
       "9               4   low_mood_low_tempo_not_extr            0.60   \n",
       "10              4  high_mood_low_tempo_not_extr            0.47   \n",
       "\n",
       "   is_track_known is_participant_favorite  \n",
       "6               1                       0  \n",
       "7               1                       1  \n",
       "8               1                       0  \n",
       "9               0                       0  \n",
       "10              1                       0  "
      ]
     },
     "execution_count": 8,
     "metadata": {},
     "output_type": "execute_result"
    }
   ],
   "source": [
    "df_playlists.head()"
   ]
  },
  {
   "cell_type": "code",
   "execution_count": 9,
   "metadata": {
    "ExecuteTime": {
     "end_time": "2019-07-04T16:38:37.935987Z",
     "start_time": "2019-07-04T16:38:37.919960Z"
    }
   },
   "outputs": [
    {
     "name": "stdout",
     "output_type": "stream",
     "text": [
      "<class 'pandas.core.frame.DataFrame'>\n",
      "Int64Index: 105 entries, 6 to 131\n",
      "Data columns (total 5 columns):\n",
      "participant_id             105 non-null category\n",
      "playlist                   105 non-null object\n",
      "avg_flow_score             105 non-null float64\n",
      "is_track_known             105 non-null category\n",
      "is_participant_favorite    105 non-null category\n",
      "dtypes: category(3), float64(1), object(1)\n",
      "memory usage: 4.4+ KB\n"
     ]
    }
   ],
   "source": [
    "df_playlists.info()"
   ]
  },
  {
   "cell_type": "code",
   "execution_count": 10,
   "metadata": {
    "ExecuteTime": {
     "end_time": "2019-07-04T16:38:38.332004Z",
     "start_time": "2019-07-04T16:38:37.935987Z"
    }
   },
   "outputs": [],
   "source": [
    "# saving processed dataframe in .csv\n",
    "\n",
    "df_playlists.to_csv(folder_data_processed+\"participants_playlists_processed_\"+TodaysDate+\".csv\", index = False)"
   ]
  },
  {
   "cell_type": "markdown",
   "metadata": {},
   "source": [
    "# Create Dataframe with name of feature and data type"
   ]
  },
  {
   "cell_type": "code",
   "execution_count": 11,
   "metadata": {
    "ExecuteTime": {
     "end_time": "2019-07-04T16:38:38.343959Z",
     "start_time": "2019-07-04T16:38:38.332004Z"
    }
   },
   "outputs": [
    {
     "data": {
      "text/html": [
       "<div>\n",
       "<style scoped>\n",
       "    .dataframe tbody tr th:only-of-type {\n",
       "        vertical-align: middle;\n",
       "    }\n",
       "\n",
       "    .dataframe tbody tr th {\n",
       "        vertical-align: top;\n",
       "    }\n",
       "\n",
       "    .dataframe thead th {\n",
       "        text-align: right;\n",
       "    }\n",
       "</style>\n",
       "<table border=\"1\" class=\"dataframe\">\n",
       "  <thead>\n",
       "    <tr style=\"text-align: right;\">\n",
       "      <th></th>\n",
       "      <th>Name Feature</th>\n",
       "      <th>Data Type</th>\n",
       "    </tr>\n",
       "  </thead>\n",
       "  <tbody>\n",
       "    <tr>\n",
       "      <th>0</th>\n",
       "      <td>participant_id</td>\n",
       "      <td>category</td>\n",
       "    </tr>\n",
       "    <tr>\n",
       "      <th>1</th>\n",
       "      <td>playlist</td>\n",
       "      <td>object</td>\n",
       "    </tr>\n",
       "    <tr>\n",
       "      <th>2</th>\n",
       "      <td>avg_flow_score</td>\n",
       "      <td>float64</td>\n",
       "    </tr>\n",
       "    <tr>\n",
       "      <th>3</th>\n",
       "      <td>is_track_known</td>\n",
       "      <td>category</td>\n",
       "    </tr>\n",
       "    <tr>\n",
       "      <th>4</th>\n",
       "      <td>is_participant_favorite</td>\n",
       "      <td>category</td>\n",
       "    </tr>\n",
       "  </tbody>\n",
       "</table>\n",
       "</div>"
      ],
      "text/plain": [
       "              Name Feature Data Type\n",
       "0           participant_id  category\n",
       "1                 playlist    object\n",
       "2           avg_flow_score   float64\n",
       "3           is_track_known  category\n",
       "4  is_participant_favorite  category"
      ]
     },
     "execution_count": 11,
     "metadata": {},
     "output_type": "execute_result"
    }
   ],
   "source": [
    "list_features = df_playlists.columns.tolist()\n",
    "\n",
    "feature_types = df_playlists.dtypes.tolist()\n",
    "\n",
    "df = pd.DataFrame({\"Name Feature\":list_features,\"Data Type\":feature_types})\n",
    "df = df[[\"Name Feature\", \"Data Type\"]]\n",
    "df"
   ]
  }
 ],
 "metadata": {
  "hide_input": false,
  "kernelspec": {
   "display_name": "Python 3",
   "language": "python",
   "name": "python3"
  },
  "language_info": {
   "codemirror_mode": {
    "name": "ipython",
    "version": 3
   },
   "file_extension": ".py",
   "mimetype": "text/x-python",
   "name": "python",
   "nbconvert_exporter": "python",
   "pygments_lexer": "ipython3",
   "version": "3.6.5"
  },
  "toc": {
   "base_numbering": 1,
   "nav_menu": {},
   "number_sections": true,
   "sideBar": true,
   "skip_h1_title": false,
   "title_cell": "Table of Contents",
   "title_sidebar": "Contents",
   "toc_cell": false,
   "toc_position": {},
   "toc_section_display": true,
   "toc_window_display": false
  },
  "varInspector": {
   "cols": {
    "lenName": 16,
    "lenType": 16,
    "lenVar": 40
   },
   "kernels_config": {
    "python": {
     "delete_cmd_postfix": "",
     "delete_cmd_prefix": "del ",
     "library": "var_list.py",
     "varRefreshCmd": "print(var_dic_list())"
    },
    "r": {
     "delete_cmd_postfix": ") ",
     "delete_cmd_prefix": "rm(",
     "library": "var_list.r",
     "varRefreshCmd": "cat(var_dic_list()) "
    }
   },
   "types_to_exclude": [
    "module",
    "function",
    "builtin_function_or_method",
    "instance",
    "_Feature"
   ],
   "window_display": false
  }
 },
 "nbformat": 4,
 "nbformat_minor": 2
}
