{
 "cells": [
  {
   "cell_type": "markdown",
   "metadata": {},
   "source": [
    "Danielle Paes Barretto de Arruda Camara\n",
    "\n",
    "**VERSION: 30-07-19 (last review)**\n",
    "\n",
    "Generate dataframe containing all possible combinations of 2-track sequences considering tracks of a **playlist**. \n",
    "\n",
    "2-track sequence that occurs within the playlist receives is_good_sequence =1, otherwise is_good_sequence = 0."
   ]
  },
  {
   "cell_type": "markdown",
   "metadata": {},
   "source": [
    "# Importing Libraries"
   ]
  },
  {
   "cell_type": "code",
   "execution_count": 1,
   "metadata": {
    "ExecuteTime": {
     "end_time": "2019-06-06T16:52:13.751679Z",
     "start_time": "2019-06-06T16:52:12.112165Z"
    }
   },
   "outputs": [],
   "source": [
    "import pandas as pd\n",
    "import glob\n",
    "\n",
    "import time\n",
    "TodaysDate = time.strftime(\"%Y-%m-%d\")\n",
    "\n",
    "import itertools"
   ]
  },
  {
   "cell_type": "markdown",
   "metadata": {},
   "source": [
    "# Folders"
   ]
  },
  {
   "cell_type": "code",
   "execution_count": 2,
   "metadata": {
    "ExecuteTime": {
     "end_time": "2019-06-06T16:52:13.760311Z",
     "start_time": "2019-06-06T16:52:13.751679Z"
    }
   },
   "outputs": [],
   "source": [
    "input_folder = \"./data/PREVIOUS_DATA/tracks_playlists_category_concatenated/\"\n",
    "output_folder = \"./data/PREVIOUS_DATA/diff_tracks_050619/\""
   ]
  },
  {
   "cell_type": "markdown",
   "metadata": {},
   "source": [
    "# Functions"
   ]
  },
  {
   "cell_type": "markdown",
   "metadata": {},
   "source": [
    "## Creating dataframe with absolute value of difference of audio features of 2 consecutive tracks, including column is_good_sequence= 1."
   ]
  },
  {
   "cell_type": "code",
   "execution_count": 3,
   "metadata": {
    "ExecuteTime": {
     "end_time": "2019-06-06T16:52:13.774272Z",
     "start_time": "2019-06-06T16:52:13.763303Z"
    }
   },
   "outputs": [],
   "source": [
    "def create_df_consecutive_diff(df):\n",
    "    \"\"\" Create a dataframe with track_ids and the absolute difference value of audio features between 2 consecutive \n",
    "    tracks in a playlist. Includes a colum is_good_sequence = 1 (track belongs to this playlist).\n",
    "    \n",
    "    Input: \n",
    "        df: dataframe containing track information\n",
    "    \n",
    "    Output: dataframe containing 2-track sequence of consecutive tracks of a playlist, absolute difference \n",
    "    of audio features (i.e. 'acousticness', 'danceability', 'energy', 'valence', 'tempo',\n",
    "       'instrumentalness', 'key', 'mode', 'liveness', 'loudness', and 'speechiness'), and is_good_sequence (which is 1).\n",
    "    \n",
    "    \"\"\"\n",
    "      \n",
    "    selected_columns = ['track_id','acousticness', 'danceability', 'energy', 'valence', 'tempo',\n",
    "       'instrumentalness', 'key', 'mode', 'liveness', 'loudness',\n",
    "       'speechiness']\n",
    "    \n",
    "    # dataframe with only selected columns\n",
    "\n",
    "    df_audio_features = df[selected_columns].drop_duplicates(subset='track_id', keep='first')\n",
    "    df_audio_features=df_audio_features.set_index('track_id') \n",
    "    \n",
    "    # Calculate absolute difference of audio features of the 2 tracks in the sequence\n",
    "    \n",
    "    df_diff = df_audio_features.diff().abs()\n",
    "    df_diff = df_diff[1:]\n",
    "\n",
    "    # list of tracks in the playlist\n",
    "    list_track_ids = df_audio_features.index.tolist()\n",
    "\n",
    "    # dataframe with current track, the following track, and the sequence of these two\n",
    "\n",
    "    df_diff['current_track']=list_track_ids[:-1]\n",
    "    df_diff['next_track']=list_track_ids[1:]\n",
    "    df_diff[\"current_track-next_track\"] = df_diff['current_track']+'_'+df_diff['next_track']\n",
    "    \n",
    "    df_diff.reset_index(inplace=True)\n",
    "    df_diff.drop(columns=['track_id','current_track', 'next_track'], inplace = True)\n",
    "    df_diff = df_diff[['current_track-next_track','acousticness', 'danceability', 'energy', 'valence', 'tempo',\n",
    "       'instrumentalness', 'key', 'mode', 'liveness', 'loudness',\n",
    "       'speechiness']]\n",
    "    \n",
    "    # renaming columns to indicate that is not the audio feature but the absolute difference of the audio feature\n",
    "    # of 2 conscutive tracks\n",
    "    \n",
    "    df_diff.rename(columns={'acousticness':'diff_acousticness', 'danceability':'diff_danceability', \n",
    "                            'energy':'diff_energy', 'valence':'diff_valence', 'tempo':'diff_tempo',\n",
    "                            'instrumentalness':'diff_instrumentalness', 'key':'diff_key', 'mode':'diff_mode', \n",
    "                            'liveness':'diff_liveness', 'loudness':'diff_loudness','speechiness':'diff_speechiness'}\n",
    "                  ,inplace = True)\n",
    "    \n",
    "    # Add is_good_sequence column (is_good_sequence = 1, since all 2-track sequence belongs to the playlist)\n",
    "    \n",
    "    df_diff['is_good_sequence'] = 1\n",
    "    \n",
    "    # List of 2-track consecutive sequence in this playlist \n",
    "    \n",
    "    two_track_sequence_list = df_diff['current_track-next_track'].tolist()\n",
    "       \n",
    "    return {'df_diff':df_diff,\n",
    "            'two_track_sequence_list': two_track_sequence_list}\n"
   ]
  },
  {
   "cell_type": "markdown",
   "metadata": {},
   "source": [
    "## Create dataframe of all possible combinations of 2-track sequence considering the tracks in the playlist that are not in the playlist. Includes column is_good_sequence = 0"
   ]
  },
  {
   "cell_type": "code",
   "execution_count": 4,
   "metadata": {
    "ExecuteTime": {
     "end_time": "2019-06-06T16:52:13.789266Z",
     "start_time": "2019-06-06T16:52:13.777297Z"
    }
   },
   "outputs": [],
   "source": [
    "def create_df_diff_not_in_playlist(df,category_id, list_playlist):\n",
    "    \"\"\"\n",
    "    Create dataframe with all 2-track sequences that are NOT in the playlist with absolute difference of \n",
    "    audio features including columns is_good_sequence = 0 (2-track sequence not in playlist)\n",
    "    \n",
    "    Input:\n",
    "    \n",
    "        df: dataframe containing track information\n",
    "        category_id: category id (e.g. 'afro')\n",
    "        list_playlist: list of 2-track_id sequence that occurs in the playlist. Obtained by applying \n",
    "    \n",
    "    Output: dataframe containing 2-track sequence of consecutive tracks which do not occurs in the playlist, \n",
    "            absolute difference of audio features (i.e. 'acousticness', 'danceability', 'energy', 'valence', 'tempo',\n",
    "       'instrumentalness', 'key', 'mode', 'liveness', 'loudness', and 'speechiness'), and is_good_sequence (which is 0)\n",
    "    \n",
    "    \"\"\"\n",
    "    \n",
    "    # Creating list of candidates - every combination os 2 tracks like a matrix with rows going from 1 to \n",
    "    # n-1 and columns from 2 to n\n",
    "    \n",
    "    # generate list of all possible 2-track sequences with tracks in the playlist\n",
    "    \n",
    "    list_candidates = [track_id for track_id in itertools.permutations(df.track_id.unique().tolist(),2) ]\n",
    "\n",
    "    list_candidates = [track_1+'_'+track_2 for track_1,track_2 in list_candidates]\n",
    "\n",
    "    # remove from the candidates the 2-track sequence that occurs in sequence in the playlist\n",
    "    # than we have a list with all 2-track sequences that does not occur in the playlist\n",
    "\n",
    "    list_seq_not_in_playlist = [i for i in list_candidates if i not in list_playlist] \n",
    "\n",
    "    selected_columns = ['track_id','acousticness', 'danceability', 'energy', 'valence', 'tempo',\n",
    "       'instrumentalness', 'key', 'mode', 'liveness', 'loudness',\n",
    "       'speechiness']\n",
    "    \n",
    "    # create dataframe with only selected columns\n",
    "\n",
    "    df_audio_features = df[selected_columns].drop_duplicates(subset='track_id', keep='first')\n",
    "    df_audio_features=df_audio_features.set_index('track_id') \n",
    "\n",
    "    # Calculate absolute difference of audio features of the 2 tracks in the sequence\n",
    "\n",
    "    list_diff = [abs(df_audio_features.loc[list_seq_not_in_playlist[idx].split('_')[0]]-df_audio_features.loc[list_seq_not_in_playlist[idx].split('_')[1]]) for idx in range(len(list_seq_not_in_playlist)) ]\n",
    "\n",
    "\n",
    "    # create dataframe with 2-track sequences that do not occur in the playlist and absolute difference of audio features\n",
    "    df_diff = pd.DataFrame(index=list_seq_not_in_playlist, data=list_diff)    \n",
    "    df_diff.reset_index(inplace=True)\n",
    "\n",
    "    df_diff.rename(columns={'index':'current_track-next_track'},inplace = True)\n",
    "\n",
    "    df_diff = df_diff[['current_track-next_track','acousticness', 'danceability', 'energy', 'valence', 'tempo',\n",
    "       'instrumentalness', 'key', 'mode', 'liveness', 'loudness',\n",
    "       'speechiness']]\n",
    "    \n",
    "    # renaming columns to indicate that is not the audio feature but the absolute difference of the audio feature\n",
    "    # of 2 conscutive tracks\n",
    "    \n",
    "    df_diff.rename(columns={'acousticness':'diff_acousticness', 'danceability':'diff_danceability', \n",
    "                            'energy':'diff_energy', 'valence':'diff_valence', 'tempo':'diff_tempo',\n",
    "                            'instrumentalness':'diff_instrumentalness', 'key':'diff_key', 'mode':'diff_mode', \n",
    "                            'liveness':'diff_liveness', 'loudness':'diff_loudness','speechiness':'diff_speechiness'}\n",
    "                   ,inplace = True)\n",
    "\n",
    "    # Add is_good_sequence column (is_good_sequence = 0, since all 2-track sequence do not belong to the playlist)\n",
    "    \n",
    "    df_diff['is_good_sequence'] = 0\n",
    "    \n",
    "    return df_diff"
   ]
  },
  {
   "cell_type": "markdown",
   "metadata": {},
   "source": [
    "## Applying functions, concatenate df_diff_in_playlist and df_diff_not_in_playlist and saving result in csv"
   ]
  },
  {
   "cell_type": "code",
   "execution_count": 10,
   "metadata": {
    "ExecuteTime": {
     "end_time": "2019-06-06T16:52:13.855059Z",
     "start_time": "2019-06-06T16:52:13.849075Z"
    }
   },
   "outputs": [],
   "source": [
    "# df_test.head()"
   ]
  },
  {
   "cell_type": "code",
   "execution_count": 11,
   "metadata": {
    "ExecuteTime": {
     "end_time": "2019-06-07T00:29:49.183987Z",
     "start_time": "2019-06-06T16:52:13.858053Z"
    },
    "scrolled": false
   },
   "outputs": [
    {
     "name": "stdout",
     "output_type": "stream",
     "text": [
      "rock\n",
      "rock\n",
      "romance\n",
      "romance\n",
      "rootspart1\n",
      "rootspart1\n",
      "rootspart2\n",
      "rootspart2\n",
      "rootspart3\n",
      "rootspart3\n",
      "sessions\n",
      "sessions\n",
      "sleep\n",
      "sleep\n",
      "soul\n",
      "soul\n",
      "toplists\n",
      "toplists\n",
      "travel\n",
      "travel\n",
      "workout\n",
      "workout\n"
     ]
    }
   ],
   "source": [
    "csv_files = glob.glob(input_folder+'*.csv')\n",
    "\n",
    "for csv_file in csv_files:\n",
    "    df = pd.read_csv(csv_file)\n",
    "\n",
    "    # extract category_id \n",
    "\n",
    "    category_id = csv_file.split('/')[-1].split('.')[-2].split('_')[-2]\n",
    "    print(category_id)\n",
    "\n",
    "    #Call functions\n",
    "\n",
    "    result = create_df_consecutive_diff(df)\n",
    "    df_diff_in_playlist = result['df_diff']\n",
    "    list_playlist = result['two_track_sequence_list']\n",
    "    \n",
    "    df_diff_not_in_playlist = create_df_diff_not_in_playlist(df,category_id, list_playlist)\n",
    "\n",
    "    del df\n",
    "\n",
    "    # concatenation both playlists\n",
    "\n",
    "    df_diff = pd.concat([df_diff_in_playlist,df_diff_not_in_playlist],axis=0,ignore_index=True)\n",
    "    df_diff.reset_index(drop=True, inplace=True)\n",
    "\n",
    "    # saving result in csv\n",
    "\n",
    "    file_name = \"df_diff_category_\"+category_id+\"_\"+TodaysDate +\".csv\"\n",
    "    df_diff.to_csv(output_folder+file_name, index = False)\n",
    "\n",
    "    \n",
    "    del df_diff\n",
    "    print(category_id)\n"
   ]
  },
  {
   "cell_type": "code",
   "execution_count": null,
   "metadata": {},
   "outputs": [],
   "source": []
  }
 ],
 "metadata": {
  "hide_input": false,
  "kernelspec": {
   "display_name": "Python 3",
   "language": "python",
   "name": "python3"
  },
  "language_info": {
   "codemirror_mode": {
    "name": "ipython",
    "version": 3
   },
   "file_extension": ".py",
   "mimetype": "text/x-python",
   "name": "python",
   "nbconvert_exporter": "python",
   "pygments_lexer": "ipython3",
   "version": "3.6.5"
  },
  "toc": {
   "base_numbering": 1,
   "nav_menu": {},
   "number_sections": true,
   "sideBar": true,
   "skip_h1_title": false,
   "title_cell": "Table of Contents",
   "title_sidebar": "Contents",
   "toc_cell": false,
   "toc_position": {
    "height": "calc(100% - 180px)",
    "left": "10px",
    "top": "150px",
    "width": "305px"
   },
   "toc_section_display": true,
   "toc_window_display": true
  },
  "varInspector": {
   "cols": {
    "lenName": 16,
    "lenType": 16,
    "lenVar": 40
   },
   "kernels_config": {
    "python": {
     "delete_cmd_postfix": "",
     "delete_cmd_prefix": "del ",
     "library": "var_list.py",
     "varRefreshCmd": "print(var_dic_list())"
    },
    "r": {
     "delete_cmd_postfix": ") ",
     "delete_cmd_prefix": "rm(",
     "library": "var_list.r",
     "varRefreshCmd": "cat(var_dic_list()) "
    }
   },
   "types_to_exclude": [
    "module",
    "function",
    "builtin_function_or_method",
    "instance",
    "_Feature"
   ],
   "window_display": false
  }
 },
 "nbformat": 4,
 "nbformat_minor": 2
}
