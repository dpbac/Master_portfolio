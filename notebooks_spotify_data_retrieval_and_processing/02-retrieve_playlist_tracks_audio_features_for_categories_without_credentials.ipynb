{
 "cells": [
  {
   "cell_type": "markdown",
   "metadata": {},
   "source": [
    "Danielle Paes Barretto de Arruda Camara\n",
    "\n",
    "**VERSION: 30-07-19 (last review)**\n",
    "\n",
    "Retrieve tracks metadata and audio features from playlists.\n",
    "\n",
    "Uses the data obtained using notebook: **01-obtain_playlists_per_category.ipynb**\n",
    "\n",
    "**Input:** \n",
    "\n",
    "* .csv file with playlists info (e.g. playlists_category_toplists_NL_2019-06-02.csv)\n",
    "\n",
    "**Output:**\n",
    "* .csv file containing metadata as well as audio feature inforation of tracks (e.g.  \n",
    "\"tracks_info_category_summer_playlist_id_37i9dQZF1DX83I5je4W4rP_2019-06-02.csv\")\n",
    "\n",
    "\n",
    "**Attention:** In order to obtain playlist info for all categories (\"playlist_info_category_ALL_2019-06-02.csv\") at once the files need to be concatenated. This can be done using notebook **concatenating_all_categories_playlists_info.ipynb**\n",
    "\n",
    "\n"
   ]
  },
  {
   "cell_type": "markdown",
   "metadata": {},
   "source": [
    "# Import libraries"
   ]
  },
  {
   "cell_type": "code",
   "execution_count": 1,
   "metadata": {
    "ExecuteTime": {
     "end_time": "2019-06-02T15:02:36.318742Z",
     "start_time": "2019-06-02T15:02:35.743051Z"
    }
   },
   "outputs": [],
   "source": [
    "import pandas as pd\n",
    "from tqdm import tqdm\n",
    "\n",
    "import time\n",
    "TodaysDate = time.strftime(\"%Y-%m-%d\")"
   ]
  },
  {
   "cell_type": "markdown",
   "metadata": {},
   "source": [
    "# Folder(s)"
   ]
  },
  {
   "cell_type": "code",
   "execution_count": 2,
   "metadata": {
    "ExecuteTime": {
     "end_time": "2019-06-02T15:05:21.663979Z",
     "start_time": "2019-06-02T15:05:21.658971Z"
    }
   },
   "outputs": [],
   "source": [
    "input_folder = \"./data/NEW_DATA/playlists/\"\n",
    "tracks_info_folder = \"./data/NEW_DATA/tracks/\""
   ]
  },
  {
   "cell_type": "markdown",
   "metadata": {},
   "source": [
    "# Access to Spotify API \n",
    "\n",
    "For credentials : https://developer.spotify.com/dashboard/login\n"
   ]
  },
  {
   "cell_type": "code",
   "execution_count": 3,
   "metadata": {
    "ExecuteTime": {
     "end_time": "2019-06-02T15:05:32.124805Z",
     "start_time": "2019-06-02T15:05:31.829508Z"
    }
   },
   "outputs": [],
   "source": [
    "import spotipy \n",
    "from spotipy.oauth2 import SpotifyClientCredentials \n",
    "cid =\"********************************\" \n",
    "secret = \"********************************\" \n",
    "\n",
    "# maybe redirect uri will be required for some of the commands \n",
    "redirect_uri = 'http://127.0.0.1:5001/login/authorized'\n",
    "\n",
    "# the user id of my account\n",
    "username = 'your_spotify_user_name'\n",
    "\n",
    "client_credentials_manager = SpotifyClientCredentials(client_id=cid, client_secret=secret) \n",
    "sp = spotipy.Spotify(client_credentials_manager=client_credentials_manager)"
   ]
  },
  {
   "cell_type": "markdown",
   "metadata": {},
   "source": [
    "# Functions"
   ]
  },
  {
   "cell_type": "code",
   "execution_count": 4,
   "metadata": {
    "ExecuteTime": {
     "end_time": "2019-06-02T15:11:56.925810Z",
     "start_time": "2019-06-02T15:11:56.909291Z"
    }
   },
   "outputs": [],
   "source": [
    "def get_playlist_tracks(user,playlist_id):\n",
    "    \"\"\" Get tracks from a playlist\n",
    "    \n",
    "    Input:\n",
    "        user: the spotify id of the user\n",
    "        playlist_id: Spotify Id of a playlist (base-62 identifier, e.g 6rqhFgbbKwnb9MLmUQDhG6) \n",
    "        \n",
    "    Output:\n",
    "        tracks from playlist\n",
    "    \n",
    "    \"\"\"\n",
    "    \n",
    "    results = sp.user_playlist_tracks(user,playlist_id)\n",
    "    tracks = results['items']\n",
    "    while results['next']:\n",
    "        results = sp.next(results)\n",
    "        tracks.extend(results['items'])\n",
    "    return tracks\n",
    "\n",
    "def retrieve_tracks_from_playlist(user,playlist_id,playlist_name):\n",
    "    \"\"\" retrieve info of a selected playlist\n",
    "    Input: \n",
    "        user : the spotify id of the user\n",
    "        playlist_id: Spotify Id of a playlist (base-62 identifier, e.g 6rqhFgbbKwnb9MLmUQDhG6) \n",
    "        playlist_name: Name of the playlist\n",
    "    \n",
    "    Output:\n",
    "            'playlist_name': playlist name,\n",
    "            'playlist_id': playlist id,\n",
    "            'track_id' : track id,\n",
    "            'track_uri' : track uri,\n",
    "            'track_name' : track name,\n",
    "            'track_duration' : track duration in ms,\n",
    "            'track_popularity' : track popularity (max=100),\n",
    "           'artist_name':artist_name (sometimes there is more than one artist listed),\n",
    "           'album_name':album_name}\n",
    "    \n",
    "    \"\"\"\n",
    "    \n",
    "    pl_name = []\n",
    "    pl_id = []\n",
    "    track_id = []\n",
    "    track_uri = []\n",
    "    track_preview_url = []\n",
    "    track_name = []\n",
    "    track_duration = []\n",
    "    track_popularity = []\n",
    "    artist_name = []\n",
    "    album_name = []\n",
    "    \n",
    "    track_results = get_playlist_tracks(user,playlist_id)\n",
    "    \n",
    "    for track in range(len(track_results)):\n",
    "        try:\n",
    "            pl_name.append(playlist_name) \n",
    "            pl_id.append(playlist_id) \n",
    "            track_id.append(track_results[track]['track']['id'])\n",
    "            track_uri.append(track_results[track]['track']['uri'])\n",
    "            track_preview_url.append(track_results[track]['track']['preview_url'])\n",
    "            track_name.append(track_results[track]['track']['name'])\n",
    "            track_duration.append(track_results[track]['track']['duration_ms'])\n",
    "            track_popularity.append(track_results[track]['track']['popularity'])\n",
    "            sub_artist_name = []\n",
    "            for i in range(len(track_results[track]['track']['artists'])):\n",
    "                sub_artist_name.append(track_results[track]['track']['artists'][i]['name'])\n",
    "            artist_name.append(','.join(sub_artist_name))\n",
    "            album_name.append(track_results[track]['track']['album']['name'])\n",
    "        except TypeError:\n",
    "            continue\n",
    "        \n",
    "\n",
    "    return {'playlist_name': playlist_name,\n",
    "            'playlist_id' : playlist_id,\n",
    "            'track_id' : track_id,\n",
    "            'track_uri' : track_uri,\n",
    "            'track_preview_url': track_preview_url,\n",
    "            'track_name' : track_name,\n",
    "            'track_duration' : track_duration,\n",
    "            'track_popularity' : track_popularity,\n",
    "            'artist_name':artist_name,\n",
    "            'album_name':album_name}\n",
    "\n",
    "def retrieve_audio_features_tracks_playlist(track_ids):\n",
    "    \"\"\" Retrieve audio features of tracks of a playlist\n",
    "    \n",
    "    Input: \n",
    "        track_ids: list of track_ids\n",
    "    \n",
    "    Output:\n",
    "        audio_features: list of dictionary with audiofeatures for each track_id in track_ids\n",
    "    \"\"\"\n",
    "    \n",
    "    audio_features = []\n",
    "    batchsize = 100\n",
    "    None_counter = 0\n",
    "    \n",
    "    for i in range(0,len(track_ids),batchsize):\n",
    "        batch = track_ids[i:i+batchsize]\n",
    "        feature_results = sp.audio_features(batch)\n",
    "        for i, t in enumerate(feature_results):\n",
    "            if t == None:\n",
    "                None_counter = None_counter + 1\n",
    "            else:\n",
    "                audio_features.append(t)\n",
    "    \n",
    "    return audio_features\n",
    "\n",
    "def merge_and_clean_category(user,playlist_id,playlist_name,category_id):\n",
    "    \n",
    "    \"\"\" Merge all information of tracks of a playlist, select relevant features, \n",
    "    generate a dataframe and save it in a .csv file\n",
    "    \n",
    "    Input: \n",
    "        user : the spotify id of the user\n",
    "        playlist_id: Spotify Id of a playlist (base-62 identifier, e.g 6rqhFgbbKwnb9MLmUQDhG6) \n",
    "        playlist_name: Name of the playlist\n",
    "    \n",
    "    Output: \n",
    "    \n",
    "        df_tracks_complete: dataframe with information about tracks of a playlist (metadata and audio features).\n",
    "    \"\"\"\n",
    "    \n",
    "    tracks_playlist = retrieve_tracks_from_playlist(user,playlist_id,playlist_name)\n",
    "    tracks_ids = tracks_playlist['track_id']\n",
    "    results_audio = retrieve_audio_features_tracks_playlist(tracks_ids)\n",
    "  \n",
    "    df_tracks = pd.DataFrame(tracks_playlist)\n",
    "    df_audio_features = pd.DataFrame(results_audio)\n",
    "    \n",
    "    df_tracks_complete = df_tracks.merge(df_audio_features,right_on='id',left_on='track_id')\n",
    "    columns_to_remove = ['analysis_url','id','time_signature','track_href', 'type', \n",
    "                         'uri','track_duration']\n",
    "    \n",
    "    df_tracks_complete.drop(columns=columns_to_remove,inplace=True)\n",
    "    df_tracks_complete['category_id'] = category_id\n",
    "    \n",
    "    df_tracks_complete = df_tracks_complete[['category_id','playlist_name', 'playlist_id', 'track_id', 'track_uri',\n",
    "       'track_preview_url', 'track_name', 'track_popularity', 'artist_name',\n",
    "       'album_name', 'acousticness', 'danceability', 'duration_ms', 'energy',\n",
    "       'instrumentalness', 'key', 'liveness', 'loudness', 'mode',\n",
    "       'speechiness', 'tempo', 'valence']]\n",
    "    \n",
    "\n",
    "    # save dataframe in csv\n",
    "    \n",
    "    filename = \"tracks_info_category_\"+category_id+\"_playlist_id_\"+playlist_id+\"_\"+TodaysDate +\".csv\"\n",
    "    df_tracks_complete.to_csv(tracks_info_folder+filename,index = False)\n",
    "        \n",
    "#     return df_tracks_complete"
   ]
  },
  {
   "cell_type": "markdown",
   "metadata": {},
   "source": [
    "# Retrieving audio features"
   ]
  },
  {
   "cell_type": "markdown",
   "metadata": {},
   "source": [
    "## Retrieving audio features for one playlist"
   ]
  },
  {
   "cell_type": "code",
   "execution_count": 5,
   "metadata": {
    "ExecuteTime": {
     "end_time": "2019-06-02T15:12:26.102952Z",
     "start_time": "2019-06-02T15:12:20.139126Z"
    }
   },
   "outputs": [],
   "source": [
    "user = username\n",
    "merge_and_clean_category(user,playlist_id='37i9dQZF1DX35vibahyjHG',playlist_name='Phenomenal Woman',category_id='afro')"
   ]
  },
  {
   "cell_type": "code",
   "execution_count": 6,
   "metadata": {
    "ExecuteTime": {
     "end_time": "2019-06-02T15:13:09.841280Z",
     "start_time": "2019-06-02T15:13:09.834530Z"
    }
   },
   "outputs": [],
   "source": [
    "df_test = pd.read_csv(tracks_info_folder+\"tracks_info_category_afro_playlist_id_37i9dQZF1DX35vibahyjHG_2019-06-02.csv\")"
   ]
  },
  {
   "cell_type": "code",
   "execution_count": 7,
   "metadata": {
    "ExecuteTime": {
     "end_time": "2019-06-02T15:13:11.817046Z",
     "start_time": "2019-06-02T15:13:11.781242Z"
    }
   },
   "outputs": [
    {
     "data": {
      "text/html": [
       "<div>\n",
       "<style scoped>\n",
       "    .dataframe tbody tr th:only-of-type {\n",
       "        vertical-align: middle;\n",
       "    }\n",
       "\n",
       "    .dataframe tbody tr th {\n",
       "        vertical-align: top;\n",
       "    }\n",
       "\n",
       "    .dataframe thead th {\n",
       "        text-align: right;\n",
       "    }\n",
       "</style>\n",
       "<table border=\"1\" class=\"dataframe\">\n",
       "  <thead>\n",
       "    <tr style=\"text-align: right;\">\n",
       "      <th></th>\n",
       "      <th>category_id</th>\n",
       "      <th>playlist_name</th>\n",
       "      <th>playlist_id</th>\n",
       "      <th>track_id</th>\n",
       "      <th>track_uri</th>\n",
       "      <th>track_preview_url</th>\n",
       "      <th>track_name</th>\n",
       "      <th>track_popularity</th>\n",
       "      <th>artist_name</th>\n",
       "      <th>album_name</th>\n",
       "      <th>...</th>\n",
       "      <th>duration_ms</th>\n",
       "      <th>energy</th>\n",
       "      <th>instrumentalness</th>\n",
       "      <th>key</th>\n",
       "      <th>liveness</th>\n",
       "      <th>loudness</th>\n",
       "      <th>mode</th>\n",
       "      <th>speechiness</th>\n",
       "      <th>tempo</th>\n",
       "      <th>valence</th>\n",
       "    </tr>\n",
       "  </thead>\n",
       "  <tbody>\n",
       "    <tr>\n",
       "      <th>0</th>\n",
       "      <td>afro</td>\n",
       "      <td>Phenomenal Woman</td>\n",
       "      <td>37i9dQZF1DX35vibahyjHG</td>\n",
       "      <td>6KSRlzHjxjm2owDJIku5Xf</td>\n",
       "      <td>spotify:track:6KSRlzHjxjm2owDJIku5Xf</td>\n",
       "      <td>https://p.scdn.co/mp3-preview/8477319c0ac7e062...</td>\n",
       "      <td>Without You</td>\n",
       "      <td>19</td>\n",
       "      <td>Omawumi</td>\n",
       "      <td>Without You</td>\n",
       "      <td>...</td>\n",
       "      <td>191000</td>\n",
       "      <td>0.770</td>\n",
       "      <td>0.000002</td>\n",
       "      <td>10</td>\n",
       "      <td>0.0792</td>\n",
       "      <td>-5.229</td>\n",
       "      <td>0</td>\n",
       "      <td>0.3680</td>\n",
       "      <td>95.952</td>\n",
       "      <td>0.840</td>\n",
       "    </tr>\n",
       "    <tr>\n",
       "      <th>1</th>\n",
       "      <td>afro</td>\n",
       "      <td>Phenomenal Woman</td>\n",
       "      <td>37i9dQZF1DX35vibahyjHG</td>\n",
       "      <td>6wNWxYdoTKuypUxnBh9Eah</td>\n",
       "      <td>spotify:track:6wNWxYdoTKuypUxnBh9Eah</td>\n",
       "      <td>https://p.scdn.co/mp3-preview/0cb54b0cdfc7b78f...</td>\n",
       "      <td>Artificial Heart</td>\n",
       "      <td>21</td>\n",
       "      <td>Yanga</td>\n",
       "      <td>Promised Land</td>\n",
       "      <td>...</td>\n",
       "      <td>185143</td>\n",
       "      <td>0.467</td>\n",
       "      <td>0.000000</td>\n",
       "      <td>9</td>\n",
       "      <td>0.1330</td>\n",
       "      <td>-7.846</td>\n",
       "      <td>1</td>\n",
       "      <td>0.0870</td>\n",
       "      <td>139.766</td>\n",
       "      <td>0.335</td>\n",
       "    </tr>\n",
       "    <tr>\n",
       "      <th>2</th>\n",
       "      <td>afro</td>\n",
       "      <td>Phenomenal Woman</td>\n",
       "      <td>37i9dQZF1DX35vibahyjHG</td>\n",
       "      <td>0NMfKNtRnvyF9QjlRvnv0I</td>\n",
       "      <td>spotify:track:0NMfKNtRnvyF9QjlRvnv0I</td>\n",
       "      <td>https://p.scdn.co/mp3-preview/bc136ce698c1b1fb...</td>\n",
       "      <td>Spend Some Time</td>\n",
       "      <td>39</td>\n",
       "      <td>Amaarae,Wande Coal</td>\n",
       "      <td>Spend Some Time</td>\n",
       "      <td>...</td>\n",
       "      <td>168333</td>\n",
       "      <td>0.419</td>\n",
       "      <td>0.003010</td>\n",
       "      <td>0</td>\n",
       "      <td>0.1040</td>\n",
       "      <td>-13.102</td>\n",
       "      <td>0</td>\n",
       "      <td>0.1030</td>\n",
       "      <td>101.025</td>\n",
       "      <td>0.257</td>\n",
       "    </tr>\n",
       "    <tr>\n",
       "      <th>3</th>\n",
       "      <td>afro</td>\n",
       "      <td>Phenomenal Woman</td>\n",
       "      <td>37i9dQZF1DX35vibahyjHG</td>\n",
       "      <td>0eeIwG0vTlzUpkpeKA4MuK</td>\n",
       "      <td>spotify:track:0eeIwG0vTlzUpkpeKA4MuK</td>\n",
       "      <td>https://p.scdn.co/mp3-preview/0e5e861a48d4327e...</td>\n",
       "      <td>The Beginning</td>\n",
       "      <td>45</td>\n",
       "      <td>Aṣa</td>\n",
       "      <td>The Beginning - Single</td>\n",
       "      <td>...</td>\n",
       "      <td>224147</td>\n",
       "      <td>0.506</td>\n",
       "      <td>0.000183</td>\n",
       "      <td>6</td>\n",
       "      <td>0.0503</td>\n",
       "      <td>-6.648</td>\n",
       "      <td>1</td>\n",
       "      <td>0.0288</td>\n",
       "      <td>158.025</td>\n",
       "      <td>0.349</td>\n",
       "    </tr>\n",
       "    <tr>\n",
       "      <th>4</th>\n",
       "      <td>afro</td>\n",
       "      <td>Phenomenal Woman</td>\n",
       "      <td>37i9dQZF1DX35vibahyjHG</td>\n",
       "      <td>2FIECkWDoS7xEGcYbI6UhN</td>\n",
       "      <td>spotify:track:2FIECkWDoS7xEGcYbI6UhN</td>\n",
       "      <td>https://p.scdn.co/mp3-preview/45e8604571b50b4e...</td>\n",
       "      <td>Ng'yesaba</td>\n",
       "      <td>17</td>\n",
       "      <td>Tabia</td>\n",
       "      <td>The Journey</td>\n",
       "      <td>...</td>\n",
       "      <td>234333</td>\n",
       "      <td>0.802</td>\n",
       "      <td>0.000775</td>\n",
       "      <td>6</td>\n",
       "      <td>0.1480</td>\n",
       "      <td>-6.810</td>\n",
       "      <td>0</td>\n",
       "      <td>0.0466</td>\n",
       "      <td>88.021</td>\n",
       "      <td>0.714</td>\n",
       "    </tr>\n",
       "  </tbody>\n",
       "</table>\n",
       "<p>5 rows × 22 columns</p>\n",
       "</div>"
      ],
      "text/plain": [
       "  category_id     playlist_name             playlist_id  \\\n",
       "0        afro  Phenomenal Woman  37i9dQZF1DX35vibahyjHG   \n",
       "1        afro  Phenomenal Woman  37i9dQZF1DX35vibahyjHG   \n",
       "2        afro  Phenomenal Woman  37i9dQZF1DX35vibahyjHG   \n",
       "3        afro  Phenomenal Woman  37i9dQZF1DX35vibahyjHG   \n",
       "4        afro  Phenomenal Woman  37i9dQZF1DX35vibahyjHG   \n",
       "\n",
       "                 track_id                             track_uri  \\\n",
       "0  6KSRlzHjxjm2owDJIku5Xf  spotify:track:6KSRlzHjxjm2owDJIku5Xf   \n",
       "1  6wNWxYdoTKuypUxnBh9Eah  spotify:track:6wNWxYdoTKuypUxnBh9Eah   \n",
       "2  0NMfKNtRnvyF9QjlRvnv0I  spotify:track:0NMfKNtRnvyF9QjlRvnv0I   \n",
       "3  0eeIwG0vTlzUpkpeKA4MuK  spotify:track:0eeIwG0vTlzUpkpeKA4MuK   \n",
       "4  2FIECkWDoS7xEGcYbI6UhN  spotify:track:2FIECkWDoS7xEGcYbI6UhN   \n",
       "\n",
       "                                   track_preview_url        track_name  \\\n",
       "0  https://p.scdn.co/mp3-preview/8477319c0ac7e062...       Without You   \n",
       "1  https://p.scdn.co/mp3-preview/0cb54b0cdfc7b78f...  Artificial Heart   \n",
       "2  https://p.scdn.co/mp3-preview/bc136ce698c1b1fb...   Spend Some Time   \n",
       "3  https://p.scdn.co/mp3-preview/0e5e861a48d4327e...     The Beginning   \n",
       "4  https://p.scdn.co/mp3-preview/45e8604571b50b4e...         Ng'yesaba   \n",
       "\n",
       "   track_popularity         artist_name              album_name   ...     \\\n",
       "0                19             Omawumi             Without You   ...      \n",
       "1                21               Yanga           Promised Land   ...      \n",
       "2                39  Amaarae,Wande Coal         Spend Some Time   ...      \n",
       "3                45                 Aṣa  The Beginning - Single   ...      \n",
       "4                17               Tabia             The Journey   ...      \n",
       "\n",
       "   duration_ms  energy  instrumentalness  key  liveness  loudness  mode  \\\n",
       "0       191000   0.770          0.000002   10    0.0792    -5.229     0   \n",
       "1       185143   0.467          0.000000    9    0.1330    -7.846     1   \n",
       "2       168333   0.419          0.003010    0    0.1040   -13.102     0   \n",
       "3       224147   0.506          0.000183    6    0.0503    -6.648     1   \n",
       "4       234333   0.802          0.000775    6    0.1480    -6.810     0   \n",
       "\n",
       "   speechiness    tempo  valence  \n",
       "0       0.3680   95.952    0.840  \n",
       "1       0.0870  139.766    0.335  \n",
       "2       0.1030  101.025    0.257  \n",
       "3       0.0288  158.025    0.349  \n",
       "4       0.0466   88.021    0.714  \n",
       "\n",
       "[5 rows x 22 columns]"
      ]
     },
     "execution_count": 7,
     "metadata": {},
     "output_type": "execute_result"
    }
   ],
   "source": [
    "df_test.head()"
   ]
  },
  {
   "cell_type": "code",
   "execution_count": 8,
   "metadata": {
    "ExecuteTime": {
     "end_time": "2019-06-02T15:13:16.974552Z",
     "start_time": "2019-06-02T15:13:16.955981Z"
    }
   },
   "outputs": [
    {
     "name": "stdout",
     "output_type": "stream",
     "text": [
      "<class 'pandas.core.frame.DataFrame'>\n",
      "RangeIndex: 63 entries, 0 to 62\n",
      "Data columns (total 22 columns):\n",
      "category_id          63 non-null object\n",
      "playlist_name        63 non-null object\n",
      "playlist_id          63 non-null object\n",
      "track_id             63 non-null object\n",
      "track_uri            63 non-null object\n",
      "track_preview_url    50 non-null object\n",
      "track_name           63 non-null object\n",
      "track_popularity     63 non-null int64\n",
      "artist_name          63 non-null object\n",
      "album_name           63 non-null object\n",
      "acousticness         63 non-null float64\n",
      "danceability         63 non-null float64\n",
      "duration_ms          63 non-null int64\n",
      "energy               63 non-null float64\n",
      "instrumentalness     63 non-null float64\n",
      "key                  63 non-null int64\n",
      "liveness             63 non-null float64\n",
      "loudness             63 non-null float64\n",
      "mode                 63 non-null int64\n",
      "speechiness          63 non-null float64\n",
      "tempo                63 non-null float64\n",
      "valence              63 non-null float64\n",
      "dtypes: float64(9), int64(4), object(9)\n",
      "memory usage: 10.9+ KB\n"
     ]
    }
   ],
   "source": [
    "df_test.info(null_counts=True)"
   ]
  },
  {
   "cell_type": "markdown",
   "metadata": {},
   "source": [
    "## Retrieving audio features of all playlists in one chosen category"
   ]
  },
  {
   "cell_type": "markdown",
   "metadata": {},
   "source": [
    "### Example: all playlist in category 'blues'"
   ]
  },
  {
   "cell_type": "code",
   "execution_count": 9,
   "metadata": {
    "ExecuteTime": {
     "end_time": "2019-06-02T15:15:12.232829Z",
     "start_time": "2019-06-02T15:15:12.214898Z"
    }
   },
   "outputs": [
    {
     "data": {
      "text/html": [
       "<div>\n",
       "<style scoped>\n",
       "    .dataframe tbody tr th:only-of-type {\n",
       "        vertical-align: middle;\n",
       "    }\n",
       "\n",
       "    .dataframe tbody tr th {\n",
       "        vertical-align: top;\n",
       "    }\n",
       "\n",
       "    .dataframe thead th {\n",
       "        text-align: right;\n",
       "    }\n",
       "</style>\n",
       "<table border=\"1\" class=\"dataframe\">\n",
       "  <thead>\n",
       "    <tr style=\"text-align: right;\">\n",
       "      <th></th>\n",
       "      <th>category</th>\n",
       "      <th>playlist_id</th>\n",
       "      <th>playlist_name</th>\n",
       "    </tr>\n",
       "  </thead>\n",
       "  <tbody>\n",
       "    <tr>\n",
       "      <th>0</th>\n",
       "      <td>blues</td>\n",
       "      <td>37i9dQZF1DXdkAbM8agIbA</td>\n",
       "      <td>From the Delta to Chicago</td>\n",
       "    </tr>\n",
       "    <tr>\n",
       "      <th>1</th>\n",
       "      <td>blues</td>\n",
       "      <td>37i9dQZF1DXbkKnGZHv1kf</td>\n",
       "      <td>Blues Origins</td>\n",
       "    </tr>\n",
       "    <tr>\n",
       "      <th>2</th>\n",
       "      <td>blues</td>\n",
       "      <td>37i9dQZF1DX2iUghHXGIjj</td>\n",
       "      <td>Acoustic Blues</td>\n",
       "    </tr>\n",
       "    <tr>\n",
       "      <th>3</th>\n",
       "      <td>blues</td>\n",
       "      <td>37i9dQZF1DX9stbPFTxeaB</td>\n",
       "      <td>Funky, Heavy, Bluesy</td>\n",
       "    </tr>\n",
       "    <tr>\n",
       "      <th>4</th>\n",
       "      <td>blues</td>\n",
       "      <td>37i9dQZF1DWSKpvyAAcaNZ</td>\n",
       "      <td>Blues &amp; Roots Rock</td>\n",
       "    </tr>\n",
       "  </tbody>\n",
       "</table>\n",
       "</div>"
      ],
      "text/plain": [
       "  category             playlist_id              playlist_name\n",
       "0    blues  37i9dQZF1DXdkAbM8agIbA  From the Delta to Chicago\n",
       "1    blues  37i9dQZF1DXbkKnGZHv1kf              Blues Origins\n",
       "2    blues  37i9dQZF1DX2iUghHXGIjj             Acoustic Blues\n",
       "3    blues  37i9dQZF1DX9stbPFTxeaB       Funky, Heavy, Bluesy\n",
       "4    blues  37i9dQZF1DWSKpvyAAcaNZ         Blues & Roots Rock"
      ]
     },
     "execution_count": 9,
     "metadata": {},
     "output_type": "execute_result"
    }
   ],
   "source": [
    "# recovering dataframe with information about playlist in category afro - this was obtained using \n",
    "# notebook '01-obtain_playlists_per_category'\n",
    "\n",
    "df_blues = pd.read_csv(input_folder+\"playlists_category_blues_NL_2019-06-02.csv\")\n",
    "df_blues.head()"
   ]
  },
  {
   "cell_type": "code",
   "execution_count": 10,
   "metadata": {
    "ExecuteTime": {
     "end_time": "2019-06-02T15:15:33.628110Z",
     "start_time": "2019-06-02T15:15:33.619651Z"
    }
   },
   "outputs": [],
   "source": [
    "def retrieve_audio_features_playlists(user,df):\n",
    "    \"\"\" Retrieve audio features of playlists and save information in a csv file\n",
    "    \n",
    "    Input:\n",
    "        user: Spotify username \n",
    "        df: dataframe with informations of playlist for one or more categories\n",
    "    \n",
    "    Output: csv files with audio features of tracks of playlists which information is in df \n",
    "    \"\"\"\n",
    "\n",
    "    for idx in tqdm(range(df.shape[0])):\n",
    "        count = 0\n",
    "        \n",
    "        try:\n",
    "            category_id = df.category[idx]\n",
    "            playlist_id = df.playlist_id[idx]\n",
    "            playlist_name = df.playlist_name[idx]\n",
    "            merge_and_clean_category(user,playlist_id,playlist_name,category_id)\n",
    "        except HTTPError:\n",
    "            count = count + 1\n",
    "            print('error', count)\n",
    "            pass\n",
    "        \n",
    "    print(\"Process finished!\")"
   ]
  },
  {
   "cell_type": "code",
   "execution_count": 11,
   "metadata": {
    "ExecuteTime": {
     "end_time": "2019-06-02T15:16:02.160146Z",
     "start_time": "2019-06-02T15:15:50.990822Z"
    }
   },
   "outputs": [
    {
     "name": "stderr",
     "output_type": "stream",
     "text": [
      "100%|██████████████████████████████████████████████████████████████████████████████████| 15/15 [00:11<00:00,  1.34it/s]\n"
     ]
    },
    {
     "name": "stdout",
     "output_type": "stream",
     "text": [
      "Process finished!\n"
     ]
    }
   ],
   "source": [
    "user = username\n",
    "df = df_blues\n",
    "\n",
    "retrieve_audio_features_playlists(user,df)"
   ]
  },
  {
   "cell_type": "code",
   "execution_count": 12,
   "metadata": {
    "ExecuteTime": {
     "end_time": "2019-06-02T15:16:49.701763Z",
     "start_time": "2019-06-02T15:16:49.693109Z"
    }
   },
   "outputs": [],
   "source": [
    "# recovering info from one playlist within blues\n",
    "df_tracks_blues = pd.read_csv(tracks_info_folder+\"tracks_info_category_blues_playlist_id_37i9dQZF1DX5AuRugisweW_2019-06-02.csv\")"
   ]
  },
  {
   "cell_type": "code",
   "execution_count": 13,
   "metadata": {
    "ExecuteTime": {
     "end_time": "2019-06-02T15:17:03.882497Z",
     "start_time": "2019-06-02T15:17:03.869127Z"
    }
   },
   "outputs": [
    {
     "name": "stdout",
     "output_type": "stream",
     "text": [
      "<class 'pandas.core.frame.DataFrame'>\n",
      "RangeIndex: 58 entries, 0 to 57\n",
      "Data columns (total 22 columns):\n",
      "category_id          58 non-null object\n",
      "playlist_name        58 non-null object\n",
      "playlist_id          58 non-null object\n",
      "track_id             58 non-null object\n",
      "track_uri            58 non-null object\n",
      "track_preview_url    46 non-null object\n",
      "track_name           58 non-null object\n",
      "track_popularity     58 non-null int64\n",
      "artist_name          58 non-null object\n",
      "album_name           58 non-null object\n",
      "acousticness         58 non-null float64\n",
      "danceability         58 non-null float64\n",
      "duration_ms          58 non-null int64\n",
      "energy               58 non-null float64\n",
      "instrumentalness     58 non-null float64\n",
      "key                  58 non-null int64\n",
      "liveness             58 non-null float64\n",
      "loudness             58 non-null float64\n",
      "mode                 58 non-null int64\n",
      "speechiness          58 non-null float64\n",
      "tempo                58 non-null float64\n",
      "valence              58 non-null float64\n",
      "dtypes: float64(9), int64(4), object(9)\n",
      "memory usage: 10.0+ KB\n"
     ]
    }
   ],
   "source": [
    "df_tracks_blues.info(null_counts=True)"
   ]
  },
  {
   "cell_type": "code",
   "execution_count": 14,
   "metadata": {
    "ExecuteTime": {
     "end_time": "2019-06-02T15:17:16.068149Z",
     "start_time": "2019-06-02T15:17:16.041122Z"
    }
   },
   "outputs": [
    {
     "data": {
      "text/html": [
       "<div>\n",
       "<style scoped>\n",
       "    .dataframe tbody tr th:only-of-type {\n",
       "        vertical-align: middle;\n",
       "    }\n",
       "\n",
       "    .dataframe tbody tr th {\n",
       "        vertical-align: top;\n",
       "    }\n",
       "\n",
       "    .dataframe thead th {\n",
       "        text-align: right;\n",
       "    }\n",
       "</style>\n",
       "<table border=\"1\" class=\"dataframe\">\n",
       "  <thead>\n",
       "    <tr style=\"text-align: right;\">\n",
       "      <th></th>\n",
       "      <th>category_id</th>\n",
       "      <th>playlist_name</th>\n",
       "      <th>playlist_id</th>\n",
       "      <th>track_id</th>\n",
       "      <th>track_uri</th>\n",
       "      <th>track_preview_url</th>\n",
       "      <th>track_name</th>\n",
       "      <th>track_popularity</th>\n",
       "      <th>artist_name</th>\n",
       "      <th>album_name</th>\n",
       "      <th>...</th>\n",
       "      <th>duration_ms</th>\n",
       "      <th>energy</th>\n",
       "      <th>instrumentalness</th>\n",
       "      <th>key</th>\n",
       "      <th>liveness</th>\n",
       "      <th>loudness</th>\n",
       "      <th>mode</th>\n",
       "      <th>speechiness</th>\n",
       "      <th>tempo</th>\n",
       "      <th>valence</th>\n",
       "    </tr>\n",
       "  </thead>\n",
       "  <tbody>\n",
       "    <tr>\n",
       "      <th>0</th>\n",
       "      <td>blues</td>\n",
       "      <td>Crossroad Blues</td>\n",
       "      <td>37i9dQZF1DX5AuRugisweW</td>\n",
       "      <td>5dDaQf3QUWIpukuGFDhScm</td>\n",
       "      <td>spotify:track:5dDaQf3QUWIpukuGFDhScm</td>\n",
       "      <td>NaN</td>\n",
       "      <td>Me &amp; the Devil Blues</td>\n",
       "      <td>0</td>\n",
       "      <td>Jonah Tolchin</td>\n",
       "      <td>Eldawise</td>\n",
       "      <td>...</td>\n",
       "      <td>231000</td>\n",
       "      <td>0.424</td>\n",
       "      <td>0.005130</td>\n",
       "      <td>7</td>\n",
       "      <td>0.1980</td>\n",
       "      <td>-9.046</td>\n",
       "      <td>1</td>\n",
       "      <td>0.0376</td>\n",
       "      <td>110.584</td>\n",
       "      <td>0.506</td>\n",
       "    </tr>\n",
       "    <tr>\n",
       "      <th>1</th>\n",
       "      <td>blues</td>\n",
       "      <td>Crossroad Blues</td>\n",
       "      <td>37i9dQZF1DX5AuRugisweW</td>\n",
       "      <td>4qrUQuQ2Nt9jgZW99rBcbo</td>\n",
       "      <td>spotify:track:4qrUQuQ2Nt9jgZW99rBcbo</td>\n",
       "      <td>https://p.scdn.co/mp3-preview/16e7bdd07776b8bc...</td>\n",
       "      <td>Restless Sinner</td>\n",
       "      <td>29</td>\n",
       "      <td>Black Rebel Motorcycle Club</td>\n",
       "      <td>Howl</td>\n",
       "      <td>...</td>\n",
       "      <td>191987</td>\n",
       "      <td>0.281</td>\n",
       "      <td>0.000000</td>\n",
       "      <td>2</td>\n",
       "      <td>0.2220</td>\n",
       "      <td>-12.363</td>\n",
       "      <td>0</td>\n",
       "      <td>0.0360</td>\n",
       "      <td>120.485</td>\n",
       "      <td>0.298</td>\n",
       "    </tr>\n",
       "    <tr>\n",
       "      <th>2</th>\n",
       "      <td>blues</td>\n",
       "      <td>Crossroad Blues</td>\n",
       "      <td>37i9dQZF1DX5AuRugisweW</td>\n",
       "      <td>1mpkTTUxWTB3FlO2OlRIB4</td>\n",
       "      <td>spotify:track:1mpkTTUxWTB3FlO2OlRIB4</td>\n",
       "      <td>https://p.scdn.co/mp3-preview/7087f78b77b349f6...</td>\n",
       "      <td>Seven Hells</td>\n",
       "      <td>42</td>\n",
       "      <td>Brown Bird</td>\n",
       "      <td>Fits of Reason</td>\n",
       "      <td>...</td>\n",
       "      <td>199120</td>\n",
       "      <td>0.613</td>\n",
       "      <td>0.001340</td>\n",
       "      <td>9</td>\n",
       "      <td>0.0945</td>\n",
       "      <td>-9.510</td>\n",
       "      <td>0</td>\n",
       "      <td>0.0838</td>\n",
       "      <td>143.165</td>\n",
       "      <td>0.545</td>\n",
       "    </tr>\n",
       "    <tr>\n",
       "      <th>3</th>\n",
       "      <td>blues</td>\n",
       "      <td>Crossroad Blues</td>\n",
       "      <td>37i9dQZF1DX5AuRugisweW</td>\n",
       "      <td>341o4T7XtSZUKeQvIw2wms</td>\n",
       "      <td>spotify:track:341o4T7XtSZUKeQvIw2wms</td>\n",
       "      <td>NaN</td>\n",
       "      <td>Devil's Resting Place</td>\n",
       "      <td>2</td>\n",
       "      <td>Laura Marling</td>\n",
       "      <td>Once I Was An Eagle</td>\n",
       "      <td>...</td>\n",
       "      <td>194467</td>\n",
       "      <td>0.590</td>\n",
       "      <td>0.063600</td>\n",
       "      <td>2</td>\n",
       "      <td>0.0934</td>\n",
       "      <td>-12.299</td>\n",
       "      <td>0</td>\n",
       "      <td>0.0916</td>\n",
       "      <td>179.267</td>\n",
       "      <td>0.713</td>\n",
       "    </tr>\n",
       "    <tr>\n",
       "      <th>4</th>\n",
       "      <td>blues</td>\n",
       "      <td>Crossroad Blues</td>\n",
       "      <td>37i9dQZF1DX5AuRugisweW</td>\n",
       "      <td>1TrGdXSgiBm8W68D2K1COG</td>\n",
       "      <td>spotify:track:1TrGdXSgiBm8W68D2K1COG</td>\n",
       "      <td>https://p.scdn.co/mp3-preview/15f4fb795c08eade...</td>\n",
       "      <td>Cross Road Blues</td>\n",
       "      <td>57</td>\n",
       "      <td>Robert Johnson</td>\n",
       "      <td>King Of The Delta Blues Singers</td>\n",
       "      <td>...</td>\n",
       "      <td>149560</td>\n",
       "      <td>0.311</td>\n",
       "      <td>0.000261</td>\n",
       "      <td>9</td>\n",
       "      <td>0.1020</td>\n",
       "      <td>-11.959</td>\n",
       "      <td>1</td>\n",
       "      <td>0.0525</td>\n",
       "      <td>97.159</td>\n",
       "      <td>0.638</td>\n",
       "    </tr>\n",
       "  </tbody>\n",
       "</table>\n",
       "<p>5 rows × 22 columns</p>\n",
       "</div>"
      ],
      "text/plain": [
       "  category_id    playlist_name             playlist_id  \\\n",
       "0       blues  Crossroad Blues  37i9dQZF1DX5AuRugisweW   \n",
       "1       blues  Crossroad Blues  37i9dQZF1DX5AuRugisweW   \n",
       "2       blues  Crossroad Blues  37i9dQZF1DX5AuRugisweW   \n",
       "3       blues  Crossroad Blues  37i9dQZF1DX5AuRugisweW   \n",
       "4       blues  Crossroad Blues  37i9dQZF1DX5AuRugisweW   \n",
       "\n",
       "                 track_id                             track_uri  \\\n",
       "0  5dDaQf3QUWIpukuGFDhScm  spotify:track:5dDaQf3QUWIpukuGFDhScm   \n",
       "1  4qrUQuQ2Nt9jgZW99rBcbo  spotify:track:4qrUQuQ2Nt9jgZW99rBcbo   \n",
       "2  1mpkTTUxWTB3FlO2OlRIB4  spotify:track:1mpkTTUxWTB3FlO2OlRIB4   \n",
       "3  341o4T7XtSZUKeQvIw2wms  spotify:track:341o4T7XtSZUKeQvIw2wms   \n",
       "4  1TrGdXSgiBm8W68D2K1COG  spotify:track:1TrGdXSgiBm8W68D2K1COG   \n",
       "\n",
       "                                   track_preview_url             track_name  \\\n",
       "0                                                NaN   Me & the Devil Blues   \n",
       "1  https://p.scdn.co/mp3-preview/16e7bdd07776b8bc...        Restless Sinner   \n",
       "2  https://p.scdn.co/mp3-preview/7087f78b77b349f6...            Seven Hells   \n",
       "3                                                NaN  Devil's Resting Place   \n",
       "4  https://p.scdn.co/mp3-preview/15f4fb795c08eade...       Cross Road Blues   \n",
       "\n",
       "   track_popularity                  artist_name  \\\n",
       "0                 0                Jonah Tolchin   \n",
       "1                29  Black Rebel Motorcycle Club   \n",
       "2                42                   Brown Bird   \n",
       "3                 2                Laura Marling   \n",
       "4                57               Robert Johnson   \n",
       "\n",
       "                        album_name   ...     duration_ms  energy  \\\n",
       "0                         Eldawise   ...          231000   0.424   \n",
       "1                             Howl   ...          191987   0.281   \n",
       "2                   Fits of Reason   ...          199120   0.613   \n",
       "3              Once I Was An Eagle   ...          194467   0.590   \n",
       "4  King Of The Delta Blues Singers   ...          149560   0.311   \n",
       "\n",
       "   instrumentalness  key  liveness  loudness  mode  speechiness    tempo  \\\n",
       "0          0.005130    7    0.1980    -9.046     1       0.0376  110.584   \n",
       "1          0.000000    2    0.2220   -12.363     0       0.0360  120.485   \n",
       "2          0.001340    9    0.0945    -9.510     0       0.0838  143.165   \n",
       "3          0.063600    2    0.0934   -12.299     0       0.0916  179.267   \n",
       "4          0.000261    9    0.1020   -11.959     1       0.0525   97.159   \n",
       "\n",
       "   valence  \n",
       "0    0.506  \n",
       "1    0.298  \n",
       "2    0.545  \n",
       "3    0.713  \n",
       "4    0.638  \n",
       "\n",
       "[5 rows x 22 columns]"
      ]
     },
     "execution_count": 14,
     "metadata": {},
     "output_type": "execute_result"
    }
   ],
   "source": [
    "df_tracks_blues.head()"
   ]
  },
  {
   "cell_type": "code",
   "execution_count": 16,
   "metadata": {
    "ExecuteTime": {
     "end_time": "2019-06-02T15:18:06.780828Z",
     "start_time": "2019-06-02T15:18:06.773152Z"
    }
   },
   "outputs": [
    {
     "data": {
      "text/plain": [
       "58"
      ]
     },
     "execution_count": 16,
     "metadata": {},
     "output_type": "execute_result"
    }
   ],
   "source": [
    "# number of unique track_id in this playlist\n",
    "len(df_tracks_blues.track_id.unique())"
   ]
  },
  {
   "cell_type": "code",
   "execution_count": 20,
   "metadata": {
    "ExecuteTime": {
     "end_time": "2019-06-02T15:18:56.612118Z",
     "start_time": "2019-06-02T15:18:56.607744Z"
    }
   },
   "outputs": [
    {
     "data": {
      "text/plain": [
       "'https://p.scdn.co/mp3-preview/16e7bdd07776b8bcfb0a565939450253451b895b?cid=63a77ff40e794a12ae216a18befde98c'"
      ]
     },
     "execution_count": 20,
     "metadata": {},
     "output_type": "execute_result"
    }
   ],
   "source": [
    "# address for the snippet (30-sec sample of the second track in df_tracks_blues)\n",
    "df_tracks_blues.track_preview_url[1]"
   ]
  },
  {
   "cell_type": "markdown",
   "metadata": {},
   "source": [
    "## Retrieve audio features for all tracks for all playlists\n",
    "\n",
    "It is only necessary to apply function retrieve_audio_features_playlists(user,df) using as df a data frame obtained from the .csv with all categories' playlists info. \n",
    "\n",
    "\n",
    "**Attention:** In order to obtain playlist info for all categories together the files obtained with notebook 01 need to be concatenated. This can be done using notebook **concatenating_all_categories_playlists_info.ipynb**"
   ]
  },
  {
   "cell_type": "code",
   "execution_count": 21,
   "metadata": {
    "ExecuteTime": {
     "end_time": "2019-06-02T15:37:44.435203Z",
     "start_time": "2019-06-02T15:37:44.423612Z"
    }
   },
   "outputs": [],
   "source": [
    "# retrieve info about all playlist\n",
    "\n",
    "df = pd.read_csv(input_folder+ \"playlist_info_category_ALL_2019-06-02.csv\")"
   ]
  },
  {
   "cell_type": "code",
   "execution_count": 22,
   "metadata": {
    "ExecuteTime": {
     "end_time": "2019-06-02T15:37:45.834399Z",
     "start_time": "2019-06-02T15:37:45.830088Z"
    }
   },
   "outputs": [
    {
     "data": {
      "text/plain": [
       "(1587, 3)"
      ]
     },
     "execution_count": 22,
     "metadata": {},
     "output_type": "execute_result"
    }
   ],
   "source": [
    "df.shape"
   ]
  },
  {
   "cell_type": "code",
   "execution_count": 23,
   "metadata": {
    "ExecuteTime": {
     "end_time": "2019-06-02T15:38:06.688759Z",
     "start_time": "2019-06-02T15:38:06.677781Z"
    }
   },
   "outputs": [
    {
     "data": {
      "text/html": [
       "<div>\n",
       "<style scoped>\n",
       "    .dataframe tbody tr th:only-of-type {\n",
       "        vertical-align: middle;\n",
       "    }\n",
       "\n",
       "    .dataframe tbody tr th {\n",
       "        vertical-align: top;\n",
       "    }\n",
       "\n",
       "    .dataframe thead th {\n",
       "        text-align: right;\n",
       "    }\n",
       "</style>\n",
       "<table border=\"1\" class=\"dataframe\">\n",
       "  <thead>\n",
       "    <tr style=\"text-align: right;\">\n",
       "      <th></th>\n",
       "      <th>category</th>\n",
       "      <th>playlist_id</th>\n",
       "      <th>playlist_name</th>\n",
       "    </tr>\n",
       "  </thead>\n",
       "  <tbody>\n",
       "    <tr>\n",
       "      <th>0</th>\n",
       "      <td>afro</td>\n",
       "      <td>37i9dQZF1DWYkaDif7Ztbp</td>\n",
       "      <td>African Heat</td>\n",
       "    </tr>\n",
       "    <tr>\n",
       "      <th>1</th>\n",
       "      <td>afro</td>\n",
       "      <td>37i9dQZF1DX6036iaZ2MYP</td>\n",
       "      <td>Peppeh</td>\n",
       "    </tr>\n",
       "    <tr>\n",
       "      <th>2</th>\n",
       "      <td>afro</td>\n",
       "      <td>37i9dQZF1DX6BsbcWKm1XO</td>\n",
       "      <td>Gold Mine</td>\n",
       "    </tr>\n",
       "    <tr>\n",
       "      <th>3</th>\n",
       "      <td>afro</td>\n",
       "      <td>37i9dQZF1DWT6SJaitNDax</td>\n",
       "      <td>We Everywhere</td>\n",
       "    </tr>\n",
       "    <tr>\n",
       "      <th>4</th>\n",
       "      <td>afro</td>\n",
       "      <td>37i9dQZF1DX2TExIcUe1gg</td>\n",
       "      <td>Shuga Cane</td>\n",
       "    </tr>\n",
       "  </tbody>\n",
       "</table>\n",
       "</div>"
      ],
      "text/plain": [
       "  category             playlist_id  playlist_name\n",
       "0     afro  37i9dQZF1DWYkaDif7Ztbp   African Heat\n",
       "1     afro  37i9dQZF1DX6036iaZ2MYP         Peppeh\n",
       "2     afro  37i9dQZF1DX6BsbcWKm1XO      Gold Mine\n",
       "3     afro  37i9dQZF1DWT6SJaitNDax  We Everywhere\n",
       "4     afro  37i9dQZF1DX2TExIcUe1gg     Shuga Cane"
      ]
     },
     "execution_count": 23,
     "metadata": {},
     "output_type": "execute_result"
    }
   ],
   "source": [
    "df.head()"
   ]
  },
  {
   "cell_type": "code",
   "execution_count": 24,
   "metadata": {
    "ExecuteTime": {
     "end_time": "2019-06-02T15:48:34.613739Z",
     "start_time": "2019-06-02T15:38:14.692468Z"
    }
   },
   "outputs": [
    {
     "name": "stderr",
     "output_type": "stream",
     "text": [
      "100%|██████████████████████████████████████████████████████████████████████████████| 1587/1587 [10:19<00:00,  2.56it/s]\n"
     ]
    },
    {
     "name": "stdout",
     "output_type": "stream",
     "text": [
      "Process finished!\n"
     ]
    }
   ],
   "source": [
    "retrieve_audio_features_playlists(user,df)"
   ]
  },
  {
   "cell_type": "code",
   "execution_count": 25,
   "metadata": {
    "ExecuteTime": {
     "end_time": "2019-06-02T15:51:48.668538Z",
     "start_time": "2019-06-02T15:51:48.638030Z"
    }
   },
   "outputs": [
    {
     "data": {
      "text/html": [
       "<div>\n",
       "<style scoped>\n",
       "    .dataframe tbody tr th:only-of-type {\n",
       "        vertical-align: middle;\n",
       "    }\n",
       "\n",
       "    .dataframe tbody tr th {\n",
       "        vertical-align: top;\n",
       "    }\n",
       "\n",
       "    .dataframe thead th {\n",
       "        text-align: right;\n",
       "    }\n",
       "</style>\n",
       "<table border=\"1\" class=\"dataframe\">\n",
       "  <thead>\n",
       "    <tr style=\"text-align: right;\">\n",
       "      <th></th>\n",
       "      <th>category_id</th>\n",
       "      <th>playlist_name</th>\n",
       "      <th>playlist_id</th>\n",
       "      <th>track_id</th>\n",
       "      <th>track_uri</th>\n",
       "      <th>track_preview_url</th>\n",
       "      <th>track_name</th>\n",
       "      <th>track_popularity</th>\n",
       "      <th>artist_name</th>\n",
       "      <th>album_name</th>\n",
       "      <th>...</th>\n",
       "      <th>duration_ms</th>\n",
       "      <th>energy</th>\n",
       "      <th>instrumentalness</th>\n",
       "      <th>key</th>\n",
       "      <th>liveness</th>\n",
       "      <th>loudness</th>\n",
       "      <th>mode</th>\n",
       "      <th>speechiness</th>\n",
       "      <th>tempo</th>\n",
       "      <th>valence</th>\n",
       "    </tr>\n",
       "  </thead>\n",
       "  <tbody>\n",
       "    <tr>\n",
       "      <th>0</th>\n",
       "      <td>summer</td>\n",
       "      <td>Beach Vibes</td>\n",
       "      <td>37i9dQZF1DX83I5je4W4rP</td>\n",
       "      <td>78v5ljpPryjGY4r1wndiqa</td>\n",
       "      <td>spotify:track:78v5ljpPryjGY4r1wndiqa</td>\n",
       "      <td>https://p.scdn.co/mp3-preview/ccbd4e2281a72270...</td>\n",
       "      <td>Knocking at Your Door</td>\n",
       "      <td>55</td>\n",
       "      <td>O.A.R.</td>\n",
       "      <td>The Mighty</td>\n",
       "      <td>...</td>\n",
       "      <td>216200</td>\n",
       "      <td>0.751</td>\n",
       "      <td>0.00000</td>\n",
       "      <td>6</td>\n",
       "      <td>0.0527</td>\n",
       "      <td>-5.671</td>\n",
       "      <td>0</td>\n",
       "      <td>0.0449</td>\n",
       "      <td>89.973</td>\n",
       "      <td>0.835</td>\n",
       "    </tr>\n",
       "    <tr>\n",
       "      <th>1</th>\n",
       "      <td>summer</td>\n",
       "      <td>Beach Vibes</td>\n",
       "      <td>37i9dQZF1DX83I5je4W4rP</td>\n",
       "      <td>7EIHl1xmO7UEtTEPczPj8i</td>\n",
       "      <td>spotify:track:7EIHl1xmO7UEtTEPczPj8i</td>\n",
       "      <td>https://p.scdn.co/mp3-preview/f0794a54b31c6d8a...</td>\n",
       "      <td>Island Time</td>\n",
       "      <td>52</td>\n",
       "      <td>Bumpin Uglies</td>\n",
       "      <td>Island Time</td>\n",
       "      <td>...</td>\n",
       "      <td>258773</td>\n",
       "      <td>0.751</td>\n",
       "      <td>0.00155</td>\n",
       "      <td>6</td>\n",
       "      <td>0.0643</td>\n",
       "      <td>-4.063</td>\n",
       "      <td>1</td>\n",
       "      <td>0.0390</td>\n",
       "      <td>151.884</td>\n",
       "      <td>0.961</td>\n",
       "    </tr>\n",
       "    <tr>\n",
       "      <th>2</th>\n",
       "      <td>summer</td>\n",
       "      <td>Beach Vibes</td>\n",
       "      <td>37i9dQZF1DX83I5je4W4rP</td>\n",
       "      <td>4tNYuLrlxTb8DSVL3bO9F1</td>\n",
       "      <td>spotify:track:4tNYuLrlxTb8DSVL3bO9F1</td>\n",
       "      <td>https://p.scdn.co/mp3-preview/d411bc9427fe8da1...</td>\n",
       "      <td>Sunday Vibe</td>\n",
       "      <td>51</td>\n",
       "      <td>Cisco Adler,G. Love &amp; Special Sauce</td>\n",
       "      <td>Sunday Vibe</td>\n",
       "      <td>...</td>\n",
       "      <td>186760</td>\n",
       "      <td>0.662</td>\n",
       "      <td>0.00000</td>\n",
       "      <td>7</td>\n",
       "      <td>0.1360</td>\n",
       "      <td>-7.008</td>\n",
       "      <td>1</td>\n",
       "      <td>0.1980</td>\n",
       "      <td>155.780</td>\n",
       "      <td>0.532</td>\n",
       "    </tr>\n",
       "    <tr>\n",
       "      <th>3</th>\n",
       "      <td>summer</td>\n",
       "      <td>Beach Vibes</td>\n",
       "      <td>37i9dQZF1DX83I5je4W4rP</td>\n",
       "      <td>5JmJVj3qLsCnBsQ8IC9XLf</td>\n",
       "      <td>spotify:track:5JmJVj3qLsCnBsQ8IC9XLf</td>\n",
       "      <td>https://p.scdn.co/mp3-preview/7317d8f850700e9d...</td>\n",
       "      <td>Lazy Afternoon</td>\n",
       "      <td>58</td>\n",
       "      <td>Rebelution</td>\n",
       "      <td>Bright Side of Life</td>\n",
       "      <td>...</td>\n",
       "      <td>210347</td>\n",
       "      <td>0.678</td>\n",
       "      <td>0.01050</td>\n",
       "      <td>7</td>\n",
       "      <td>0.1250</td>\n",
       "      <td>-6.915</td>\n",
       "      <td>1</td>\n",
       "      <td>0.0351</td>\n",
       "      <td>147.847</td>\n",
       "      <td>0.930</td>\n",
       "    </tr>\n",
       "    <tr>\n",
       "      <th>4</th>\n",
       "      <td>summer</td>\n",
       "      <td>Beach Vibes</td>\n",
       "      <td>37i9dQZF1DX83I5je4W4rP</td>\n",
       "      <td>0TGLKJiH9vHx4Xb8FVjWrO</td>\n",
       "      <td>spotify:track:0TGLKJiH9vHx4Xb8FVjWrO</td>\n",
       "      <td>https://p.scdn.co/mp3-preview/29b81f2d8263059d...</td>\n",
       "      <td>Warning (feat. Stick Figure)</td>\n",
       "      <td>55</td>\n",
       "      <td>Stick Figure,Pepper</td>\n",
       "      <td>Warning (feat. Stick Figure)</td>\n",
       "      <td>...</td>\n",
       "      <td>232160</td>\n",
       "      <td>0.527</td>\n",
       "      <td>0.11800</td>\n",
       "      <td>1</td>\n",
       "      <td>0.1310</td>\n",
       "      <td>-7.191</td>\n",
       "      <td>0</td>\n",
       "      <td>0.1180</td>\n",
       "      <td>76.022</td>\n",
       "      <td>0.520</td>\n",
       "    </tr>\n",
       "  </tbody>\n",
       "</table>\n",
       "<p>5 rows × 22 columns</p>\n",
       "</div>"
      ],
      "text/plain": [
       "  category_id playlist_name             playlist_id                track_id  \\\n",
       "0      summer   Beach Vibes  37i9dQZF1DX83I5je4W4rP  78v5ljpPryjGY4r1wndiqa   \n",
       "1      summer   Beach Vibes  37i9dQZF1DX83I5je4W4rP  7EIHl1xmO7UEtTEPczPj8i   \n",
       "2      summer   Beach Vibes  37i9dQZF1DX83I5je4W4rP  4tNYuLrlxTb8DSVL3bO9F1   \n",
       "3      summer   Beach Vibes  37i9dQZF1DX83I5je4W4rP  5JmJVj3qLsCnBsQ8IC9XLf   \n",
       "4      summer   Beach Vibes  37i9dQZF1DX83I5je4W4rP  0TGLKJiH9vHx4Xb8FVjWrO   \n",
       "\n",
       "                              track_uri  \\\n",
       "0  spotify:track:78v5ljpPryjGY4r1wndiqa   \n",
       "1  spotify:track:7EIHl1xmO7UEtTEPczPj8i   \n",
       "2  spotify:track:4tNYuLrlxTb8DSVL3bO9F1   \n",
       "3  spotify:track:5JmJVj3qLsCnBsQ8IC9XLf   \n",
       "4  spotify:track:0TGLKJiH9vHx4Xb8FVjWrO   \n",
       "\n",
       "                                   track_preview_url  \\\n",
       "0  https://p.scdn.co/mp3-preview/ccbd4e2281a72270...   \n",
       "1  https://p.scdn.co/mp3-preview/f0794a54b31c6d8a...   \n",
       "2  https://p.scdn.co/mp3-preview/d411bc9427fe8da1...   \n",
       "3  https://p.scdn.co/mp3-preview/7317d8f850700e9d...   \n",
       "4  https://p.scdn.co/mp3-preview/29b81f2d8263059d...   \n",
       "\n",
       "                     track_name  track_popularity  \\\n",
       "0         Knocking at Your Door                55   \n",
       "1                   Island Time                52   \n",
       "2                   Sunday Vibe                51   \n",
       "3                Lazy Afternoon                58   \n",
       "4  Warning (feat. Stick Figure)                55   \n",
       "\n",
       "                           artist_name                    album_name   ...     \\\n",
       "0                               O.A.R.                    The Mighty   ...      \n",
       "1                        Bumpin Uglies                   Island Time   ...      \n",
       "2  Cisco Adler,G. Love & Special Sauce                   Sunday Vibe   ...      \n",
       "3                           Rebelution           Bright Side of Life   ...      \n",
       "4                  Stick Figure,Pepper  Warning (feat. Stick Figure)   ...      \n",
       "\n",
       "   duration_ms  energy  instrumentalness  key  liveness  loudness  mode  \\\n",
       "0       216200   0.751           0.00000    6    0.0527    -5.671     0   \n",
       "1       258773   0.751           0.00155    6    0.0643    -4.063     1   \n",
       "2       186760   0.662           0.00000    7    0.1360    -7.008     1   \n",
       "3       210347   0.678           0.01050    7    0.1250    -6.915     1   \n",
       "4       232160   0.527           0.11800    1    0.1310    -7.191     0   \n",
       "\n",
       "   speechiness    tempo  valence  \n",
       "0       0.0449   89.973    0.835  \n",
       "1       0.0390  151.884    0.961  \n",
       "2       0.1980  155.780    0.532  \n",
       "3       0.0351  147.847    0.930  \n",
       "4       0.1180   76.022    0.520  \n",
       "\n",
       "[5 rows x 22 columns]"
      ]
     },
     "execution_count": 25,
     "metadata": {},
     "output_type": "execute_result"
    }
   ],
   "source": [
    "# testing \n",
    "\n",
    "df_test = pd.read_csv(tracks_info_folder+\"tracks_info_category_summer_playlist_id_37i9dQZF1DX83I5je4W4rP_2019-06-02.csv\")\n",
    "df_test.head()"
   ]
  },
  {
   "cell_type": "code",
   "execution_count": 26,
   "metadata": {
    "ExecuteTime": {
     "end_time": "2019-06-02T15:52:03.686343Z",
     "start_time": "2019-06-02T15:52:03.676730Z"
    }
   },
   "outputs": [
    {
     "name": "stdout",
     "output_type": "stream",
     "text": [
      "<class 'pandas.core.frame.DataFrame'>\n",
      "RangeIndex: 50 entries, 0 to 49\n",
      "Data columns (total 22 columns):\n",
      "category_id          50 non-null object\n",
      "playlist_name        50 non-null object\n",
      "playlist_id          50 non-null object\n",
      "track_id             50 non-null object\n",
      "track_uri            50 non-null object\n",
      "track_preview_url    36 non-null object\n",
      "track_name           50 non-null object\n",
      "track_popularity     50 non-null int64\n",
      "artist_name          50 non-null object\n",
      "album_name           50 non-null object\n",
      "acousticness         50 non-null float64\n",
      "danceability         50 non-null float64\n",
      "duration_ms          50 non-null int64\n",
      "energy               50 non-null float64\n",
      "instrumentalness     50 non-null float64\n",
      "key                  50 non-null int64\n",
      "liveness             50 non-null float64\n",
      "loudness             50 non-null float64\n",
      "mode                 50 non-null int64\n",
      "speechiness          50 non-null float64\n",
      "tempo                50 non-null float64\n",
      "valence              50 non-null float64\n",
      "dtypes: float64(9), int64(4), object(9)\n",
      "memory usage: 8.7+ KB\n"
     ]
    }
   ],
   "source": [
    "df_test.info(null_counts=True)"
   ]
  }
 ],
 "metadata": {
  "hide_input": false,
  "kernelspec": {
   "display_name": "Python 3",
   "language": "python",
   "name": "python3"
  },
  "language_info": {
   "codemirror_mode": {
    "name": "ipython",
    "version": 3
   },
   "file_extension": ".py",
   "mimetype": "text/x-python",
   "name": "python",
   "nbconvert_exporter": "python",
   "pygments_lexer": "ipython3",
   "version": "3.6.5"
  },
  "toc": {
   "base_numbering": 1,
   "nav_menu": {
    "height": "12px",
    "width": "252px"
   },
   "number_sections": true,
   "sideBar": true,
   "skip_h1_title": false,
   "title_cell": "Table of Contents",
   "title_sidebar": "Contents",
   "toc_cell": false,
   "toc_position": {
    "height": "443.898px",
    "left": "0px",
    "right": "936.364px",
    "top": "111.091px",
    "width": "212px"
   },
   "toc_section_display": "block",
   "toc_window_display": true
  },
  "varInspector": {
   "cols": {
    "lenName": 16,
    "lenType": 16,
    "lenVar": 40
   },
   "kernels_config": {
    "python": {
     "delete_cmd_postfix": "",
     "delete_cmd_prefix": "del ",
     "library": "var_list.py",
     "varRefreshCmd": "print(var_dic_list())"
    },
    "r": {
     "delete_cmd_postfix": ") ",
     "delete_cmd_prefix": "rm(",
     "library": "var_list.r",
     "varRefreshCmd": "cat(var_dic_list()) "
    }
   },
   "types_to_exclude": [
    "module",
    "function",
    "builtin_function_or_method",
    "instance",
    "_Feature"
   ],
   "window_display": false
  }
 },
 "nbformat": 4,
 "nbformat_minor": 2
}
